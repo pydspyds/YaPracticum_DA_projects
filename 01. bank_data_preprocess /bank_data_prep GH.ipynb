{
 "cells": [
  {
   "cell_type": "markdown",
   "id": "31865eb4",
   "metadata": {
    "deletable": false,
    "editable": false,
    "id": "c81daeeb"
   },
   "source": [
    "# Исследование надежности заемщиков\n"
   ]
  },
  {
   "cell_type": "markdown",
   "id": "266722b0",
   "metadata": {},
   "source": [
    "Заказчик - кредитный отдел банка. Входные данные от банка — статистика о платёжеспособности клиентов."
   ]
  },
  {
   "cell_type": "markdown",
   "id": "f89861e1",
   "metadata": {},
   "source": [
    "**Цель** проекта - исследовать влияние различных характеристик клиентов на возврат клиентом кредита в срок.   \n",
    "Результаты исследования будут учтены при построении модели кредитного скоринга — специальной системы, которая оценивает способность потенциального заёмщика вернуть кредит банку."
   ]
  },
  {
   "cell_type": "markdown",
   "id": "15dfcabe",
   "metadata": {},
   "source": [
    "В ходе исследования необходимо определить влияние следующих факторов на возврат кредита в срок:\n",
    "* количество детей,\n",
    "* семейное положение,\n",
    "* уровень дохода,\n",
    "* цели кредита"
   ]
  },
  {
   "cell_type": "markdown",
   "id": "04174d53",
   "metadata": {},
   "source": [
    "**Описание данных**"
   ]
  },
  {
   "cell_type": "markdown",
   "id": "38b0cbac",
   "metadata": {},
   "source": [
    "* `children` — количество детей в семье\n",
    "* `days_employed` — общий трудовой стаж в днях\n",
    "* `dob_years` — возраст клиента в годах\n",
    "* `education` — уровень образования клиента\n",
    "* `education_id` — идентификатор уровня образования\n",
    "* `family_status` — семейное положение\n",
    "* `family_status_id` — идентификатор семейного положения\n",
    "* `gender` — пол клиента\n",
    "* `income_type` — тип занятости\n",
    "* `debt` — имел ли задолженность по возврату кредитов\n",
    "* `total_income` — ежемесячный доход\n",
    "* `purpose` — цель получения кредита"
   ]
  },
  {
   "cell_type": "markdown",
   "id": "8ebc2ad0",
   "metadata": {},
   "source": []
  },
  {
   "cell_type": "markdown",
   "id": "273f1033",
   "metadata": {
    "id": "744d7639"
   },
   "source": [
    "## Загрузка и знакомство с данными"
   ]
  },
  {
   "cell_type": "code",
   "execution_count": 1,
   "id": "02321ea7",
   "metadata": {
    "deletable": false,
    "id": "7bcf75c9"
   },
   "outputs": [],
   "source": [
    "import pandas as pd\n",
    "import seaborn as sns"
   ]
  },
  {
   "cell_type": "code",
   "execution_count": null,
   "id": "1e7f7fe1",
   "metadata": {},
   "outputs": [],
   "source": [
    "try:\n",
    "    data = pd.read_csv('data_bank.csv')\n",
    "except:\n",
    "    data = pd.read_csv('https://code.s3.yandex.net/datasets/data.csv')"
   ]
  },
  {
   "cell_type": "markdown",
   "id": "16a2a630",
   "metadata": {
    "id": "b8038fe3"
   },
   "source": [
    "Выведем первые строки на экран и ознакомимся с данными методом `info`."
   ]
  },
  {
   "cell_type": "code",
   "execution_count": 2,
   "id": "e3a23783",
   "metadata": {
    "deletable": false,
    "id": "2a7cab99",
    "outputId": "1a8f3ef2-d323-4ec2-ddf7-89670b5944c4"
   },
   "outputs": [
    {
     "data": {
      "text/html": [
       "<div>\n",
       "<style scoped>\n",
       "    .dataframe tbody tr th:only-of-type {\n",
       "        vertical-align: middle;\n",
       "    }\n",
       "\n",
       "    .dataframe tbody tr th {\n",
       "        vertical-align: top;\n",
       "    }\n",
       "\n",
       "    .dataframe thead th {\n",
       "        text-align: right;\n",
       "    }\n",
       "</style>\n",
       "<table border=\"1\" class=\"dataframe\">\n",
       "  <thead>\n",
       "    <tr style=\"text-align: right;\">\n",
       "      <th></th>\n",
       "      <th>children</th>\n",
       "      <th>days_employed</th>\n",
       "      <th>dob_years</th>\n",
       "      <th>education</th>\n",
       "      <th>education_id</th>\n",
       "      <th>family_status</th>\n",
       "      <th>family_status_id</th>\n",
       "      <th>gender</th>\n",
       "      <th>income_type</th>\n",
       "      <th>debt</th>\n",
       "      <th>total_income</th>\n",
       "      <th>purpose</th>\n",
       "    </tr>\n",
       "  </thead>\n",
       "  <tbody>\n",
       "    <tr>\n",
       "      <th>0</th>\n",
       "      <td>1</td>\n",
       "      <td>-8437.673028</td>\n",
       "      <td>42</td>\n",
       "      <td>высшее</td>\n",
       "      <td>0</td>\n",
       "      <td>женат / замужем</td>\n",
       "      <td>0</td>\n",
       "      <td>F</td>\n",
       "      <td>сотрудник</td>\n",
       "      <td>0</td>\n",
       "      <td>253875.639453</td>\n",
       "      <td>покупка жилья</td>\n",
       "    </tr>\n",
       "    <tr>\n",
       "      <th>1</th>\n",
       "      <td>1</td>\n",
       "      <td>-4024.803754</td>\n",
       "      <td>36</td>\n",
       "      <td>среднее</td>\n",
       "      <td>1</td>\n",
       "      <td>женат / замужем</td>\n",
       "      <td>0</td>\n",
       "      <td>F</td>\n",
       "      <td>сотрудник</td>\n",
       "      <td>0</td>\n",
       "      <td>112080.014102</td>\n",
       "      <td>приобретение автомобиля</td>\n",
       "    </tr>\n",
       "    <tr>\n",
       "      <th>2</th>\n",
       "      <td>0</td>\n",
       "      <td>-5623.422610</td>\n",
       "      <td>33</td>\n",
       "      <td>Среднее</td>\n",
       "      <td>1</td>\n",
       "      <td>женат / замужем</td>\n",
       "      <td>0</td>\n",
       "      <td>M</td>\n",
       "      <td>сотрудник</td>\n",
       "      <td>0</td>\n",
       "      <td>145885.952297</td>\n",
       "      <td>покупка жилья</td>\n",
       "    </tr>\n",
       "    <tr>\n",
       "      <th>3</th>\n",
       "      <td>3</td>\n",
       "      <td>-4124.747207</td>\n",
       "      <td>32</td>\n",
       "      <td>среднее</td>\n",
       "      <td>1</td>\n",
       "      <td>женат / замужем</td>\n",
       "      <td>0</td>\n",
       "      <td>M</td>\n",
       "      <td>сотрудник</td>\n",
       "      <td>0</td>\n",
       "      <td>267628.550329</td>\n",
       "      <td>дополнительное образование</td>\n",
       "    </tr>\n",
       "    <tr>\n",
       "      <th>4</th>\n",
       "      <td>0</td>\n",
       "      <td>340266.072047</td>\n",
       "      <td>53</td>\n",
       "      <td>среднее</td>\n",
       "      <td>1</td>\n",
       "      <td>гражданский брак</td>\n",
       "      <td>1</td>\n",
       "      <td>F</td>\n",
       "      <td>пенсионер</td>\n",
       "      <td>0</td>\n",
       "      <td>158616.077870</td>\n",
       "      <td>сыграть свадьбу</td>\n",
       "    </tr>\n",
       "    <tr>\n",
       "      <th>5</th>\n",
       "      <td>0</td>\n",
       "      <td>-926.185831</td>\n",
       "      <td>27</td>\n",
       "      <td>высшее</td>\n",
       "      <td>0</td>\n",
       "      <td>гражданский брак</td>\n",
       "      <td>1</td>\n",
       "      <td>M</td>\n",
       "      <td>компаньон</td>\n",
       "      <td>0</td>\n",
       "      <td>255763.565419</td>\n",
       "      <td>покупка жилья</td>\n",
       "    </tr>\n",
       "    <tr>\n",
       "      <th>6</th>\n",
       "      <td>0</td>\n",
       "      <td>-2879.202052</td>\n",
       "      <td>43</td>\n",
       "      <td>высшее</td>\n",
       "      <td>0</td>\n",
       "      <td>женат / замужем</td>\n",
       "      <td>0</td>\n",
       "      <td>F</td>\n",
       "      <td>компаньон</td>\n",
       "      <td>0</td>\n",
       "      <td>240525.971920</td>\n",
       "      <td>операции с жильем</td>\n",
       "    </tr>\n",
       "    <tr>\n",
       "      <th>7</th>\n",
       "      <td>0</td>\n",
       "      <td>-152.779569</td>\n",
       "      <td>50</td>\n",
       "      <td>СРЕДНЕЕ</td>\n",
       "      <td>1</td>\n",
       "      <td>женат / замужем</td>\n",
       "      <td>0</td>\n",
       "      <td>M</td>\n",
       "      <td>сотрудник</td>\n",
       "      <td>0</td>\n",
       "      <td>135823.934197</td>\n",
       "      <td>образование</td>\n",
       "    </tr>\n",
       "    <tr>\n",
       "      <th>8</th>\n",
       "      <td>2</td>\n",
       "      <td>-6929.865299</td>\n",
       "      <td>35</td>\n",
       "      <td>ВЫСШЕЕ</td>\n",
       "      <td>0</td>\n",
       "      <td>гражданский брак</td>\n",
       "      <td>1</td>\n",
       "      <td>F</td>\n",
       "      <td>сотрудник</td>\n",
       "      <td>0</td>\n",
       "      <td>95856.832424</td>\n",
       "      <td>на проведение свадьбы</td>\n",
       "    </tr>\n",
       "    <tr>\n",
       "      <th>9</th>\n",
       "      <td>0</td>\n",
       "      <td>-2188.756445</td>\n",
       "      <td>41</td>\n",
       "      <td>среднее</td>\n",
       "      <td>1</td>\n",
       "      <td>женат / замужем</td>\n",
       "      <td>0</td>\n",
       "      <td>M</td>\n",
       "      <td>сотрудник</td>\n",
       "      <td>0</td>\n",
       "      <td>144425.938277</td>\n",
       "      <td>покупка жилья для семьи</td>\n",
       "    </tr>\n",
       "  </tbody>\n",
       "</table>\n",
       "</div>"
      ],
      "text/plain": [
       "   children  days_employed  dob_years education  education_id  \\\n",
       "0         1   -8437.673028         42    высшее             0   \n",
       "1         1   -4024.803754         36   среднее             1   \n",
       "2         0   -5623.422610         33   Среднее             1   \n",
       "3         3   -4124.747207         32   среднее             1   \n",
       "4         0  340266.072047         53   среднее             1   \n",
       "5         0    -926.185831         27    высшее             0   \n",
       "6         0   -2879.202052         43    высшее             0   \n",
       "7         0    -152.779569         50   СРЕДНЕЕ             1   \n",
       "8         2   -6929.865299         35    ВЫСШЕЕ             0   \n",
       "9         0   -2188.756445         41   среднее             1   \n",
       "\n",
       "      family_status  family_status_id gender income_type  debt   total_income  \\\n",
       "0   женат / замужем                 0      F   сотрудник     0  253875.639453   \n",
       "1   женат / замужем                 0      F   сотрудник     0  112080.014102   \n",
       "2   женат / замужем                 0      M   сотрудник     0  145885.952297   \n",
       "3   женат / замужем                 0      M   сотрудник     0  267628.550329   \n",
       "4  гражданский брак                 1      F   пенсионер     0  158616.077870   \n",
       "5  гражданский брак                 1      M   компаньон     0  255763.565419   \n",
       "6   женат / замужем                 0      F   компаньон     0  240525.971920   \n",
       "7   женат / замужем                 0      M   сотрудник     0  135823.934197   \n",
       "8  гражданский брак                 1      F   сотрудник     0   95856.832424   \n",
       "9   женат / замужем                 0      M   сотрудник     0  144425.938277   \n",
       "\n",
       "                      purpose  \n",
       "0               покупка жилья  \n",
       "1     приобретение автомобиля  \n",
       "2               покупка жилья  \n",
       "3  дополнительное образование  \n",
       "4             сыграть свадьбу  \n",
       "5               покупка жилья  \n",
       "6           операции с жильем  \n",
       "7                 образование  \n",
       "8       на проведение свадьбы  \n",
       "9     покупка жилья для семьи  "
      ]
     },
     "execution_count": 2,
     "metadata": {},
     "output_type": "execute_result"
    }
   ],
   "source": [
    "data.head(10)"
   ]
  },
  {
   "cell_type": "code",
   "execution_count": 4,
   "id": "34af2630",
   "metadata": {
    "deletable": false,
    "id": "2b757bca",
    "outputId": "15376089-8dad-46c9-b520-c05248d43158"
   },
   "outputs": [
    {
     "name": "stdout",
     "output_type": "stream",
     "text": [
      "<class 'pandas.core.frame.DataFrame'>\n",
      "RangeIndex: 21525 entries, 0 to 21524\n",
      "Data columns (total 12 columns):\n",
      " #   Column            Non-Null Count  Dtype  \n",
      "---  ------            --------------  -----  \n",
      " 0   children          21525 non-null  int64  \n",
      " 1   days_employed     19351 non-null  float64\n",
      " 2   dob_years         21525 non-null  int64  \n",
      " 3   education         21525 non-null  object \n",
      " 4   education_id      21525 non-null  int64  \n",
      " 5   family_status     21525 non-null  object \n",
      " 6   family_status_id  21525 non-null  int64  \n",
      " 7   gender            21525 non-null  object \n",
      " 8   income_type       21525 non-null  object \n",
      " 9   debt              21525 non-null  int64  \n",
      " 10  total_income      19351 non-null  float64\n",
      " 11  purpose           21525 non-null  object \n",
      "dtypes: float64(2), int64(5), object(5)\n",
      "memory usage: 2.0+ MB\n"
     ]
    }
   ],
   "source": [
    "data.info()"
   ]
  },
  {
   "cell_type": "markdown",
   "id": "b200768f",
   "metadata": {
    "deletable": false,
    "editable": false,
    "id": "333ec665"
   },
   "source": [
    "## Предобработка данных"
   ]
  },
  {
   "cell_type": "markdown",
   "id": "f745af99",
   "metadata": {
    "id": "02d92d53"
   },
   "source": [
    "### Обработка пропусков"
   ]
  },
  {
   "cell_type": "code",
   "execution_count": 5,
   "id": "02a7aba3",
   "metadata": {
    "deletable": false,
    "id": "7f9b2309",
    "outputId": "81f4d817-781c-465c-ed15-91ce4446810d"
   },
   "outputs": [
    {
     "data": {
      "text/plain": [
       "children               0\n",
       "days_employed       2174\n",
       "dob_years              0\n",
       "education              0\n",
       "education_id           0\n",
       "family_status          0\n",
       "family_status_id       0\n",
       "gender                 0\n",
       "income_type            0\n",
       "debt                   0\n",
       "total_income        2174\n",
       "purpose                0\n",
       "dtype: int64"
      ]
     },
     "execution_count": 5,
     "metadata": {},
     "output_type": "execute_result"
    }
   ],
   "source": [
    "data.isna().sum()"
   ]
  },
  {
   "cell_type": "markdown",
   "id": "a0147fcb",
   "metadata": {},
   "source": [
    "Проверю, совпадают ли строки содержащие `Nan` из столбца `days_employed` со строками содержащими `Nan` из столбца `total_income`"
   ]
  },
  {
   "cell_type": "code",
   "execution_count": 6,
   "id": "52bbc7fb",
   "metadata": {},
   "outputs": [
    {
     "data": {
      "text/html": [
       "<div>\n",
       "<style scoped>\n",
       "    .dataframe tbody tr th:only-of-type {\n",
       "        vertical-align: middle;\n",
       "    }\n",
       "\n",
       "    .dataframe tbody tr th {\n",
       "        vertical-align: top;\n",
       "    }\n",
       "\n",
       "    .dataframe thead th {\n",
       "        text-align: right;\n",
       "    }\n",
       "</style>\n",
       "<table border=\"1\" class=\"dataframe\">\n",
       "  <thead>\n",
       "    <tr style=\"text-align: right;\">\n",
       "      <th></th>\n",
       "      <th>children</th>\n",
       "      <th>days_employed</th>\n",
       "      <th>dob_years</th>\n",
       "      <th>education</th>\n",
       "      <th>education_id</th>\n",
       "      <th>family_status</th>\n",
       "      <th>family_status_id</th>\n",
       "      <th>gender</th>\n",
       "      <th>income_type</th>\n",
       "      <th>debt</th>\n",
       "      <th>total_income</th>\n",
       "      <th>purpose</th>\n",
       "    </tr>\n",
       "  </thead>\n",
       "  <tbody>\n",
       "  </tbody>\n",
       "</table>\n",
       "</div>"
      ],
      "text/plain": [
       "Empty DataFrame\n",
       "Columns: [children, days_employed, dob_years, education, education_id, family_status, family_status_id, gender, income_type, debt, total_income, purpose]\n",
       "Index: []"
      ]
     },
     "execution_count": 6,
     "metadata": {},
     "output_type": "execute_result"
    }
   ],
   "source": [
    "nan_analysis = data[(data['days_employed'].isna()) & (data['total_income'].notna())]\n",
    "nan_analysis"
   ]
  },
  {
   "cell_type": "markdown",
   "id": "1b9801e8",
   "metadata": {},
   "source": [
    "Пропуски совпадают."
   ]
  },
  {
   "cell_type": "markdown",
   "id": "35cc9785",
   "metadata": {
    "id": "db86e27b"
   },
   "source": [
    "Столбец с пропущенными значениями — `total_income` — хранит данные о доходах. На сумму дохода сильнее всего влияет тип занятости, поэтому заполнить пропуски в этом столбце нужно медианным значением по каждому типу из столбца `income_type`. Например, у человека с типом занятости `сотрудник` пропуск в столбце `total_income` должен быть заполнен медианным доходом среди всех записей с тем же типом."
   ]
  },
  {
   "cell_type": "code",
   "execution_count": 7,
   "id": "75a2e90c",
   "metadata": {
    "deletable": false,
    "id": "42006a93"
   },
   "outputs": [],
   "source": [
    "for t in data['income_type'].unique():\n",
    "    data.loc[(data['income_type'] == t) & (data['total_income'].isna()), 'total_income'] = \\\n",
    "    data.loc[(data['income_type'] == t), 'total_income'].median()"
   ]
  },
  {
   "cell_type": "markdown",
   "id": "f0a6d486",
   "metadata": {
    "deletable": false,
    "editable": false,
    "id": "89da5ece"
   },
   "source": [
    "### Обработка аномальных значений"
   ]
  },
  {
   "cell_type": "markdown",
   "id": "3ddd8dfd",
   "metadata": {
    "id": "57964554"
   },
   "source": [
    "В датасете наблюдается аномалия - отрицательное количество дней трудового стажа в столбце `days_employed`. Заменю все отрицательные значения положительными с помощью метода `abs()`."
   ]
  },
  {
   "cell_type": "code",
   "execution_count": 8,
   "id": "c72d5719",
   "metadata": {
    "deletable": false,
    "id": "f6f055bf"
   },
   "outputs": [],
   "source": [
    "data['days_employed'] = data['days_employed'].abs()"
   ]
  },
  {
   "cell_type": "markdown",
   "id": "7fc3f61e",
   "metadata": {
    "id": "6107dd2f"
   },
   "source": [
    "Рассмотрим медианное значение трудового стажа `days_employed` в днях для каждого типа занятости."
   ]
  },
  {
   "cell_type": "code",
   "execution_count": 9,
   "id": "c6ea947f",
   "metadata": {
    "deletable": false,
    "id": "85a5faf6",
    "outputId": "801ef80e-522b-4668-f34e-565af7432bcf"
   },
   "outputs": [
    {
     "data": {
      "text/plain": [
       "income_type\n",
       "безработный        366413.652744\n",
       "в декрете            3296.759962\n",
       "госслужащий          2689.368353\n",
       "компаньон            1547.382223\n",
       "пенсионер          365213.306266\n",
       "предприниматель       520.848083\n",
       "сотрудник            1574.202821\n",
       "студент               578.751554\n",
       "Name: days_employed, dtype: float64"
      ]
     },
     "execution_count": 9,
     "metadata": {},
     "output_type": "execute_result"
    }
   ],
   "source": [
    "data.groupby('income_type')['days_employed'].agg('median')"
   ]
  },
  {
   "cell_type": "markdown",
   "id": "cf948216",
   "metadata": {
    "id": "38d1a030"
   },
   "source": [
    "У двух типов (безработные и пенсионеры) получатся аномально большие значения. Исправить такие значения сложно, поэтому оставлю их как есть, поскольку этот столбец не понадобится для дальнейшего исследования."
   ]
  },
  {
   "cell_type": "markdown",
   "id": "491cfb0b",
   "metadata": {
    "id": "d8a9f147"
   },
   "source": [
    "Рассмотрим уникальные значений столбца `children`."
   ]
  },
  {
   "cell_type": "code",
   "execution_count": 10,
   "id": "451f6f8f",
   "metadata": {
    "deletable": false,
    "id": "ef5056eb",
    "outputId": "6975b15c-7f95-4697-d16d-a0c79b657b03"
   },
   "outputs": [
    {
     "data": {
      "text/plain": [
       "array([ 1,  0,  3,  2, -1,  4, 20,  5])"
      ]
     },
     "execution_count": 10,
     "metadata": {},
     "output_type": "execute_result"
    }
   ],
   "source": [
    "data['children'].unique()"
   ]
  },
  {
   "cell_type": "markdown",
   "id": "27c0f7b6",
   "metadata": {
    "id": "40b9ebf2"
   },
   "source": [
    "В столбце `children` есть два аномальных значения: -1 и 20. Удалю строки, в которых встречаются такие аномальные значения из датафрейма."
   ]
  },
  {
   "cell_type": "code",
   "execution_count": 11,
   "id": "f32b7321",
   "metadata": {
    "deletable": false,
    "id": "3ff9801d"
   },
   "outputs": [],
   "source": [
    "data = data[(data['children'] != -1) & (data['children'] != 20)]"
   ]
  },
  {
   "cell_type": "code",
   "execution_count": 12,
   "id": "d4810e4e",
   "metadata": {
    "deletable": false,
    "id": "ad4fa8b7",
    "outputId": "b2097101-d49d-44d9-901b-32a65c9463d1"
   },
   "outputs": [
    {
     "data": {
      "text/plain": [
       "array([1, 0, 3, 2, 4, 5])"
      ]
     },
     "execution_count": 12,
     "metadata": {},
     "output_type": "execute_result"
    }
   ],
   "source": [
    "data['children'].unique()"
   ]
  },
  {
   "cell_type": "markdown",
   "id": "22f1d1a7",
   "metadata": {},
   "source": [
    "Аномальных детей удалили."
   ]
  },
  {
   "cell_type": "markdown",
   "id": "91bab1b7",
   "metadata": {
    "id": "75440b63"
   },
   "source": [
    "### Обработка пропусков (продолжение)"
   ]
  },
  {
   "cell_type": "markdown",
   "id": "96c20437",
   "metadata": {
    "id": "f4ea573f"
   },
   "source": [
    "Заполню пропуски в столбце `days_employed` медианными значениями по каждого типа занятости `income_type`."
   ]
  },
  {
   "cell_type": "code",
   "execution_count": 13,
   "id": "f190ff49",
   "metadata": {
    "deletable": false,
    "id": "af6b1a7e"
   },
   "outputs": [],
   "source": [
    "for t in data['income_type'].unique():\n",
    "    data.loc[(data['income_type'] == t) & (data['days_employed'].isna()), 'days_employed'] = \\\n",
    "    data.loc[(data['income_type'] == t), 'days_employed'].median()"
   ]
  },
  {
   "cell_type": "code",
   "execution_count": 14,
   "id": "f9d89871",
   "metadata": {
    "deletable": false,
    "id": "55f78bc2",
    "outputId": "8da1e4e1-358e-4e87-98c9-f261bce0a7b2"
   },
   "outputs": [
    {
     "data": {
      "text/plain": [
       "children            0\n",
       "days_employed       0\n",
       "dob_years           0\n",
       "education           0\n",
       "education_id        0\n",
       "family_status       0\n",
       "family_status_id    0\n",
       "gender              0\n",
       "income_type         0\n",
       "debt                0\n",
       "total_income        0\n",
       "purpose             0\n",
       "dtype: int64"
      ]
     },
     "execution_count": 14,
     "metadata": {},
     "output_type": "execute_result"
    }
   ],
   "source": [
    "data.isna().sum()"
   ]
  },
  {
   "cell_type": "markdown",
   "id": "75321052",
   "metadata": {},
   "source": [
    "Пропусков не осталось."
   ]
  },
  {
   "cell_type": "markdown",
   "id": "412b90e9",
   "metadata": {
    "id": "09c3ac4c"
   },
   "source": [
    "#### Возможные причины появления пропусков в исходных данных."
   ]
  },
  {
   "cell_type": "markdown",
   "id": "4af4e5be",
   "metadata": {
    "id": "9da2ceda"
   },
   "source": [
    "Пропуски в исходных данных находились в столбцах с общим трудовым стажем в днях и  ежемесячный доход.\n",
    "* Пропуск трудового стажа можно объяснить отсутствием трудовой книжки у клиента, либо неофициальным трудоустройством. \n",
    "* Пропуски в доходе можно объяснить нежеланием клиента указывать доход (хотя как ему тогда одобрят кредит?)\n",
    "* Также, причинами всех данных пропусков могут быть как технические сбои, так и человеческий фактор.\n",
    "* _Пропуски могут быть связаны с тем, например, что при заполнении электронной заявки на кредит, клиент оставил пустым поле с трудовым стажем и анкета не предложила ему заполнить поле с ежемесячным доходом, поскольку у человека без стажа не может быть дохода (по мнению системы). Такую причину можно отнести к технической недоработке._"
   ]
  },
  {
   "cell_type": "markdown",
   "id": "0b73c48e",
   "metadata": {
    "deletable": false,
    "editable": false,
    "id": "ddc81e43"
   },
   "source": [
    "### Изменение типов данных"
   ]
  },
  {
   "cell_type": "markdown",
   "id": "bffed77c",
   "metadata": {
    "id": "42d19d24"
   },
   "source": [
    "Замению тип данных в столбце `total_income` на целочисленный."
   ]
  },
  {
   "cell_type": "code",
   "execution_count": 15,
   "id": "142972e0",
   "metadata": {
    "deletable": false,
    "id": "920b65ad"
   },
   "outputs": [],
   "source": [
    "data['total_income'] = data['total_income'].astype(int)"
   ]
  },
  {
   "cell_type": "markdown",
   "id": "f3f7ac45",
   "metadata": {
    "deletable": false,
    "editable": false,
    "id": "80c420ba"
   },
   "source": [
    "### Обработка дубликатов"
   ]
  },
  {
   "cell_type": "markdown",
   "id": "1b59b5a8",
   "metadata": {},
   "source": [
    "Проверю столбец `education` на неявные дубликаты (в столбце имеются одинаковые значения, но в разных регистрах). Для этого приведу их к нижнему регистру и посчитаю количество дубликатов."
   ]
  },
  {
   "cell_type": "code",
   "execution_count": 16,
   "id": "d2a1fe0c",
   "metadata": {
    "deletable": false
   },
   "outputs": [],
   "source": [
    "data['education'] = data['education'].str.lower()"
   ]
  },
  {
   "cell_type": "code",
   "execution_count": 17,
   "id": "5279736e",
   "metadata": {
    "deletable": false,
    "id": "3ee445e4",
    "outputId": "9684deba-1934-42d1-99e1-cda61740f822"
   },
   "outputs": [
    {
     "data": {
      "text/plain": [
       "71"
      ]
     },
     "execution_count": 17,
     "metadata": {},
     "output_type": "execute_result"
    }
   ],
   "source": [
    "data.duplicated().sum()"
   ]
  },
  {
   "cell_type": "markdown",
   "id": "207f0031",
   "metadata": {},
   "source": [
    "Удалим дубликаты."
   ]
  },
  {
   "cell_type": "code",
   "execution_count": 18,
   "id": "7669d4e6",
   "metadata": {
    "deletable": false,
    "id": "8575fe05"
   },
   "outputs": [],
   "source": [
    "data = data.drop_duplicates()"
   ]
  },
  {
   "cell_type": "markdown",
   "id": "3686ad16",
   "metadata": {
    "deletable": false,
    "editable": false,
    "id": "9904cf55"
   },
   "source": [
    "### Категоризация данных"
   ]
  },
  {
   "cell_type": "markdown",
   "id": "fd69542a",
   "metadata": {
    "id": "72fcc8a2"
   },
   "source": [
    "Присвоим клиентам различные категории, в зависимости от их уровня дохода. \n",
    "\n",
    "- 0–30000 — `'E'`;\n",
    "- 30001–50000 — `'D'`;\n",
    "- 50001–200000 — `'C'`;\n",
    "- 200001–1000000 — `'B'`;\n",
    "- 1000001 и выше — `'A'`."
   ]
  },
  {
   "cell_type": "code",
   "execution_count": 19,
   "id": "8cad3375",
   "metadata": {
    "deletable": false,
    "id": "e1771346"
   },
   "outputs": [],
   "source": [
    "def categorize_income(income):\n",
    "    try:\n",
    "        if 0 <= income <= 30000:\n",
    "            return 'E'\n",
    "        elif 30001 <= income <= 50000:\n",
    "            return 'D'\n",
    "        elif 50001 <= income <= 200000:\n",
    "            return 'C'\n",
    "        elif 200001 <= income <= 1000000:\n",
    "            return 'B'\n",
    "        elif income >= 1000001:\n",
    "            return 'A'\n",
    "    except:\n",
    "        pass"
   ]
  },
  {
   "cell_type": "code",
   "execution_count": 22,
   "id": "a0410642",
   "metadata": {},
   "outputs": [
    {
     "data": {
      "text/html": [
       "<div>\n",
       "<style scoped>\n",
       "    .dataframe tbody tr th:only-of-type {\n",
       "        vertical-align: middle;\n",
       "    }\n",
       "\n",
       "    .dataframe tbody tr th {\n",
       "        vertical-align: top;\n",
       "    }\n",
       "\n",
       "    .dataframe thead th {\n",
       "        text-align: right;\n",
       "    }\n",
       "</style>\n",
       "<table border=\"1\" class=\"dataframe\">\n",
       "  <thead>\n",
       "    <tr style=\"text-align: right;\">\n",
       "      <th></th>\n",
       "      <th>children</th>\n",
       "      <th>days_employed</th>\n",
       "      <th>dob_years</th>\n",
       "      <th>education</th>\n",
       "      <th>education_id</th>\n",
       "      <th>family_status</th>\n",
       "      <th>family_status_id</th>\n",
       "      <th>gender</th>\n",
       "      <th>income_type</th>\n",
       "      <th>debt</th>\n",
       "      <th>total_income</th>\n",
       "      <th>purpose</th>\n",
       "      <th>total_income_category</th>\n",
       "    </tr>\n",
       "  </thead>\n",
       "  <tbody>\n",
       "    <tr>\n",
       "      <th>0</th>\n",
       "      <td>1</td>\n",
       "      <td>8437.673028</td>\n",
       "      <td>42</td>\n",
       "      <td>высшее</td>\n",
       "      <td>0</td>\n",
       "      <td>женат / замужем</td>\n",
       "      <td>0</td>\n",
       "      <td>F</td>\n",
       "      <td>сотрудник</td>\n",
       "      <td>0</td>\n",
       "      <td>253875</td>\n",
       "      <td>покупка жилья</td>\n",
       "      <td>B</td>\n",
       "    </tr>\n",
       "    <tr>\n",
       "      <th>1</th>\n",
       "      <td>1</td>\n",
       "      <td>4024.803754</td>\n",
       "      <td>36</td>\n",
       "      <td>среднее</td>\n",
       "      <td>1</td>\n",
       "      <td>женат / замужем</td>\n",
       "      <td>0</td>\n",
       "      <td>F</td>\n",
       "      <td>сотрудник</td>\n",
       "      <td>0</td>\n",
       "      <td>112080</td>\n",
       "      <td>приобретение автомобиля</td>\n",
       "      <td>C</td>\n",
       "    </tr>\n",
       "    <tr>\n",
       "      <th>2</th>\n",
       "      <td>0</td>\n",
       "      <td>5623.422610</td>\n",
       "      <td>33</td>\n",
       "      <td>среднее</td>\n",
       "      <td>1</td>\n",
       "      <td>женат / замужем</td>\n",
       "      <td>0</td>\n",
       "      <td>M</td>\n",
       "      <td>сотрудник</td>\n",
       "      <td>0</td>\n",
       "      <td>145885</td>\n",
       "      <td>покупка жилья</td>\n",
       "      <td>C</td>\n",
       "    </tr>\n",
       "    <tr>\n",
       "      <th>3</th>\n",
       "      <td>3</td>\n",
       "      <td>4124.747207</td>\n",
       "      <td>32</td>\n",
       "      <td>среднее</td>\n",
       "      <td>1</td>\n",
       "      <td>женат / замужем</td>\n",
       "      <td>0</td>\n",
       "      <td>M</td>\n",
       "      <td>сотрудник</td>\n",
       "      <td>0</td>\n",
       "      <td>267628</td>\n",
       "      <td>дополнительное образование</td>\n",
       "      <td>B</td>\n",
       "    </tr>\n",
       "    <tr>\n",
       "      <th>4</th>\n",
       "      <td>0</td>\n",
       "      <td>340266.072047</td>\n",
       "      <td>53</td>\n",
       "      <td>среднее</td>\n",
       "      <td>1</td>\n",
       "      <td>гражданский брак</td>\n",
       "      <td>1</td>\n",
       "      <td>F</td>\n",
       "      <td>пенсионер</td>\n",
       "      <td>0</td>\n",
       "      <td>158616</td>\n",
       "      <td>сыграть свадьбу</td>\n",
       "      <td>C</td>\n",
       "    </tr>\n",
       "    <tr>\n",
       "      <th>...</th>\n",
       "      <td>...</td>\n",
       "      <td>...</td>\n",
       "      <td>...</td>\n",
       "      <td>...</td>\n",
       "      <td>...</td>\n",
       "      <td>...</td>\n",
       "      <td>...</td>\n",
       "      <td>...</td>\n",
       "      <td>...</td>\n",
       "      <td>...</td>\n",
       "      <td>...</td>\n",
       "      <td>...</td>\n",
       "      <td>...</td>\n",
       "    </tr>\n",
       "    <tr>\n",
       "      <th>21520</th>\n",
       "      <td>1</td>\n",
       "      <td>4529.316663</td>\n",
       "      <td>43</td>\n",
       "      <td>среднее</td>\n",
       "      <td>1</td>\n",
       "      <td>гражданский брак</td>\n",
       "      <td>1</td>\n",
       "      <td>F</td>\n",
       "      <td>компаньон</td>\n",
       "      <td>0</td>\n",
       "      <td>224791</td>\n",
       "      <td>операции с жильем</td>\n",
       "      <td>B</td>\n",
       "    </tr>\n",
       "    <tr>\n",
       "      <th>21521</th>\n",
       "      <td>0</td>\n",
       "      <td>343937.404131</td>\n",
       "      <td>67</td>\n",
       "      <td>среднее</td>\n",
       "      <td>1</td>\n",
       "      <td>женат / замужем</td>\n",
       "      <td>0</td>\n",
       "      <td>F</td>\n",
       "      <td>пенсионер</td>\n",
       "      <td>0</td>\n",
       "      <td>155999</td>\n",
       "      <td>сделка с автомобилем</td>\n",
       "      <td>C</td>\n",
       "    </tr>\n",
       "    <tr>\n",
       "      <th>21522</th>\n",
       "      <td>1</td>\n",
       "      <td>2113.346888</td>\n",
       "      <td>38</td>\n",
       "      <td>среднее</td>\n",
       "      <td>1</td>\n",
       "      <td>гражданский брак</td>\n",
       "      <td>1</td>\n",
       "      <td>M</td>\n",
       "      <td>сотрудник</td>\n",
       "      <td>1</td>\n",
       "      <td>89672</td>\n",
       "      <td>недвижимость</td>\n",
       "      <td>C</td>\n",
       "    </tr>\n",
       "    <tr>\n",
       "      <th>21523</th>\n",
       "      <td>3</td>\n",
       "      <td>3112.481705</td>\n",
       "      <td>38</td>\n",
       "      <td>среднее</td>\n",
       "      <td>1</td>\n",
       "      <td>женат / замужем</td>\n",
       "      <td>0</td>\n",
       "      <td>M</td>\n",
       "      <td>сотрудник</td>\n",
       "      <td>1</td>\n",
       "      <td>244093</td>\n",
       "      <td>на покупку своего автомобиля</td>\n",
       "      <td>B</td>\n",
       "    </tr>\n",
       "    <tr>\n",
       "      <th>21524</th>\n",
       "      <td>2</td>\n",
       "      <td>1984.507589</td>\n",
       "      <td>40</td>\n",
       "      <td>среднее</td>\n",
       "      <td>1</td>\n",
       "      <td>женат / замужем</td>\n",
       "      <td>0</td>\n",
       "      <td>F</td>\n",
       "      <td>сотрудник</td>\n",
       "      <td>0</td>\n",
       "      <td>82047</td>\n",
       "      <td>на покупку автомобиля</td>\n",
       "      <td>C</td>\n",
       "    </tr>\n",
       "  </tbody>\n",
       "</table>\n",
       "<p>21331 rows × 13 columns</p>\n",
       "</div>"
      ],
      "text/plain": [
       "       children  days_employed  dob_years education  education_id  \\\n",
       "0             1    8437.673028         42    высшее             0   \n",
       "1             1    4024.803754         36   среднее             1   \n",
       "2             0    5623.422610         33   среднее             1   \n",
       "3             3    4124.747207         32   среднее             1   \n",
       "4             0  340266.072047         53   среднее             1   \n",
       "...         ...            ...        ...       ...           ...   \n",
       "21520         1    4529.316663         43   среднее             1   \n",
       "21521         0  343937.404131         67   среднее             1   \n",
       "21522         1    2113.346888         38   среднее             1   \n",
       "21523         3    3112.481705         38   среднее             1   \n",
       "21524         2    1984.507589         40   среднее             1   \n",
       "\n",
       "          family_status  family_status_id gender income_type  debt  \\\n",
       "0       женат / замужем                 0      F   сотрудник     0   \n",
       "1       женат / замужем                 0      F   сотрудник     0   \n",
       "2       женат / замужем                 0      M   сотрудник     0   \n",
       "3       женат / замужем                 0      M   сотрудник     0   \n",
       "4      гражданский брак                 1      F   пенсионер     0   \n",
       "...                 ...               ...    ...         ...   ...   \n",
       "21520  гражданский брак                 1      F   компаньон     0   \n",
       "21521   женат / замужем                 0      F   пенсионер     0   \n",
       "21522  гражданский брак                 1      M   сотрудник     1   \n",
       "21523   женат / замужем                 0      M   сотрудник     1   \n",
       "21524   женат / замужем                 0      F   сотрудник     0   \n",
       "\n",
       "       total_income                       purpose total_income_category  \n",
       "0            253875                 покупка жилья                     B  \n",
       "1            112080       приобретение автомобиля                     C  \n",
       "2            145885                 покупка жилья                     C  \n",
       "3            267628    дополнительное образование                     B  \n",
       "4            158616               сыграть свадьбу                     C  \n",
       "...             ...                           ...                   ...  \n",
       "21520        224791             операции с жильем                     B  \n",
       "21521        155999          сделка с автомобилем                     C  \n",
       "21522         89672                  недвижимость                     C  \n",
       "21523        244093  на покупку своего автомобиля                     B  \n",
       "21524         82047         на покупку автомобиля                     C  \n",
       "\n",
       "[21331 rows x 13 columns]"
      ]
     },
     "execution_count": 22,
     "metadata": {},
     "output_type": "execute_result"
    }
   ],
   "source": [
    "data"
   ]
  },
  {
   "cell_type": "code",
   "execution_count": 21,
   "id": "bd224103",
   "metadata": {
    "deletable": false,
    "id": "d5f3586d"
   },
   "outputs": [],
   "source": [
    "data['total_income_category'] = data['total_income'].apply(categorize_income)"
   ]
  },
  {
   "cell_type": "markdown",
   "id": "50509cee",
   "metadata": {
    "id": "dde49b5c"
   },
   "source": [
    "Проверим на уникальность цели взятия кредита из столбца `purpose`."
   ]
  },
  {
   "cell_type": "code",
   "execution_count": 20,
   "id": "a66070f9",
   "metadata": {
    "deletable": false,
    "id": "f67ce9b3",
    "outputId": "673c12d9-7d7e-4ae0-9812-c622c89dd244"
   },
   "outputs": [
    {
     "data": {
      "text/plain": [
       "array(['покупка жилья', 'приобретение автомобиля',\n",
       "       'дополнительное образование', 'сыграть свадьбу',\n",
       "       'операции с жильем', 'образование', 'на проведение свадьбы',\n",
       "       'покупка жилья для семьи', 'покупка недвижимости',\n",
       "       'покупка коммерческой недвижимости', 'покупка жилой недвижимости',\n",
       "       'строительство собственной недвижимости', 'недвижимость',\n",
       "       'строительство недвижимости', 'на покупку подержанного автомобиля',\n",
       "       'на покупку своего автомобиля',\n",
       "       'операции с коммерческой недвижимостью',\n",
       "       'строительство жилой недвижимости', 'жилье',\n",
       "       'операции со своей недвижимостью', 'автомобили',\n",
       "       'заняться образованием', 'сделка с подержанным автомобилем',\n",
       "       'получение образования', 'автомобиль', 'свадьба',\n",
       "       'получение дополнительного образования', 'покупка своего жилья',\n",
       "       'операции с недвижимостью', 'получение высшего образования',\n",
       "       'свой автомобиль', 'сделка с автомобилем',\n",
       "       'профильное образование', 'высшее образование',\n",
       "       'покупка жилья для сдачи', 'на покупку автомобиля', 'ремонт жилью',\n",
       "       'заняться высшим образованием'], dtype=object)"
      ]
     },
     "execution_count": 20,
     "metadata": {},
     "output_type": "execute_result"
    }
   ],
   "source": [
    "data['purpose'].unique()"
   ]
  },
  {
   "cell_type": "markdown",
   "id": "5d2d1f2c",
   "metadata": {},
   "source": [
    "В столбце имеются цели, схожие по смыслу, но по разному сформулированные"
   ]
  },
  {
   "cell_type": "markdown",
   "id": "5150a2d6",
   "metadata": {
    "id": "85d0aef0"
   },
   "source": [
    "Создам функцию, которая на основании данных из столбца `purpose` сформирует новый столбец `purpose_category`, в который войдут следующие категории:**\n",
    "\n",
    "- `'операции с автомобилем'`,\n",
    "- `'операции с недвижимостью'`,\n",
    "- `'проведение свадьбы'`,\n",
    "- `'получение образования'`.\n",
    "\n",
    "Например, если в столбце `purpose` находится подстрока `'на покупку автомобиля'`, то в столбце `purpose_category` должна появиться строка `'операции с автомобилем'`.\n"
   ]
  },
  {
   "cell_type": "code",
   "execution_count": 21,
   "id": "6e67037b",
   "metadata": {
    "deletable": false,
    "id": "e149fab4"
   },
   "outputs": [],
   "source": [
    "def categorize_purpose(row):\n",
    "    try:\n",
    "        if 'автом' in row:\n",
    "            return 'операции с автомобилем'\n",
    "        elif 'жил' in row or 'недвиж' in row:\n",
    "            return 'операции с недвижимостью'\n",
    "        elif 'свад' in row:\n",
    "            return 'проведение свадьбы'\n",
    "        elif 'образов' in row:\n",
    "            return 'получение образования'\n",
    "    except:\n",
    "        return 'нет категории'"
   ]
  },
  {
   "cell_type": "code",
   "execution_count": 22,
   "id": "659ecba5",
   "metadata": {
    "deletable": false,
    "id": "bf36e69b"
   },
   "outputs": [],
   "source": [
    "data['purpose_category'] = data['purpose'].apply(categorize_purpose)"
   ]
  },
  {
   "cell_type": "markdown",
   "id": "e5a0d33b",
   "metadata": {
    "id": "09b242bf"
   },
   "source": [
    "## Исследовательский анализ"
   ]
  },
  {
   "cell_type": "markdown",
   "id": "059c99db",
   "metadata": {
    "id": "c5d66278"
   },
   "source": [
    "### Влияние количества детей на возврат кредита в срок"
   ]
  },
  {
   "cell_type": "markdown",
   "id": "67d4ff02",
   "metadata": {},
   "source": [
    "Чтобы узнать, есть ли зависимость между количеством детей и возвратом кредита в срок, необходимо сгруппировать и обработать данные таким образом, чтобы четко проследить зависимость. \n",
    "\n",
    "Найти данную зависимость можно сравнив значений долей должников внутри данной категории.\n",
    "\n",
    "Для этого предлагается построить сводную таблицу с категоризацией по детям и подсчетом количества клиентов с долгом и без. \n",
    "\n",
    "Далее, через отношение количества должников к клиентам без долга находим долю должников внутри категории. Чем меньше полученное значение, тем меньше должников внутри категории."
   ]
  },
  {
   "cell_type": "code",
   "execution_count": 25,
   "id": "3fdaa7c2",
   "metadata": {},
   "outputs": [
    {
     "data": {
      "text/html": [
       "<div>\n",
       "<style scoped>\n",
       "    .dataframe tbody tr th:only-of-type {\n",
       "        vertical-align: middle;\n",
       "    }\n",
       "\n",
       "    .dataframe tbody tr th {\n",
       "        vertical-align: top;\n",
       "    }\n",
       "\n",
       "    .dataframe thead th {\n",
       "        text-align: right;\n",
       "    }\n",
       "</style>\n",
       "<table border=\"1\" class=\"dataframe\">\n",
       "  <thead>\n",
       "    <tr style=\"text-align: right;\">\n",
       "      <th>debt</th>\n",
       "      <th>children</th>\n",
       "      <th>0</th>\n",
       "      <th>1</th>\n",
       "    </tr>\n",
       "  </thead>\n",
       "  <tbody>\n",
       "    <tr>\n",
       "      <th>0</th>\n",
       "      <td>0</td>\n",
       "      <td>13028.0</td>\n",
       "      <td>1063.0</td>\n",
       "    </tr>\n",
       "    <tr>\n",
       "      <th>1</th>\n",
       "      <td>1</td>\n",
       "      <td>4364.0</td>\n",
       "      <td>444.0</td>\n",
       "    </tr>\n",
       "    <tr>\n",
       "      <th>2</th>\n",
       "      <td>2</td>\n",
       "      <td>1858.0</td>\n",
       "      <td>194.0</td>\n",
       "    </tr>\n",
       "    <tr>\n",
       "      <th>3</th>\n",
       "      <td>3</td>\n",
       "      <td>303.0</td>\n",
       "      <td>27.0</td>\n",
       "    </tr>\n",
       "    <tr>\n",
       "      <th>4</th>\n",
       "      <td>4</td>\n",
       "      <td>37.0</td>\n",
       "      <td>4.0</td>\n",
       "    </tr>\n",
       "    <tr>\n",
       "      <th>5</th>\n",
       "      <td>5</td>\n",
       "      <td>9.0</td>\n",
       "      <td>NaN</td>\n",
       "    </tr>\n",
       "  </tbody>\n",
       "</table>\n",
       "</div>"
      ],
      "text/plain": [
       "debt  children        0       1\n",
       "0            0  13028.0  1063.0\n",
       "1            1   4364.0   444.0\n",
       "2            2   1858.0   194.0\n",
       "3            3    303.0    27.0\n",
       "4            4     37.0     4.0\n",
       "5            5      9.0     NaN"
      ]
     },
     "execution_count": 25,
     "metadata": {},
     "output_type": "execute_result"
    }
   ],
   "source": [
    "# Создаю таблицу с нужными мне столбцами.\n",
    "children_tab = data[['children' , 'debt' , 'total_income']]\n",
    "\n",
    "#Создаю сводную таблицу\n",
    "children_pivot = children_tab.pivot_table(index = 'children' , \n",
    "                                          columns = 'debt' , \n",
    "                                          values = 'total_income' ,  \n",
    "                                          aggfunc = 'count').reset_index()\n",
    "\n",
    "children_pivot"
   ]
  },
  {
   "cell_type": "markdown",
   "id": "a503a59d",
   "metadata": {},
   "source": [
    "Сводная таблица показывает, что среди клиентов с пятью детьми должников не имеется. По идее, надо бы удалить данную строку, так как и должников нет, и клиентов без долга всего девять.\n",
    "Но, чтобы получить хоть какие-то значения для зависимости, я заменю 'NaN' на ноль. "
   ]
  },
  {
   "cell_type": "code",
   "execution_count": 26,
   "id": "e83b3cc5",
   "metadata": {},
   "outputs": [
    {
     "data": {
      "text/html": [
       "<div>\n",
       "<style scoped>\n",
       "    .dataframe tbody tr th:only-of-type {\n",
       "        vertical-align: middle;\n",
       "    }\n",
       "\n",
       "    .dataframe tbody tr th {\n",
       "        vertical-align: top;\n",
       "    }\n",
       "\n",
       "    .dataframe thead th {\n",
       "        text-align: right;\n",
       "    }\n",
       "</style>\n",
       "<table border=\"1\" class=\"dataframe\">\n",
       "  <thead>\n",
       "    <tr style=\"text-align: right;\">\n",
       "      <th>debt</th>\n",
       "      <th>children</th>\n",
       "      <th>0</th>\n",
       "      <th>1</th>\n",
       "    </tr>\n",
       "  </thead>\n",
       "  <tbody>\n",
       "    <tr>\n",
       "      <th>0</th>\n",
       "      <td>0</td>\n",
       "      <td>13028.0</td>\n",
       "      <td>1063.0</td>\n",
       "    </tr>\n",
       "    <tr>\n",
       "      <th>1</th>\n",
       "      <td>1</td>\n",
       "      <td>4364.0</td>\n",
       "      <td>444.0</td>\n",
       "    </tr>\n",
       "    <tr>\n",
       "      <th>2</th>\n",
       "      <td>2</td>\n",
       "      <td>1858.0</td>\n",
       "      <td>194.0</td>\n",
       "    </tr>\n",
       "    <tr>\n",
       "      <th>3</th>\n",
       "      <td>3</td>\n",
       "      <td>303.0</td>\n",
       "      <td>27.0</td>\n",
       "    </tr>\n",
       "    <tr>\n",
       "      <th>4</th>\n",
       "      <td>4</td>\n",
       "      <td>37.0</td>\n",
       "      <td>4.0</td>\n",
       "    </tr>\n",
       "    <tr>\n",
       "      <th>5</th>\n",
       "      <td>5</td>\n",
       "      <td>9.0</td>\n",
       "      <td>0.0</td>\n",
       "    </tr>\n",
       "  </tbody>\n",
       "</table>\n",
       "</div>"
      ],
      "text/plain": [
       "debt  children        0       1\n",
       "0            0  13028.0  1063.0\n",
       "1            1   4364.0   444.0\n",
       "2            2   1858.0   194.0\n",
       "3            3    303.0    27.0\n",
       "4            4     37.0     4.0\n",
       "5            5      9.0     0.0"
      ]
     },
     "execution_count": 26,
     "metadata": {},
     "output_type": "execute_result"
    }
   ],
   "source": [
    "children_pivot = children_pivot.fillna(value = 0)\n",
    "children_pivot"
   ]
  },
  {
   "cell_type": "markdown",
   "id": "01cb3f65",
   "metadata": {},
   "source": [
    "Далее найдем отношение количества клиентов имеющих долг к клиентам без долгов."
   ]
  },
  {
   "cell_type": "code",
   "execution_count": 27,
   "id": "58119d58",
   "metadata": {},
   "outputs": [
    {
     "data": {
      "text/html": [
       "<div>\n",
       "<style scoped>\n",
       "    .dataframe tbody tr th:only-of-type {\n",
       "        vertical-align: middle;\n",
       "    }\n",
       "\n",
       "    .dataframe tbody tr th {\n",
       "        vertical-align: top;\n",
       "    }\n",
       "\n",
       "    .dataframe thead th {\n",
       "        text-align: right;\n",
       "    }\n",
       "</style>\n",
       "<table border=\"1\" class=\"dataframe\">\n",
       "  <thead>\n",
       "    <tr style=\"text-align: right;\">\n",
       "      <th></th>\n",
       "      <th>children</th>\n",
       "      <th>no_debt</th>\n",
       "      <th>yes_debt</th>\n",
       "      <th>ratio</th>\n",
       "    </tr>\n",
       "  </thead>\n",
       "  <tbody>\n",
       "    <tr>\n",
       "      <th>0</th>\n",
       "      <td>0</td>\n",
       "      <td>13028.0</td>\n",
       "      <td>1063.0</td>\n",
       "      <td>0.082</td>\n",
       "    </tr>\n",
       "    <tr>\n",
       "      <th>1</th>\n",
       "      <td>1</td>\n",
       "      <td>4364.0</td>\n",
       "      <td>444.0</td>\n",
       "      <td>0.102</td>\n",
       "    </tr>\n",
       "    <tr>\n",
       "      <th>2</th>\n",
       "      <td>2</td>\n",
       "      <td>1858.0</td>\n",
       "      <td>194.0</td>\n",
       "      <td>0.104</td>\n",
       "    </tr>\n",
       "    <tr>\n",
       "      <th>3</th>\n",
       "      <td>3</td>\n",
       "      <td>303.0</td>\n",
       "      <td>27.0</td>\n",
       "      <td>0.089</td>\n",
       "    </tr>\n",
       "    <tr>\n",
       "      <th>4</th>\n",
       "      <td>4</td>\n",
       "      <td>37.0</td>\n",
       "      <td>4.0</td>\n",
       "      <td>0.108</td>\n",
       "    </tr>\n",
       "    <tr>\n",
       "      <th>5</th>\n",
       "      <td>5</td>\n",
       "      <td>9.0</td>\n",
       "      <td>0.0</td>\n",
       "      <td>0.000</td>\n",
       "    </tr>\n",
       "  </tbody>\n",
       "</table>\n",
       "</div>"
      ],
      "text/plain": [
       "   children  no_debt  yes_debt  ratio\n",
       "0         0  13028.0    1063.0  0.082\n",
       "1         1   4364.0     444.0  0.102\n",
       "2         2   1858.0     194.0  0.104\n",
       "3         3    303.0      27.0  0.089\n",
       "4         4     37.0       4.0  0.108\n",
       "5         5      9.0       0.0  0.000"
      ]
     },
     "execution_count": 27,
     "metadata": {},
     "output_type": "execute_result"
    }
   ],
   "source": [
    "#Сначала переименовываю колонки для удобства: 'yes_debt' - клиенты с долгом, 'no_debt' - клиенты без долга.\n",
    "children_pivot.columns = ['children', 'no_debt', 'yes_debt']\n",
    "\n",
    "#Добавляю колонку с отношением\n",
    "children_pivot['ratio'] = (children_pivot['yes_debt'] / \n",
    "                           children_pivot['no_debt'])\n",
    "\n",
    "# Округляю количество знаков после запятой и вывожу таблицу\n",
    "children_pivot['ratio'] = children_pivot['ratio'].round(decimals = 3)\n",
    "children_pivot"
   ]
  },
  {
   "cell_type": "markdown",
   "id": "9c613f93",
   "metadata": {},
   "source": [
    "Чтобы наглядно проследить зависимость, построим график по количеству детей к доле должников."
   ]
  },
  {
   "cell_type": "code",
   "execution_count": 28,
   "id": "7214efba",
   "metadata": {},
   "outputs": [
    {
     "data": {
      "text/plain": [
       "<AxesSubplot:xlabel='children', ylabel='ratio'>"
      ]
     },
     "execution_count": 28,
     "metadata": {},
     "output_type": "execute_result"
    },
    {
     "data": {
      "image/png": "[encoded data removed]",
      "text/plain": [
       "<Figure size 432x288 with 1 Axes>"
      ]
     },
     "metadata": {
      "needs_background": "light"
     },
     "output_type": "display_data"
    }
   ],
   "source": [
    "sns.barplot(data = children_pivot , \n",
    "            x = 'children' , \n",
    "            y = 'ratio' , \n",
    "            order = children_pivot.sort_values('ratio').children)\n"
   ]
  },
  {
   "cell_type": "markdown",
   "id": "f1be4b40",
   "metadata": {},
   "source": [
    "График показывает, что самая меньшая доля должников среди клиентов без детей. Немногим больше должников среди клиентов с тремя детьми и еще больше должников среди всех остальных категорий. \n",
    "Если бы количество должников с тремя детьми было бы на 1-2% больше можно было бы сделать вывод о влиянии количества детей на наличие долга.\n",
    "\n",
    "Поскольку данных в категориях с 3, 4 и 5 детьми для анализа недостаточно, ниже построю график без учета данных категорий."
   ]
  },
  {
   "cell_type": "code",
   "execution_count": 29,
   "id": "20d59f4d",
   "metadata": {},
   "outputs": [
    {
     "data": {
      "image/png": "[encoded data removed]",
      "text/plain": [
       "<Figure size 432x288 with 1 Axes>"
      ]
     },
     "metadata": {
      "needs_background": "light"
     },
     "output_type": "display_data"
    }
   ],
   "source": [
    "# Создам новую таблицу без учета категорий с недостатком данных\n",
    "children_concl = children_pivot[(children_pivot['children'] != 3) & \n",
    "                                (children_pivot['children'] != 4) & \n",
    "                                (children_pivot['children'] != 5)]\n",
    "\n",
    "# Вывожу график по новой таблице\n",
    "children_concl_plot = sns.barplot(data = children_concl , \n",
    "            x = 'children' , \n",
    "            y = 'ratio' , \n",
    "            order = children_concl.sort_values('ratio').children)\n"
   ]
  },
  {
   "cell_type": "markdown",
   "id": "d9c1e167",
   "metadata": {},
   "source": [
    "Данный график показывает, что наличие детей влияет на возврат кредита в срок."
   ]
  },
  {
   "cell_type": "markdown",
   "id": "e202c6e2",
   "metadata": {
    "deletable": false,
    "id": "3a6b99ec"
   },
   "source": [
    "**Вывод:** \n",
    "* согласно имеющимся данным можно сделать вывод, что **наличие** детей влияет на возврат кредита в срок. Должников без детей на 2% меньше, чем должников с детьми.\n",
    "* также, глядя на первый график, может показаться, что и **количество** детей влияет на возврат кредита в срок. Но для подтверждения данной гипотезы нужно больше значений.\n",
    "*  ___следует отметить, что среди клиентов с 5 детьми должников не было.___"
   ]
  },
  {
   "cell_type": "markdown",
   "id": "fa95e866",
   "metadata": {
    "id": "97be82ca"
   },
   "source": [
    "### Влияние семейного положения на возврат кредита в срок"
   ]
  },
  {
   "cell_type": "markdown",
   "id": "8e532d92",
   "metadata": {},
   "source": [
    "По аналогии с предыдущим заданием построим сводную таблицу по следующим группам данных:\n",
    "* Столбец по которому группируем данные - семейное положение (`family_status`),\n",
    "* Столбец по которому группируем значения - долг (`debt`)"
   ]
  },
  {
   "cell_type": "code",
   "execution_count": 31,
   "id": "93b459c7",
   "metadata": {},
   "outputs": [
    {
     "data": {
      "text/html": [
       "<div>\n",
       "<style scoped>\n",
       "    .dataframe tbody tr th:only-of-type {\n",
       "        vertical-align: middle;\n",
       "    }\n",
       "\n",
       "    .dataframe tbody tr th {\n",
       "        vertical-align: top;\n",
       "    }\n",
       "\n",
       "    .dataframe thead th {\n",
       "        text-align: right;\n",
       "    }\n",
       "</style>\n",
       "<table border=\"1\" class=\"dataframe\">\n",
       "  <thead>\n",
       "    <tr style=\"text-align: right;\">\n",
       "      <th>debt</th>\n",
       "      <th>family_status</th>\n",
       "      <th>0</th>\n",
       "      <th>1</th>\n",
       "    </tr>\n",
       "  </thead>\n",
       "  <tbody>\n",
       "    <tr>\n",
       "      <th>0</th>\n",
       "      <td>Не женат / не замужем</td>\n",
       "      <td>2523</td>\n",
       "      <td>273</td>\n",
       "    </tr>\n",
       "    <tr>\n",
       "      <th>1</th>\n",
       "      <td>в разводе</td>\n",
       "      <td>1105</td>\n",
       "      <td>84</td>\n",
       "    </tr>\n",
       "    <tr>\n",
       "      <th>2</th>\n",
       "      <td>вдовец / вдова</td>\n",
       "      <td>888</td>\n",
       "      <td>63</td>\n",
       "    </tr>\n",
       "    <tr>\n",
       "      <th>3</th>\n",
       "      <td>гражданский брак</td>\n",
       "      <td>3749</td>\n",
       "      <td>385</td>\n",
       "    </tr>\n",
       "    <tr>\n",
       "      <th>4</th>\n",
       "      <td>женат / замужем</td>\n",
       "      <td>11334</td>\n",
       "      <td>927</td>\n",
       "    </tr>\n",
       "  </tbody>\n",
       "</table>\n",
       "</div>"
      ],
      "text/plain": [
       "debt          family_status      0    1\n",
       "0     Не женат / не замужем   2523  273\n",
       "1                 в разводе   1105   84\n",
       "2            вдовец / вдова    888   63\n",
       "3          гражданский брак   3749  385\n",
       "4           женат / замужем  11334  927"
      ]
     },
     "execution_count": 31,
     "metadata": {},
     "output_type": "execute_result"
    }
   ],
   "source": [
    "# Создаю таблицу с нужными мне столбцами.\n",
    "family_tab = data[['family_status' , 'debt' , 'family_status_id']]\n",
    "\n",
    "#Создаю сводную таблицу\n",
    "family_pivot = family_tab.pivot_table(index = 'family_status' , \n",
    "                                      columns = 'debt' , \n",
    "                                      values = 'family_status_id' ,  \n",
    "                                      aggfunc = 'count').reset_index()\n",
    "family_pivot"
   ]
  },
  {
   "cell_type": "markdown",
   "id": "aa658acd",
   "metadata": {},
   "source": [
    "Далее найдем отношение количества клиентов имеющих долг к клиентам без долгов."
   ]
  },
  {
   "cell_type": "code",
   "execution_count": 32,
   "id": "f80f0b96",
   "metadata": {},
   "outputs": [
    {
     "data": {
      "text/html": [
       "<div>\n",
       "<style scoped>\n",
       "    .dataframe tbody tr th:only-of-type {\n",
       "        vertical-align: middle;\n",
       "    }\n",
       "\n",
       "    .dataframe tbody tr th {\n",
       "        vertical-align: top;\n",
       "    }\n",
       "\n",
       "    .dataframe thead th {\n",
       "        text-align: right;\n",
       "    }\n",
       "</style>\n",
       "<table border=\"1\" class=\"dataframe\">\n",
       "  <thead>\n",
       "    <tr style=\"text-align: right;\">\n",
       "      <th></th>\n",
       "      <th>family_status</th>\n",
       "      <th>no_debt</th>\n",
       "      <th>yes_debt</th>\n",
       "      <th>ratio</th>\n",
       "    </tr>\n",
       "  </thead>\n",
       "  <tbody>\n",
       "    <tr>\n",
       "      <th>0</th>\n",
       "      <td>Не женат / не замужем</td>\n",
       "      <td>2523</td>\n",
       "      <td>273</td>\n",
       "      <td>0.108</td>\n",
       "    </tr>\n",
       "    <tr>\n",
       "      <th>3</th>\n",
       "      <td>гражданский брак</td>\n",
       "      <td>3749</td>\n",
       "      <td>385</td>\n",
       "      <td>0.103</td>\n",
       "    </tr>\n",
       "    <tr>\n",
       "      <th>4</th>\n",
       "      <td>женат / замужем</td>\n",
       "      <td>11334</td>\n",
       "      <td>927</td>\n",
       "      <td>0.082</td>\n",
       "    </tr>\n",
       "    <tr>\n",
       "      <th>1</th>\n",
       "      <td>в разводе</td>\n",
       "      <td>1105</td>\n",
       "      <td>84</td>\n",
       "      <td>0.076</td>\n",
       "    </tr>\n",
       "    <tr>\n",
       "      <th>2</th>\n",
       "      <td>вдовец / вдова</td>\n",
       "      <td>888</td>\n",
       "      <td>63</td>\n",
       "      <td>0.071</td>\n",
       "    </tr>\n",
       "  </tbody>\n",
       "</table>\n",
       "</div>"
      ],
      "text/plain": [
       "           family_status  no_debt  yes_debt  ratio\n",
       "0  Не женат / не замужем     2523       273  0.108\n",
       "3       гражданский брак     3749       385  0.103\n",
       "4        женат / замужем    11334       927  0.082\n",
       "1              в разводе     1105        84  0.076\n",
       "2         вдовец / вдова      888        63  0.071"
      ]
     },
     "execution_count": 32,
     "metadata": {},
     "output_type": "execute_result"
    }
   ],
   "source": [
    "#Переименовываю колонки\n",
    "family_pivot.columns = ['family_status', 'no_debt', 'yes_debt']\n",
    "\n",
    "#Добавляю колонку с отношением\n",
    "family_pivot['ratio'] = (family_pivot['yes_debt'] / \n",
    "                         family_pivot['no_debt'])\n",
    "\n",
    "#Округляю значения и вывожу таблицу\n",
    "family_pivot['ratio'] = family_pivot['ratio'].round(decimals = 3)\n",
    "family_pivot.sort_values(by = 'ratio' , ascending = False)"
   ]
  },
  {
   "cell_type": "code",
   "execution_count": 33,
   "id": "0980f282",
   "metadata": {},
   "outputs": [
    {
     "data": {
      "image/png": "[encoded data removed]",
      "text/plain": [
       "<Figure size 432x288 with 1 Axes>"
      ]
     },
     "metadata": {
      "needs_background": "light"
     },
     "output_type": "display_data"
    }
   ],
   "source": [
    "family_concl_plot = sns.barplot(data = family_pivot, \n",
    "            x = 'ratio' , \n",
    "            y = 'family_status' , \n",
    "            order = family_pivot.sort_values('ratio').family_status)"
   ]
  },
  {
   "cell_type": "markdown",
   "id": "fb0a02bd",
   "metadata": {},
   "source": [
    "Полученный график показывает, что доля должников больше всего в двух группах: \"не женат/не замужем\" и \"гражданский брак\".\n",
    "В остальных группах доля должников на 2-3% меньше. Меньше всего должников в группе: \"вдовец/вдова\"."
   ]
  },
  {
   "cell_type": "markdown",
   "id": "5379b683",
   "metadata": {
    "deletable": false,
    "id": "1cef7837"
   },
   "source": [
    "**Вывод:**\n",
    "* наибольшая доля должников в двух группах: \"не женат/не замужем\" - 10.8% и \"гражданский брак\" - 10.3%;\n",
    "* наименьшая доля должников в группе \"вдовец/вдова\" - 7.1%."
   ]
  },
  {
   "cell_type": "markdown",
   "id": "30937348",
   "metadata": {
    "id": "1e8b2fca"
   },
   "source": [
    "### Влияние уровня дохода на возврат кредита в срок"
   ]
  },
  {
   "cell_type": "markdown",
   "id": "a798d99f",
   "metadata": {},
   "source": [
    "По аналогии с предыдущими заданиями построим сводную таблицу по следующим группам данных:\n",
    "* Столбец по которому группируем данные - категория ежемесячного дохода ('total_income_category'),\n",
    "* Столбец по которому группируем значения - долг ('debt')"
   ]
  },
  {
   "cell_type": "code",
   "execution_count": 35,
   "id": "92ed35de",
   "metadata": {},
   "outputs": [
    {
     "data": {
      "text/html": [
       "<div>\n",
       "<style scoped>\n",
       "    .dataframe tbody tr th:only-of-type {\n",
       "        vertical-align: middle;\n",
       "    }\n",
       "\n",
       "    .dataframe tbody tr th {\n",
       "        vertical-align: top;\n",
       "    }\n",
       "\n",
       "    .dataframe thead th {\n",
       "        text-align: right;\n",
       "    }\n",
       "</style>\n",
       "<table border=\"1\" class=\"dataframe\">\n",
       "  <thead>\n",
       "    <tr style=\"text-align: right;\">\n",
       "      <th>debt</th>\n",
       "      <th>total_income_category</th>\n",
       "      <th>0</th>\n",
       "      <th>1</th>\n",
       "    </tr>\n",
       "  </thead>\n",
       "  <tbody>\n",
       "    <tr>\n",
       "      <th>0</th>\n",
       "      <td>A</td>\n",
       "      <td>23</td>\n",
       "      <td>2</td>\n",
       "    </tr>\n",
       "    <tr>\n",
       "      <th>1</th>\n",
       "      <td>B</td>\n",
       "      <td>4660</td>\n",
       "      <td>354</td>\n",
       "    </tr>\n",
       "    <tr>\n",
       "      <th>2</th>\n",
       "      <td>C</td>\n",
       "      <td>14568</td>\n",
       "      <td>1353</td>\n",
       "    </tr>\n",
       "    <tr>\n",
       "      <th>3</th>\n",
       "      <td>D</td>\n",
       "      <td>328</td>\n",
       "      <td>21</td>\n",
       "    </tr>\n",
       "    <tr>\n",
       "      <th>4</th>\n",
       "      <td>E</td>\n",
       "      <td>20</td>\n",
       "      <td>2</td>\n",
       "    </tr>\n",
       "  </tbody>\n",
       "</table>\n",
       "</div>"
      ],
      "text/plain": [
       "debt total_income_category      0     1\n",
       "0                        A     23     2\n",
       "1                        B   4660   354\n",
       "2                        C  14568  1353\n",
       "3                        D    328    21\n",
       "4                        E     20     2"
      ]
     },
     "execution_count": 35,
     "metadata": {},
     "output_type": "execute_result"
    }
   ],
   "source": [
    "# Создаю таблицу с нужными мне столбцами.\n",
    "income_tab = data[['total_income_category' , 'debt' , 'total_income']]\n",
    "\n",
    "#Создаю сводную таблицу\n",
    "income_pivot = income_tab.pivot_table(index = 'total_income_category' , \n",
    "                                      columns = 'debt' , \n",
    "                                      values = 'total_income' ,\n",
    "                                      aggfunc = 'count' , \n",
    "                                      fill_value = 0).reset_index()\n",
    "income_pivot"
   ]
  },
  {
   "cell_type": "markdown",
   "id": "6572fe4d",
   "metadata": {},
   "source": [
    "Далее найдем отношение количества клиентов имеющих долг к клиентам без долгов."
   ]
  },
  {
   "cell_type": "code",
   "execution_count": 36,
   "id": "e8679f42",
   "metadata": {},
   "outputs": [
    {
     "data": {
      "text/html": [
       "<div>\n",
       "<style scoped>\n",
       "    .dataframe tbody tr th:only-of-type {\n",
       "        vertical-align: middle;\n",
       "    }\n",
       "\n",
       "    .dataframe tbody tr th {\n",
       "        vertical-align: top;\n",
       "    }\n",
       "\n",
       "    .dataframe thead th {\n",
       "        text-align: right;\n",
       "    }\n",
       "</style>\n",
       "<table border=\"1\" class=\"dataframe\">\n",
       "  <thead>\n",
       "    <tr style=\"text-align: right;\">\n",
       "      <th></th>\n",
       "      <th>total_income_category</th>\n",
       "      <th>no_debt</th>\n",
       "      <th>yes_debt</th>\n",
       "      <th>ratio</th>\n",
       "    </tr>\n",
       "  </thead>\n",
       "  <tbody>\n",
       "    <tr>\n",
       "      <th>4</th>\n",
       "      <td>E</td>\n",
       "      <td>20</td>\n",
       "      <td>2</td>\n",
       "      <td>0.100</td>\n",
       "    </tr>\n",
       "    <tr>\n",
       "      <th>2</th>\n",
       "      <td>C</td>\n",
       "      <td>14568</td>\n",
       "      <td>1353</td>\n",
       "      <td>0.093</td>\n",
       "    </tr>\n",
       "    <tr>\n",
       "      <th>0</th>\n",
       "      <td>A</td>\n",
       "      <td>23</td>\n",
       "      <td>2</td>\n",
       "      <td>0.087</td>\n",
       "    </tr>\n",
       "    <tr>\n",
       "      <th>1</th>\n",
       "      <td>B</td>\n",
       "      <td>4660</td>\n",
       "      <td>354</td>\n",
       "      <td>0.076</td>\n",
       "    </tr>\n",
       "    <tr>\n",
       "      <th>3</th>\n",
       "      <td>D</td>\n",
       "      <td>328</td>\n",
       "      <td>21</td>\n",
       "      <td>0.064</td>\n",
       "    </tr>\n",
       "  </tbody>\n",
       "</table>\n",
       "</div>"
      ],
      "text/plain": [
       "  total_income_category  no_debt  yes_debt  ratio\n",
       "4                     E       20         2  0.100\n",
       "2                     C    14568      1353  0.093\n",
       "0                     A       23         2  0.087\n",
       "1                     B     4660       354  0.076\n",
       "3                     D      328        21  0.064"
      ]
     },
     "execution_count": 36,
     "metadata": {},
     "output_type": "execute_result"
    }
   ],
   "source": [
    "#Переименовываю колонки и прячу индекс\n",
    "income_pivot.columns = ['total_income_category', 'no_debt', 'yes_debt']\n",
    "\n",
    "#Добавляю колонку с отношением\n",
    "income_pivot['ratio'] = (income_pivot['yes_debt'] / \n",
    "                         income_pivot['no_debt'])\n",
    "\n",
    "#Округляю значения и вывожу таблицу\n",
    "income_pivot['ratio'] = income_pivot['ratio'].round(decimals = 3)\n",
    "income_pivot.sort_values(by = 'ratio' , ascending = False)"
   ]
  },
  {
   "cell_type": "code",
   "execution_count": 37,
   "id": "26fc4253",
   "metadata": {},
   "outputs": [
    {
     "data": {
      "text/plain": [
       "<AxesSubplot:xlabel='total_income_category', ylabel='ratio'>"
      ]
     },
     "execution_count": 37,
     "metadata": {},
     "output_type": "execute_result"
    },
    {
     "data": {
      "image/png": "[encoded data removed]",
      "text/plain": [
       "<Figure size 432x288 with 1 Axes>"
      ]
     },
     "metadata": {
      "needs_background": "light"
     },
     "output_type": "display_data"
    }
   ],
   "source": [
    "sns.barplot(data = income_pivot, \n",
    "            x = 'total_income_category' , \n",
    "            y = 'ratio' ,\n",
    "            order = income_pivot.sort_values('ratio').total_income_category)"
   ]
  },
  {
   "cell_type": "markdown",
   "id": "edb6fa20",
   "metadata": {},
   "source": [
    "Согласно полученному графику, наибольшая доля должников в категории клиентов \"E\", то есть клиентов, чей доход в месяц менее 30000 рублей.\n",
    "Наименьшая доля должников в категории клиентов \"D\", то есть клиентов, чей доход в месяц варьируется от 30000 до 50000 рублей.\n",
    "\n",
    "Данных по клиентам в категориях \"A\", \"E\" и \"D\" - очень мало, поэтому сложно говорить о каких-либо зависимостях.\n",
    "\n",
    "Ниже построю график без учета категорий клиентов с недостатком в данных. "
   ]
  },
  {
   "cell_type": "code",
   "execution_count": 38,
   "id": "89734975",
   "metadata": {},
   "outputs": [
    {
     "data": {
      "image/png": "[encoded data removed]",
      "text/plain": [
       "<Figure size 432x288 with 1 Axes>"
      ]
     },
     "metadata": {
      "needs_background": "light"
     },
     "output_type": "display_data"
    }
   ],
   "source": [
    "# Создам новую таблицу без учета категорий с недостатком данных\n",
    "income_concl = income_pivot[(income_pivot['total_income_category'] != 'A') & \n",
    "                            (income_pivot['total_income_category'] != 'E') & \n",
    "                            (income_pivot['total_income_category'] != 'D')]\n",
    "\n",
    "# Вывожу график по новой таблице\n",
    "income_concl_plot = sns.barplot(data = income_concl , \n",
    "            x = 'total_income_category' , \n",
    "            y = 'ratio' , \n",
    "            order = income_concl.sort_values('ratio').total_income_category)"
   ]
  },
  {
   "cell_type": "markdown",
   "id": "74ae89fd",
   "metadata": {
    "deletable": false,
    "id": "e8593def"
   },
   "source": [
    "**Вывод:** \n",
    "\n",
    "С учетом всех полученных данных, можно сделать следующие выводы:\n",
    "* наибольшая доля должников в категории клиентов \"E\" - 10.0%\n",
    "* наименьшая доля должников в категории клиентов \"D\" - 6.4%\n",
    "* если не учитывать категории в которых мало данных, то есть \"A\", \"E\" и \"D\", то появляется зависимость - чем меньше доход, тем больше доля должников. Должников в категории 'B' на 1.7% меньше, чем в категории 'C'."
   ]
  },
  {
   "cell_type": "markdown",
   "id": "9f29f9e3",
   "metadata": {
    "id": "99ecbd1f"
   },
   "source": [
    "### Влияние цели кредита на его возврат в срок"
   ]
  },
  {
   "cell_type": "markdown",
   "id": "03306d08",
   "metadata": {},
   "source": [
    "По аналогии с предыдущими заданиями построим сводную таблицу по следующим группам данных:\n",
    "* Столбец по которому группируем данные - категория целей кредита (`purpose_category`),\n",
    "* Столбец по которому группируем значения - долг (`debt`)"
   ]
  },
  {
   "cell_type": "code",
   "execution_count": 40,
   "id": "f2864fb8",
   "metadata": {},
   "outputs": [
    {
     "data": {
      "text/html": [
       "<div>\n",
       "<style scoped>\n",
       "    .dataframe tbody tr th:only-of-type {\n",
       "        vertical-align: middle;\n",
       "    }\n",
       "\n",
       "    .dataframe tbody tr th {\n",
       "        vertical-align: top;\n",
       "    }\n",
       "\n",
       "    .dataframe thead th {\n",
       "        text-align: right;\n",
       "    }\n",
       "</style>\n",
       "<table border=\"1\" class=\"dataframe\">\n",
       "  <thead>\n",
       "    <tr style=\"text-align: right;\">\n",
       "      <th>debt</th>\n",
       "      <th>purpose_category</th>\n",
       "      <th>0</th>\n",
       "      <th>1</th>\n",
       "    </tr>\n",
       "  </thead>\n",
       "  <tbody>\n",
       "    <tr>\n",
       "      <th>0</th>\n",
       "      <td>операции с автомобилем</td>\n",
       "      <td>3879</td>\n",
       "      <td>400</td>\n",
       "    </tr>\n",
       "    <tr>\n",
       "      <th>1</th>\n",
       "      <td>операции с недвижимостью</td>\n",
       "      <td>9971</td>\n",
       "      <td>780</td>\n",
       "    </tr>\n",
       "    <tr>\n",
       "      <th>2</th>\n",
       "      <td>получение образования</td>\n",
       "      <td>3619</td>\n",
       "      <td>369</td>\n",
       "    </tr>\n",
       "    <tr>\n",
       "      <th>3</th>\n",
       "      <td>проведение свадьбы</td>\n",
       "      <td>2130</td>\n",
       "      <td>183</td>\n",
       "    </tr>\n",
       "  </tbody>\n",
       "</table>\n",
       "</div>"
      ],
      "text/plain": [
       "debt          purpose_category     0    1\n",
       "0       операции с автомобилем  3879  400\n",
       "1     операции с недвижимостью  9971  780\n",
       "2        получение образования  3619  369\n",
       "3           проведение свадьбы  2130  183"
      ]
     },
     "execution_count": 40,
     "metadata": {},
     "output_type": "execute_result"
    }
   ],
   "source": [
    "# Создаю таблицу с нужными мне столбцами.\n",
    "purpose_tab = data[['purpose_category' , 'debt' , 'purpose']]\n",
    "\n",
    "#Создаю сводную таблицу\n",
    "purpose_pivot = purpose_tab.pivot_table(index = 'purpose_category' , \n",
    "                                        columns = 'debt' , \n",
    "                                        values = 'purpose' ,  \n",
    "                                        aggfunc = 'count' , \n",
    "                                        fill_value = 0).reset_index()\n",
    "purpose_pivot"
   ]
  },
  {
   "cell_type": "code",
   "execution_count": 41,
   "id": "dbec6d0f",
   "metadata": {},
   "outputs": [
    {
     "data": {
      "text/html": [
       "<div>\n",
       "<style scoped>\n",
       "    .dataframe tbody tr th:only-of-type {\n",
       "        vertical-align: middle;\n",
       "    }\n",
       "\n",
       "    .dataframe tbody tr th {\n",
       "        vertical-align: top;\n",
       "    }\n",
       "\n",
       "    .dataframe thead th {\n",
       "        text-align: right;\n",
       "    }\n",
       "</style>\n",
       "<table border=\"1\" class=\"dataframe\">\n",
       "  <thead>\n",
       "    <tr style=\"text-align: right;\">\n",
       "      <th></th>\n",
       "      <th>purpose_category</th>\n",
       "      <th>no_debt</th>\n",
       "      <th>yes_debt</th>\n",
       "      <th>ratio</th>\n",
       "    </tr>\n",
       "  </thead>\n",
       "  <tbody>\n",
       "    <tr>\n",
       "      <th>0</th>\n",
       "      <td>операции с автомобилем</td>\n",
       "      <td>3879</td>\n",
       "      <td>400</td>\n",
       "      <td>0.103</td>\n",
       "    </tr>\n",
       "    <tr>\n",
       "      <th>2</th>\n",
       "      <td>получение образования</td>\n",
       "      <td>3619</td>\n",
       "      <td>369</td>\n",
       "      <td>0.102</td>\n",
       "    </tr>\n",
       "    <tr>\n",
       "      <th>3</th>\n",
       "      <td>проведение свадьбы</td>\n",
       "      <td>2130</td>\n",
       "      <td>183</td>\n",
       "      <td>0.086</td>\n",
       "    </tr>\n",
       "    <tr>\n",
       "      <th>1</th>\n",
       "      <td>операции с недвижимостью</td>\n",
       "      <td>9971</td>\n",
       "      <td>780</td>\n",
       "      <td>0.078</td>\n",
       "    </tr>\n",
       "  </tbody>\n",
       "</table>\n",
       "</div>"
      ],
      "text/plain": [
       "           purpose_category  no_debt  yes_debt  ratio\n",
       "0    операции с автомобилем     3879       400  0.103\n",
       "2     получение образования     3619       369  0.102\n",
       "3        проведение свадьбы     2130       183  0.086\n",
       "1  операции с недвижимостью     9971       780  0.078"
      ]
     },
     "execution_count": 41,
     "metadata": {},
     "output_type": "execute_result"
    }
   ],
   "source": [
    "#Переименовываю колонки\n",
    "purpose_pivot.columns = ['purpose_category', 'no_debt', 'yes_debt']\n",
    "\n",
    "#Добавляю колонку с отношением\n",
    "purpose_pivot['ratio'] = (purpose_pivot['yes_debt'] / purpose_pivot['no_debt'])\n",
    "\n",
    "#Округляю значения и вывожу таблицу\n",
    "purpose_pivot['ratio'] = purpose_pivot['ratio'].round(decimals = 3)\n",
    "purpose_pivot.sort_values(by = 'ratio' , ascending = False)"
   ]
  },
  {
   "cell_type": "code",
   "execution_count": 42,
   "id": "f84d5e6d",
   "metadata": {},
   "outputs": [
    {
     "data": {
      "image/png": "[encoded data removed]",
      "text/plain": [
       "<Figure size 432x288 with 1 Axes>"
      ]
     },
     "metadata": {
      "needs_background": "light"
     },
     "output_type": "display_data"
    }
   ],
   "source": [
    "purpose_concl_plot = sns.barplot(data = purpose_pivot, \n",
    "            x = 'ratio' , \n",
    "            y = 'purpose_category' ,\n",
    "            order = purpose_pivot.sort_values('ratio').purpose_category)"
   ]
  },
  {
   "cell_type": "markdown",
   "id": "60d0f62f",
   "metadata": {
    "deletable": false,
    "id": "b4bb2ce6"
   },
   "source": [
    "**Вывод:** \n",
    "* наибольшие доли должников в категориях целей кредита \"операции с автомобилем\" и \"получение образования\". Их значения приблизительно одинаковы - 10.3% и 10.2%.\n",
    "* наименьшая доля должников в категории \"операции с недвижимостью\" - 7.8%. "
   ]
  },
  {
   "cell_type": "markdown",
   "id": "bdbc020e",
   "metadata": {
    "id": "6db5255a"
   },
   "source": [
    "## Общий вывод."
   ]
  },
  {
   "cell_type": "markdown",
   "id": "a77ea539",
   "metadata": {
    "deletable": false,
    "id": "bad65432"
   },
   "source": [
    "В ходе работы над данным проектом были рассмотрены зависимости возврата кредита в срок от следующих характеристик клиентов:\n",
    "* количество детей,\n",
    "* семейное положение,\n",
    "* уровень дохода,\n",
    "* цели кредита.\n",
    "\n",
    "У некоторых категорий клиентов значений наличия или отсутствия задолженности было очень мало и делать строить зависимости по этим значениям было проблематично.\n",
    "\n",
    "Достаточное количество информации было в зависимостях от *семейного положения* и *целей кредита*.\n",
    "\n",
    "### В зависимости от **семейного положения**:\n",
    "* **наибольшая** доля должников в двух группах: \n",
    "    * \"не женат/не замужем\" - 10.8%,\n",
    "    * \"гражданский брак\" - 10.3% ;\n",
    "\n",
    "\n",
    "* **наименьшие** доли должников в группах: \n",
    "    * \"вдовец/вдова\" - 7.1%,\n",
    "    * \"в разводе\" - 7.6%,\n",
    "    * \"женат / замужем\" - 8.2%."
   ]
  },
  {
   "cell_type": "code",
   "execution_count": 43,
   "id": "57b4d75c",
   "metadata": {},
   "outputs": [
    {
     "data": {
      "image/png": "[encoded data removed]",
      "text/plain": [
       "<Figure size 432x288 with 1 Axes>"
      ]
     },
     "execution_count": 43,
     "metadata": {},
     "output_type": "execute_result"
    }
   ],
   "source": [
    "family_concl_plot.figure"
   ]
  },
  {
   "cell_type": "markdown",
   "id": "a82d47ce",
   "metadata": {},
   "source": [
    "Таким образом, можно сделать вывод, что \n",
    ">клиенты состоящие/состоявшие в браке более ответственно относятся к выплате кредитов.\n",
    "\n",
    "Разница между максимальным и минимальным количеством должников в данной категории **всего 3.7%**. Считаю, что принимать окончательно решение при выдаче кредита,используя данную зависимость, **не рекомендуется**."
   ]
  },
  {
   "cell_type": "markdown",
   "id": "aa323810",
   "metadata": {},
   "source": [
    "\n",
    "### В зависимости от **целей кредита**:\n",
    "* наибольшие доли должников в категориях целей кредита:\n",
    "    * \"операции с автомобилем\" - **10.3%**,  \n",
    "    * \"получение образования\" - **10.2%**.\n",
    "* наименьшие доли должников в категориях:\n",
    "    * \"операции с недвижимостью\" - **7.8%**,\n",
    "    * \"проведение свадьбы\" - **8.6%**.\n"
   ]
  },
  {
   "cell_type": "code",
   "execution_count": 44,
   "id": "0ef078f2",
   "metadata": {},
   "outputs": [
    {
     "data": {
      "image/png": "[encoded data removed]",
      "text/plain": [
       "<Figure size 432x288 with 1 Axes>"
      ]
     },
     "execution_count": 44,
     "metadata": {},
     "output_type": "execute_result"
    }
   ],
   "source": [
    "purpose_concl_plot.figure"
   ]
  },
  {
   "cell_type": "markdown",
   "id": "645e8b68",
   "metadata": {},
   "source": [
    "Разница между максимальным и минимальным количеством должников в данной категории **всего 2.5%**. Считаю, что принимать окончательно решение при выдаче кредита,используя данную зависимость, **не рекомендуется**."
   ]
  },
  {
   "cell_type": "markdown",
   "id": "80beac71",
   "metadata": {},
   "source": [
    "Если отсеять те категории клиентов в которых было очень мало значений, то можно сказать о следующих зависимостях:\n",
    "### Зависимость от **количества детей**  \n",
    ">Наличие ребенка влияет на возврат кредита в срок. \n",
    "\n",
    "Должников без детей на **2%** меньше, чем должников с детьми.\n",
    "\n",
    "Должников у которых отсутствуют дети - **8.2%**. В то время как среди клиентов с одним и двумя детьми - **10.2%** и **10.4%** соответственно. \n",
    "\n",
    "Тем не менее, следует отметить, что среди клиентов у которых **пять детей**, должники **отсутствуют**."
   ]
  },
  {
   "cell_type": "code",
   "execution_count": 45,
   "id": "91b3ec73",
   "metadata": {},
   "outputs": [
    {
     "data": {
      "image/png": "[encoded data removed]",
      "text/plain": [
       "<Figure size 432x288 with 1 Axes>"
      ]
     },
     "execution_count": 45,
     "metadata": {},
     "output_type": "execute_result"
    }
   ],
   "source": [
    "children_concl_plot.figure"
   ]
  },
  {
   "cell_type": "markdown",
   "id": "a1708240",
   "metadata": {},
   "source": [
    "Вывод о зависимости количества детей на возврат кредита в срок в данный момент сделать нельзя, поскольку не хватает данных по клиентам с 3, 4 и 5 детьми.\n",
    "Разница между максимальным и минимальным количеством должников в данной категории **всего 2.6%**. Считаю, что учитывать данную зависимость при выдаче кредита **не рекомендуется**."
   ]
  },
  {
   "cell_type": "markdown",
   "id": "136b83db",
   "metadata": {},
   "source": [
    "### По **уровню дохода**  \n",
    "Сформировать однозначный вывод по данной категории, анализируя имеющиеся данные, невозможно - слишком маленькая выборка, как среди клиентов с минимальным доходом, так и с максимальным.\n",
    "\n",
    "Если учесть категории в которых достаточно данных, то получается следующее:\n",
    "* должников с доходом от 50000 до 200000 - **9.3%**,\n",
    "* должников с доходом от 200000 до 1000000 - **7.6%**."
   ]
  },
  {
   "cell_type": "code",
   "execution_count": 46,
   "id": "069673c9",
   "metadata": {},
   "outputs": [
    {
     "data": {
      "image/png": "[encoded data removed]",
      "text/plain": [
       "<Figure size 432x288 with 1 Axes>"
      ]
     },
     "execution_count": 46,
     "metadata": {},
     "output_type": "execute_result"
    }
   ],
   "source": [
    "income_concl_plot.figure"
   ]
  },
  {
   "cell_type": "markdown",
   "id": "cf3ecd02",
   "metadata": {},
   "source": [
    "Несмотря на то, что судя по графику появляется зависимость \"чем меньше доход, тем больше доля должников\", брать ее в рассчет я **не рекомендую**, поскольку:\n",
    "* не хватает анализа по остальным категориям клиентов,\n",
    "* разница между данными категориями составляет всего **1.7%**."
   ]
  },
  {
   "cell_type": "markdown",
   "id": "e71f4479",
   "metadata": {},
   "source": [
    "### Резюме\n",
    "\n",
    "* Анализ данных показал, что при выдаче кредита можно использовать зависимости **погашения кредита в срок** от **семейного положения** и **целей кредита**.\n",
    "* Для использования зависимости **погашения кредита в срок** от **количества детей** и **уровня дохода** рекомендуется провести повторное исследование с большей выборкой данных.\n",
    "* Рекомендуется проверить электронную систему заполнения анкет на выдачу кредитов касаемо взаимосвязи **общего трудового стажа** и **ежемесячного дохода**, поскольку в них очень много пропущенных значений."
   ]
  }
 ],
 "metadata": {
  "ExecuteTimeLog": [
   {
    "duration": 45,
    "start_time": "2022-11-05T20:11:09.219Z"
   },
   {
    "duration": 644,
    "start_time": "2022-11-05T20:11:22.153Z"
   },
   {
    "duration": 22,
    "start_time": "2022-11-05T20:11:22.798Z"
   },
   {
    "duration": 14,
    "start_time": "2022-11-05T20:11:22.821Z"
   },
   {
    "duration": 8,
    "start_time": "2022-11-05T20:11:22.837Z"
   },
   {
    "duration": 32,
    "start_time": "2022-11-05T20:11:22.846Z"
   },
   {
    "duration": 3,
    "start_time": "2022-11-05T20:11:22.879Z"
   },
   {
    "duration": 14,
    "start_time": "2022-11-05T20:11:22.883Z"
   },
   {
    "duration": 4,
    "start_time": "2022-11-05T20:11:22.898Z"
   },
   {
    "duration": 9,
    "start_time": "2022-11-05T20:11:22.903Z"
   },
   {
    "duration": 4,
    "start_time": "2022-11-05T20:11:22.938Z"
   },
   {
    "duration": 34,
    "start_time": "2022-11-05T20:11:22.943Z"
   },
   {
    "duration": 10,
    "start_time": "2022-11-05T20:11:22.979Z"
   },
   {
    "duration": 4,
    "start_time": "2022-11-05T20:11:22.990Z"
   },
   {
    "duration": 12,
    "start_time": "2022-11-05T20:11:22.995Z"
   },
   {
    "duration": 43,
    "start_time": "2022-11-05T20:11:23.008Z"
   },
   {
    "duration": 14,
    "start_time": "2022-11-05T20:11:23.053Z"
   },
   {
    "duration": 3,
    "start_time": "2022-11-05T20:11:23.069Z"
   },
   {
    "duration": 11,
    "start_time": "2022-11-05T20:11:23.074Z"
   },
   {
    "duration": 9,
    "start_time": "2022-11-05T20:11:23.086Z"
   },
   {
    "duration": 5,
    "start_time": "2022-11-05T20:11:23.096Z"
   },
   {
    "duration": 13,
    "start_time": "2022-11-05T20:11:23.102Z"
   },
   {
    "duration": 24,
    "start_time": "2022-11-05T20:11:23.116Z"
   },
   {
    "duration": 19,
    "start_time": "2022-11-05T20:11:23.142Z"
   },
   {
    "duration": 7,
    "start_time": "2022-11-05T20:11:23.162Z"
   },
   {
    "duration": 11,
    "start_time": "2022-11-05T20:11:23.170Z"
   },
   {
    "duration": 9,
    "start_time": "2022-11-05T20:11:23.183Z"
   },
   {
    "duration": 4,
    "start_time": "2022-11-05T20:11:23.193Z"
   },
   {
    "duration": 73,
    "start_time": "2022-11-05T20:30:46.978Z"
   },
   {
    "duration": 34,
    "start_time": "2022-11-05T20:33:02.878Z"
   },
   {
    "duration": 22,
    "start_time": "2022-11-05T20:33:58.283Z"
   },
   {
    "duration": 12,
    "start_time": "2022-11-05T20:34:38.272Z"
   },
   {
    "duration": 23,
    "start_time": "2022-11-05T20:35:08.544Z"
   },
   {
    "duration": 20,
    "start_time": "2022-11-05T20:35:32.426Z"
   },
   {
    "duration": 528,
    "start_time": "2022-11-06T18:04:26.799Z"
   },
   {
    "duration": 31,
    "start_time": "2022-11-06T18:04:27.329Z"
   },
   {
    "duration": 17,
    "start_time": "2022-11-06T18:04:27.362Z"
   },
   {
    "duration": 11,
    "start_time": "2022-11-06T18:04:27.381Z"
   },
   {
    "duration": 50,
    "start_time": "2022-11-06T18:04:27.394Z"
   },
   {
    "duration": 4,
    "start_time": "2022-11-06T18:04:27.446Z"
   },
   {
    "duration": 20,
    "start_time": "2022-11-06T18:04:27.455Z"
   },
   {
    "duration": 4,
    "start_time": "2022-11-06T18:04:27.477Z"
   },
   {
    "duration": 9,
    "start_time": "2022-11-06T18:04:27.484Z"
   },
   {
    "duration": 4,
    "start_time": "2022-11-06T18:04:27.497Z"
   },
   {
    "duration": 57,
    "start_time": "2022-11-06T18:04:27.503Z"
   },
   {
    "duration": 11,
    "start_time": "2022-11-06T18:04:27.563Z"
   },
   {
    "duration": 8,
    "start_time": "2022-11-06T18:04:27.576Z"
   },
   {
    "duration": 18,
    "start_time": "2022-11-06T18:04:27.585Z"
   },
   {
    "duration": 33,
    "start_time": "2022-11-06T18:04:27.605Z"
   },
   {
    "duration": 16,
    "start_time": "2022-11-06T18:04:27.640Z"
   },
   {
    "duration": 3,
    "start_time": "2022-11-06T18:04:27.657Z"
   },
   {
    "duration": 13,
    "start_time": "2022-11-06T18:04:27.662Z"
   },
   {
    "duration": 5,
    "start_time": "2022-11-06T18:04:27.677Z"
   },
   {
    "duration": 3,
    "start_time": "2022-11-06T18:04:27.684Z"
   },
   {
    "duration": 9,
    "start_time": "2022-11-06T18:04:27.721Z"
   },
   {
    "duration": 7,
    "start_time": "2022-11-06T18:04:27.731Z"
   },
   {
    "duration": 17,
    "start_time": "2022-11-06T18:04:27.739Z"
   },
   {
    "duration": 26,
    "start_time": "2022-11-06T18:04:27.757Z"
   },
   {
    "duration": 3,
    "start_time": "2022-11-06T18:04:27.784Z"
   },
   {
    "duration": 33,
    "start_time": "2022-11-06T18:04:27.789Z"
   },
   {
    "duration": 2,
    "start_time": "2022-11-06T18:04:27.823Z"
   },
   {
    "duration": 18,
    "start_time": "2022-11-06T18:25:49.681Z"
   },
   {
    "duration": 21,
    "start_time": "2022-11-06T18:26:35.639Z"
   },
   {
    "duration": 13,
    "start_time": "2022-11-06T18:28:30.378Z"
   },
   {
    "duration": 18,
    "start_time": "2022-11-06T18:31:34.278Z"
   },
   {
    "duration": 13,
    "start_time": "2022-11-06T18:32:47.868Z"
   },
   {
    "duration": 18,
    "start_time": "2022-11-06T18:33:07.305Z"
   },
   {
    "duration": 65,
    "start_time": "2022-11-06T18:33:44.308Z"
   },
   {
    "duration": 9,
    "start_time": "2022-11-06T18:33:54.365Z"
   },
   {
    "duration": 18,
    "start_time": "2022-11-06T18:33:59.298Z"
   },
   {
    "duration": 16,
    "start_time": "2022-11-06T18:37:35.417Z"
   },
   {
    "duration": 13,
    "start_time": "2022-11-06T18:38:28.655Z"
   },
   {
    "duration": 16,
    "start_time": "2022-11-06T18:38:37.708Z"
   },
   {
    "duration": 12,
    "start_time": "2022-11-06T18:44:00.324Z"
   },
   {
    "duration": 15,
    "start_time": "2022-11-06T18:44:18.664Z"
   },
   {
    "duration": 14,
    "start_time": "2022-11-06T18:45:24.101Z"
   },
   {
    "duration": 14,
    "start_time": "2022-11-06T18:45:47.417Z"
   },
   {
    "duration": 1272,
    "start_time": "2022-11-06T18:47:21.852Z"
   },
   {
    "duration": 17,
    "start_time": "2022-11-06T18:48:28.136Z"
   },
   {
    "duration": 15,
    "start_time": "2022-11-06T18:49:42.442Z"
   },
   {
    "duration": 18,
    "start_time": "2022-11-06T18:50:22.819Z"
   },
   {
    "duration": 18,
    "start_time": "2022-11-06T18:51:35.851Z"
   },
   {
    "duration": 21,
    "start_time": "2022-11-06T18:52:50.203Z"
   },
   {
    "duration": 19,
    "start_time": "2022-11-06T18:52:58.187Z"
   },
   {
    "duration": 894,
    "start_time": "2022-11-06T18:59:32.959Z"
   },
   {
    "duration": 7,
    "start_time": "2022-11-06T19:43:52.396Z"
   },
   {
    "duration": 5,
    "start_time": "2022-11-06T19:44:06.509Z"
   },
   {
    "duration": 6,
    "start_time": "2022-11-06T19:44:19.758Z"
   },
   {
    "duration": 324,
    "start_time": "2022-11-06T19:50:44.343Z"
   },
   {
    "duration": 273,
    "start_time": "2022-11-06T19:50:56.870Z"
   },
   {
    "duration": 19,
    "start_time": "2022-11-06T19:51:18.715Z"
   },
   {
    "duration": 18,
    "start_time": "2022-11-06T19:51:31.388Z"
   },
   {
    "duration": 274,
    "start_time": "2022-11-06T19:51:37.021Z"
   },
   {
    "duration": 20,
    "start_time": "2022-11-06T19:52:30.736Z"
   },
   {
    "duration": 19,
    "start_time": "2022-11-06T20:13:05.545Z"
   },
   {
    "duration": 20,
    "start_time": "2022-11-06T20:13:54.493Z"
   },
   {
    "duration": 22,
    "start_time": "2022-11-06T20:14:07.937Z"
   },
   {
    "duration": 16,
    "start_time": "2022-11-06T20:14:31.498Z"
   },
   {
    "duration": 20,
    "start_time": "2022-11-06T20:14:36.737Z"
   },
   {
    "duration": 73,
    "start_time": "2022-11-06T20:16:10.218Z"
   },
   {
    "duration": 1051,
    "start_time": "2022-11-06T20:32:33.929Z"
   },
   {
    "duration": 18,
    "start_time": "2022-11-06T20:38:05.306Z"
   },
   {
    "duration": 277,
    "start_time": "2022-11-06T20:39:43.432Z"
   },
   {
    "duration": 431,
    "start_time": "2022-11-06T20:39:58.629Z"
   },
   {
    "duration": 19,
    "start_time": "2022-11-06T20:39:59.062Z"
   },
   {
    "duration": 14,
    "start_time": "2022-11-06T20:39:59.082Z"
   },
   {
    "duration": 7,
    "start_time": "2022-11-06T20:39:59.098Z"
   },
   {
    "duration": 28,
    "start_time": "2022-11-06T20:39:59.122Z"
   },
   {
    "duration": 3,
    "start_time": "2022-11-06T20:39:59.151Z"
   },
   {
    "duration": 13,
    "start_time": "2022-11-06T20:39:59.155Z"
   },
   {
    "duration": 12,
    "start_time": "2022-11-06T20:39:59.169Z"
   },
   {
    "duration": 7,
    "start_time": "2022-11-06T20:39:59.183Z"
   },
   {
    "duration": 4,
    "start_time": "2022-11-06T20:39:59.193Z"
   },
   {
    "duration": 43,
    "start_time": "2022-11-06T20:39:59.198Z"
   },
   {
    "duration": 7,
    "start_time": "2022-11-06T20:39:59.243Z"
   },
   {
    "duration": 3,
    "start_time": "2022-11-06T20:39:59.252Z"
   },
   {
    "duration": 12,
    "start_time": "2022-11-06T20:39:59.256Z"
   },
   {
    "duration": 19,
    "start_time": "2022-11-06T20:39:59.269Z"
   },
   {
    "duration": 39,
    "start_time": "2022-11-06T20:39:59.289Z"
   },
   {
    "duration": 3,
    "start_time": "2022-11-06T20:39:59.329Z"
   },
   {
    "duration": 11,
    "start_time": "2022-11-06T20:39:59.333Z"
   },
   {
    "duration": 7,
    "start_time": "2022-11-06T20:39:59.346Z"
   },
   {
    "duration": 4,
    "start_time": "2022-11-06T20:39:59.355Z"
   },
   {
    "duration": 12,
    "start_time": "2022-11-06T20:39:59.360Z"
   },
   {
    "duration": 15,
    "start_time": "2022-11-06T20:39:59.374Z"
   },
   {
    "duration": 371,
    "start_time": "2022-11-06T20:39:59.391Z"
   },
   {
    "duration": 0,
    "start_time": "2022-11-06T20:39:59.763Z"
   },
   {
    "duration": 0,
    "start_time": "2022-11-06T20:39:59.764Z"
   },
   {
    "duration": 0,
    "start_time": "2022-11-06T20:39:59.765Z"
   },
   {
    "duration": 0,
    "start_time": "2022-11-06T20:39:59.766Z"
   },
   {
    "duration": 11,
    "start_time": "2022-11-06T20:41:48.373Z"
   },
   {
    "duration": 11,
    "start_time": "2022-11-06T20:41:51.786Z"
   },
   {
    "duration": 300,
    "start_time": "2022-11-06T20:41:54.071Z"
   },
   {
    "duration": 15,
    "start_time": "2022-11-06T20:42:04.455Z"
   },
   {
    "duration": 269,
    "start_time": "2022-11-06T20:42:45.276Z"
   },
   {
    "duration": 273,
    "start_time": "2022-11-06T20:42:49.090Z"
   },
   {
    "duration": 19,
    "start_time": "2022-11-06T20:42:57.176Z"
   },
   {
    "duration": 282,
    "start_time": "2022-11-06T20:43:00.583Z"
   },
   {
    "duration": 452,
    "start_time": "2022-11-06T20:43:07.136Z"
   },
   {
    "duration": 19,
    "start_time": "2022-11-06T20:43:07.590Z"
   },
   {
    "duration": 13,
    "start_time": "2022-11-06T20:43:07.610Z"
   },
   {
    "duration": 8,
    "start_time": "2022-11-06T20:43:07.625Z"
   },
   {
    "duration": 31,
    "start_time": "2022-11-06T20:43:07.635Z"
   },
   {
    "duration": 3,
    "start_time": "2022-11-06T20:43:07.668Z"
   },
   {
    "duration": 10,
    "start_time": "2022-11-06T20:43:07.672Z"
   },
   {
    "duration": 4,
    "start_time": "2022-11-06T20:43:07.683Z"
   },
   {
    "duration": 8,
    "start_time": "2022-11-06T20:43:07.688Z"
   },
   {
    "duration": 24,
    "start_time": "2022-11-06T20:43:07.698Z"
   },
   {
    "duration": 30,
    "start_time": "2022-11-06T20:43:07.723Z"
   },
   {
    "duration": 8,
    "start_time": "2022-11-06T20:43:07.754Z"
   },
   {
    "duration": 3,
    "start_time": "2022-11-06T20:43:07.763Z"
   },
   {
    "duration": 10,
    "start_time": "2022-11-06T20:43:07.768Z"
   },
   {
    "duration": 19,
    "start_time": "2022-11-06T20:43:07.780Z"
   },
   {
    "duration": 16,
    "start_time": "2022-11-06T20:43:07.821Z"
   },
   {
    "duration": 3,
    "start_time": "2022-11-06T20:43:07.839Z"
   },
   {
    "duration": 19,
    "start_time": "2022-11-06T20:43:07.843Z"
   },
   {
    "duration": 9,
    "start_time": "2022-11-06T20:43:07.864Z"
   },
   {
    "duration": 5,
    "start_time": "2022-11-06T20:43:07.875Z"
   },
   {
    "duration": 9,
    "start_time": "2022-11-06T20:43:07.881Z"
   },
   {
    "duration": 5,
    "start_time": "2022-11-06T20:43:07.891Z"
   },
   {
    "duration": 272,
    "start_time": "2022-11-06T20:43:07.897Z"
   },
   {
    "duration": 318,
    "start_time": "2022-11-06T20:43:08.170Z"
   },
   {
    "duration": 0,
    "start_time": "2022-11-06T20:43:08.490Z"
   },
   {
    "duration": 0,
    "start_time": "2022-11-06T20:43:08.491Z"
   },
   {
    "duration": 0,
    "start_time": "2022-11-06T20:43:08.492Z"
   },
   {
    "duration": 0,
    "start_time": "2022-11-06T20:43:08.493Z"
   },
   {
    "duration": 0,
    "start_time": "2022-11-06T20:43:08.494Z"
   },
   {
    "duration": 0,
    "start_time": "2022-11-06T20:43:08.495Z"
   },
   {
    "duration": 618,
    "start_time": "2022-11-06T20:44:00.027Z"
   },
   {
    "duration": 18,
    "start_time": "2022-11-06T20:44:25.640Z"
   },
   {
    "duration": 108,
    "start_time": "2022-11-06T20:44:29.880Z"
   },
   {
    "duration": 334,
    "start_time": "2022-11-06T20:46:25.474Z"
   },
   {
    "duration": 38,
    "start_time": "2022-11-06T20:47:39.793Z"
   },
   {
    "duration": 18,
    "start_time": "2022-11-06T20:48:14.511Z"
   },
   {
    "duration": 358,
    "start_time": "2022-11-06T20:48:16.471Z"
   },
   {
    "duration": 112,
    "start_time": "2022-11-06T20:48:30.214Z"
   },
   {
    "duration": 169,
    "start_time": "2022-11-06T20:48:38.849Z"
   },
   {
    "duration": 11,
    "start_time": "2022-11-06T20:50:05.561Z"
   },
   {
    "duration": 312,
    "start_time": "2022-11-06T20:51:25.165Z"
   },
   {
    "duration": 335,
    "start_time": "2022-11-06T20:51:30.639Z"
   },
   {
    "duration": 19,
    "start_time": "2022-11-06T20:51:45.283Z"
   },
   {
    "duration": 13,
    "start_time": "2022-11-06T20:51:51.723Z"
   },
   {
    "duration": 13,
    "start_time": "2022-11-06T20:53:07.467Z"
   },
   {
    "duration": 9,
    "start_time": "2022-11-06T20:53:30.783Z"
   },
   {
    "duration": 561,
    "start_time": "2022-11-06T20:53:52.808Z"
   },
   {
    "duration": 18,
    "start_time": "2022-11-06T20:55:54.319Z"
   },
   {
    "duration": 18,
    "start_time": "2022-11-06T20:57:38.049Z"
   },
   {
    "duration": 16,
    "start_time": "2022-11-06T20:58:22.290Z"
   },
   {
    "duration": 16,
    "start_time": "2022-11-06T20:59:25.683Z"
   },
   {
    "duration": 17,
    "start_time": "2022-11-06T20:59:54.418Z"
   },
   {
    "duration": 18,
    "start_time": "2022-11-06T21:02:24.879Z"
   },
   {
    "duration": 111,
    "start_time": "2022-11-06T21:03:48.312Z"
   },
   {
    "duration": 110,
    "start_time": "2022-11-06T21:03:59.309Z"
   },
   {
    "duration": 16,
    "start_time": "2022-11-06T21:06:41.242Z"
   },
   {
    "duration": 18,
    "start_time": "2022-11-06T21:09:12.791Z"
   },
   {
    "duration": 6,
    "start_time": "2022-11-06T21:09:29.047Z"
   },
   {
    "duration": 17,
    "start_time": "2022-11-06T21:22:37.853Z"
   },
   {
    "duration": 4,
    "start_time": "2022-11-06T21:24:21.276Z"
   },
   {
    "duration": 5,
    "start_time": "2022-11-06T21:24:29.043Z"
   },
   {
    "duration": 27,
    "start_time": "2022-11-06T21:30:27.383Z"
   },
   {
    "duration": 19,
    "start_time": "2022-11-06T21:31:07.839Z"
   },
   {
    "duration": 19,
    "start_time": "2022-11-06T21:31:30.329Z"
   },
   {
    "duration": 20,
    "start_time": "2022-11-06T21:31:45.809Z"
   },
   {
    "duration": 16,
    "start_time": "2022-11-06T21:32:08.959Z"
   },
   {
    "duration": 11,
    "start_time": "2022-11-06T21:32:32.059Z"
   },
   {
    "duration": 16,
    "start_time": "2022-11-06T21:35:27.277Z"
   },
   {
    "duration": 17,
    "start_time": "2022-11-06T21:35:49.629Z"
   },
   {
    "duration": 16,
    "start_time": "2022-11-06T21:36:00.737Z"
   },
   {
    "duration": 15,
    "start_time": "2022-11-06T21:36:15.539Z"
   },
   {
    "duration": 9,
    "start_time": "2022-11-06T21:36:30.202Z"
   },
   {
    "duration": 9,
    "start_time": "2022-11-06T21:37:45.410Z"
   },
   {
    "duration": 10,
    "start_time": "2022-11-06T21:38:03.163Z"
   },
   {
    "duration": 107,
    "start_time": "2022-11-06T21:40:24.153Z"
   },
   {
    "duration": 10,
    "start_time": "2022-11-06T21:41:08.510Z"
   },
   {
    "duration": 11,
    "start_time": "2022-11-06T21:41:16.795Z"
   },
   {
    "duration": 465,
    "start_time": "2022-11-06T21:41:25.125Z"
   },
   {
    "duration": 20,
    "start_time": "2022-11-06T21:41:25.592Z"
   },
   {
    "duration": 14,
    "start_time": "2022-11-06T21:41:25.614Z"
   },
   {
    "duration": 8,
    "start_time": "2022-11-06T21:41:25.629Z"
   },
   {
    "duration": 31,
    "start_time": "2022-11-06T21:41:25.639Z"
   },
   {
    "duration": 3,
    "start_time": "2022-11-06T21:41:25.672Z"
   },
   {
    "duration": 10,
    "start_time": "2022-11-06T21:41:25.676Z"
   },
   {
    "duration": 3,
    "start_time": "2022-11-06T21:41:25.687Z"
   },
   {
    "duration": 34,
    "start_time": "2022-11-06T21:41:25.692Z"
   },
   {
    "duration": 4,
    "start_time": "2022-11-06T21:41:25.728Z"
   },
   {
    "duration": 34,
    "start_time": "2022-11-06T21:41:25.733Z"
   },
   {
    "duration": 8,
    "start_time": "2022-11-06T21:41:25.768Z"
   },
   {
    "duration": 3,
    "start_time": "2022-11-06T21:41:25.778Z"
   },
   {
    "duration": 17,
    "start_time": "2022-11-06T21:41:25.782Z"
   },
   {
    "duration": 30,
    "start_time": "2022-11-06T21:41:25.800Z"
   },
   {
    "duration": 14,
    "start_time": "2022-11-06T21:41:25.831Z"
   },
   {
    "duration": 2,
    "start_time": "2022-11-06T21:41:25.847Z"
   },
   {
    "duration": 12,
    "start_time": "2022-11-06T21:41:25.851Z"
   },
   {
    "duration": 8,
    "start_time": "2022-11-06T21:41:25.864Z"
   },
   {
    "duration": 6,
    "start_time": "2022-11-06T21:41:25.873Z"
   },
   {
    "duration": 11,
    "start_time": "2022-11-06T21:41:25.880Z"
   },
   {
    "duration": 19,
    "start_time": "2022-11-06T21:41:25.892Z"
   },
   {
    "duration": 297,
    "start_time": "2022-11-06T21:41:25.913Z"
   },
   {
    "duration": 4,
    "start_time": "2022-11-06T21:41:26.212Z"
   },
   {
    "duration": 89,
    "start_time": "2022-11-06T21:41:26.221Z"
   },
   {
    "duration": 0,
    "start_time": "2022-11-06T21:41:26.312Z"
   },
   {
    "duration": 0,
    "start_time": "2022-11-06T21:41:26.313Z"
   },
   {
    "duration": 0,
    "start_time": "2022-11-06T21:41:26.314Z"
   },
   {
    "duration": 0,
    "start_time": "2022-11-06T21:41:26.315Z"
   },
   {
    "duration": 0,
    "start_time": "2022-11-06T21:41:26.315Z"
   },
   {
    "duration": 0,
    "start_time": "2022-11-06T21:41:26.316Z"
   },
   {
    "duration": 572,
    "start_time": "2022-11-06T21:41:58.858Z"
   },
   {
    "duration": 12,
    "start_time": "2022-11-06T21:42:03.941Z"
   },
   {
    "duration": 16,
    "start_time": "2022-11-06T21:42:17.261Z"
   },
   {
    "duration": 10,
    "start_time": "2022-11-06T21:42:21.730Z"
   },
   {
    "duration": 7,
    "start_time": "2022-11-06T21:42:50.091Z"
   },
   {
    "duration": 8,
    "start_time": "2022-11-06T21:51:02.124Z"
   },
   {
    "duration": 8,
    "start_time": "2022-11-06T21:51:19.328Z"
   },
   {
    "duration": 111,
    "start_time": "2022-11-06T21:51:26.812Z"
   },
   {
    "duration": 111,
    "start_time": "2022-11-06T21:52:07.488Z"
   },
   {
    "duration": 8,
    "start_time": "2022-11-06T21:52:35.228Z"
   },
   {
    "duration": 108,
    "start_time": "2022-11-06T21:52:59.142Z"
   },
   {
    "duration": 7,
    "start_time": "2022-11-06T21:55:30.845Z"
   },
   {
    "duration": 16,
    "start_time": "2022-11-06T21:55:53.298Z"
   },
   {
    "duration": 8,
    "start_time": "2022-11-06T21:55:55.855Z"
   },
   {
    "duration": 8,
    "start_time": "2022-11-06T21:56:27.188Z"
   },
   {
    "duration": 451,
    "start_time": "2022-11-06T21:56:35.397Z"
   },
   {
    "duration": 19,
    "start_time": "2022-11-06T21:56:35.849Z"
   },
   {
    "duration": 12,
    "start_time": "2022-11-06T21:56:35.870Z"
   },
   {
    "duration": 8,
    "start_time": "2022-11-06T21:56:35.883Z"
   },
   {
    "duration": 42,
    "start_time": "2022-11-06T21:56:35.892Z"
   },
   {
    "duration": 3,
    "start_time": "2022-11-06T21:56:35.936Z"
   },
   {
    "duration": 12,
    "start_time": "2022-11-06T21:56:35.940Z"
   },
   {
    "duration": 14,
    "start_time": "2022-11-06T21:56:35.954Z"
   },
   {
    "duration": 9,
    "start_time": "2022-11-06T21:56:35.969Z"
   },
   {
    "duration": 6,
    "start_time": "2022-11-06T21:56:35.990Z"
   },
   {
    "duration": 50,
    "start_time": "2022-11-06T21:56:35.998Z"
   },
   {
    "duration": 11,
    "start_time": "2022-11-06T21:56:36.050Z"
   },
   {
    "duration": 11,
    "start_time": "2022-11-06T21:56:36.063Z"
   },
   {
    "duration": 28,
    "start_time": "2022-11-06T21:56:36.075Z"
   },
   {
    "duration": 28,
    "start_time": "2022-11-06T21:56:36.105Z"
   },
   {
    "duration": 17,
    "start_time": "2022-11-06T21:56:36.135Z"
   },
   {
    "duration": 6,
    "start_time": "2022-11-06T21:56:36.154Z"
   },
   {
    "duration": 16,
    "start_time": "2022-11-06T21:56:36.161Z"
   },
   {
    "duration": 5,
    "start_time": "2022-11-06T21:56:36.178Z"
   },
   {
    "duration": 8,
    "start_time": "2022-11-06T21:56:36.184Z"
   },
   {
    "duration": 10,
    "start_time": "2022-11-06T21:56:36.193Z"
   },
   {
    "duration": 5,
    "start_time": "2022-11-06T21:56:36.204Z"
   },
   {
    "duration": 253,
    "start_time": "2022-11-06T21:56:36.221Z"
   },
   {
    "duration": 8,
    "start_time": "2022-11-06T21:56:36.476Z"
   },
   {
    "duration": 604,
    "start_time": "2022-11-06T21:56:36.486Z"
   },
   {
    "duration": 11,
    "start_time": "2022-11-06T21:56:37.091Z"
   },
   {
    "duration": 23,
    "start_time": "2022-11-06T21:56:37.103Z"
   },
   {
    "duration": 6,
    "start_time": "2022-11-06T21:56:37.129Z"
   },
   {
    "duration": 7,
    "start_time": "2022-11-06T21:56:37.137Z"
   },
   {
    "duration": 5,
    "start_time": "2022-11-06T21:56:37.145Z"
   },
   {
    "duration": 11,
    "start_time": "2022-11-06T21:56:59.616Z"
   },
   {
    "duration": 8,
    "start_time": "2022-11-06T21:57:06.740Z"
   },
   {
    "duration": 9,
    "start_time": "2022-11-06T21:57:27.544Z"
   },
   {
    "duration": 9,
    "start_time": "2022-11-06T21:58:43.989Z"
   },
   {
    "duration": 13,
    "start_time": "2022-11-06T22:07:23.281Z"
   },
   {
    "duration": 91,
    "start_time": "2022-11-06T22:17:28.631Z"
   },
   {
    "duration": 18,
    "start_time": "2022-11-06T22:17:47.841Z"
   },
   {
    "duration": 10,
    "start_time": "2022-11-06T22:18:39.260Z"
   },
   {
    "duration": 6,
    "start_time": "2022-11-06T22:23:49.878Z"
   },
   {
    "duration": 6,
    "start_time": "2022-11-06T22:25:56.950Z"
   },
   {
    "duration": 7,
    "start_time": "2022-11-06T22:26:10.140Z"
   },
   {
    "duration": 12,
    "start_time": "2022-11-06T22:28:17.854Z"
   },
   {
    "duration": 130,
    "start_time": "2022-11-06T22:28:30.218Z"
   },
   {
    "duration": 100,
    "start_time": "2022-11-06T22:29:37.039Z"
   },
   {
    "duration": 98,
    "start_time": "2022-11-06T22:33:17.894Z"
   },
   {
    "duration": 94,
    "start_time": "2022-11-06T22:33:55.788Z"
   },
   {
    "duration": 94,
    "start_time": "2022-11-06T22:34:14.803Z"
   },
   {
    "duration": 99,
    "start_time": "2022-11-06T22:34:57.261Z"
   },
   {
    "duration": 154,
    "start_time": "2022-11-06T22:35:14.142Z"
   },
   {
    "duration": 105,
    "start_time": "2022-11-06T22:36:34.407Z"
   },
   {
    "duration": 13,
    "start_time": "2022-11-06T22:39:59.649Z"
   },
   {
    "duration": 11,
    "start_time": "2022-11-06T22:47:45.316Z"
   },
   {
    "duration": 11,
    "start_time": "2022-11-06T22:47:53.078Z"
   },
   {
    "duration": 96,
    "start_time": "2022-11-06T22:50:28.928Z"
   },
   {
    "duration": 85,
    "start_time": "2022-11-06T22:51:06.384Z"
   },
   {
    "duration": 99,
    "start_time": "2022-11-06T22:51:25.424Z"
   },
   {
    "duration": 97,
    "start_time": "2022-11-06T22:51:31.004Z"
   },
   {
    "duration": 14,
    "start_time": "2022-11-06T22:52:05.270Z"
   },
   {
    "duration": 10,
    "start_time": "2022-11-06T22:52:26.809Z"
   },
   {
    "duration": 9,
    "start_time": "2022-11-06T22:52:55.677Z"
   },
   {
    "duration": 414,
    "start_time": "2022-11-06T23:03:12.954Z"
   },
   {
    "duration": 21,
    "start_time": "2022-11-06T23:03:13.370Z"
   },
   {
    "duration": 14,
    "start_time": "2022-11-06T23:03:13.393Z"
   },
   {
    "duration": 18,
    "start_time": "2022-11-06T23:03:13.410Z"
   },
   {
    "duration": 27,
    "start_time": "2022-11-06T23:03:13.429Z"
   },
   {
    "duration": 3,
    "start_time": "2022-11-06T23:03:13.457Z"
   },
   {
    "duration": 11,
    "start_time": "2022-11-06T23:03:13.461Z"
   },
   {
    "duration": 5,
    "start_time": "2022-11-06T23:03:13.473Z"
   },
   {
    "duration": 7,
    "start_time": "2022-11-06T23:03:13.479Z"
   },
   {
    "duration": 3,
    "start_time": "2022-11-06T23:03:13.490Z"
   },
   {
    "duration": 29,
    "start_time": "2022-11-06T23:03:13.521Z"
   },
   {
    "duration": 8,
    "start_time": "2022-11-06T23:03:13.552Z"
   },
   {
    "duration": 3,
    "start_time": "2022-11-06T23:03:13.562Z"
   },
   {
    "duration": 11,
    "start_time": "2022-11-06T23:03:13.566Z"
   },
   {
    "duration": 18,
    "start_time": "2022-11-06T23:03:13.579Z"
   },
   {
    "duration": 36,
    "start_time": "2022-11-06T23:03:13.598Z"
   },
   {
    "duration": 3,
    "start_time": "2022-11-06T23:03:13.636Z"
   },
   {
    "duration": 13,
    "start_time": "2022-11-06T23:03:13.640Z"
   },
   {
    "duration": 11,
    "start_time": "2022-11-06T23:03:13.655Z"
   },
   {
    "duration": 4,
    "start_time": "2022-11-06T23:03:13.668Z"
   },
   {
    "duration": 14,
    "start_time": "2022-11-06T23:03:13.673Z"
   },
   {
    "duration": 5,
    "start_time": "2022-11-06T23:03:13.689Z"
   },
   {
    "duration": 15,
    "start_time": "2022-11-06T23:03:13.695Z"
   },
   {
    "duration": 253,
    "start_time": "2022-11-06T23:03:13.711Z"
   },
   {
    "duration": 8,
    "start_time": "2022-11-06T23:03:13.966Z"
   },
   {
    "duration": 607,
    "start_time": "2022-11-06T23:03:13.976Z"
   },
   {
    "duration": 3,
    "start_time": "2022-11-06T23:03:14.584Z"
   },
   {
    "duration": 27,
    "start_time": "2022-11-06T23:03:14.590Z"
   },
   {
    "duration": 34,
    "start_time": "2022-11-06T23:03:14.619Z"
   },
   {
    "duration": 23,
    "start_time": "2022-11-06T23:03:14.655Z"
   },
   {
    "duration": 121,
    "start_time": "2022-11-06T23:03:14.680Z"
   },
   {
    "duration": 11,
    "start_time": "2022-11-06T23:03:14.803Z"
   },
   {
    "duration": 25,
    "start_time": "2022-11-06T23:03:14.815Z"
   },
   {
    "duration": 14,
    "start_time": "2022-11-06T23:03:14.842Z"
   },
   {
    "duration": 127,
    "start_time": "2022-11-06T23:03:14.858Z"
   },
   {
    "duration": 10,
    "start_time": "2022-11-06T23:03:14.987Z"
   },
   {
    "duration": 127,
    "start_time": "2022-11-06T23:03:14.998Z"
   },
   {
    "duration": 2,
    "start_time": "2022-11-06T23:03:15.126Z"
   },
   {
    "duration": 448,
    "start_time": "2022-11-06T23:03:58.312Z"
   },
   {
    "duration": 19,
    "start_time": "2022-11-06T23:03:58.762Z"
   },
   {
    "duration": 13,
    "start_time": "2022-11-06T23:03:58.782Z"
   },
   {
    "duration": 8,
    "start_time": "2022-11-06T23:03:58.796Z"
   },
   {
    "duration": 39,
    "start_time": "2022-11-06T23:03:58.805Z"
   },
   {
    "duration": 3,
    "start_time": "2022-11-06T23:03:58.845Z"
   },
   {
    "duration": 10,
    "start_time": "2022-11-06T23:03:58.849Z"
   },
   {
    "duration": 4,
    "start_time": "2022-11-06T23:03:58.860Z"
   },
   {
    "duration": 7,
    "start_time": "2022-11-06T23:03:58.866Z"
   },
   {
    "duration": 4,
    "start_time": "2022-11-06T23:03:58.875Z"
   },
   {
    "duration": 50,
    "start_time": "2022-11-06T23:03:58.880Z"
   },
   {
    "duration": 7,
    "start_time": "2022-11-06T23:03:58.931Z"
   },
   {
    "duration": 4,
    "start_time": "2022-11-06T23:03:58.940Z"
   },
   {
    "duration": 11,
    "start_time": "2022-11-06T23:03:58.946Z"
   },
   {
    "duration": 18,
    "start_time": "2022-11-06T23:03:58.958Z"
   },
   {
    "duration": 15,
    "start_time": "2022-11-06T23:03:58.977Z"
   },
   {
    "duration": 3,
    "start_time": "2022-11-06T23:03:58.993Z"
   },
   {
    "duration": 8,
    "start_time": "2022-11-06T23:03:59.021Z"
   },
   {
    "duration": 9,
    "start_time": "2022-11-06T23:03:59.030Z"
   },
   {
    "duration": 3,
    "start_time": "2022-11-06T23:03:59.040Z"
   },
   {
    "duration": 9,
    "start_time": "2022-11-06T23:03:59.045Z"
   },
   {
    "duration": 5,
    "start_time": "2022-11-06T23:03:59.055Z"
   },
   {
    "duration": 13,
    "start_time": "2022-11-06T23:03:59.061Z"
   },
   {
    "duration": 264,
    "start_time": "2022-11-06T23:03:59.075Z"
   },
   {
    "duration": 8,
    "start_time": "2022-11-06T23:03:59.341Z"
   },
   {
    "duration": 553,
    "start_time": "2022-11-06T23:03:59.351Z"
   },
   {
    "duration": 2,
    "start_time": "2022-11-06T23:03:59.906Z"
   },
   {
    "duration": 20,
    "start_time": "2022-11-06T23:03:59.911Z"
   },
   {
    "duration": 17,
    "start_time": "2022-11-06T23:03:59.933Z"
   },
   {
    "duration": 8,
    "start_time": "2022-11-06T23:03:59.951Z"
   },
   {
    "duration": 128,
    "start_time": "2022-11-06T23:03:59.961Z"
   },
   {
    "duration": 11,
    "start_time": "2022-11-06T23:04:00.090Z"
   },
   {
    "duration": 25,
    "start_time": "2022-11-06T23:04:00.103Z"
   },
   {
    "duration": 14,
    "start_time": "2022-11-06T23:04:00.129Z"
   },
   {
    "duration": 116,
    "start_time": "2022-11-06T23:04:00.144Z"
   },
   {
    "duration": 10,
    "start_time": "2022-11-06T23:04:00.261Z"
   },
   {
    "duration": 3,
    "start_time": "2022-11-06T23:04:00.272Z"
   },
   {
    "duration": 12,
    "start_time": "2022-11-06T23:22:21.680Z"
   },
   {
    "duration": 17,
    "start_time": "2022-11-06T23:27:54.030Z"
   },
   {
    "duration": 12,
    "start_time": "2022-11-06T23:28:29.943Z"
   },
   {
    "duration": 479,
    "start_time": "2022-11-06T23:28:40.713Z"
   },
   {
    "duration": 22,
    "start_time": "2022-11-06T23:28:59.115Z"
   },
   {
    "duration": 17,
    "start_time": "2022-11-06T23:29:42.485Z"
   },
   {
    "duration": 11,
    "start_time": "2022-11-07T08:51:10.714Z"
   },
   {
    "duration": 113,
    "start_time": "2022-11-07T08:52:27.031Z"
   },
   {
    "duration": 11,
    "start_time": "2022-11-07T10:42:17.925Z"
   },
   {
    "duration": 4,
    "start_time": "2022-11-07T10:43:12.442Z"
   },
   {
    "duration": 1148,
    "start_time": "2022-11-07T10:46:58.133Z"
   },
   {
    "duration": 1186,
    "start_time": "2022-11-07T10:47:23.562Z"
   },
   {
    "duration": 1330,
    "start_time": "2022-11-07T11:04:08.225Z"
   },
   {
    "duration": 0,
    "start_time": "2022-11-07T11:07:59.185Z"
   },
   {
    "duration": 463,
    "start_time": "2022-11-07T11:07:59.313Z"
   },
   {
    "duration": 19,
    "start_time": "2022-11-07T11:07:59.778Z"
   },
   {
    "duration": 14,
    "start_time": "2022-11-07T11:07:59.799Z"
   },
   {
    "duration": 11,
    "start_time": "2022-11-07T11:07:59.815Z"
   },
   {
    "duration": 30,
    "start_time": "2022-11-07T11:07:59.827Z"
   },
   {
    "duration": 3,
    "start_time": "2022-11-07T11:07:59.859Z"
   },
   {
    "duration": 22,
    "start_time": "2022-11-07T11:07:59.863Z"
   },
   {
    "duration": 6,
    "start_time": "2022-11-07T11:07:59.886Z"
   },
   {
    "duration": 21,
    "start_time": "2022-11-07T11:07:59.893Z"
   },
   {
    "duration": 4,
    "start_time": "2022-11-07T11:07:59.917Z"
   },
   {
    "duration": 32,
    "start_time": "2022-11-07T11:07:59.923Z"
   },
   {
    "duration": 8,
    "start_time": "2022-11-07T11:07:59.957Z"
   },
   {
    "duration": 11,
    "start_time": "2022-11-07T11:07:59.966Z"
   },
   {
    "duration": 13,
    "start_time": "2022-11-07T11:07:59.978Z"
   },
   {
    "duration": 45,
    "start_time": "2022-11-07T11:07:59.993Z"
   },
   {
    "duration": 15,
    "start_time": "2022-11-07T11:08:00.040Z"
   },
   {
    "duration": 10,
    "start_time": "2022-11-07T11:08:00.056Z"
   },
   {
    "duration": 33,
    "start_time": "2022-11-07T11:08:00.067Z"
   },
   {
    "duration": 281,
    "start_time": "2022-11-07T11:08:00.213Z"
   },
   {
    "duration": 8,
    "start_time": "2022-11-07T11:08:00.496Z"
   },
   {
    "duration": 639,
    "start_time": "2022-11-07T11:08:00.506Z"
   },
   {
    "duration": 2,
    "start_time": "2022-11-07T11:08:01.147Z"
   },
   {
    "duration": 31,
    "start_time": "2022-11-07T11:08:01.151Z"
   },
   {
    "duration": 33,
    "start_time": "2022-11-07T11:08:01.184Z"
   },
   {
    "duration": 11,
    "start_time": "2022-11-07T11:08:01.219Z"
   },
   {
    "duration": 126,
    "start_time": "2022-11-07T11:08:01.231Z"
   },
   {
    "duration": 11,
    "start_time": "2022-11-07T11:08:01.359Z"
   },
   {
    "duration": 20,
    "start_time": "2022-11-07T11:08:01.372Z"
   },
   {
    "duration": 17,
    "start_time": "2022-11-07T11:08:01.393Z"
   },
   {
    "duration": 114,
    "start_time": "2022-11-07T11:08:01.412Z"
   },
   {
    "duration": 13,
    "start_time": "2022-11-07T11:08:01.527Z"
   },
   {
    "duration": 32,
    "start_time": "2022-11-07T11:08:01.541Z"
   },
   {
    "duration": 43,
    "start_time": "2022-11-07T11:08:01.575Z"
   },
   {
    "duration": 12,
    "start_time": "2022-11-07T11:08:01.619Z"
   },
   {
    "duration": 131,
    "start_time": "2022-11-07T11:08:01.632Z"
   },
   {
    "duration": 10,
    "start_time": "2022-11-07T11:08:48.989Z"
   },
   {
    "duration": 10,
    "start_time": "2022-11-07T11:08:57.767Z"
   },
   {
    "duration": 10,
    "start_time": "2022-11-07T11:09:09.923Z"
   },
   {
    "duration": 9,
    "start_time": "2022-11-07T11:09:15.256Z"
   },
   {
    "duration": 10,
    "start_time": "2022-11-07T11:09:27.382Z"
   },
   {
    "duration": 59,
    "start_time": "2022-11-07T11:10:01.545Z"
   },
   {
    "duration": 128,
    "start_time": "2022-11-07T11:10:12.188Z"
   },
   {
    "duration": 9,
    "start_time": "2022-11-07T11:10:39.818Z"
   },
   {
    "duration": 12,
    "start_time": "2022-11-07T11:11:18.231Z"
   },
   {
    "duration": 677,
    "start_time": "2022-11-08T12:34:39.642Z"
   },
   {
    "duration": 22,
    "start_time": "2022-11-08T12:34:40.321Z"
   },
   {
    "duration": 15,
    "start_time": "2022-11-08T12:34:40.345Z"
   },
   {
    "duration": 17,
    "start_time": "2022-11-08T12:34:40.361Z"
   },
   {
    "duration": 48,
    "start_time": "2022-11-08T12:34:40.379Z"
   },
   {
    "duration": 3,
    "start_time": "2022-11-08T12:34:40.429Z"
   },
   {
    "duration": 23,
    "start_time": "2022-11-08T12:34:40.434Z"
   },
   {
    "duration": 8,
    "start_time": "2022-11-08T12:34:40.459Z"
   },
   {
    "duration": 13,
    "start_time": "2022-11-08T12:34:40.468Z"
   },
   {
    "duration": 13,
    "start_time": "2022-11-08T12:34:40.484Z"
   },
   {
    "duration": 41,
    "start_time": "2022-11-08T12:34:40.498Z"
   },
   {
    "duration": 9,
    "start_time": "2022-11-08T12:34:40.541Z"
   },
   {
    "duration": 6,
    "start_time": "2022-11-08T12:34:40.552Z"
   },
   {
    "duration": 20,
    "start_time": "2022-11-08T12:34:40.559Z"
   },
   {
    "duration": 28,
    "start_time": "2022-11-08T12:34:40.581Z"
   },
   {
    "duration": 17,
    "start_time": "2022-11-08T12:34:40.611Z"
   },
   {
    "duration": 10,
    "start_time": "2022-11-08T12:34:40.630Z"
   },
   {
    "duration": 24,
    "start_time": "2022-11-08T12:34:40.641Z"
   },
   {
    "duration": 23,
    "start_time": "2022-11-08T12:34:40.667Z"
   },
   {
    "duration": 19,
    "start_time": "2022-11-08T12:34:40.691Z"
   },
   {
    "duration": 27,
    "start_time": "2022-11-08T12:34:40.712Z"
   },
   {
    "duration": 21,
    "start_time": "2022-11-08T12:34:40.741Z"
   },
   {
    "duration": 40,
    "start_time": "2022-11-08T12:34:40.764Z"
   },
   {
    "duration": 463,
    "start_time": "2022-11-08T12:34:40.806Z"
   },
   {
    "duration": 12,
    "start_time": "2022-11-08T12:34:41.271Z"
   },
   {
    "duration": 621,
    "start_time": "2022-11-08T12:34:41.284Z"
   },
   {
    "duration": 3,
    "start_time": "2022-11-08T12:34:41.907Z"
   },
   {
    "duration": 26,
    "start_time": "2022-11-08T12:34:41.913Z"
   },
   {
    "duration": 32,
    "start_time": "2022-11-08T12:34:41.941Z"
   },
   {
    "duration": 18,
    "start_time": "2022-11-08T12:34:41.975Z"
   },
   {
    "duration": 154,
    "start_time": "2022-11-08T12:34:41.995Z"
   },
   {
    "duration": 13,
    "start_time": "2022-11-08T12:34:42.151Z"
   },
   {
    "duration": 35,
    "start_time": "2022-11-08T12:34:42.166Z"
   },
   {
    "duration": 10,
    "start_time": "2022-11-08T12:34:42.203Z"
   },
   {
    "duration": 145,
    "start_time": "2022-11-08T12:34:42.214Z"
   },
   {
    "duration": 24,
    "start_time": "2022-11-08T12:34:42.361Z"
   },
   {
    "duration": 45,
    "start_time": "2022-11-08T12:34:42.388Z"
   },
   {
    "duration": 13,
    "start_time": "2022-11-08T12:34:42.434Z"
   },
   {
    "duration": 28,
    "start_time": "2022-11-08T12:34:42.449Z"
   },
   {
    "duration": 166,
    "start_time": "2022-11-08T12:34:42.478Z"
   },
   {
    "duration": 16,
    "start_time": "2022-11-08T12:36:37.269Z"
   },
   {
    "duration": 18,
    "start_time": "2022-11-08T12:37:25.140Z"
   },
   {
    "duration": 101,
    "start_time": "2022-11-08T12:53:21.552Z"
   },
   {
    "duration": 8,
    "start_time": "2022-11-08T12:53:38.065Z"
   },
   {
    "duration": 11,
    "start_time": "2022-11-08T12:53:59.887Z"
   },
   {
    "duration": 56,
    "start_time": "2022-11-08T12:54:33.519Z"
   },
   {
    "duration": 12,
    "start_time": "2022-11-08T12:55:04.977Z"
   },
   {
    "duration": 16,
    "start_time": "2022-11-08T12:55:18.648Z"
   },
   {
    "duration": 15,
    "start_time": "2022-11-08T12:56:09.859Z"
   },
   {
    "duration": 13,
    "start_time": "2022-11-08T12:56:42.379Z"
   },
   {
    "duration": 12,
    "start_time": "2022-11-08T12:57:11.032Z"
   },
   {
    "duration": 11,
    "start_time": "2022-11-08T12:57:30.713Z"
   },
   {
    "duration": 12,
    "start_time": "2022-11-08T12:57:43.502Z"
   },
   {
    "duration": 9,
    "start_time": "2022-11-08T13:10:56.536Z"
   },
   {
    "duration": 13,
    "start_time": "2022-11-08T13:12:11.835Z"
   },
   {
    "duration": 129,
    "start_time": "2022-11-08T13:12:23.271Z"
   },
   {
    "duration": 123,
    "start_time": "2022-11-08T13:13:33.422Z"
   },
   {
    "duration": 21,
    "start_time": "2022-11-08T13:55:38.114Z"
   },
   {
    "duration": 19,
    "start_time": "2022-11-08T13:56:28.833Z"
   },
   {
    "duration": 18,
    "start_time": "2022-11-08T13:56:42.285Z"
   },
   {
    "duration": 23,
    "start_time": "2022-11-08T13:59:02.522Z"
   },
   {
    "duration": 12,
    "start_time": "2022-11-08T13:59:17.402Z"
   },
   {
    "duration": 393,
    "start_time": "2022-11-08T14:01:06.917Z"
   },
   {
    "duration": 135,
    "start_time": "2022-11-08T14:02:32.687Z"
   },
   {
    "duration": 123,
    "start_time": "2022-11-08T14:12:10.220Z"
   },
   {
    "duration": 134,
    "start_time": "2022-11-08T14:12:51.031Z"
   },
   {
    "duration": 132,
    "start_time": "2022-11-08T14:40:30.677Z"
   },
   {
    "duration": 19,
    "start_time": "2022-11-08T14:55:20.530Z"
   },
   {
    "duration": 18,
    "start_time": "2022-11-08T14:56:39.291Z"
   },
   {
    "duration": 133,
    "start_time": "2022-11-08T14:57:04.724Z"
   },
   {
    "duration": 198,
    "start_time": "2022-11-08T14:57:37.089Z"
   },
   {
    "duration": 200,
    "start_time": "2022-11-08T14:58:15.435Z"
   },
   {
    "duration": 487,
    "start_time": "2022-11-08T14:58:24.173Z"
   },
   {
    "duration": 30,
    "start_time": "2022-11-08T14:58:24.662Z"
   },
   {
    "duration": 16,
    "start_time": "2022-11-08T14:58:24.694Z"
   },
   {
    "duration": 13,
    "start_time": "2022-11-08T14:58:24.712Z"
   },
   {
    "duration": 54,
    "start_time": "2022-11-08T14:58:24.727Z"
   },
   {
    "duration": 10,
    "start_time": "2022-11-08T14:58:24.783Z"
   },
   {
    "duration": 26,
    "start_time": "2022-11-08T14:58:24.795Z"
   },
   {
    "duration": 9,
    "start_time": "2022-11-08T14:58:24.823Z"
   },
   {
    "duration": 20,
    "start_time": "2022-11-08T14:58:24.834Z"
   },
   {
    "duration": 10,
    "start_time": "2022-11-08T14:58:24.856Z"
   },
   {
    "duration": 43,
    "start_time": "2022-11-08T14:58:24.869Z"
   },
   {
    "duration": 11,
    "start_time": "2022-11-08T14:58:24.914Z"
   },
   {
    "duration": 8,
    "start_time": "2022-11-08T14:58:24.927Z"
   },
   {
    "duration": 30,
    "start_time": "2022-11-08T14:58:24.937Z"
   },
   {
    "duration": 37,
    "start_time": "2022-11-08T14:58:24.969Z"
   },
   {
    "duration": 19,
    "start_time": "2022-11-08T14:58:25.008Z"
   },
   {
    "duration": 4,
    "start_time": "2022-11-08T14:58:25.029Z"
   },
   {
    "duration": 17,
    "start_time": "2022-11-08T14:58:25.035Z"
   },
   {
    "duration": 9,
    "start_time": "2022-11-08T14:58:25.053Z"
   },
   {
    "duration": 15,
    "start_time": "2022-11-08T14:58:25.064Z"
   },
   {
    "duration": 9,
    "start_time": "2022-11-08T14:58:25.081Z"
   },
   {
    "duration": 11,
    "start_time": "2022-11-08T14:58:25.092Z"
   },
   {
    "duration": 18,
    "start_time": "2022-11-08T14:58:25.105Z"
   },
   {
    "duration": 28,
    "start_time": "2022-11-08T14:58:25.125Z"
   },
   {
    "duration": 9,
    "start_time": "2022-11-08T14:58:25.155Z"
   },
   {
    "duration": 18,
    "start_time": "2022-11-08T14:58:25.180Z"
   },
   {
    "duration": 854,
    "start_time": "2022-11-08T14:58:25.200Z"
   },
   {
    "duration": 13,
    "start_time": "2022-11-08T14:58:26.059Z"
   },
   {
    "duration": 25,
    "start_time": "2022-11-08T14:58:26.080Z"
   },
   {
    "duration": 13,
    "start_time": "2022-11-08T14:58:26.106Z"
   },
   {
    "duration": 147,
    "start_time": "2022-11-08T14:58:26.121Z"
   },
   {
    "duration": 20,
    "start_time": "2022-11-08T14:58:26.270Z"
   },
   {
    "duration": 24,
    "start_time": "2022-11-08T14:58:26.291Z"
   },
   {
    "duration": 17,
    "start_time": "2022-11-08T14:58:26.317Z"
   },
   {
    "duration": 131,
    "start_time": "2022-11-08T14:58:26.336Z"
   },
   {
    "duration": 21,
    "start_time": "2022-11-08T14:58:26.469Z"
   },
   {
    "duration": 66,
    "start_time": "2022-11-08T14:58:26.492Z"
   },
   {
    "duration": 11,
    "start_time": "2022-11-08T14:58:26.560Z"
   },
   {
    "duration": 27,
    "start_time": "2022-11-08T14:58:26.579Z"
   },
   {
    "duration": 142,
    "start_time": "2022-11-08T14:58:26.608Z"
   },
   {
    "duration": 19,
    "start_time": "2022-11-08T14:59:20.844Z"
   },
   {
    "duration": 129,
    "start_time": "2022-11-08T14:59:49.686Z"
   },
   {
    "duration": 386,
    "start_time": "2022-11-08T14:59:59.040Z"
   },
   {
    "duration": 19,
    "start_time": "2022-11-08T15:00:34.952Z"
   },
   {
    "duration": 8,
    "start_time": "2022-11-08T15:00:38.190Z"
   },
   {
    "duration": 11,
    "start_time": "2022-11-08T15:00:43.695Z"
   },
   {
    "duration": 13,
    "start_time": "2022-11-08T15:01:56.166Z"
   },
   {
    "duration": 147,
    "start_time": "2022-11-08T15:03:21.351Z"
   },
   {
    "duration": 134,
    "start_time": "2022-11-08T15:03:33.071Z"
   },
   {
    "duration": 147,
    "start_time": "2022-11-08T15:03:45.117Z"
   },
   {
    "duration": 200,
    "start_time": "2022-11-08T16:12:47.702Z"
   },
   {
    "duration": 20,
    "start_time": "2022-11-08T16:12:58.476Z"
   },
   {
    "duration": 11,
    "start_time": "2022-11-08T16:13:02.078Z"
   },
   {
    "duration": 200,
    "start_time": "2022-11-08T16:14:40.110Z"
   },
   {
    "duration": 481,
    "start_time": "2022-11-08T16:47:57.810Z"
   },
   {
    "duration": 23,
    "start_time": "2022-11-08T16:47:58.293Z"
   },
   {
    "duration": 15,
    "start_time": "2022-11-08T16:47:58.318Z"
   },
   {
    "duration": 9,
    "start_time": "2022-11-08T16:47:58.335Z"
   },
   {
    "duration": 61,
    "start_time": "2022-11-08T16:47:58.346Z"
   },
   {
    "duration": 4,
    "start_time": "2022-11-08T16:47:58.409Z"
   },
   {
    "duration": 20,
    "start_time": "2022-11-08T16:47:58.415Z"
   },
   {
    "duration": 20,
    "start_time": "2022-11-08T16:47:58.436Z"
   },
   {
    "duration": 9,
    "start_time": "2022-11-08T16:47:58.458Z"
   },
   {
    "duration": 7,
    "start_time": "2022-11-08T16:47:58.470Z"
   },
   {
    "duration": 53,
    "start_time": "2022-11-08T16:47:58.479Z"
   },
   {
    "duration": 9,
    "start_time": "2022-11-08T16:47:58.533Z"
   },
   {
    "duration": 15,
    "start_time": "2022-11-08T16:47:58.544Z"
   },
   {
    "duration": 12,
    "start_time": "2022-11-08T16:47:58.561Z"
   },
   {
    "duration": 29,
    "start_time": "2022-11-08T16:47:58.575Z"
   },
   {
    "duration": 19,
    "start_time": "2022-11-08T16:47:58.605Z"
   },
   {
    "duration": 4,
    "start_time": "2022-11-08T16:47:58.626Z"
   },
   {
    "duration": 28,
    "start_time": "2022-11-08T16:47:58.632Z"
   },
   {
    "duration": 14,
    "start_time": "2022-11-08T16:47:58.661Z"
   },
   {
    "duration": 5,
    "start_time": "2022-11-08T16:47:58.677Z"
   },
   {
    "duration": 11,
    "start_time": "2022-11-08T16:47:58.684Z"
   },
   {
    "duration": 17,
    "start_time": "2022-11-08T16:47:58.697Z"
   },
   {
    "duration": 23,
    "start_time": "2022-11-08T16:47:58.715Z"
   },
   {
    "duration": 31,
    "start_time": "2022-11-08T16:47:58.739Z"
   },
   {
    "duration": 7,
    "start_time": "2022-11-08T16:47:58.772Z"
   },
   {
    "duration": 19,
    "start_time": "2022-11-08T16:47:58.780Z"
   },
   {
    "duration": 840,
    "start_time": "2022-11-08T16:47:58.800Z"
   },
   {
    "duration": 12,
    "start_time": "2022-11-08T16:47:59.643Z"
   },
   {
    "duration": 36,
    "start_time": "2022-11-08T16:47:59.657Z"
   },
   {
    "duration": 29,
    "start_time": "2022-11-08T16:47:59.695Z"
   },
   {
    "duration": 147,
    "start_time": "2022-11-08T16:47:59.726Z"
   },
   {
    "duration": 12,
    "start_time": "2022-11-08T16:47:59.880Z"
   },
   {
    "duration": 34,
    "start_time": "2022-11-08T16:47:59.893Z"
   },
   {
    "duration": 32,
    "start_time": "2022-11-08T16:47:59.930Z"
   },
   {
    "duration": 192,
    "start_time": "2022-11-08T16:47:59.964Z"
   },
   {
    "duration": 14,
    "start_time": "2022-11-08T16:48:00.158Z"
   },
   {
    "duration": 75,
    "start_time": "2022-11-08T16:48:00.181Z"
   },
   {
    "duration": 21,
    "start_time": "2022-11-08T16:48:00.258Z"
   },
   {
    "duration": 199,
    "start_time": "2022-11-08T16:48:00.280Z"
   },
   {
    "duration": 419,
    "start_time": "2022-11-08T20:13:48.589Z"
   },
   {
    "duration": 21,
    "start_time": "2022-11-08T20:13:49.010Z"
   },
   {
    "duration": 19,
    "start_time": "2022-11-08T20:13:49.032Z"
   },
   {
    "duration": 9,
    "start_time": "2022-11-08T20:13:49.052Z"
   },
   {
    "duration": 31,
    "start_time": "2022-11-08T20:13:49.062Z"
   },
   {
    "duration": 3,
    "start_time": "2022-11-08T20:13:49.094Z"
   },
   {
    "duration": 13,
    "start_time": "2022-11-08T20:13:49.098Z"
   },
   {
    "duration": 4,
    "start_time": "2022-11-08T20:13:49.112Z"
   },
   {
    "duration": 10,
    "start_time": "2022-11-08T20:13:49.117Z"
   },
   {
    "duration": 20,
    "start_time": "2022-11-08T20:13:49.129Z"
   },
   {
    "duration": 33,
    "start_time": "2022-11-08T20:13:49.150Z"
   },
   {
    "duration": 10,
    "start_time": "2022-11-08T20:13:49.184Z"
   },
   {
    "duration": 4,
    "start_time": "2022-11-08T20:13:49.196Z"
   },
   {
    "duration": 13,
    "start_time": "2022-11-08T20:13:49.201Z"
   },
   {
    "duration": 46,
    "start_time": "2022-11-08T20:13:49.215Z"
   },
   {
    "duration": 17,
    "start_time": "2022-11-08T20:13:49.262Z"
   },
   {
    "duration": 3,
    "start_time": "2022-11-08T20:13:49.281Z"
   },
   {
    "duration": 22,
    "start_time": "2022-11-08T20:13:49.286Z"
   },
   {
    "duration": 10,
    "start_time": "2022-11-08T20:13:49.310Z"
   },
   {
    "duration": 6,
    "start_time": "2022-11-08T20:13:49.321Z"
   },
   {
    "duration": 28,
    "start_time": "2022-11-08T20:13:49.328Z"
   },
   {
    "duration": 7,
    "start_time": "2022-11-08T20:13:49.358Z"
   },
   {
    "duration": 19,
    "start_time": "2022-11-08T20:13:49.366Z"
   },
   {
    "duration": 19,
    "start_time": "2022-11-08T20:13:49.386Z"
   },
   {
    "duration": 9,
    "start_time": "2022-11-08T20:13:49.406Z"
   },
   {
    "duration": 14,
    "start_time": "2022-11-08T20:13:49.417Z"
   },
   {
    "duration": 818,
    "start_time": "2022-11-08T20:13:49.432Z"
   },
   {
    "duration": 13,
    "start_time": "2022-11-08T20:13:50.253Z"
   },
   {
    "duration": 39,
    "start_time": "2022-11-08T20:13:50.267Z"
   },
   {
    "duration": 10,
    "start_time": "2022-11-08T20:13:50.307Z"
   },
   {
    "duration": 130,
    "start_time": "2022-11-08T20:13:50.318Z"
   },
   {
    "duration": 12,
    "start_time": "2022-11-08T20:13:50.449Z"
   },
   {
    "duration": 22,
    "start_time": "2022-11-08T20:13:50.463Z"
   },
   {
    "duration": 14,
    "start_time": "2022-11-08T20:13:50.487Z"
   },
   {
    "duration": 126,
    "start_time": "2022-11-08T20:13:50.503Z"
   },
   {
    "duration": 23,
    "start_time": "2022-11-08T20:13:50.630Z"
   },
   {
    "duration": 23,
    "start_time": "2022-11-08T20:13:50.655Z"
   },
   {
    "duration": 10,
    "start_time": "2022-11-08T20:13:50.681Z"
   },
   {
    "duration": 134,
    "start_time": "2022-11-08T20:13:50.693Z"
   },
   {
    "duration": 66,
    "start_time": "2022-11-08T21:06:44.637Z"
   },
   {
    "duration": 41,
    "start_time": "2022-11-08T21:17:25.981Z"
   },
   {
    "duration": 686,
    "start_time": "2022-11-08T21:17:39.143Z"
   },
   {
    "duration": 23,
    "start_time": "2022-11-08T21:17:39.831Z"
   },
   {
    "duration": 47,
    "start_time": "2022-11-08T21:17:39.856Z"
   },
   {
    "duration": 32,
    "start_time": "2022-11-08T21:17:39.905Z"
   },
   {
    "duration": 88,
    "start_time": "2022-11-08T21:17:39.939Z"
   },
   {
    "duration": 0,
    "start_time": "2022-11-08T21:17:40.030Z"
   },
   {
    "duration": 0,
    "start_time": "2022-11-08T21:17:40.031Z"
   },
   {
    "duration": 0,
    "start_time": "2022-11-08T21:17:40.032Z"
   },
   {
    "duration": 0,
    "start_time": "2022-11-08T21:17:40.033Z"
   },
   {
    "duration": 0,
    "start_time": "2022-11-08T21:17:40.034Z"
   },
   {
    "duration": 0,
    "start_time": "2022-11-08T21:17:40.035Z"
   },
   {
    "duration": 0,
    "start_time": "2022-11-08T21:17:40.036Z"
   },
   {
    "duration": 0,
    "start_time": "2022-11-08T21:17:40.037Z"
   },
   {
    "duration": 0,
    "start_time": "2022-11-08T21:17:40.039Z"
   },
   {
    "duration": 0,
    "start_time": "2022-11-08T21:17:40.039Z"
   },
   {
    "duration": 0,
    "start_time": "2022-11-08T21:17:40.041Z"
   },
   {
    "duration": 0,
    "start_time": "2022-11-08T21:17:40.042Z"
   },
   {
    "duration": 0,
    "start_time": "2022-11-08T21:17:40.043Z"
   },
   {
    "duration": 0,
    "start_time": "2022-11-08T21:17:40.044Z"
   },
   {
    "duration": 0,
    "start_time": "2022-11-08T21:17:40.045Z"
   },
   {
    "duration": 0,
    "start_time": "2022-11-08T21:17:40.046Z"
   },
   {
    "duration": 0,
    "start_time": "2022-11-08T21:17:40.047Z"
   },
   {
    "duration": 0,
    "start_time": "2022-11-08T21:17:40.048Z"
   },
   {
    "duration": 0,
    "start_time": "2022-11-08T21:17:40.050Z"
   },
   {
    "duration": 0,
    "start_time": "2022-11-08T21:17:40.051Z"
   },
   {
    "duration": 0,
    "start_time": "2022-11-08T21:17:40.052Z"
   },
   {
    "duration": 0,
    "start_time": "2022-11-08T21:17:40.053Z"
   },
   {
    "duration": 0,
    "start_time": "2022-11-08T21:17:40.054Z"
   },
   {
    "duration": 0,
    "start_time": "2022-11-08T21:17:40.054Z"
   },
   {
    "duration": 0,
    "start_time": "2022-11-08T21:17:40.056Z"
   },
   {
    "duration": 0,
    "start_time": "2022-11-08T21:17:40.056Z"
   },
   {
    "duration": 0,
    "start_time": "2022-11-08T21:17:40.058Z"
   },
   {
    "duration": 0,
    "start_time": "2022-11-08T21:17:40.059Z"
   },
   {
    "duration": 0,
    "start_time": "2022-11-08T21:17:40.060Z"
   },
   {
    "duration": 0,
    "start_time": "2022-11-08T21:17:40.061Z"
   },
   {
    "duration": 0,
    "start_time": "2022-11-08T21:17:40.062Z"
   },
   {
    "duration": 0,
    "start_time": "2022-11-08T21:17:40.062Z"
   },
   {
    "duration": 0,
    "start_time": "2022-11-08T21:17:40.063Z"
   },
   {
    "duration": 0,
    "start_time": "2022-11-08T21:17:40.065Z"
   },
   {
    "duration": 0,
    "start_time": "2022-11-08T21:17:40.066Z"
   },
   {
    "duration": 10,
    "start_time": "2022-11-08T21:18:22.421Z"
   },
   {
    "duration": 15,
    "start_time": "2022-11-08T21:18:34.953Z"
   },
   {
    "duration": 11,
    "start_time": "2022-11-08T21:19:06.964Z"
   },
   {
    "duration": 9,
    "start_time": "2022-11-08T21:19:15.599Z"
   },
   {
    "duration": 9,
    "start_time": "2022-11-08T21:19:23.337Z"
   },
   {
    "duration": 21,
    "start_time": "2022-11-08T21:36:08.155Z"
   },
   {
    "duration": 10,
    "start_time": "2022-11-08T21:36:30.159Z"
   },
   {
    "duration": 5,
    "start_time": "2022-11-08T21:39:58.354Z"
   },
   {
    "duration": 20,
    "start_time": "2022-11-08T21:41:31.010Z"
   },
   {
    "duration": 19,
    "start_time": "2022-11-08T21:41:42.460Z"
   },
   {
    "duration": 10,
    "start_time": "2022-11-08T21:47:04.126Z"
   },
   {
    "duration": 8,
    "start_time": "2022-11-08T21:48:28.227Z"
   },
   {
    "duration": 482,
    "start_time": "2022-11-08T22:13:05.550Z"
   },
   {
    "duration": 26,
    "start_time": "2022-11-08T22:13:06.034Z"
   },
   {
    "duration": 20,
    "start_time": "2022-11-08T22:13:06.062Z"
   },
   {
    "duration": 11,
    "start_time": "2022-11-08T22:13:06.084Z"
   },
   {
    "duration": 37,
    "start_time": "2022-11-08T22:13:06.098Z"
   },
   {
    "duration": 42,
    "start_time": "2022-11-08T22:13:06.137Z"
   },
   {
    "duration": 4,
    "start_time": "2022-11-08T22:13:06.181Z"
   },
   {
    "duration": 13,
    "start_time": "2022-11-08T22:13:06.187Z"
   },
   {
    "duration": 32,
    "start_time": "2022-11-08T22:13:06.202Z"
   },
   {
    "duration": 10,
    "start_time": "2022-11-08T22:13:06.236Z"
   },
   {
    "duration": 7,
    "start_time": "2022-11-08T22:13:06.247Z"
   },
   {
    "duration": 42,
    "start_time": "2022-11-08T22:13:06.256Z"
   },
   {
    "duration": 32,
    "start_time": "2022-11-08T22:13:06.300Z"
   },
   {
    "duration": 4,
    "start_time": "2022-11-08T22:13:06.336Z"
   },
   {
    "duration": 24,
    "start_time": "2022-11-08T22:13:06.342Z"
   },
   {
    "duration": 29,
    "start_time": "2022-11-08T22:13:06.368Z"
   },
   {
    "duration": 18,
    "start_time": "2022-11-08T22:13:06.398Z"
   },
   {
    "duration": 12,
    "start_time": "2022-11-08T22:13:06.418Z"
   },
   {
    "duration": 13,
    "start_time": "2022-11-08T22:13:06.432Z"
   },
   {
    "duration": 11,
    "start_time": "2022-11-08T22:13:06.446Z"
   },
   {
    "duration": 3,
    "start_time": "2022-11-08T22:13:06.459Z"
   },
   {
    "duration": 13,
    "start_time": "2022-11-08T22:13:06.464Z"
   },
   {
    "duration": 7,
    "start_time": "2022-11-08T22:13:06.479Z"
   },
   {
    "duration": 20,
    "start_time": "2022-11-08T22:13:06.488Z"
   },
   {
    "duration": 37,
    "start_time": "2022-11-08T22:13:06.510Z"
   },
   {
    "duration": 9,
    "start_time": "2022-11-08T22:13:06.549Z"
   },
   {
    "duration": 15,
    "start_time": "2022-11-08T22:13:06.560Z"
   },
   {
    "duration": 1077,
    "start_time": "2022-11-08T22:13:06.576Z"
   },
   {
    "duration": 12,
    "start_time": "2022-11-08T22:13:07.655Z"
   },
   {
    "duration": 19,
    "start_time": "2022-11-08T22:13:07.669Z"
   },
   {
    "duration": 10,
    "start_time": "2022-11-08T22:13:07.690Z"
   },
   {
    "duration": 149,
    "start_time": "2022-11-08T22:13:07.702Z"
   },
   {
    "duration": 12,
    "start_time": "2022-11-08T22:13:07.852Z"
   },
   {
    "duration": 21,
    "start_time": "2022-11-08T22:13:07.866Z"
   },
   {
    "duration": 9,
    "start_time": "2022-11-08T22:13:07.889Z"
   },
   {
    "duration": 148,
    "start_time": "2022-11-08T22:13:07.900Z"
   },
   {
    "duration": 13,
    "start_time": "2022-11-08T22:13:08.049Z"
   },
   {
    "duration": 29,
    "start_time": "2022-11-08T22:13:08.064Z"
   },
   {
    "duration": 11,
    "start_time": "2022-11-08T22:13:08.098Z"
   },
   {
    "duration": 140,
    "start_time": "2022-11-08T22:13:08.112Z"
   },
   {
    "duration": 9,
    "start_time": "2022-11-08T22:13:25.693Z"
   },
   {
    "duration": 8,
    "start_time": "2022-11-08T22:14:04.763Z"
   },
   {
    "duration": 295,
    "start_time": "2022-11-08T22:14:14.724Z"
   },
   {
    "duration": 17,
    "start_time": "2022-11-08T22:14:27.137Z"
   },
   {
    "duration": 8,
    "start_time": "2022-11-08T22:14:35.312Z"
   },
   {
    "duration": 10,
    "start_time": "2022-11-08T22:14:39.149Z"
   },
   {
    "duration": 117,
    "start_time": "2022-11-08T22:14:51.216Z"
   },
   {
    "duration": 17,
    "start_time": "2022-11-08T22:40:51.372Z"
   },
   {
    "duration": 8,
    "start_time": "2022-11-08T22:40:56.033Z"
   },
   {
    "duration": 10,
    "start_time": "2022-11-08T22:40:58.791Z"
   },
   {
    "duration": 131,
    "start_time": "2022-11-08T22:41:03.354Z"
   },
   {
    "duration": 9,
    "start_time": "2022-11-08T22:41:21.235Z"
   },
   {
    "duration": 18,
    "start_time": "2022-11-08T22:41:26.171Z"
   },
   {
    "duration": 7,
    "start_time": "2022-11-08T22:41:29.133Z"
   },
   {
    "duration": 11,
    "start_time": "2022-11-08T22:41:33.711Z"
   },
   {
    "duration": 9,
    "start_time": "2022-11-08T22:55:37.582Z"
   },
   {
    "duration": 168,
    "start_time": "2022-11-08T22:55:43.022Z"
   },
   {
    "duration": 17,
    "start_time": "2022-11-08T22:55:53.760Z"
   },
   {
    "duration": 8,
    "start_time": "2022-11-08T22:55:58.455Z"
   },
   {
    "duration": 432,
    "start_time": "2022-11-08T22:56:10.450Z"
   },
   {
    "duration": 19,
    "start_time": "2022-11-08T22:56:10.884Z"
   },
   {
    "duration": 14,
    "start_time": "2022-11-08T22:56:10.904Z"
   },
   {
    "duration": 14,
    "start_time": "2022-11-08T22:56:10.919Z"
   },
   {
    "duration": 8,
    "start_time": "2022-11-08T22:56:10.934Z"
   },
   {
    "duration": 33,
    "start_time": "2022-11-08T22:56:10.943Z"
   },
   {
    "duration": 3,
    "start_time": "2022-11-08T22:56:10.977Z"
   },
   {
    "duration": 9,
    "start_time": "2022-11-08T22:56:10.982Z"
   },
   {
    "duration": 4,
    "start_time": "2022-11-08T22:56:10.992Z"
   },
   {
    "duration": 7,
    "start_time": "2022-11-08T22:56:11.029Z"
   },
   {
    "duration": 5,
    "start_time": "2022-11-08T22:56:11.037Z"
   },
   {
    "duration": 31,
    "start_time": "2022-11-08T22:56:11.043Z"
   },
   {
    "duration": 9,
    "start_time": "2022-11-08T22:56:11.075Z"
   },
   {
    "duration": 3,
    "start_time": "2022-11-08T22:56:11.085Z"
   },
   {
    "duration": 11,
    "start_time": "2022-11-08T22:56:11.090Z"
   },
   {
    "duration": 41,
    "start_time": "2022-11-08T22:56:11.102Z"
   },
   {
    "duration": 14,
    "start_time": "2022-11-08T22:56:11.144Z"
   },
   {
    "duration": 3,
    "start_time": "2022-11-08T22:56:11.159Z"
   },
   {
    "duration": 18,
    "start_time": "2022-11-08T22:56:11.164Z"
   },
   {
    "duration": 4,
    "start_time": "2022-11-08T22:56:11.183Z"
   },
   {
    "duration": 3,
    "start_time": "2022-11-08T22:56:11.189Z"
   },
   {
    "duration": 13,
    "start_time": "2022-11-08T22:56:11.193Z"
   },
   {
    "duration": 2,
    "start_time": "2022-11-08T22:56:11.207Z"
   },
   {
    "duration": 25,
    "start_time": "2022-11-08T22:56:11.211Z"
   },
   {
    "duration": 20,
    "start_time": "2022-11-08T22:56:11.237Z"
   },
   {
    "duration": 9,
    "start_time": "2022-11-08T22:56:11.258Z"
   },
   {
    "duration": 13,
    "start_time": "2022-11-08T22:56:11.268Z"
   },
   {
    "duration": 777,
    "start_time": "2022-11-08T22:56:11.283Z"
   },
   {
    "duration": 19,
    "start_time": "2022-11-08T22:56:12.061Z"
   },
   {
    "duration": 23,
    "start_time": "2022-11-08T22:56:12.082Z"
   },
   {
    "duration": 11,
    "start_time": "2022-11-08T22:56:12.106Z"
   },
   {
    "duration": 127,
    "start_time": "2022-11-08T22:56:12.130Z"
   },
   {
    "duration": 10,
    "start_time": "2022-11-08T22:56:12.259Z"
   },
   {
    "duration": 17,
    "start_time": "2022-11-08T22:56:12.271Z"
   },
   {
    "duration": 8,
    "start_time": "2022-11-08T22:56:12.290Z"
   },
   {
    "duration": 120,
    "start_time": "2022-11-08T22:56:12.300Z"
   },
   {
    "duration": 12,
    "start_time": "2022-11-08T22:56:12.429Z"
   },
   {
    "duration": 26,
    "start_time": "2022-11-08T22:56:12.442Z"
   },
   {
    "duration": 11,
    "start_time": "2022-11-08T22:56:12.470Z"
   },
   {
    "duration": 141,
    "start_time": "2022-11-08T22:56:12.483Z"
   },
   {
    "duration": 800,
    "start_time": "2022-11-09T13:11:26.013Z"
   },
   {
    "duration": 109,
    "start_time": "2022-11-09T13:11:47.154Z"
   },
   {
    "duration": 367,
    "start_time": "2022-11-09T13:12:04.654Z"
   },
   {
    "duration": 104,
    "start_time": "2022-11-09T13:13:15.078Z"
   },
   {
    "duration": 110,
    "start_time": "2022-11-09T13:16:40.021Z"
   },
   {
    "duration": 100,
    "start_time": "2022-11-09T13:16:48.321Z"
   },
   {
    "duration": 3,
    "start_time": "2022-11-09T13:16:59.203Z"
   },
   {
    "duration": 2,
    "start_time": "2022-11-09T13:17:23.903Z"
   },
   {
    "duration": 8,
    "start_time": "2022-11-09T13:20:26.171Z"
   },
   {
    "duration": 4,
    "start_time": "2022-11-09T13:21:29.201Z"
   },
   {
    "duration": 8,
    "start_time": "2022-11-09T13:23:59.032Z"
   },
   {
    "duration": 8,
    "start_time": "2022-11-09T13:24:46.399Z"
   },
   {
    "duration": 98,
    "start_time": "2022-11-09T13:25:39.595Z"
   },
   {
    "duration": 104,
    "start_time": "2022-11-09T13:25:51.931Z"
   },
   {
    "duration": 65,
    "start_time": "2022-11-09T13:25:52.935Z"
   },
   {
    "duration": 245,
    "start_time": "2022-11-09T13:26:36.092Z"
   },
   {
    "duration": 92,
    "start_time": "2022-11-09T13:27:40.947Z"
   },
   {
    "duration": 106,
    "start_time": "2022-11-09T13:43:21.227Z"
   },
   {
    "duration": 9,
    "start_time": "2022-11-09T14:24:36.811Z"
   },
   {
    "duration": 75,
    "start_time": "2022-11-09T14:24:55.481Z"
   },
   {
    "duration": 132,
    "start_time": "2022-11-09T14:25:14.980Z"
   },
   {
    "duration": 90,
    "start_time": "2022-11-09T14:25:26.349Z"
   },
   {
    "duration": 8,
    "start_time": "2022-11-09T14:29:05.472Z"
   },
   {
    "duration": 51,
    "start_time": "2022-11-09T14:29:13.867Z"
   },
   {
    "duration": 111,
    "start_time": "2022-11-09T14:29:28.289Z"
   },
   {
    "duration": 128,
    "start_time": "2022-11-09T14:29:35.150Z"
   },
   {
    "duration": 104,
    "start_time": "2022-11-09T14:31:51.863Z"
   },
   {
    "duration": 69,
    "start_time": "2022-11-09T14:31:58.320Z"
   },
   {
    "duration": 68,
    "start_time": "2022-11-09T14:32:25.622Z"
   },
   {
    "duration": 96,
    "start_time": "2022-11-09T15:21:49.623Z"
   },
   {
    "duration": 97,
    "start_time": "2022-11-09T15:22:28.946Z"
   },
   {
    "duration": 497,
    "start_time": "2022-11-09T16:35:59.828Z"
   },
   {
    "duration": 21,
    "start_time": "2022-11-09T16:36:00.327Z"
   },
   {
    "duration": 50,
    "start_time": "2022-11-09T16:36:00.350Z"
   },
   {
    "duration": 17,
    "start_time": "2022-11-09T16:36:00.401Z"
   },
   {
    "duration": 43,
    "start_time": "2022-11-09T16:36:00.420Z"
   },
   {
    "duration": 66,
    "start_time": "2022-11-09T16:36:00.464Z"
   },
   {
    "duration": 3,
    "start_time": "2022-11-09T16:36:00.532Z"
   },
   {
    "duration": 29,
    "start_time": "2022-11-09T16:36:00.537Z"
   },
   {
    "duration": 25,
    "start_time": "2022-11-09T16:36:00.567Z"
   },
   {
    "duration": 26,
    "start_time": "2022-11-09T16:36:00.593Z"
   },
   {
    "duration": 18,
    "start_time": "2022-11-09T16:36:00.620Z"
   },
   {
    "duration": 47,
    "start_time": "2022-11-09T16:36:00.640Z"
   },
   {
    "duration": 14,
    "start_time": "2022-11-09T16:36:00.688Z"
   },
   {
    "duration": 13,
    "start_time": "2022-11-09T16:36:00.705Z"
   },
   {
    "duration": 41,
    "start_time": "2022-11-09T16:36:00.719Z"
   },
   {
    "duration": 48,
    "start_time": "2022-11-09T16:36:00.762Z"
   },
   {
    "duration": 32,
    "start_time": "2022-11-09T16:36:00.811Z"
   },
   {
    "duration": 3,
    "start_time": "2022-11-09T16:36:00.845Z"
   },
   {
    "duration": 38,
    "start_time": "2022-11-09T16:36:00.849Z"
   },
   {
    "duration": 34,
    "start_time": "2022-11-09T16:36:00.889Z"
   },
   {
    "duration": 18,
    "start_time": "2022-11-09T16:36:00.925Z"
   },
   {
    "duration": 14,
    "start_time": "2022-11-09T16:36:00.945Z"
   },
   {
    "duration": 35,
    "start_time": "2022-11-09T16:36:00.961Z"
   },
   {
    "duration": 49,
    "start_time": "2022-11-09T16:36:00.998Z"
   },
   {
    "duration": 37,
    "start_time": "2022-11-09T16:36:01.049Z"
   },
   {
    "duration": 29,
    "start_time": "2022-11-09T16:36:01.087Z"
   },
   {
    "duration": 17,
    "start_time": "2022-11-09T16:36:01.119Z"
   },
   {
    "duration": 956,
    "start_time": "2022-11-09T16:36:01.138Z"
   },
   {
    "duration": 113,
    "start_time": "2022-11-09T16:36:02.095Z"
   },
   {
    "duration": 22,
    "start_time": "2022-11-09T16:36:02.210Z"
   },
   {
    "duration": 32,
    "start_time": "2022-11-09T16:36:02.234Z"
   },
   {
    "duration": 23,
    "start_time": "2022-11-09T16:36:02.268Z"
   },
   {
    "duration": 147,
    "start_time": "2022-11-09T16:36:02.293Z"
   },
   {
    "duration": 12,
    "start_time": "2022-11-09T16:36:02.441Z"
   },
   {
    "duration": 38,
    "start_time": "2022-11-09T16:36:02.454Z"
   },
   {
    "duration": 35,
    "start_time": "2022-11-09T16:36:02.494Z"
   },
   {
    "duration": 139,
    "start_time": "2022-11-09T16:36:02.531Z"
   },
   {
    "duration": 106,
    "start_time": "2022-11-09T16:36:02.672Z"
   },
   {
    "duration": 13,
    "start_time": "2022-11-09T16:36:02.780Z"
   },
   {
    "duration": 58,
    "start_time": "2022-11-09T16:36:02.795Z"
   },
   {
    "duration": 36,
    "start_time": "2022-11-09T16:36:02.857Z"
   },
   {
    "duration": 181,
    "start_time": "2022-11-09T16:36:02.895Z"
   },
   {
    "duration": 109,
    "start_time": "2022-11-09T16:36:03.079Z"
   },
   {
    "duration": 105,
    "start_time": "2022-11-09T16:36:03.190Z"
   },
   {
    "duration": 86,
    "start_time": "2022-11-09T16:36:03.296Z"
   },
   {
    "duration": 81,
    "start_time": "2022-11-09T16:36:03.384Z"
   },
   {
    "duration": 52,
    "start_time": "2022-11-18T20:08:59.830Z"
   },
   {
    "duration": 538,
    "start_time": "2022-11-18T20:09:05.999Z"
   },
   {
    "duration": 24,
    "start_time": "2022-11-18T20:09:06.539Z"
   },
   {
    "duration": 16,
    "start_time": "2022-11-18T20:09:06.564Z"
   },
   {
    "duration": 10,
    "start_time": "2022-11-18T20:09:06.582Z"
   },
   {
    "duration": 10,
    "start_time": "2022-11-18T20:09:06.594Z"
   },
   {
    "duration": 38,
    "start_time": "2022-11-18T20:09:06.605Z"
   },
   {
    "duration": 3,
    "start_time": "2022-11-18T20:09:06.645Z"
   },
   {
    "duration": 33,
    "start_time": "2022-11-18T20:09:06.649Z"
   },
   {
    "duration": 4,
    "start_time": "2022-11-18T20:09:06.684Z"
   },
   {
    "duration": 8,
    "start_time": "2022-11-18T20:09:06.691Z"
   },
   {
    "duration": 4,
    "start_time": "2022-11-18T20:09:06.701Z"
   },
   {
    "duration": 37,
    "start_time": "2022-11-18T20:09:06.707Z"
   },
   {
    "duration": 36,
    "start_time": "2022-11-18T20:09:06.746Z"
   },
   {
    "duration": 14,
    "start_time": "2022-11-18T20:09:06.784Z"
   },
   {
    "duration": 31,
    "start_time": "2022-11-18T20:09:06.799Z"
   },
   {
    "duration": 35,
    "start_time": "2022-11-18T20:09:06.832Z"
   },
   {
    "duration": 19,
    "start_time": "2022-11-18T20:09:06.868Z"
   },
   {
    "duration": 8,
    "start_time": "2022-11-18T20:09:06.889Z"
   },
   {
    "duration": 19,
    "start_time": "2022-11-18T20:09:10.057Z"
   },
   {
    "duration": 11,
    "start_time": "2022-11-18T20:09:17.863Z"
   },
   {
    "duration": 21,
    "start_time": "2022-11-18T20:09:21.135Z"
   }
  ],
  "celltoolbar": "Edit Metadata",
  "colab": {
   "name": "dpp_template_part2.ipynb",
   "provenance": []
  },
  "kernelspec": {
   "display_name": "Python 3 (ipykernel)",
   "language": "python",
   "name": "python3"
  },
  "language_info": {
   "codemirror_mode": {
    "name": "ipython",
    "version": 3
   },
   "file_extension": ".py",
   "mimetype": "text/x-python",
   "name": "python",
   "nbconvert_exporter": "python",
   "pygments_lexer": "ipython3",
   "version": "3.9.13"
  },
  "toc": {
   "base_numbering": 1,
   "nav_menu": {},
   "number_sections": true,
   "sideBar": true,
   "skip_h1_title": true,
   "title_cell": "Table of Contents",
   "title_sidebar": "Contents",
   "toc_cell": false,
   "toc_position": {},
   "toc_section_display": true,
   "toc_window_display": true
  }
 },
 "nbformat": 4,
 "nbformat_minor": 5
}
