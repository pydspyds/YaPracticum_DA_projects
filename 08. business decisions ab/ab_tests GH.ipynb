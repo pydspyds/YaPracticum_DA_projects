{
 "cells": [
  {
   "cell_type": "markdown",
   "id": "42238ec9",
   "metadata": {},
   "source": [
    " # Принятие решений в бизнесе\n",
    " \n",
    " ---"
   ]
  },
  {
   "cell_type": "markdown",
   "id": "06895f27",
   "metadata": {},
   "source": [
    "## Описание проекта"
   ]
  },
  {
   "cell_type": "markdown",
   "id": "a714b01d",
   "metadata": {},
   "source": [
    "**Задачи проекта**"
   ]
  },
  {
   "cell_type": "markdown",
   "id": "6bcaadb0",
   "metadata": {},
   "source": [
    "**1. Приоритизация гипотез.**\n",
    "\n",
    "Провести приоритизацию гипотез, предоставленных отделом маркетинга.\n",
    "\n",
    "**2. Анализ A/B-теста.**\n",
    "\n",
    "Проанализировать проведенные A/B-тесты и по результатам принять одно из решений:\n",
    "1. Остановить тест, зафиксировать победу одной из групп.\n",
    "2. Остановить тест, зафиксировать отсутствие различий между группами.\n",
    "3. Продолжить тест."
   ]
  },
  {
   "cell_type": "markdown",
   "id": "a489a230",
   "metadata": {},
   "source": [
    "**Описание данных**"
   ]
  },
  {
   "cell_type": "markdown",
   "id": "11bdfff6",
   "metadata": {},
   "source": [
    "Данные для приоритизации гипотез:\n",
    "\n",
    "Файл `/datasets/hypothesis.csv`.\n",
    "* `Hypothesis` — краткое описание гипотезы;\n",
    "* `Reach` — охват пользователей по 10-балльной шкале;\n",
    "* `Impact` — влияние на пользователей по 10-балльной шкале;\n",
    "* `Confidence` — уверенность в гипотезе по 10-балльной шкале;\n",
    "* `Efforts` — затраты ресурсов на проверку гипотезы по 10-балльной шкале. Чем больше значение `Efforts`, тем дороже проверка гипотезы."
   ]
  },
  {
   "cell_type": "markdown",
   "id": "b830db03",
   "metadata": {},
   "source": [
    "Данные для анализа A/B-теста:\n",
    "\n",
    "Файл `/datasets/orders.csv`\n",
    "* `transactionId` — идентификатор заказа;\n",
    "* `visitorId` — идентификатор пользователя, совершившего заказ;\n",
    "* `date` — дата, когда был совершён заказ;\n",
    "* `revenue` — выручка заказа;\n",
    "* `group` — группа A/B-теста, в которую попал заказ.\n",
    "\n",
    "Файл `/datasets/visitors.csv`.\n",
    "* `date` — дата;\n",
    "* `group` — группа A/B-теста;\n",
    "* `visitors` — количество пользователей в указанную дату в указанной группе A/B-теста"
   ]
  },
  {
   "cell_type": "markdown",
   "id": "7833d880",
   "metadata": {},
   "source": [
    "## Приоритизация гипотез"
   ]
  },
  {
   "cell_type": "markdown",
   "id": "07d51745",
   "metadata": {},
   "source": [
    "### Импорт библиотек и загрузка данных"
   ]
  },
  {
   "cell_type": "code",
   "execution_count": 1,
   "id": "d1f3a8d3",
   "metadata": {},
   "outputs": [],
   "source": [
    "import pandas as pd\n",
    "import datetime as dt\n",
    "import numpy as np\n",
    "import scipy.stats as stats\n",
    "\n",
    "import matplotlib.pyplot as plt\n",
    "from pandas.plotting import register_matplotlib_converters\n",
    "\n",
    "import warnings"
   ]
  },
  {
   "cell_type": "code",
   "execution_count": 2,
   "id": "7517d2d2",
   "metadata": {
    "scrolled": false
   },
   "outputs": [],
   "source": [
    "try:\n",
    "    hypothesis = pd.read_csv('ab_tests_data/hypothesis.csv')\n",
    "except:\n",
    "    hypothesis = pd.read_csv('/datasets/hypothesis.csv')"
   ]
  },
  {
   "cell_type": "code",
   "execution_count": 3,
   "id": "91fd8f7a",
   "metadata": {},
   "outputs": [],
   "source": [
    "warnings.filterwarnings(action='ignore')"
   ]
  },
  {
   "cell_type": "code",
   "execution_count": 4,
   "id": "7df77bd5",
   "metadata": {},
   "outputs": [],
   "source": [
    "pd.options.display.max_colwidth = 100"
   ]
  },
  {
   "cell_type": "code",
   "execution_count": 5,
   "id": "8eed7bd5",
   "metadata": {},
   "outputs": [
    {
     "data": {
      "text/html": [
       "<div>\n",
       "<style scoped>\n",
       "    .dataframe tbody tr th:only-of-type {\n",
       "        vertical-align: middle;\n",
       "    }\n",
       "\n",
       "    .dataframe tbody tr th {\n",
       "        vertical-align: top;\n",
       "    }\n",
       "\n",
       "    .dataframe thead th {\n",
       "        text-align: right;\n",
       "    }\n",
       "</style>\n",
       "<table border=\"1\" class=\"dataframe\">\n",
       "  <thead>\n",
       "    <tr style=\"text-align: right;\">\n",
       "      <th></th>\n",
       "      <th>Hypothesis</th>\n",
       "      <th>Reach</th>\n",
       "      <th>Impact</th>\n",
       "      <th>Confidence</th>\n",
       "      <th>Efforts</th>\n",
       "    </tr>\n",
       "  </thead>\n",
       "  <tbody>\n",
       "    <tr>\n",
       "      <th>0</th>\n",
       "      <td>Добавить два новых канала привлечения трафика, что позволит привлекать на 30% больше пользователей</td>\n",
       "      <td>3</td>\n",
       "      <td>10</td>\n",
       "      <td>8</td>\n",
       "      <td>6</td>\n",
       "    </tr>\n",
       "    <tr>\n",
       "      <th>1</th>\n",
       "      <td>Запустить собственную службу доставки, что сократит срок доставки заказов</td>\n",
       "      <td>2</td>\n",
       "      <td>5</td>\n",
       "      <td>4</td>\n",
       "      <td>10</td>\n",
       "    </tr>\n",
       "    <tr>\n",
       "      <th>2</th>\n",
       "      <td>Добавить блоки рекомендаций товаров на сайт интернет магазина, чтобы повысить конверсию и средни...</td>\n",
       "      <td>8</td>\n",
       "      <td>3</td>\n",
       "      <td>7</td>\n",
       "      <td>3</td>\n",
       "    </tr>\n",
       "    <tr>\n",
       "      <th>3</th>\n",
       "      <td>Изменить структура категорий, что увеличит конверсию, т.к. пользователи быстрее найдут нужный товар</td>\n",
       "      <td>8</td>\n",
       "      <td>3</td>\n",
       "      <td>3</td>\n",
       "      <td>8</td>\n",
       "    </tr>\n",
       "    <tr>\n",
       "      <th>4</th>\n",
       "      <td>Изменить цвет фона главной страницы, чтобы увеличить вовлеченность пользователей</td>\n",
       "      <td>3</td>\n",
       "      <td>1</td>\n",
       "      <td>1</td>\n",
       "      <td>1</td>\n",
       "    </tr>\n",
       "    <tr>\n",
       "      <th>5</th>\n",
       "      <td>Добавить страницу отзывов клиентов о магазине, что позволит увеличить количество заказов</td>\n",
       "      <td>3</td>\n",
       "      <td>2</td>\n",
       "      <td>2</td>\n",
       "      <td>3</td>\n",
       "    </tr>\n",
       "    <tr>\n",
       "      <th>6</th>\n",
       "      <td>Показать на главной странице баннеры с актуальными акциями и распродажами, чтобы увеличить конве...</td>\n",
       "      <td>5</td>\n",
       "      <td>3</td>\n",
       "      <td>8</td>\n",
       "      <td>3</td>\n",
       "    </tr>\n",
       "    <tr>\n",
       "      <th>7</th>\n",
       "      <td>Добавить форму подписки на все основные страницы, чтобы собрать базу клиентов для email-рассылок</td>\n",
       "      <td>10</td>\n",
       "      <td>7</td>\n",
       "      <td>8</td>\n",
       "      <td>5</td>\n",
       "    </tr>\n",
       "    <tr>\n",
       "      <th>8</th>\n",
       "      <td>Запустить акцию, дающую скидку на товар в день рождения</td>\n",
       "      <td>1</td>\n",
       "      <td>9</td>\n",
       "      <td>9</td>\n",
       "      <td>5</td>\n",
       "    </tr>\n",
       "  </tbody>\n",
       "</table>\n",
       "</div>"
      ],
      "text/plain": [
       "                                                                                            Hypothesis  \\\n",
       "0   Добавить два новых канала привлечения трафика, что позволит привлекать на 30% больше пользователей   \n",
       "1                            Запустить собственную службу доставки, что сократит срок доставки заказов   \n",
       "2  Добавить блоки рекомендаций товаров на сайт интернет магазина, чтобы повысить конверсию и средни...   \n",
       "3  Изменить структура категорий, что увеличит конверсию, т.к. пользователи быстрее найдут нужный товар   \n",
       "4                     Изменить цвет фона главной страницы, чтобы увеличить вовлеченность пользователей   \n",
       "5             Добавить страницу отзывов клиентов о магазине, что позволит увеличить количество заказов   \n",
       "6  Показать на главной странице баннеры с актуальными акциями и распродажами, чтобы увеличить конве...   \n",
       "7     Добавить форму подписки на все основные страницы, чтобы собрать базу клиентов для email-рассылок   \n",
       "8                                              Запустить акцию, дающую скидку на товар в день рождения   \n",
       "\n",
       "   Reach  Impact  Confidence  Efforts  \n",
       "0      3      10           8        6  \n",
       "1      2       5           4       10  \n",
       "2      8       3           7        3  \n",
       "3      8       3           3        8  \n",
       "4      3       1           1        1  \n",
       "5      3       2           2        3  \n",
       "6      5       3           8        3  \n",
       "7     10       7           8        5  \n",
       "8      1       9           9        5  "
      ]
     },
     "execution_count": 5,
     "metadata": {},
     "output_type": "execute_result"
    }
   ],
   "source": [
    "hypothesis"
   ]
  },
  {
   "cell_type": "code",
   "execution_count": 6,
   "id": "3ba1f1ab",
   "metadata": {},
   "outputs": [
    {
     "data": {
      "text/plain": [
       "array(['Добавить два новых канала привлечения трафика, что позволит привлекать на 30% больше пользователей',\n",
       "       'Запустить собственную службу доставки, что сократит срок доставки заказов',\n",
       "       'Добавить блоки рекомендаций товаров на сайт интернет магазина, чтобы повысить конверсию и средний чек заказа',\n",
       "       'Изменить структура категорий, что увеличит конверсию, т.к. пользователи быстрее найдут нужный товар',\n",
       "       'Изменить цвет фона главной страницы, чтобы увеличить вовлеченность пользователей',\n",
       "       'Добавить страницу отзывов клиентов о магазине, что позволит увеличить количество заказов',\n",
       "       'Показать на главной странице баннеры с актуальными акциями и распродажами, чтобы увеличить конверсию',\n",
       "       'Добавить форму подписки на все основные страницы, чтобы собрать базу клиентов для email-рассылок',\n",
       "       'Запустить акцию, дающую скидку на товар в день рождения'],\n",
       "      dtype=object)"
      ]
     },
     "execution_count": 6,
     "metadata": {},
     "output_type": "execute_result"
    }
   ],
   "source": [
    "hypothesis['Hypothesis'].unique()"
   ]
  },
  {
   "cell_type": "markdown",
   "id": "3c852e5e",
   "metadata": {},
   "source": [
    "### Приоритизация гипотез"
   ]
  },
  {
   "cell_type": "markdown",
   "id": "ed594574",
   "metadata": {},
   "source": [
    "Применим фреймворк ICE для приоритизации гипотез. Отсортировать их по убыванию приоритета."
   ]
  },
  {
   "cell_type": "code",
   "execution_count": 7,
   "id": "611785a8",
   "metadata": {},
   "outputs": [
    {
     "data": {
      "text/plain": [
       "8    16.200000\n",
       "0    13.333333\n",
       "7    11.200000\n",
       "6     8.000000\n",
       "2     7.000000\n",
       "1     2.000000\n",
       "5     1.333333\n",
       "3     1.125000\n",
       "4     1.000000\n",
       "dtype: float64"
      ]
     },
     "execution_count": 7,
     "metadata": {},
     "output_type": "execute_result"
    }
   ],
   "source": [
    "# ICE = Impact * Confidence / Efforts\n",
    "ice = hypothesis['Impact'] * hypothesis['Confidence'] / hypothesis['Efforts']\n",
    "ice.sort_values(ascending = False)"
   ]
  },
  {
   "cell_type": "markdown",
   "id": "55156124",
   "metadata": {},
   "source": [
    "Согласно методу ICE, наиболее приоритетной гипотезой является гипотеза № 8 - \"*Запустить акцию, дающую скидку на товар в день рождения*\". Следующие по проиоритету - \"*Добавить два новых канала привлечения трафика, что позволит привлекать на 30% больше пользователей*\" и \"*Добавить форму подписки на все основные страницы, чтобы собрать базу клиентов для email-рассылок*\"."
   ]
  },
  {
   "cell_type": "markdown",
   "id": "10f9f767",
   "metadata": {},
   "source": [
    "**Применить фреймворк RICE для приоритизации гипотез. Отсортировать их по убыванию приоритета.**"
   ]
  },
  {
   "cell_type": "code",
   "execution_count": 8,
   "id": "81396230",
   "metadata": {},
   "outputs": [
    {
     "data": {
      "text/plain": [
       "7    112.0\n",
       "2     56.0\n",
       "0     40.0\n",
       "6     40.0\n",
       "8     16.2\n",
       "3      9.0\n",
       "1      4.0\n",
       "5      4.0\n",
       "4      3.0\n",
       "dtype: float64"
      ]
     },
     "execution_count": 8,
     "metadata": {},
     "output_type": "execute_result"
    }
   ],
   "source": [
    "# RICE = Reach * Impact * Confidence / Efforts\n",
    "ice = hypothesis['Reach'] * hypothesis['Impact'] * hypothesis['Confidence'] / hypothesis['Efforts']\n",
    "ice.sort_values(ascending = False)"
   ]
  },
  {
   "cell_type": "markdown",
   "id": "01c3c734",
   "metadata": {},
   "source": [
    "Согласно методу RICE, наиболее приоритетной гипотезой является гипотеза №7 - '*Добавить форму подписки на все основные страницы, чтобы собрать базу клиентов для email-рассылок*'.Следующие по проиоритету - \"*Добавить блоки рекомендаций товаров на сайт интернет магазина, чтобы повысить конверсию и средний чек заказа*\" и \"*Добавить два новых канала привлечения трафика, что позволит привлекать на 30% больше пользователей*\".\n",
    "\n",
    "Порядок приоритета гипотез изменился, поскольку у гипотезы №8 куда больше охват аудитории, чем у гипотез №7, 2, 0 и 6.\n",
    "\n",
    "Гипотеза №7 применима только для уже зарегистрировавшихся пользователей раз в год, в то время как гипотезы №7, 2, 0 и 6 применимы ко всем посетителям сайта."
   ]
  },
  {
   "cell_type": "markdown",
   "id": "58e50e29",
   "metadata": {},
   "source": [
    "## Анализ A/B-теста"
   ]
  },
  {
   "cell_type": "markdown",
   "id": "c030cf46",
   "metadata": {},
   "source": [
    "### Загрузка данных"
   ]
  },
  {
   "cell_type": "code",
   "execution_count": 9,
   "id": "31807375",
   "metadata": {},
   "outputs": [],
   "source": [
    "try:\n",
    "    orders, visitors = (\n",
    "        pd.read_csv('ab_tests_data/orders.csv'),\n",
    "        pd.read_csv('ab_tests_data/visitors.csv')\n",
    "    )\n",
    "except:\n",
    "    orders, visitors = (\n",
    "        pd.read_csv('/datasets/orders.csv'),\n",
    "        pd.read_csv('/datasets/visitors.csv')\n",
    "    )"
   ]
  },
  {
   "cell_type": "code",
   "execution_count": 10,
   "id": "543fa1e2",
   "metadata": {},
   "outputs": [
    {
     "data": {
      "text/html": [
       "<div>\n",
       "<style scoped>\n",
       "    .dataframe tbody tr th:only-of-type {\n",
       "        vertical-align: middle;\n",
       "    }\n",
       "\n",
       "    .dataframe tbody tr th {\n",
       "        vertical-align: top;\n",
       "    }\n",
       "\n",
       "    .dataframe thead th {\n",
       "        text-align: right;\n",
       "    }\n",
       "</style>\n",
       "<table border=\"1\" class=\"dataframe\">\n",
       "  <thead>\n",
       "    <tr style=\"text-align: right;\">\n",
       "      <th></th>\n",
       "      <th>transactionId</th>\n",
       "      <th>visitorId</th>\n",
       "      <th>date</th>\n",
       "      <th>revenue</th>\n",
       "      <th>group</th>\n",
       "    </tr>\n",
       "  </thead>\n",
       "  <tbody>\n",
       "    <tr>\n",
       "      <th>0</th>\n",
       "      <td>3667963787</td>\n",
       "      <td>3312258926</td>\n",
       "      <td>2019-08-15</td>\n",
       "      <td>1650</td>\n",
       "      <td>B</td>\n",
       "    </tr>\n",
       "    <tr>\n",
       "      <th>1</th>\n",
       "      <td>2804400009</td>\n",
       "      <td>3642806036</td>\n",
       "      <td>2019-08-15</td>\n",
       "      <td>730</td>\n",
       "      <td>B</td>\n",
       "    </tr>\n",
       "  </tbody>\n",
       "</table>\n",
       "</div>"
      ],
      "text/plain": [
       "   transactionId   visitorId        date  revenue group\n",
       "0     3667963787  3312258926  2019-08-15     1650     B\n",
       "1     2804400009  3642806036  2019-08-15      730     B"
      ]
     },
     "execution_count": 10,
     "metadata": {},
     "output_type": "execute_result"
    }
   ],
   "source": [
    "orders.head(2)"
   ]
  },
  {
   "cell_type": "code",
   "execution_count": 11,
   "id": "a425f9d6",
   "metadata": {},
   "outputs": [
    {
     "data": {
      "text/html": [
       "<div>\n",
       "<style scoped>\n",
       "    .dataframe tbody tr th:only-of-type {\n",
       "        vertical-align: middle;\n",
       "    }\n",
       "\n",
       "    .dataframe tbody tr th {\n",
       "        vertical-align: top;\n",
       "    }\n",
       "\n",
       "    .dataframe thead th {\n",
       "        text-align: right;\n",
       "    }\n",
       "</style>\n",
       "<table border=\"1\" class=\"dataframe\">\n",
       "  <thead>\n",
       "    <tr style=\"text-align: right;\">\n",
       "      <th></th>\n",
       "      <th>date</th>\n",
       "      <th>group</th>\n",
       "      <th>visitors</th>\n",
       "    </tr>\n",
       "  </thead>\n",
       "  <tbody>\n",
       "    <tr>\n",
       "      <th>0</th>\n",
       "      <td>2019-08-01</td>\n",
       "      <td>A</td>\n",
       "      <td>719</td>\n",
       "    </tr>\n",
       "    <tr>\n",
       "      <th>1</th>\n",
       "      <td>2019-08-02</td>\n",
       "      <td>A</td>\n",
       "      <td>619</td>\n",
       "    </tr>\n",
       "  </tbody>\n",
       "</table>\n",
       "</div>"
      ],
      "text/plain": [
       "         date group  visitors\n",
       "0  2019-08-01     A       719\n",
       "1  2019-08-02     A       619"
      ]
     },
     "execution_count": 11,
     "metadata": {},
     "output_type": "execute_result"
    }
   ],
   "source": [
    "visitors.head(2)"
   ]
  },
  {
   "cell_type": "code",
   "execution_count": 12,
   "id": "ebd5745b",
   "metadata": {},
   "outputs": [
    {
     "name": "stdout",
     "output_type": "stream",
     "text": [
      "<class 'pandas.core.frame.DataFrame'>\n",
      "RangeIndex: 1197 entries, 0 to 1196\n",
      "Data columns (total 5 columns):\n",
      " #   Column         Non-Null Count  Dtype \n",
      "---  ------         --------------  ----- \n",
      " 0   transactionId  1197 non-null   int64 \n",
      " 1   visitorId      1197 non-null   int64 \n",
      " 2   date           1197 non-null   object\n",
      " 3   revenue        1197 non-null   int64 \n",
      " 4   group          1197 non-null   object\n",
      "dtypes: int64(3), object(2)\n",
      "memory usage: 46.9+ KB\n",
      "<class 'pandas.core.frame.DataFrame'>\n",
      "RangeIndex: 62 entries, 0 to 61\n",
      "Data columns (total 3 columns):\n",
      " #   Column    Non-Null Count  Dtype \n",
      "---  ------    --------------  ----- \n",
      " 0   date      62 non-null     object\n",
      " 1   group     62 non-null     object\n",
      " 2   visitors  62 non-null     int64 \n",
      "dtypes: int64(1), object(2)\n",
      "memory usage: 1.6+ KB\n"
     ]
    },
    {
     "data": {
      "text/plain": [
       "(None, None)"
      ]
     },
     "execution_count": 12,
     "metadata": {},
     "output_type": "execute_result"
    }
   ],
   "source": [
    "orders.info() , visitors.info()"
   ]
  },
  {
   "cell_type": "code",
   "execution_count": 13,
   "id": "6e022f8f",
   "metadata": {},
   "outputs": [
    {
     "name": "stdout",
     "output_type": "stream",
     "text": [
      "<class 'pandas.core.frame.DataFrame'>\n",
      "RangeIndex: 1197 entries, 0 to 1196\n",
      "Data columns (total 5 columns):\n",
      " #   Column   Non-Null Count  Dtype \n",
      "---  ------   --------------  ----- \n",
      " 0   orderId  1197 non-null   int64 \n",
      " 1   userId   1197 non-null   int64 \n",
      " 2   date     1197 non-null   object\n",
      " 3   revenue  1197 non-null   int64 \n",
      " 4   group    1197 non-null   object\n",
      "dtypes: int64(3), object(2)\n",
      "memory usage: 46.9+ KB\n"
     ]
    }
   ],
   "source": [
    "# для удобства переименуем колонки\n",
    "orders.rename(columns = {'transactionId' : 'orderId' , 'visitorId' : 'userId'}, inplace = True)\n",
    "orders.info()"
   ]
  },
  {
   "cell_type": "code",
   "execution_count": 14,
   "id": "38d7ce4f",
   "metadata": {},
   "outputs": [
    {
     "data": {
      "text/plain": [
       "0"
      ]
     },
     "metadata": {},
     "output_type": "display_data"
    },
    {
     "data": {
      "text/plain": [
       "0"
      ]
     },
     "execution_count": 14,
     "metadata": {},
     "output_type": "execute_result"
    }
   ],
   "source": [
    "# проверяем таблицы на наличие дубликатов\n",
    "\n",
    "display(visitors.duplicated().sum())\n",
    "orders.duplicated().sum()"
   ]
  },
  {
   "cell_type": "code",
   "execution_count": 15,
   "id": "97e9b788",
   "metadata": {},
   "outputs": [
    {
     "data": {
      "text/plain": [
       "('2019-08-01', '2019-08-31', '2019-08-01', '2019-08-31')"
      ]
     },
     "execution_count": 15,
     "metadata": {},
     "output_type": "execute_result"
    }
   ],
   "source": [
    "# проверим минимальную и максимальную даты в имеющихся датафреймах\n",
    "orders['date'].min(), orders['date'].max(), visitors['date'].min(), visitors['date'].max()"
   ]
  },
  {
   "cell_type": "code",
   "execution_count": 16,
   "id": "dca2c361",
   "metadata": {},
   "outputs": [
    {
     "data": {
      "text/plain": [
       "-58"
      ]
     },
     "execution_count": 16,
     "metadata": {},
     "output_type": "execute_result"
    }
   ],
   "source": [
    "# посчитаем количество пользователей, находящихся сразу в обеих группах\n",
    "orders[\"userId\"].nunique() - (\n",
    "    orders[orders[\"group\"] == \"A\"][\"userId\"].nunique()\n",
    "    + orders[orders[\"group\"] == \"B\"][\"userId\"].nunique()\n",
    ")\n"
   ]
  },
  {
   "cell_type": "code",
   "execution_count": 17,
   "id": "19493b97",
   "metadata": {},
   "outputs": [
    {
     "data": {
      "text/plain": [
       "(58, 58)"
      ]
     },
     "execution_count": 17,
     "metadata": {},
     "output_type": "execute_result"
    }
   ],
   "source": [
    "# отфильтруем пользователей, находящихся сразу в обеих группах и провериим их количество\n",
    "both_groups_usersA = orders.query('group == \"A\"')[\n",
    "    orders[\"userId\"].isin(orders.query('group == \"B\"')[\"userId\"])\n",
    "]\n",
    "\n",
    "both_groups_usersB = orders.query('group == \"B\"')[\n",
    "    orders[\"userId\"].isin(orders.query('group == \"A\"')[\"userId\"])\n",
    "]\n",
    "both_groups_usersA['userId'].nunique(), both_groups_usersB['userId'].nunique()"
   ]
  },
  {
   "cell_type": "code",
   "execution_count": 18,
   "id": "599df1ec",
   "metadata": {},
   "outputs": [
    {
     "data": {
      "text/plain": [
       "(720147, 838788)"
      ]
     },
     "execution_count": 18,
     "metadata": {},
     "output_type": "execute_result"
    }
   ],
   "source": [
    "# посчитаем выручку, полученную с данных пользователей\n",
    "both_groups_usersA['revenue'].sum(), \\\n",
    "both_groups_usersB['revenue'].sum()"
   ]
  },
  {
   "cell_type": "code",
   "execution_count": 19,
   "id": "ad79a134",
   "metadata": {},
   "outputs": [
    {
     "data": {
      "text/plain": [
       "(4084803, 5907760)"
      ]
     },
     "execution_count": 19,
     "metadata": {},
     "output_type": "execute_result"
    }
   ],
   "source": [
    "# посчитаем общую выручку с пользователей из разных групп\n",
    "orders.query('group == \"A\"')['revenue'].sum(),\\\n",
    "orders.query('group == \"B\"')['revenue'].sum()"
   ]
  },
  {
   "cell_type": "code",
   "execution_count": 20,
   "id": "ac9d0d39",
   "metadata": {},
   "outputs": [
    {
     "data": {
      "text/plain": [
       "(17.63, 14.2)"
      ]
     },
     "execution_count": 20,
     "metadata": {},
     "output_type": "execute_result"
    }
   ],
   "source": [
    "# посчитаем процент выручки, полученной с данных пользователей, относительно своих групп\n",
    "round(both_groups_usersA['revenue'].sum()/orders.query('group == \"A\"')['revenue'].sum()*100,2),\\\n",
    "round(both_groups_usersB['revenue'].sum()/orders.query('group == \"B\"')['revenue'].sum()*100, 2)"
   ]
  },
  {
   "cell_type": "code",
   "execution_count": 21,
   "id": "b5d31875",
   "metadata": {},
   "outputs": [
    {
     "data": {
      "text/plain": [
       "(7.21, 8.39)"
      ]
     },
     "execution_count": 21,
     "metadata": {},
     "output_type": "execute_result"
    }
   ],
   "source": [
    "# посчитаем процент выручки, полученной с данных пользователей, относительно общей выручки\n",
    "round(both_groups_usersA['revenue'].sum()/orders['revenue'].sum()*100, 2),\\\n",
    "round(both_groups_usersB['revenue'].sum()/orders['revenue'].sum()*100, 2)"
   ]
  },
  {
   "cell_type": "markdown",
   "id": "74823f9e",
   "metadata": {},
   "source": [
    "Анализ показал, что имеется 58 пользователей, состоящих в обеих тестируемых группах. \n",
    "\n",
    "Можно удалить данных пользователей из выборки для повышения достоверности результатов теста.\n",
    "\n",
    "Проанализировав разницу во влиянии на выручку с данных пользователей, определили, что она составляет 1.2%, то есть удаление данных пользователей большой роли не сыграет, поэтому, считаю, что их можно оставить."
   ]
  },
  {
   "cell_type": "code",
   "execution_count": 22,
   "id": "4a866345",
   "metadata": {},
   "outputs": [],
   "source": [
    "# изменим тип данных для столбцов с датами\n",
    "\n",
    "visitors['date'] = pd.to_datetime(visitors['date'])\n",
    "orders['date'] = pd.to_datetime(orders['date'])"
   ]
  },
  {
   "cell_type": "code",
   "execution_count": 23,
   "id": "bd672ed1",
   "metadata": {},
   "outputs": [
    {
     "name": "stdout",
     "output_type": "stream",
     "text": [
      "<class 'pandas.core.frame.DataFrame'>\n",
      "RangeIndex: 62 entries, 0 to 61\n",
      "Data columns (total 3 columns):\n",
      " #   Column    Non-Null Count  Dtype         \n",
      "---  ------    --------------  -----         \n",
      " 0   date      62 non-null     datetime64[ns]\n",
      " 1   group     62 non-null     object        \n",
      " 2   visitors  62 non-null     int64         \n",
      "dtypes: datetime64[ns](1), int64(1), object(1)\n",
      "memory usage: 1.6+ KB\n"
     ]
    }
   ],
   "source": [
    "visitors.info()"
   ]
  },
  {
   "cell_type": "code",
   "execution_count": 24,
   "id": "5380a8db",
   "metadata": {},
   "outputs": [],
   "source": [
    "# создаем массив уникальных пар значений дат и групп теста\n",
    "datesGroups = orders[['date','group']].drop_duplicates()"
   ]
  },
  {
   "cell_type": "code",
   "execution_count": 25,
   "id": "c6db05e2",
   "metadata": {},
   "outputs": [],
   "source": [
    "# получаем агрегированные кумулятивные по дням данные о заказах \n",
    "ordersAggregated = datesGroups.apply(\n",
    "    lambda x: orders[\n",
    "        np.logical_and(orders[\"date\"] <= x[\"date\"], orders[\"group\"] == x[\"group\"])\n",
    "    ].agg(\n",
    "        {\n",
    "            \"date\": \"max\",\n",
    "            \"group\": \"max\",\n",
    "            \"orderId\": \"nunique\",\n",
    "            \"userId\": \"nunique\",\n",
    "            \"revenue\": \"sum\",\n",
    "        }\n",
    "    ),\n",
    "    axis=1,\n",
    ").sort_values(by=[\"date\", \"group\"])"
   ]
  },
  {
   "cell_type": "code",
   "execution_count": 26,
   "id": "8e49756e",
   "metadata": {},
   "outputs": [],
   "source": [
    "# получаем агрегированные кумулятивные по дням данные о посетителях интернет-магазина\n",
    "visitorsAggregated = datesGroups.apply(\n",
    "    lambda x: visitors[\n",
    "        np.logical_and(visitors[\"date\"] <= x[\"date\"], visitors[\"group\"] == x[\"group\"])\n",
    "    ].agg({\"date\": \"max\", \"group\": \"max\", \"visitors\": \"sum\"}),\n",
    "    axis=1,\n",
    ").sort_values(by=[\"date\", \"group\"])"
   ]
  },
  {
   "cell_type": "code",
   "execution_count": 27,
   "id": "40678dfd",
   "metadata": {},
   "outputs": [],
   "source": [
    "# объединяем кумулятивные данные в одной таблице и присваиваем ее столбцам понятные названия\n",
    "cumulativeData = ordersAggregated.merge(\n",
    "    visitorsAggregated, left_on=[\"date\", \"group\"], right_on=[\"date\", \"group\"]\n",
    ")\n",
    "cumulativeData.columns = [\"date\", \"group\", \"orders\", \"buyers\", \"revenue\", \"visitors\"]"
   ]
  },
  {
   "cell_type": "code",
   "execution_count": 28,
   "id": "8fbb1b32",
   "metadata": {},
   "outputs": [
    {
     "data": {
      "text/html": [
       "<div>\n",
       "<style scoped>\n",
       "    .dataframe tbody tr th:only-of-type {\n",
       "        vertical-align: middle;\n",
       "    }\n",
       "\n",
       "    .dataframe tbody tr th {\n",
       "        vertical-align: top;\n",
       "    }\n",
       "\n",
       "    .dataframe thead th {\n",
       "        text-align: right;\n",
       "    }\n",
       "</style>\n",
       "<table border=\"1\" class=\"dataframe\">\n",
       "  <thead>\n",
       "    <tr style=\"text-align: right;\">\n",
       "      <th></th>\n",
       "      <th>date</th>\n",
       "      <th>group</th>\n",
       "      <th>orders</th>\n",
       "      <th>buyers</th>\n",
       "      <th>revenue</th>\n",
       "      <th>visitors</th>\n",
       "    </tr>\n",
       "  </thead>\n",
       "  <tbody>\n",
       "    <tr>\n",
       "      <th>0</th>\n",
       "      <td>2019-08-01</td>\n",
       "      <td>A</td>\n",
       "      <td>24</td>\n",
       "      <td>20</td>\n",
       "      <td>148579</td>\n",
       "      <td>719</td>\n",
       "    </tr>\n",
       "    <tr>\n",
       "      <th>1</th>\n",
       "      <td>2019-08-01</td>\n",
       "      <td>B</td>\n",
       "      <td>21</td>\n",
       "      <td>20</td>\n",
       "      <td>101217</td>\n",
       "      <td>713</td>\n",
       "    </tr>\n",
       "    <tr>\n",
       "      <th>2</th>\n",
       "      <td>2019-08-02</td>\n",
       "      <td>A</td>\n",
       "      <td>44</td>\n",
       "      <td>38</td>\n",
       "      <td>242401</td>\n",
       "      <td>1338</td>\n",
       "    </tr>\n",
       "    <tr>\n",
       "      <th>3</th>\n",
       "      <td>2019-08-02</td>\n",
       "      <td>B</td>\n",
       "      <td>45</td>\n",
       "      <td>43</td>\n",
       "      <td>266748</td>\n",
       "      <td>1294</td>\n",
       "    </tr>\n",
       "  </tbody>\n",
       "</table>\n",
       "</div>"
      ],
      "text/plain": [
       "        date group  orders  buyers  revenue  visitors\n",
       "0 2019-08-01     A      24      20   148579       719\n",
       "1 2019-08-01     B      21      20   101217       713\n",
       "2 2019-08-02     A      44      38   242401      1338\n",
       "3 2019-08-02     B      45      43   266748      1294"
      ]
     },
     "execution_count": 28,
     "metadata": {},
     "output_type": "execute_result"
    }
   ],
   "source": [
    "cumulativeData.head(4)"
   ]
  },
  {
   "cell_type": "markdown",
   "id": "39bead0e",
   "metadata": {},
   "source": [
    "### Кумулятивные метрики"
   ]
  },
  {
   "cell_type": "markdown",
   "id": "b377ce65",
   "metadata": {},
   "source": [
    "#### Выручка по группам"
   ]
  },
  {
   "cell_type": "markdown",
   "id": "a9980a6b",
   "metadata": {},
   "source": [
    "Построим графики кумулятивной выручки по дням и группам A/B-тестирования: "
   ]
  },
  {
   "cell_type": "code",
   "execution_count": 29,
   "id": "f7f72bb6",
   "metadata": {
    "scrolled": false
   },
   "outputs": [
    {
     "data": {
      "image/png": "[encoded data removed]",
      "text/plain": [
       "<Figure size 640x480 with 1 Axes>"
      ]
     },
     "metadata": {},
     "output_type": "display_data"
    }
   ],
   "source": [
    "# датафрейм с кумулятивным количеством заказов и кумулятивной выручкой по дням в группе А\n",
    "cumulativeRevenueA = cumulativeData[cumulativeData[\"group\"] == \"A\"][\n",
    "    [\"date\", \"revenue\", \"orders\"]\n",
    "]\n",
    "\n",
    "# датафрейм с кумулятивным количеством заказов и кумулятивной выручкой по дням в группе B\n",
    "cumulativeRevenueB = cumulativeData[cumulativeData[\"group\"] == \"B\"][\n",
    "    [\"date\", \"revenue\", \"orders\"]\n",
    "]\n",
    "\n",
    "# Строим график выручки группы А\n",
    "plt.plot(cumulativeRevenueA[\"date\"], cumulativeRevenueA[\"revenue\"], label=\"A\")\n",
    "\n",
    "# Строим график выручки группы B\n",
    "plt.plot(cumulativeRevenueB[\"date\"], cumulativeRevenueB[\"revenue\"], label=\"B\")\n",
    "\n",
    "plt.title('График динамики кумулятивной выручки по группам А и В')\n",
    "plt.ylabel(\"Выручка, млн.\")\n",
    "plt.legend()\n",
    "plt.xticks(rotation=45)\n",
    "plt.show();"
   ]
  },
  {
   "cell_type": "markdown",
   "id": "c41fa706",
   "metadata": {},
   "source": [
    "Выручка группы А растет равномерно, выручка группы В имеет резкую точку роста, что может свидетельствовать о всплесках числа заказов, либо о появлении очень дорогих заказов в выборке."
   ]
  },
  {
   "cell_type": "markdown",
   "id": "ac3c0651",
   "metadata": {},
   "source": [
    "#### Средний чек по группам."
   ]
  },
  {
   "cell_type": "markdown",
   "id": "db657c43",
   "metadata": {},
   "source": [
    "Построим графики среднего чека по группам — разделим кумулятивную выручку на кумулятивное число заказов:"
   ]
  },
  {
   "cell_type": "code",
   "execution_count": 30,
   "id": "3c9b6bf6",
   "metadata": {
    "scrolled": false
   },
   "outputs": [
    {
     "data": {
      "image/png": "[encoded data removed]",
      "text/plain": [
       "<Figure size 640x480 with 1 Axes>"
      ]
     },
     "metadata": {},
     "output_type": "display_data"
    }
   ],
   "source": [
    "plt.plot(\n",
    "    cumulativeRevenueA[\"date\"],\n",
    "    cumulativeRevenueA[\"revenue\"] / cumulativeRevenueA[\"orders\"],\n",
    "    label=\"A\",\n",
    ")\n",
    "plt.plot(\n",
    "    cumulativeRevenueB[\"date\"],\n",
    "    cumulativeRevenueB[\"revenue\"] / cumulativeRevenueB[\"orders\"],\n",
    "    label=\"B\",\n",
    ")\n",
    "plt.title('График динамики кумулятивного среднего чека по группам А и В')\n",
    "plt.ylabel(\"Выручка, млн.\")\n",
    "plt.legend()\n",
    "plt.xticks(rotation=45)\n",
    "plt.show();"
   ]
  },
  {
   "cell_type": "markdown",
   "id": "37577ae5",
   "metadata": {},
   "source": [
    "Средний чек растет для обеих групп. Средний чек группы В показал резкий рывок, что говорит о дорогой покупке."
   ]
  },
  {
   "cell_type": "markdown",
   "id": "20999784",
   "metadata": {},
   "source": [
    "#### Относительное изменение среднего чека группы B к группе A"
   ]
  },
  {
   "cell_type": "markdown",
   "id": "9bd75858",
   "metadata": {},
   "source": [
    "Построим график относительного различия для среднего чека."
   ]
  },
  {
   "cell_type": "code",
   "execution_count": 31,
   "id": "cb5e30f4",
   "metadata": {},
   "outputs": [
    {
     "data": {
      "image/png": "[encoded data removed]",
      "text/plain": [
       "<Figure size 640x480 with 1 Axes>"
      ]
     },
     "metadata": {},
     "output_type": "display_data"
    }
   ],
   "source": [
    "# собираем данные в одном датафрейме\n",
    "mergedCumulativeRevenue = cumulativeRevenueA.merge(\n",
    "    cumulativeRevenueB, left_on=\"date\", right_on=\"date\", how=\"left\", suffixes=[\"A\", \"B\"]\n",
    ")\n",
    "\n",
    "# cтроим отношение средних чеков\n",
    "plt.plot(\n",
    "    mergedCumulativeRevenue[\"date\"],\n",
    "    (mergedCumulativeRevenue[\"revenueB\"] / mergedCumulativeRevenue[\"ordersB\"])\n",
    "    / (mergedCumulativeRevenue[\"revenueA\"] / mergedCumulativeRevenue[\"ordersA\"])\n",
    "    - 1,\n",
    ")\n",
    "plt.xticks(rotation=45)\n",
    "plt.title('График относительного изменения кумулятивного среднего чека группы B к группе A')\n",
    "\n",
    "# добавляем ось X\n",
    "plt.axhline(y=0, color=\"black\", linestyle=\"--\")\n",
    "plt.show();"
   ]
  },
  {
   "cell_type": "markdown",
   "id": "bcb112c2",
   "metadata": {},
   "source": [
    "В нескольких точках график различия между сегментами резко «скачет», значит имеются особо крупные заказы и выбросы."
   ]
  },
  {
   "cell_type": "markdown",
   "id": "89df7d07",
   "metadata": {},
   "source": [
    "####  Среднее количество заказов на посетителя по группам"
   ]
  },
  {
   "cell_type": "markdown",
   "id": "ef60291c",
   "metadata": {},
   "source": [
    "Аналогично проанализируем график кумулятивной конверсии."
   ]
  },
  {
   "cell_type": "code",
   "execution_count": 32,
   "id": "8ef37cc6",
   "metadata": {},
   "outputs": [
    {
     "data": {
      "image/png": "[encoded data removed]",
      "text/plain": [
       "<Figure size 640x480 with 1 Axes>"
      ]
     },
     "metadata": {},
     "output_type": "display_data"
    }
   ],
   "source": [
    "# считаем кумулятивную конверсию\n",
    "cumulativeData[\"conversion\"] = cumulativeData[\"orders\"] / cumulativeData[\"visitors\"]\n",
    "\n",
    "# отделяем данные по группе A\n",
    "cumulativeDataA = cumulativeData[cumulativeData[\"group\"] == \"A\"]\n",
    "\n",
    "# отделяем данные по группе B\n",
    "cumulativeDataB = cumulativeData[cumulativeData[\"group\"] == \"B\"]\n",
    "\n",
    "# строим графики\n",
    "plt.plot(cumulativeDataA[\"date\"], cumulativeDataA[\"conversion\"], label=\"A\")\n",
    "plt.plot(cumulativeDataB[\"date\"], cumulativeDataB[\"conversion\"], label=\"B\")\n",
    "\n",
    "plt.xticks(rotation=45)\n",
    "plt.legend()\n",
    "plt.title('Кумулятивная конверсия по группам')\n",
    "plt.ylabel('Конверсия')\n",
    "\n",
    "# задаем масштаб осей\n",
    "#plt.axis(['2019-08-01', '2019-08-31', 0.015, 0.04])\n",
    "ax = plt.gca()\n",
    "ax.set_ylim(0.015, 0.04)\n",
    "plt.show()"
   ]
  },
  {
   "cell_type": "markdown",
   "id": "1a933e1a",
   "metadata": {},
   "source": [
    "Изначально группа А имела большую конверсию, чем группа В, но с течением времени конверсия группы В резко увеличилась, а конверсия группы А, наоборот, упала."
   ]
  },
  {
   "cell_type": "markdown",
   "id": "de0a21ac",
   "metadata": {},
   "source": [
    "#### Относительное изменение среднего количества заказов на посетителя группы B к группе A"
   ]
  },
  {
   "cell_type": "markdown",
   "id": "d8a74a9d",
   "metadata": {},
   "source": [
    "Построим график относительного различия кумулятивных конверсий:"
   ]
  },
  {
   "cell_type": "code",
   "execution_count": 33,
   "id": "0a11d2e8",
   "metadata": {},
   "outputs": [
    {
     "data": {
      "image/png": "[encoded data removed]",
      "text/plain": [
       "<Figure size 640x480 with 1 Axes>"
      ]
     },
     "metadata": {},
     "output_type": "display_data"
    }
   ],
   "source": [
    "mergedCumulativeConversions = cumulativeDataA[[\"date\", \"conversion\"]].merge(\n",
    "    cumulativeDataB[[\"date\", \"conversion\"]],\n",
    "    left_on=\"date\",\n",
    "    right_on=\"date\",\n",
    "    how=\"left\",\n",
    "    suffixes=[\"A\", \"B\"],\n",
    ")\n",
    "\n",
    "plt.plot(\n",
    "    mergedCumulativeConversions[\"date\"],\n",
    "    mergedCumulativeConversions[\"conversionB\"]\n",
    "    / mergedCumulativeConversions[\"conversionA\"]\n",
    "    - 1,\n",
    ")\n",
    "\n",
    "plt.axhline(y= 0, color=\"black\", linestyle=\"--\")\n",
    "plt.axhline(y= 0.14, color=\"grey\", linestyle=\"--\")\n",
    "#plt.axis(['2019-08-01', '2019-08-31', -0.4, 0.4])\n",
    "plt.xticks(rotation=45)\n",
    "ax = plt.gca()\n",
    "ax.set_ylim(-0.4, 0.4)\n",
    "plt.title(\"Относительный прирост конверсии группы B относительно группы A\")\n",
    "plt.show();\n"
   ]
  },
  {
   "cell_type": "markdown",
   "id": "78873f71",
   "metadata": {},
   "source": [
    "В начале теста группа B проигрывала группе A, затем вырвалась вперёд. Потом её конверсия снова падала, но теперь постепенно растёт, в конце наблюдения имя прирост в 14% относительно группы А."
   ]
  },
  {
   "cell_type": "markdown",
   "id": "4996baa2",
   "metadata": {},
   "source": [
    "### Анализ количества заказов по пользователям и их стоимости"
   ]
  },
  {
   "cell_type": "markdown",
   "id": "0080f582",
   "metadata": {},
   "source": [
    "#### Количество заказов по пользователям"
   ]
  },
  {
   "cell_type": "markdown",
   "id": "3e34d4a9",
   "metadata": {},
   "source": [
    "Пользователи, совершившие много заказов, влияют на числитель формулы конверсии. Скорее всего, их поведение отличается от нормального. Если речь не идёт об интернет-магазине с регулярным спросом, «обычный» пользователь совершает не больше двух заказов за короткий срок.\n",
    "\n",
    "Подсчитаем количество заказов по пользователям и посмотрим на результат:"
   ]
  },
  {
   "cell_type": "code",
   "execution_count": 34,
   "id": "337f76c2",
   "metadata": {},
   "outputs": [
    {
     "data": {
      "text/html": [
       "<div>\n",
       "<style scoped>\n",
       "    .dataframe tbody tr th:only-of-type {\n",
       "        vertical-align: middle;\n",
       "    }\n",
       "\n",
       "    .dataframe tbody tr th {\n",
       "        vertical-align: top;\n",
       "    }\n",
       "\n",
       "    .dataframe thead th {\n",
       "        text-align: right;\n",
       "    }\n",
       "</style>\n",
       "<table border=\"1\" class=\"dataframe\">\n",
       "  <thead>\n",
       "    <tr style=\"text-align: right;\">\n",
       "      <th></th>\n",
       "      <th>userId</th>\n",
       "      <th>orders</th>\n",
       "    </tr>\n",
       "  </thead>\n",
       "  <tbody>\n",
       "    <tr>\n",
       "      <th>1023</th>\n",
       "      <td>4256040402</td>\n",
       "      <td>11</td>\n",
       "    </tr>\n",
       "    <tr>\n",
       "      <th>591</th>\n",
       "      <td>2458001652</td>\n",
       "      <td>11</td>\n",
       "    </tr>\n",
       "    <tr>\n",
       "      <th>569</th>\n",
       "      <td>2378935119</td>\n",
       "      <td>9</td>\n",
       "    </tr>\n",
       "    <tr>\n",
       "      <th>487</th>\n",
       "      <td>2038680547</td>\n",
       "      <td>8</td>\n",
       "    </tr>\n",
       "    <tr>\n",
       "      <th>44</th>\n",
       "      <td>199603092</td>\n",
       "      <td>5</td>\n",
       "    </tr>\n",
       "    <tr>\n",
       "      <th>744</th>\n",
       "      <td>3062433592</td>\n",
       "      <td>5</td>\n",
       "    </tr>\n",
       "  </tbody>\n",
       "</table>\n",
       "</div>"
      ],
      "text/plain": [
       "          userId  orders\n",
       "1023  4256040402      11\n",
       "591   2458001652      11\n",
       "569   2378935119       9\n",
       "487   2038680547       8\n",
       "44     199603092       5\n",
       "744   3062433592       5"
      ]
     },
     "execution_count": 34,
     "metadata": {},
     "output_type": "execute_result"
    }
   ],
   "source": [
    "ordersByUsers = (\n",
    "    orders.groupby('userId', as_index=False)\n",
    "    .agg({'orderId': 'nunique'})\n",
    ")\n",
    "\n",
    "ordersByUsers.columns = ['userId', 'orders']\n",
    "ordersByUsers.sort_values(by = 'orders', ascending = False).head(6)"
   ]
  },
  {
   "cell_type": "markdown",
   "id": "ccf9f434",
   "metadata": {},
   "source": [
    "Есть пользователи, которые совершали от 5 до 11 заказов.\n",
    "\n",
    "Построим точечную диаграмму числа заказов на одного пользователя:"
   ]
  },
  {
   "cell_type": "code",
   "execution_count": 35,
   "id": "392baae4",
   "metadata": {},
   "outputs": [
    {
     "data": {
      "text/plain": [
       "<matplotlib.collections.PathCollection at 0x7fa17deca4c0>"
      ]
     },
     "execution_count": 35,
     "metadata": {},
     "output_type": "execute_result"
    },
    {
     "data": {
      "image/png": "[encoded data removed]",
      "text/plain": [
       "<Figure size 640x480 with 1 Axes>"
      ]
     },
     "metadata": {},
     "output_type": "display_data"
    }
   ],
   "source": [
    "x_values = pd.Series(range(0,len(ordersByUsers)))\n",
    "\n",
    "plt.scatter(x_values, ordersByUsers['orders'])"
   ]
  },
  {
   "cell_type": "markdown",
   "id": "ba1f750a",
   "metadata": {},
   "source": [
    "Много пользователей с 2-4 заказами. Их точная доля не ясна — непонятно, считать их аномалиями или нет."
   ]
  },
  {
   "cell_type": "markdown",
   "id": "7e37737a",
   "metadata": {},
   "source": [
    "#### 95-й и 99-й перцентили количества заказов на пользователя"
   ]
  },
  {
   "cell_type": "markdown",
   "id": "fd6bc982",
   "metadata": {},
   "source": [
    "Посчитаем выборочные перцентили количества заказов на одного пользователя:"
   ]
  },
  {
   "cell_type": "code",
   "execution_count": 36,
   "id": "fcc8ed9a",
   "metadata": {},
   "outputs": [
    {
     "data": {
      "text/plain": [
       "array([2., 4.])"
      ]
     },
     "execution_count": 36,
     "metadata": {},
     "output_type": "execute_result"
    }
   ],
   "source": [
    "np.percentile(ordersByUsers['orders'], [95, 99])"
   ]
  },
  {
   "cell_type": "markdown",
   "id": "97b3d283",
   "metadata": {},
   "source": [
    "Не более 5% пользователей сделали 2 заказа и не более 1% пользователей сделало 4 и более заказов.\n",
    "\n",
    "Выберем 4 заказа на одного пользователя за верхнюю границу числа заказов."
   ]
  },
  {
   "cell_type": "markdown",
   "id": "693302f3",
   "metadata": {},
   "source": [
    "#### Оценка стоимости заказов."
   ]
  },
  {
   "cell_type": "markdown",
   "id": "ecee12f9",
   "metadata": {},
   "source": [
    "Кроме аномального количества заказов, в данных могут присутствовать аномально дорогие заказы. Такие заказы так же будут влиять на средний чек."
   ]
  },
  {
   "cell_type": "code",
   "execution_count": 37,
   "id": "401ea3df",
   "metadata": {},
   "outputs": [
    {
     "data": {
      "text/html": [
       "<div>\n",
       "<style scoped>\n",
       "    .dataframe tbody tr th:only-of-type {\n",
       "        vertical-align: middle;\n",
       "    }\n",
       "\n",
       "    .dataframe tbody tr th {\n",
       "        vertical-align: top;\n",
       "    }\n",
       "\n",
       "    .dataframe thead th {\n",
       "        text-align: right;\n",
       "    }\n",
       "</style>\n",
       "<table border=\"1\" class=\"dataframe\">\n",
       "  <thead>\n",
       "    <tr style=\"text-align: right;\">\n",
       "      <th></th>\n",
       "      <th>orderId</th>\n",
       "      <th>userId</th>\n",
       "      <th>date</th>\n",
       "      <th>revenue</th>\n",
       "      <th>group</th>\n",
       "    </tr>\n",
       "  </thead>\n",
       "  <tbody>\n",
       "    <tr>\n",
       "      <th>425</th>\n",
       "      <td>590470918</td>\n",
       "      <td>1920142716</td>\n",
       "      <td>2019-08-19</td>\n",
       "      <td>1294500</td>\n",
       "      <td>B</td>\n",
       "    </tr>\n",
       "    <tr>\n",
       "      <th>1196</th>\n",
       "      <td>3936777065</td>\n",
       "      <td>2108080724</td>\n",
       "      <td>2019-08-15</td>\n",
       "      <td>202740</td>\n",
       "      <td>B</td>\n",
       "    </tr>\n",
       "    <tr>\n",
       "      <th>858</th>\n",
       "      <td>192721366</td>\n",
       "      <td>1316129916</td>\n",
       "      <td>2019-08-27</td>\n",
       "      <td>93940</td>\n",
       "      <td>A</td>\n",
       "    </tr>\n",
       "    <tr>\n",
       "      <th>1136</th>\n",
       "      <td>666610489</td>\n",
       "      <td>1307669133</td>\n",
       "      <td>2019-08-13</td>\n",
       "      <td>92550</td>\n",
       "      <td>A</td>\n",
       "    </tr>\n",
       "    <tr>\n",
       "      <th>744</th>\n",
       "      <td>3668308183</td>\n",
       "      <td>888512513</td>\n",
       "      <td>2019-08-27</td>\n",
       "      <td>86620</td>\n",
       "      <td>B</td>\n",
       "    </tr>\n",
       "    <tr>\n",
       "      <th>...</th>\n",
       "      <td>...</td>\n",
       "      <td>...</td>\n",
       "      <td>...</td>\n",
       "      <td>...</td>\n",
       "      <td>...</td>\n",
       "    </tr>\n",
       "    <tr>\n",
       "      <th>933</th>\n",
       "      <td>3760662696</td>\n",
       "      <td>3577713868</td>\n",
       "      <td>2019-08-27</td>\n",
       "      <td>60</td>\n",
       "      <td>B</td>\n",
       "    </tr>\n",
       "    <tr>\n",
       "      <th>459</th>\n",
       "      <td>863448794</td>\n",
       "      <td>2738601405</td>\n",
       "      <td>2019-08-19</td>\n",
       "      <td>50</td>\n",
       "      <td>B</td>\n",
       "    </tr>\n",
       "    <tr>\n",
       "      <th>756</th>\n",
       "      <td>125335873</td>\n",
       "      <td>3423937755</td>\n",
       "      <td>2019-08-30</td>\n",
       "      <td>50</td>\n",
       "      <td>B</td>\n",
       "    </tr>\n",
       "    <tr>\n",
       "      <th>584</th>\n",
       "      <td>1126146019</td>\n",
       "      <td>2705308997</td>\n",
       "      <td>2019-08-20</td>\n",
       "      <td>50</td>\n",
       "      <td>A</td>\n",
       "    </tr>\n",
       "    <tr>\n",
       "      <th>1091</th>\n",
       "      <td>750632879</td>\n",
       "      <td>4256040402</td>\n",
       "      <td>2019-08-12</td>\n",
       "      <td>50</td>\n",
       "      <td>A</td>\n",
       "    </tr>\n",
       "  </tbody>\n",
       "</table>\n",
       "<p>1197 rows × 5 columns</p>\n",
       "</div>"
      ],
      "text/plain": [
       "         orderId      userId       date  revenue group\n",
       "425    590470918  1920142716 2019-08-19  1294500     B\n",
       "1196  3936777065  2108080724 2019-08-15   202740     B\n",
       "858    192721366  1316129916 2019-08-27    93940     A\n",
       "1136   666610489  1307669133 2019-08-13    92550     A\n",
       "744   3668308183   888512513 2019-08-27    86620     B\n",
       "...          ...         ...        ...      ...   ...\n",
       "933   3760662696  3577713868 2019-08-27       60     B\n",
       "459    863448794  2738601405 2019-08-19       50     B\n",
       "756    125335873  3423937755 2019-08-30       50     B\n",
       "584   1126146019  2705308997 2019-08-20       50     A\n",
       "1091   750632879  4256040402 2019-08-12       50     A\n",
       "\n",
       "[1197 rows x 5 columns]"
      ]
     },
     "execution_count": 37,
     "metadata": {},
     "output_type": "execute_result"
    }
   ],
   "source": [
    "orders.sort_values(by = 'revenue', ascending = False)"
   ]
  },
  {
   "cell_type": "markdown",
   "id": "0139270f",
   "metadata": {},
   "source": [
    "Очевидно, судя по первым пяти строкам, в данных присутствуют аномально дорогие заказы.\n",
    "\n",
    "Построим точечный график распределения стоимостей:"
   ]
  },
  {
   "cell_type": "code",
   "execution_count": 38,
   "id": "831f9a91",
   "metadata": {},
   "outputs": [
    {
     "data": {
      "text/plain": [
       "<matplotlib.collections.PathCollection at 0x7fa17df53490>"
      ]
     },
     "execution_count": 38,
     "metadata": {},
     "output_type": "execute_result"
    },
    {
     "data": {
      "image/png": "[encoded data removed]",
      "text/plain": [
       "<Figure size 640x480 with 1 Axes>"
      ]
     },
     "metadata": {},
     "output_type": "display_data"
    }
   ],
   "source": [
    "x_values = pd.Series(range(0,len(orders['revenue'])))\n",
    "plt.scatter(x_values, orders['revenue'])"
   ]
  },
  {
   "cell_type": "markdown",
   "id": "c43bb45d",
   "metadata": {},
   "source": [
    "Данный график малоинформативен - здесь видно только два аномально высоких значения."
   ]
  },
  {
   "cell_type": "code",
   "execution_count": 39,
   "id": "be4266d3",
   "metadata": {},
   "outputs": [
    {
     "data": {
      "text/plain": [
       "(0.0, 1200.0, 0.0, 150000.0)"
      ]
     },
     "execution_count": 39,
     "metadata": {},
     "output_type": "execute_result"
    },
    {
     "data": {
      "image/png": "[encoded data removed]",
      "text/plain": [
       "<Figure size 640x480 with 1 Axes>"
      ]
     },
     "metadata": {},
     "output_type": "display_data"
    }
   ],
   "source": [
    "x_values = pd.Series(range(0,len(orders['revenue'])))\n",
    "plt.scatter(x_values, orders['revenue'])\n",
    "plt.axis([0, 1200, 0, 150000])"
   ]
  },
  {
   "cell_type": "markdown",
   "id": "aa54ca5f",
   "metadata": {},
   "source": [
    "Ограничив максимальную стоимость заказа 150 тыс. рублями, можно увидеть, что стоимость большей части заказов до 40000 рублей."
   ]
  },
  {
   "cell_type": "markdown",
   "id": "8c7a9ec8",
   "metadata": {},
   "source": [
    "#### 95-й и 99-й перцентили стоимости заказов."
   ]
  },
  {
   "cell_type": "markdown",
   "id": "6e6c4db1",
   "metadata": {},
   "source": [
    "Определим 95 и 99 перцентили среднего чека в выборке:"
   ]
  },
  {
   "cell_type": "code",
   "execution_count": 40,
   "id": "e20ce15b",
   "metadata": {},
   "outputs": [
    {
     "data": {
      "text/plain": [
       "array([28000. , 58233.2])"
      ]
     },
     "execution_count": 40,
     "metadata": {},
     "output_type": "execute_result"
    }
   ],
   "source": [
    "np.percentile(orders['revenue'], [95, 99])"
   ]
  },
  {
   "cell_type": "markdown",
   "id": "d857cf7c",
   "metadata": {},
   "source": [
    "Не менее 95% заказов имеет стоимость до 28 тыс. руб и менее 1% заказов имеет стоимость выше 58233.2 рубля.\n",
    "\n",
    "Примем за верхнюю границу стоимости заказов сумму в 58234 рубля."
   ]
  },
  {
   "cell_type": "markdown",
   "id": "62e9c8fe",
   "metadata": {},
   "source": [
    "### Анализ статистической значимости"
   ]
  },
  {
   "cell_type": "markdown",
   "id": "126ee528",
   "metadata": {},
   "source": [
    "#### статистическая значимость различий в среднем количестве заказов на посетителя между группами по «сырым» данным."
   ]
  },
  {
   "cell_type": "markdown",
   "id": "44eeafbe",
   "metadata": {},
   "source": [
    "Посчитаем статистическую значимость различий в среднем числе заказов на пользователя и среднем чеке между группами по «сырым» данным — без удаления аномальных пользователей.\n",
    "\n",
    "Сформулируем гипотезы:   \n",
    "**Нулевая**: различий в среднем количестве заказов между группами нет.   \n",
    "**Альтернативная**: различия в среднем между группами есть."
   ]
  },
  {
   "cell_type": "code",
   "execution_count": 41,
   "id": "a40b65c6",
   "metadata": {},
   "outputs": [],
   "source": [
    "visitorsADaily = visitors[visitors[\"group\"] == \"A\"][[\"date\", \"visitors\"]]\n",
    "visitorsADaily.columns = [\"date\", \"visitorsPerDateA\"]\n",
    "\n",
    "visitorsBDaily = visitors[visitors[\"group\"] == \"B\"][[\"date\", \"visitors\"]]\n",
    "visitorsBDaily.columns = [\"date\", \"visitorsPerDateB\"]\n",
    "\n",
    "\n",
    "ordersADaily = (\n",
    "    orders[orders[\"group\"] == \"A\"][[\"date\", \"orderId\", \"userId\", \"revenue\"]]\n",
    "    .groupby(\"date\", as_index=False)\n",
    "    .agg({\"orderId\": pd.Series.nunique, \"revenue\": \"sum\"})\n",
    ")\n",
    "ordersADaily.columns = [\"date\", \"ordersPerDateA\", \"revenuePerDateA\"]\n",
    "\n",
    "\n",
    "ordersBDaily = (\n",
    "    orders[orders[\"group\"] == \"B\"][[\"date\", \"orderId\", \"userId\", \"revenue\"]]\n",
    "    .groupby(\"date\", as_index=False)\n",
    "    .agg({\"orderId\": pd.Series.nunique, \"revenue\": \"sum\"})\n",
    ")\n",
    "ordersBDaily.columns = [\"date\", \"ordersPerDateB\", \"revenuePerDateB\"]"
   ]
  },
  {
   "cell_type": "markdown",
   "id": "317ba012",
   "metadata": {},
   "source": [
    "Названия столбцов данных:\n",
    "\n",
    "* `date` — дата;\n",
    "* `ordersPerDateA` — количество заказов в выбранную дату в группе A;\n",
    "* `revenuePerDateA` — суммарная выручка в выбранную дату в группе A;\n",
    "* `ordersPerDateB` — количество заказов в выбранную дату в группе B;\n",
    "* `revenuePerDateB` — суммарная выручка в выбранную дату в группе B;\n",
    "* `visitorsPerDateA` — количество пользователей в выбранную дату в группе A;\n",
    "* `visitorsPerDateB` — количество пользователей в выбранную дату в группе B;"
   ]
  },
  {
   "cell_type": "markdown",
   "id": "57923bb4",
   "metadata": {},
   "source": [
    "Создадим переменные `ordersByUsersA` и `ordersByUsersB` со столбцами `['userId', 'orders']`. В них для пользователей, которые заказывали хотя бы 1 раз, укажем число совершённых заказов. "
   ]
  },
  {
   "cell_type": "code",
   "execution_count": 42,
   "id": "d72065e8",
   "metadata": {},
   "outputs": [],
   "source": [
    "ordersByUsersA = (\n",
    "    orders[orders[\"group\"] == \"A\"]\n",
    "    .groupby(\"userId\", as_index=False)\n",
    "    .agg({\"orderId\": pd.Series.nunique})\n",
    ")\n",
    "ordersByUsersA.columns = [\"userId\", \"orders\"]\n",
    "\n",
    "ordersByUsersB = (\n",
    "    orders[orders[\"group\"] == \"B\"]\n",
    "    .groupby(\"userId\", as_index=False)\n",
    "    .agg({\"orderId\": pd.Series.nunique})\n",
    ")\n",
    "ordersByUsersB.columns = [\"userId\", \"orders\"]"
   ]
  },
  {
   "cell_type": "markdown",
   "id": "02862b5e",
   "metadata": {},
   "source": [
    "Объявим переменные `sampleA` и `sampleB`, в которых пользователям из разных групп будет соответствовать количество заказов. Тем, кто ничего не заказал, будут соответствовать нули. Это нужно, чтобы подготовить выборки к проверке критерием Манна-Уитни."
   ]
  },
  {
   "cell_type": "code",
   "execution_count": 43,
   "id": "d1dd56d7",
   "metadata": {},
   "outputs": [],
   "source": [
    "sampleA = pd.concat(\n",
    "    [\n",
    "        ordersByUsersA[\"orders\"],\n",
    "        pd.Series(\n",
    "            0,\n",
    "            index=np.arange(\n",
    "                visitorsADaily[\"visitorsPerDateA\"].sum() - len(ordersByUsersA[\"orders\"])\n",
    "            ),\n",
    "            name=\"orders\",\n",
    "        ),\n",
    "    ],\n",
    "    axis=0,\n",
    ")\n",
    "\n",
    "sampleB = pd.concat(\n",
    "    [\n",
    "        ordersByUsersB[\"orders\"],\n",
    "        pd.Series(\n",
    "            0,\n",
    "            index=np.arange(\n",
    "                visitorsBDaily[\"visitorsPerDateB\"].sum() - len(ordersByUsersB[\"orders\"])\n",
    "            ),\n",
    "            name=\"orders\",\n",
    "        ),\n",
    "    ],\n",
    "    axis=0,\n",
    ")"
   ]
  },
  {
   "cell_type": "markdown",
   "id": "c56c8978",
   "metadata": {},
   "source": [
    "Выведем относительный прирост среднего числа заказов группы B: `среднее число заказов группы B / среднее число заказов группы A - 1`.  Округлим до трёх знаков после запятой."
   ]
  },
  {
   "cell_type": "code",
   "execution_count": 44,
   "id": "9f981b78",
   "metadata": {},
   "outputs": [
    {
     "name": "stdout",
     "output_type": "stream",
     "text": [
      "P-value: 0.017\n",
      "Относительный прирост В к А: 0.138\n"
     ]
    }
   ],
   "source": [
    "print(\"P-value: {0:.3f}\".format(stats.mannwhitneyu(sampleA, sampleB)[1]))\n",
    "\n",
    "print(\"Относительный прирост В к А: {0:.3f}\".format(sampleB.mean() / sampleA.mean() - 1))"
   ]
  },
  {
   "cell_type": "markdown",
   "id": "2fa9157e",
   "metadata": {},
   "source": [
    "По \"сырым\" данным различия в в среднем числе заказов между группами есть.\n",
    "P-value = 0.017 меньше 0.05. Значит, нулевую гипотезу о том, что статистически значимых различий в конверсии между группами нет, отвергаем. Относительный выигрыш группы B равен 13.8%."
   ]
  },
  {
   "cell_type": "markdown",
   "id": "2fb5d72a",
   "metadata": {},
   "source": [
    "#### статистическая значимость различий в среднем чеке заказа между группами по «сырым» данным."
   ]
  },
  {
   "cell_type": "markdown",
   "id": "ee4b2c77",
   "metadata": {},
   "source": [
    "Теперь проверим статистическую значимость различий в среднем чеке между сегментами. Нулевая гипотеза: различий в среднем чеке между группами нет. Альтернативная гипотеза: различия в среднем чеке между группами есть. \n",
    "\n",
    "Чтобы рассчитать статистическую значимость различий в среднем чеке, передадим критерию `mannwhitneyu()` данные о выручке с заказов. "
   ]
  },
  {
   "cell_type": "code",
   "execution_count": 45,
   "id": "09618836",
   "metadata": {},
   "outputs": [
    {
     "name": "stdout",
     "output_type": "stream",
     "text": [
      "P-value: 0.729\n",
      "Относительный прирост В к А: 0.259\n"
     ]
    }
   ],
   "source": [
    "print(\n",
    "    \"P-value: {0:.3f}\".format(\n",
    "        stats.mannwhitneyu(\n",
    "            orders[orders[\"group\"] == \"A\"][\"revenue\"],\n",
    "            orders[orders[\"group\"] == \"B\"][\"revenue\"],\n",
    "        )[1]\n",
    "    )\n",
    ")\n",
    "print(\n",
    "    \"Относительный прирост В к А: {0:.3f}\".format(\n",
    "        orders[orders[\"group\"] == \"B\"][\"revenue\"].mean()\n",
    "        / orders[orders[\"group\"] == \"A\"][\"revenue\"].mean()\n",
    "        - 1\n",
    "    )\n",
    ")\n"
   ]
  },
  {
   "cell_type": "markdown",
   "id": "350e8929",
   "metadata": {},
   "source": [
    "P-value значительно больше 0.05. Значит, причин отвергать нулевую гипотезу и считать, что в среднем чеке есть различия, нет. Средний чек группы B на 26% выше среднего чека группы A."
   ]
  },
  {
   "cell_type": "markdown",
   "id": "1dba0225",
   "metadata": {},
   "source": [
    "#### статистическая значимость различий в среднем количестве заказов на посетителя между группами по «очищенным» данным."
   ]
  },
  {
   "cell_type": "markdown",
   "id": "0b015df3",
   "metadata": {},
   "source": [
    "\"Очистим\" данные, убрав аномальных пользователей.\n",
    "\n",
    "Аномальными пользователями будем считать тех, кто совершил более 4 заказов и пользователей заказавших на сумму более 58234 рублей. Так мы уберём 1% пользователей с наибольшим числом заказов и 1% пользователей с дорогими заказами."
   ]
  },
  {
   "cell_type": "code",
   "execution_count": 46,
   "id": "1b5f35db",
   "metadata": {},
   "outputs": [
    {
     "name": "stdout",
     "output_type": "stream",
     "text": [
      "1099    148427295\n",
      "Name: userId, dtype: int64\n",
      "15 - количество аномальных пользователей\n"
     ]
    }
   ],
   "source": [
    "orders_amt_limit = np.percentile(ordersByUsers['orders'], 99)\n",
    "\n",
    "usersWithManyOrders = pd.concat(\n",
    "    [\n",
    "        ordersByUsersA[ordersByUsersA[\"orders\"] > orders_amt_limit][\"userId\"],\n",
    "        ordersByUsersB[ordersByUsersB[\"orders\"] > orders_amt_limit][\"userId\"],\n",
    "    ],\n",
    "    axis=0,\n",
    ")\n",
    "\n",
    "revenue_limit = np.percentile(orders['revenue'], 99)\n",
    "\n",
    "usersWithExpensiveOrders = orders[orders[\"revenue\"] > revenue_limit][\"userId\"]\n",
    "abnormalUsers = (\n",
    "    pd.concat([usersWithManyOrders, usersWithExpensiveOrders], axis=0)\n",
    "    .drop_duplicates()\n",
    "    .sort_values()\n",
    ")\n",
    "print(abnormalUsers.head(1))\n",
    "print(abnormalUsers.shape[0] , '- количество аномальных пользователей')"
   ]
  },
  {
   "cell_type": "markdown",
   "id": "3160e2b0",
   "metadata": {},
   "source": [
    "Узнаем, как их действия повлияли на результаты теста. Посчитаем статистическую значимость различий в среднем количестве заказов между группами теста по очищенным данным. Сначала подготовим выборки количества заказов по пользователям по группам теста:"
   ]
  },
  {
   "cell_type": "code",
   "execution_count": 47,
   "id": "42948978",
   "metadata": {},
   "outputs": [],
   "source": [
    "sampleAFiltered = pd.concat(\n",
    "    [\n",
    "        ordersByUsersA[\n",
    "            np.logical_not(ordersByUsersA['userId'].isin(abnormalUsers))\n",
    "        ]['orders'],\n",
    "        pd.Series(\n",
    "            0,\n",
    "            index=np.arange(\n",
    "                visitorsADaily['visitorsPerDateA'].sum() - len(ordersByUsersA['orders'])\n",
    "            ),\n",
    "            name='orders',\n",
    "        ),\n",
    "    ],\n",
    "    axis=0,\n",
    ")\n",
    "\n",
    "sampleBFiltered = pd.concat(\n",
    "    [\n",
    "        ordersByUsersB[\n",
    "            np.logical_not(ordersByUsersB['userId'].isin(abnormalUsers))\n",
    "        ]['orders'],\n",
    "        pd.Series(\n",
    "            0,\n",
    "            index=np.arange(\n",
    "                visitorsBDaily['visitorsPerDateB'].sum() - len(ordersByUsersB['orders'])\n",
    "            ),\n",
    "            name='orders',\n",
    "        ),\n",
    "    ],\n",
    "    axis=0,\n",
    ")"
   ]
  },
  {
   "cell_type": "markdown",
   "id": "06282206",
   "metadata": {},
   "source": [
    "Применим статистический критерий Манна-Уитни к полученным выборкам:"
   ]
  },
  {
   "cell_type": "code",
   "execution_count": 48,
   "id": "46af01bd",
   "metadata": {},
   "outputs": [
    {
     "name": "stdout",
     "output_type": "stream",
     "text": [
      "P-value: 0.014\n",
      "Относительный прирост В к А: 0.153\n"
     ]
    }
   ],
   "source": [
    "print(\"P-value: {0:.3f}\".format(stats.mannwhitneyu(sampleAFiltered, sampleBFiltered)[1]))\n",
    "print(\"Относительный прирост В к А: {0:.3f}\".format(sampleBFiltered.mean() / sampleAFiltered.mean() - 1))\n"
   ]
  },
  {
   "cell_type": "markdown",
   "id": "442614ba",
   "metadata": {},
   "source": [
    "На чистых данных разница между группами есть, а относительный прирост заказов группы В относительно группы А увеличился на 15%."
   ]
  },
  {
   "cell_type": "markdown",
   "id": "d8b7e22f",
   "metadata": {},
   "source": [
    "#### статистическая значимость различий в среднем чеке заказа между группами по «очищенным» данным"
   ]
  },
  {
   "cell_type": "code",
   "execution_count": 49,
   "id": "834d206d",
   "metadata": {},
   "outputs": [
    {
     "name": "stdout",
     "output_type": "stream",
     "text": [
      "P-value: 0.851\n",
      "Относительный прирост В к А: -0.006\n"
     ]
    }
   ],
   "source": [
    "print(\n",
    "    'P-value: {0:.3f}'.format(\n",
    "        stats.mannwhitneyu(\n",
    "            orders[\n",
    "                np.logical_and(\n",
    "                    orders['group'] == 'A',\n",
    "                    np.logical_not(orders['userId'].isin(abnormalUsers)),\n",
    "                )\n",
    "            ]['revenue'],\n",
    "            orders[\n",
    "                np.logical_and(\n",
    "                    orders['group'] == 'B',\n",
    "                    np.logical_not(orders['userId'].isin(abnormalUsers)),\n",
    "                )\n",
    "            ]['revenue'],\n",
    "        )[1]\n",
    "    )\n",
    ")\n",
    "\n",
    "print(\n",
    "    \"Относительный прирост В к А: {0:.3f}\".format(\n",
    "        orders[\n",
    "            np.logical_and(\n",
    "                orders['group'] == 'B',\n",
    "                np.logical_not(orders['userId'].isin(abnormalUsers)),\n",
    "            )\n",
    "        ]['revenue'].mean()\n",
    "        / orders[\n",
    "            np.logical_and(\n",
    "                orders['group'] == 'A',\n",
    "                np.logical_not(orders['userId'].isin(abnormalUsers)),\n",
    "            )\n",
    "        ]['revenue'].mean()\n",
    "        - 1\n",
    "    )\n",
    ")"
   ]
  },
  {
   "cell_type": "markdown",
   "id": "f97bbff8",
   "metadata": {},
   "source": [
    "P-value значительно больше 0.05. Значит, причин отвергать нулевую гипотезу и считать, что в среднем чеке есть различия, нет. По разнице средних чеков групп различий практически нет."
   ]
  },
  {
   "cell_type": "markdown",
   "id": "baa0d8a4",
   "metadata": {},
   "source": [
    "## Выводы"
   ]
  },
  {
   "cell_type": "markdown",
   "id": "4ec4b855",
   "metadata": {},
   "source": [
    "Проанализировав данные, полученные интернет-магазином, можно сделать следующие выводы:"
   ]
  },
  {
   "cell_type": "markdown",
   "id": "b41e06d3",
   "metadata": {},
   "source": [
    "В части **приоритизации** гипотез для проведения последующего тестирования, стоит обратить внимания на следующие гипотезы:\n",
    "* охват аудитории не важен:\n",
    "    1. Запустить акцию, дающую скидку на товар в день рождения,\n",
    "    2. Добавить два новых канала привлечения трафика, что позволит привлекать на 30% больше пользователей,\n",
    "    3. Добавить форму подписки на все основные страницы, чтобы собрать базу клиентов для email-рассылок.\n",
    "* охват аудитории имеет значение:\n",
    "    1. Добавить форму подписки на все основные страницы, чтобы собрать базу клиентов для email-рассылок,\n",
    "    2. Добавить блоки рекомендаций товаров на сайт интернет магазина, чтобы повысить конверсию и средний чек заказа,\n",
    "    3. Добавить два новых канала привлечения трафика, что позволит привлекать на 30% больше пользователей."
   ]
  },
  {
   "cell_type": "markdown",
   "id": "4de5857a",
   "metadata": {},
   "source": [
    "В части анализа A/B-теста:\n",
    "\n",
    "* Есть статистически значимое различие по конверсии между группами как по «сырым», так и по данным после фильтрации аномалий. Конверсия группы B выше, чем в A, на 15%;\n",
    "\n",
    "* Нет статистически значимого различия по среднему чеку между группами ни по «сырым», ни по данным после фильтрации аномалий. При этом средний чек группы B выше на ~2%;\n",
    "\n",
    "* График относительного изменения кумулятивной конверсии группы B к группе A показывает, что результаты группы B стабильно лучше группы A;\n",
    "\n",
    "На основании вышеизложенного рекомендуем **остановить тест**, зафиксировав **победу группы B** (ее конверсия значительно выше конверсии группы A)."
   ]
  }
 ],
 "metadata": {
  "ExecuteTimeLog": [
   {
    "duration": 1392,
    "start_time": "2023-01-09T20:15:17.339Z"
   },
   {
    "duration": 190,
    "start_time": "2023-01-09T20:15:18.734Z"
   },
   {
    "duration": 0,
    "start_time": "2023-01-09T20:15:18.930Z"
   },
   {
    "duration": 0,
    "start_time": "2023-01-09T20:15:18.931Z"
   },
   {
    "duration": 0,
    "start_time": "2023-01-09T20:15:18.932Z"
   },
   {
    "duration": 0,
    "start_time": "2023-01-09T20:15:18.934Z"
   },
   {
    "duration": 0,
    "start_time": "2023-01-09T20:15:18.935Z"
   },
   {
    "duration": 0,
    "start_time": "2023-01-09T20:15:18.952Z"
   },
   {
    "duration": 0,
    "start_time": "2023-01-09T20:15:18.953Z"
   },
   {
    "duration": 0,
    "start_time": "2023-01-09T20:15:18.955Z"
   },
   {
    "duration": 0,
    "start_time": "2023-01-09T20:15:18.956Z"
   },
   {
    "duration": 0,
    "start_time": "2023-01-09T20:15:18.958Z"
   },
   {
    "duration": 0,
    "start_time": "2023-01-09T20:15:18.960Z"
   },
   {
    "duration": 0,
    "start_time": "2023-01-09T20:15:18.961Z"
   },
   {
    "duration": 0,
    "start_time": "2023-01-09T20:15:18.962Z"
   },
   {
    "duration": 0,
    "start_time": "2023-01-09T20:15:18.964Z"
   },
   {
    "duration": 0,
    "start_time": "2023-01-09T20:15:18.966Z"
   },
   {
    "duration": 0,
    "start_time": "2023-01-09T20:15:18.967Z"
   },
   {
    "duration": 0,
    "start_time": "2023-01-09T20:15:18.970Z"
   },
   {
    "duration": 0,
    "start_time": "2023-01-09T20:15:18.971Z"
   },
   {
    "duration": 0,
    "start_time": "2023-01-09T20:15:18.973Z"
   },
   {
    "duration": 0,
    "start_time": "2023-01-09T20:15:18.974Z"
   },
   {
    "duration": 0,
    "start_time": "2023-01-09T20:15:18.976Z"
   },
   {
    "duration": 0,
    "start_time": "2023-01-09T20:15:18.978Z"
   },
   {
    "duration": 0,
    "start_time": "2023-01-09T20:15:18.978Z"
   },
   {
    "duration": 0,
    "start_time": "2023-01-09T20:15:18.979Z"
   },
   {
    "duration": 0,
    "start_time": "2023-01-09T20:15:18.980Z"
   },
   {
    "duration": 0,
    "start_time": "2023-01-09T20:15:18.982Z"
   },
   {
    "duration": 0,
    "start_time": "2023-01-09T20:15:18.983Z"
   },
   {
    "duration": 0,
    "start_time": "2023-01-09T20:15:18.984Z"
   },
   {
    "duration": 0,
    "start_time": "2023-01-09T20:15:18.986Z"
   },
   {
    "duration": 0,
    "start_time": "2023-01-09T20:15:18.987Z"
   },
   {
    "duration": 0,
    "start_time": "2023-01-09T20:15:18.988Z"
   },
   {
    "duration": 0,
    "start_time": "2023-01-09T20:15:18.989Z"
   },
   {
    "duration": 0,
    "start_time": "2023-01-09T20:15:19.050Z"
   },
   {
    "duration": 0,
    "start_time": "2023-01-09T20:15:19.052Z"
   },
   {
    "duration": 0,
    "start_time": "2023-01-09T20:15:19.053Z"
   },
   {
    "duration": 0,
    "start_time": "2023-01-09T20:15:19.055Z"
   },
   {
    "duration": 1586,
    "start_time": "2023-01-09T20:17:20.850Z"
   },
   {
    "duration": 228,
    "start_time": "2023-01-09T20:17:22.438Z"
   },
   {
    "duration": 16,
    "start_time": "2023-01-09T20:17:22.668Z"
   },
   {
    "duration": 5,
    "start_time": "2023-01-09T20:17:22.686Z"
   },
   {
    "duration": 15,
    "start_time": "2023-01-09T20:17:22.693Z"
   },
   {
    "duration": 9,
    "start_time": "2023-01-09T20:17:22.710Z"
   },
   {
    "duration": 261,
    "start_time": "2023-01-09T20:17:22.720Z"
   },
   {
    "duration": 11,
    "start_time": "2023-01-09T20:17:22.983Z"
   },
   {
    "duration": 18,
    "start_time": "2023-01-09T20:17:22.995Z"
   },
   {
    "duration": 22,
    "start_time": "2023-01-09T20:17:23.016Z"
   },
   {
    "duration": 17,
    "start_time": "2023-01-09T20:17:23.040Z"
   },
   {
    "duration": 26,
    "start_time": "2023-01-09T20:17:23.058Z"
   },
   {
    "duration": 5,
    "start_time": "2023-01-09T20:17:23.086Z"
   },
   {
    "duration": 214,
    "start_time": "2023-01-09T20:17:23.093Z"
   },
   {
    "duration": 157,
    "start_time": "2023-01-09T20:17:23.309Z"
   },
   {
    "duration": 10,
    "start_time": "2023-01-09T20:17:23.468Z"
   },
   {
    "duration": 17,
    "start_time": "2023-01-09T20:17:23.480Z"
   },
   {
    "duration": 346,
    "start_time": "2023-01-09T20:17:23.499Z"
   },
   {
    "duration": 320,
    "start_time": "2023-01-09T20:17:23.847Z"
   },
   {
    "duration": 429,
    "start_time": "2023-01-09T20:17:24.178Z"
   },
   {
    "duration": 297,
    "start_time": "2023-01-09T20:17:24.608Z"
   },
   {
    "duration": 446,
    "start_time": "2023-01-09T20:17:24.907Z"
   },
   {
    "duration": 25,
    "start_time": "2023-01-09T20:17:25.355Z"
   },
   {
    "duration": 150,
    "start_time": "2023-01-09T20:17:25.382Z"
   },
   {
    "duration": 6,
    "start_time": "2023-01-09T20:17:25.533Z"
   },
   {
    "duration": 18,
    "start_time": "2023-01-09T20:17:25.552Z"
   },
   {
    "duration": 171,
    "start_time": "2023-01-09T20:17:25.573Z"
   },
   {
    "duration": 167,
    "start_time": "2023-01-09T20:17:25.750Z"
   },
   {
    "duration": 5,
    "start_time": "2023-01-09T20:17:25.919Z"
   },
   {
    "duration": 279,
    "start_time": "2023-01-09T20:17:25.926Z"
   },
   {
    "duration": 213,
    "start_time": "2023-01-09T20:17:26.207Z"
   },
   {
    "duration": 8,
    "start_time": "2023-01-09T20:17:26.422Z"
   },
   {
    "duration": 261,
    "start_time": "2023-01-09T20:17:26.432Z"
   },
   {
    "duration": 13,
    "start_time": "2023-01-09T20:17:26.695Z"
   },
   {
    "duration": 49,
    "start_time": "2023-01-09T20:17:26.710Z"
   },
   {
    "duration": 11,
    "start_time": "2023-01-09T20:17:26.762Z"
   },
   {
    "duration": 32,
    "start_time": "2023-01-09T20:17:26.775Z"
   },
   {
    "duration": 48,
    "start_time": "2023-01-09T20:17:26.809Z"
   },
   {
    "duration": 1947,
    "start_time": "2023-01-10T09:51:51.779Z"
   },
   {
    "duration": 47,
    "start_time": "2023-01-10T09:51:53.727Z"
   },
   {
    "duration": 12,
    "start_time": "2023-01-10T09:51:53.776Z"
   },
   {
    "duration": 5,
    "start_time": "2023-01-10T09:51:53.789Z"
   },
   {
    "duration": 9,
    "start_time": "2023-01-10T09:51:53.795Z"
   },
   {
    "duration": 6,
    "start_time": "2023-01-10T09:51:53.806Z"
   },
   {
    "duration": 87,
    "start_time": "2023-01-10T09:51:53.813Z"
   },
   {
    "duration": 7,
    "start_time": "2023-01-10T09:51:53.902Z"
   },
   {
    "duration": 9,
    "start_time": "2023-01-10T09:51:53.911Z"
   },
   {
    "duration": 18,
    "start_time": "2023-01-10T09:51:53.923Z"
   },
   {
    "duration": 10,
    "start_time": "2023-01-10T09:51:53.943Z"
   },
   {
    "duration": 12,
    "start_time": "2023-01-10T09:51:53.955Z"
   },
   {
    "duration": 10,
    "start_time": "2023-01-10T09:51:53.968Z"
   },
   {
    "duration": 171,
    "start_time": "2023-01-10T09:51:53.979Z"
   },
   {
    "duration": 110,
    "start_time": "2023-01-10T09:51:54.152Z"
   },
   {
    "duration": 5,
    "start_time": "2023-01-10T09:51:54.264Z"
   },
   {
    "duration": 14,
    "start_time": "2023-01-10T09:51:54.270Z"
   },
   {
    "duration": 272,
    "start_time": "2023-01-10T09:51:54.286Z"
   },
   {
    "duration": 249,
    "start_time": "2023-01-10T09:51:54.560Z"
   },
   {
    "duration": 339,
    "start_time": "2023-01-10T09:51:54.816Z"
   },
   {
    "duration": 239,
    "start_time": "2023-01-10T09:51:55.157Z"
   },
   {
    "duration": 385,
    "start_time": "2023-01-10T09:51:55.398Z"
   },
   {
    "duration": 11,
    "start_time": "2023-01-10T09:51:55.785Z"
   },
   {
    "duration": 123,
    "start_time": "2023-01-10T09:51:55.797Z"
   },
   {
    "duration": 5,
    "start_time": "2023-01-10T09:51:55.922Z"
   },
   {
    "duration": 13,
    "start_time": "2023-01-10T09:51:55.928Z"
   },
   {
    "duration": 156,
    "start_time": "2023-01-10T09:51:55.943Z"
   },
   {
    "duration": 132,
    "start_time": "2023-01-10T09:51:56.102Z"
   },
   {
    "duration": 4,
    "start_time": "2023-01-10T09:51:56.236Z"
   },
   {
    "duration": 225,
    "start_time": "2023-01-10T09:51:56.242Z"
   },
   {
    "duration": 165,
    "start_time": "2023-01-10T09:51:56.469Z"
   },
   {
    "duration": 8,
    "start_time": "2023-01-10T09:51:56.636Z"
   },
   {
    "duration": 223,
    "start_time": "2023-01-10T09:51:56.646Z"
   },
   {
    "duration": 12,
    "start_time": "2023-01-10T09:51:56.870Z"
   },
   {
    "duration": 9,
    "start_time": "2023-01-10T09:51:56.884Z"
   },
   {
    "duration": 10,
    "start_time": "2023-01-10T09:51:56.915Z"
   },
   {
    "duration": 24,
    "start_time": "2023-01-10T09:51:56.927Z"
   },
   {
    "duration": 13,
    "start_time": "2023-01-10T09:51:56.952Z"
   },
   {
    "duration": 49,
    "start_time": "2023-01-10T09:54:38.584Z"
   },
   {
    "duration": 80,
    "start_time": "2023-01-10T09:56:29.284Z"
   },
   {
    "duration": 42,
    "start_time": "2023-01-10T09:59:08.479Z"
   },
   {
    "duration": 63,
    "start_time": "2023-01-10T10:00:25.028Z"
   },
   {
    "duration": 58,
    "start_time": "2023-01-10T10:05:17.800Z"
   },
   {
    "duration": 1243,
    "start_time": "2023-01-10T11:03:06.725Z"
   },
   {
    "duration": 112,
    "start_time": "2023-01-10T11:03:07.970Z"
   },
   {
    "duration": 12,
    "start_time": "2023-01-10T11:03:08.084Z"
   },
   {
    "duration": 9,
    "start_time": "2023-01-10T11:03:08.098Z"
   },
   {
    "duration": 33,
    "start_time": "2023-01-10T11:03:08.109Z"
   },
   {
    "duration": 19,
    "start_time": "2023-01-10T11:03:08.144Z"
   },
   {
    "duration": 196,
    "start_time": "2023-01-10T11:03:08.165Z"
   },
   {
    "duration": 7,
    "start_time": "2023-01-10T11:03:08.362Z"
   },
   {
    "duration": 21,
    "start_time": "2023-01-10T11:03:08.371Z"
   },
   {
    "duration": 28,
    "start_time": "2023-01-10T11:03:08.394Z"
   },
   {
    "duration": 23,
    "start_time": "2023-01-10T11:03:08.423Z"
   },
   {
    "duration": 30,
    "start_time": "2023-01-10T11:03:08.447Z"
   },
   {
    "duration": 21,
    "start_time": "2023-01-10T11:03:08.478Z"
   },
   {
    "duration": 162,
    "start_time": "2023-01-10T11:03:08.501Z"
   },
   {
    "duration": 118,
    "start_time": "2023-01-10T11:03:08.664Z"
   },
   {
    "duration": 6,
    "start_time": "2023-01-10T11:03:08.783Z"
   },
   {
    "duration": 25,
    "start_time": "2023-01-10T11:03:08.790Z"
   },
   {
    "duration": 271,
    "start_time": "2023-01-10T11:03:08.816Z"
   },
   {
    "duration": 254,
    "start_time": "2023-01-10T11:03:09.088Z"
   },
   {
    "duration": 372,
    "start_time": "2023-01-10T11:03:09.344Z"
   },
   {
    "duration": 266,
    "start_time": "2023-01-10T11:03:09.718Z"
   },
   {
    "duration": 413,
    "start_time": "2023-01-10T11:03:09.986Z"
   },
   {
    "duration": 12,
    "start_time": "2023-01-10T11:03:10.401Z"
   },
   {
    "duration": 125,
    "start_time": "2023-01-10T11:03:10.425Z"
   },
   {
    "duration": 5,
    "start_time": "2023-01-10T11:03:10.552Z"
   },
   {
    "duration": 22,
    "start_time": "2023-01-10T11:03:10.559Z"
   },
   {
    "duration": 145,
    "start_time": "2023-01-10T11:03:10.583Z"
   },
   {
    "duration": 146,
    "start_time": "2023-01-10T11:03:10.731Z"
   },
   {
    "duration": 5,
    "start_time": "2023-01-10T11:03:10.879Z"
   },
   {
    "duration": 450,
    "start_time": "2023-01-10T11:03:10.886Z"
   },
   {
    "duration": 318,
    "start_time": "2023-01-10T11:03:11.338Z"
   },
   {
    "duration": 7,
    "start_time": "2023-01-10T11:03:11.658Z"
   },
   {
    "duration": 379,
    "start_time": "2023-01-10T11:03:11.667Z"
   },
   {
    "duration": 11,
    "start_time": "2023-01-10T11:03:12.047Z"
   },
   {
    "duration": 10,
    "start_time": "2023-01-10T11:03:12.060Z"
   },
   {
    "duration": 9,
    "start_time": "2023-01-10T11:03:12.126Z"
   },
   {
    "duration": 31,
    "start_time": "2023-01-10T11:03:12.137Z"
   },
   {
    "duration": 63,
    "start_time": "2023-01-10T11:03:12.170Z"
   },
   {
    "duration": 3,
    "start_time": "2023-01-10T11:03:41.495Z"
   },
   {
    "duration": 7,
    "start_time": "2023-01-10T11:03:43.983Z"
   },
   {
    "duration": 7,
    "start_time": "2023-01-10T12:11:27.282Z"
   },
   {
    "duration": 7,
    "start_time": "2023-01-10T12:11:41.775Z"
   },
   {
    "duration": 7,
    "start_time": "2023-01-10T12:12:03.740Z"
   },
   {
    "duration": 111,
    "start_time": "2023-01-10T12:12:23.398Z"
   },
   {
    "duration": 9,
    "start_time": "2023-01-10T12:12:46.924Z"
   },
   {
    "duration": 10,
    "start_time": "2023-01-10T12:16:29.684Z"
   },
   {
    "duration": 10,
    "start_time": "2023-01-10T12:18:23.891Z"
   },
   {
    "duration": 597,
    "start_time": "2023-01-10T12:18:34.624Z"
   },
   {
    "duration": 6,
    "start_time": "2023-01-10T12:18:50.233Z"
   },
   {
    "duration": 7,
    "start_time": "2023-01-10T12:19:47.350Z"
   },
   {
    "duration": 7,
    "start_time": "2023-01-10T12:20:21.227Z"
   },
   {
    "duration": 8,
    "start_time": "2023-01-10T12:20:35.657Z"
   },
   {
    "duration": 11,
    "start_time": "2023-01-10T12:21:05.888Z"
   },
   {
    "duration": 8,
    "start_time": "2023-01-10T12:21:18.163Z"
   },
   {
    "duration": 21,
    "start_time": "2023-01-10T13:40:40.246Z"
   },
   {
    "duration": 1145,
    "start_time": "2023-01-10T13:41:27.042Z"
   },
   {
    "duration": 18,
    "start_time": "2023-01-10T13:41:37.185Z"
   },
   {
    "duration": 22,
    "start_time": "2023-01-10T13:41:58.087Z"
   },
   {
    "duration": 12,
    "start_time": "2023-01-10T13:42:41.338Z"
   },
   {
    "duration": 22,
    "start_time": "2023-01-10T13:43:18.897Z"
   },
   {
    "duration": 4,
    "start_time": "2023-01-10T13:43:52.903Z"
   },
   {
    "duration": 10,
    "start_time": "2023-01-10T13:44:17.349Z"
   },
   {
    "duration": 4,
    "start_time": "2023-01-10T13:44:46.924Z"
   },
   {
    "duration": 18,
    "start_time": "2023-01-10T13:48:06.133Z"
   },
   {
    "duration": 21,
    "start_time": "2023-01-10T13:51:35.563Z"
   },
   {
    "duration": 9,
    "start_time": "2023-01-10T14:01:14.103Z"
   },
   {
    "duration": 18,
    "start_time": "2023-01-10T14:03:24.751Z"
   },
   {
    "duration": 21,
    "start_time": "2023-01-10T14:03:34.254Z"
   },
   {
    "duration": 11,
    "start_time": "2023-01-10T14:06:21.373Z"
   },
   {
    "duration": 20,
    "start_time": "2023-01-10T14:06:35.672Z"
   },
   {
    "duration": 11,
    "start_time": "2023-01-10T14:07:03.926Z"
   },
   {
    "duration": 17,
    "start_time": "2023-01-10T14:07:10.850Z"
   },
   {
    "duration": 26,
    "start_time": "2023-01-10T14:07:35.761Z"
   },
   {
    "duration": 19,
    "start_time": "2023-01-10T14:14:37.816Z"
   },
   {
    "duration": 22,
    "start_time": "2023-01-10T14:14:53.852Z"
   },
   {
    "duration": 14,
    "start_time": "2023-01-10T14:28:48.573Z"
   },
   {
    "duration": 11,
    "start_time": "2023-01-10T14:29:50.326Z"
   },
   {
    "duration": 23,
    "start_time": "2023-01-10T14:30:55.647Z"
   },
   {
    "duration": 35,
    "start_time": "2023-01-10T14:32:15.622Z"
   },
   {
    "duration": 11,
    "start_time": "2023-01-10T14:32:28.254Z"
   },
   {
    "duration": 20,
    "start_time": "2023-01-10T14:32:35.705Z"
   },
   {
    "duration": 17,
    "start_time": "2023-01-10T14:33:39.103Z"
   },
   {
    "duration": 29,
    "start_time": "2023-01-10T14:33:50.823Z"
   },
   {
    "duration": 19,
    "start_time": "2023-01-10T14:34:05.419Z"
   },
   {
    "duration": 20,
    "start_time": "2023-01-10T14:34:22.623Z"
   },
   {
    "duration": 19,
    "start_time": "2023-01-10T14:34:29.057Z"
   },
   {
    "duration": 17,
    "start_time": "2023-01-10T14:35:32.549Z"
   },
   {
    "duration": 21,
    "start_time": "2023-01-10T14:35:42.758Z"
   },
   {
    "duration": 4,
    "start_time": "2023-01-10T14:36:32.309Z"
   },
   {
    "duration": 4,
    "start_time": "2023-01-10T14:36:47.262Z"
   },
   {
    "duration": 5,
    "start_time": "2023-01-10T14:36:59.219Z"
   },
   {
    "duration": 9,
    "start_time": "2023-01-10T14:39:38.137Z"
   },
   {
    "duration": 66,
    "start_time": "2023-01-10T14:42:14.741Z"
   },
   {
    "duration": 21,
    "start_time": "2023-01-10T14:44:37.401Z"
   },
   {
    "duration": 17,
    "start_time": "2023-01-10T14:44:48.590Z"
   },
   {
    "duration": 16,
    "start_time": "2023-01-10T14:47:32.831Z"
   },
   {
    "duration": 5,
    "start_time": "2023-01-10T14:47:41.630Z"
   },
   {
    "duration": 17,
    "start_time": "2023-01-10T14:48:00.795Z"
   },
   {
    "duration": 8,
    "start_time": "2023-01-10T14:48:03.541Z"
   },
   {
    "duration": 68,
    "start_time": "2023-01-10T14:48:39.874Z"
   },
   {
    "duration": 89,
    "start_time": "2023-01-10T14:48:51.526Z"
   },
   {
    "duration": 185,
    "start_time": "2023-01-10T14:48:58.360Z"
   },
   {
    "duration": 28,
    "start_time": "2023-01-10T14:49:13.851Z"
   },
   {
    "duration": 5,
    "start_time": "2023-01-10T14:49:20.770Z"
   },
   {
    "duration": 16,
    "start_time": "2023-01-10T14:50:28.348Z"
   },
   {
    "duration": 15,
    "start_time": "2023-01-10T14:50:44.476Z"
   },
   {
    "duration": 8,
    "start_time": "2023-01-10T14:50:48.978Z"
   },
   {
    "duration": 15,
    "start_time": "2023-01-10T14:52:33.031Z"
   },
   {
    "duration": 22,
    "start_time": "2023-01-10T14:53:16.821Z"
   },
   {
    "duration": 16,
    "start_time": "2023-01-10T14:53:51.976Z"
   },
   {
    "duration": 11,
    "start_time": "2023-01-10T14:54:23.356Z"
   },
   {
    "duration": 16,
    "start_time": "2023-01-10T14:54:42.633Z"
   },
   {
    "duration": 18,
    "start_time": "2023-01-10T14:55:01.033Z"
   },
   {
    "duration": 22,
    "start_time": "2023-01-10T14:55:21.614Z"
   },
   {
    "duration": 11,
    "start_time": "2023-01-10T14:55:39.569Z"
   },
   {
    "duration": 18,
    "start_time": "2023-01-10T14:56:30.019Z"
   },
   {
    "duration": 3,
    "start_time": "2023-01-10T16:04:49.803Z"
   },
   {
    "duration": 17,
    "start_time": "2023-01-10T16:05:55.044Z"
   },
   {
    "duration": 7,
    "start_time": "2023-01-10T16:07:10.324Z"
   },
   {
    "duration": 9,
    "start_time": "2023-01-10T16:07:38.238Z"
   },
   {
    "duration": 13,
    "start_time": "2023-01-10T16:09:29.914Z"
   },
   {
    "duration": 5,
    "start_time": "2023-01-10T16:09:31.732Z"
   },
   {
    "duration": 8,
    "start_time": "2023-01-10T16:10:33.104Z"
   },
   {
    "duration": 9,
    "start_time": "2023-01-10T16:10:57.488Z"
   },
   {
    "duration": 9,
    "start_time": "2023-01-10T16:11:07.059Z"
   },
   {
    "duration": 10,
    "start_time": "2023-01-10T16:12:12.275Z"
   },
   {
    "duration": 19,
    "start_time": "2023-01-10T16:12:58.290Z"
   },
   {
    "duration": 18,
    "start_time": "2023-01-10T16:13:05.143Z"
   },
   {
    "duration": 17,
    "start_time": "2023-01-10T16:13:07.632Z"
   },
   {
    "duration": 3,
    "start_time": "2023-01-10T16:13:21.747Z"
   },
   {
    "duration": 13,
    "start_time": "2023-01-10T16:16:06.311Z"
   },
   {
    "duration": 8,
    "start_time": "2023-01-10T16:18:13.232Z"
   },
   {
    "duration": 5,
    "start_time": "2023-01-10T16:18:44.463Z"
   },
   {
    "duration": 5,
    "start_time": "2023-01-10T16:28:15.917Z"
   },
   {
    "duration": 98,
    "start_time": "2023-01-10T16:28:24.853Z"
   },
   {
    "duration": 5,
    "start_time": "2023-01-10T16:28:28.728Z"
   },
   {
    "duration": 5,
    "start_time": "2023-01-10T16:29:01.076Z"
   },
   {
    "duration": 6,
    "start_time": "2023-01-10T16:29:19.498Z"
   },
   {
    "duration": 6,
    "start_time": "2023-01-10T16:29:34.670Z"
   },
   {
    "duration": 7,
    "start_time": "2023-01-10T16:29:42.044Z"
   },
   {
    "duration": 16,
    "start_time": "2023-01-10T16:30:19.325Z"
   },
   {
    "duration": 4,
    "start_time": "2023-01-10T16:32:15.064Z"
   },
   {
    "duration": 6,
    "start_time": "2023-01-10T16:32:56.327Z"
   },
   {
    "duration": 5,
    "start_time": "2023-01-10T16:33:33.794Z"
   },
   {
    "duration": 1097,
    "start_time": "2023-01-10T16:34:23.657Z"
   },
   {
    "duration": 58,
    "start_time": "2023-01-10T16:34:24.759Z"
   },
   {
    "duration": 3,
    "start_time": "2023-01-10T16:34:24.818Z"
   },
   {
    "duration": 44,
    "start_time": "2023-01-10T16:34:24.823Z"
   },
   {
    "duration": 16,
    "start_time": "2023-01-10T16:34:24.869Z"
   },
   {
    "duration": 4,
    "start_time": "2023-01-10T16:34:24.887Z"
   },
   {
    "duration": 11,
    "start_time": "2023-01-10T16:34:24.894Z"
   },
   {
    "duration": 8,
    "start_time": "2023-01-10T16:34:24.907Z"
   },
   {
    "duration": 99,
    "start_time": "2023-01-10T16:34:24.917Z"
   },
   {
    "duration": 8,
    "start_time": "2023-01-10T16:34:25.019Z"
   },
   {
    "duration": 34,
    "start_time": "2023-01-10T16:34:25.030Z"
   },
   {
    "duration": 21,
    "start_time": "2023-01-10T16:34:25.066Z"
   },
   {
    "duration": 21,
    "start_time": "2023-01-10T16:34:25.089Z"
   },
   {
    "duration": 17,
    "start_time": "2023-01-10T16:34:25.113Z"
   },
   {
    "duration": 43,
    "start_time": "2023-01-10T16:34:25.132Z"
   },
   {
    "duration": 18,
    "start_time": "2023-01-10T16:34:25.177Z"
   },
   {
    "duration": 9,
    "start_time": "2023-01-10T16:34:25.196Z"
   },
   {
    "duration": 25,
    "start_time": "2023-01-10T16:34:25.206Z"
   },
   {
    "duration": 17,
    "start_time": "2023-01-10T16:34:25.233Z"
   },
   {
    "duration": 14,
    "start_time": "2023-01-10T16:34:25.252Z"
   },
   {
    "duration": 14,
    "start_time": "2023-01-10T16:34:25.267Z"
   },
   {
    "duration": 6,
    "start_time": "2023-01-10T16:34:25.282Z"
   },
   {
    "duration": 9,
    "start_time": "2023-01-10T16:34:25.290Z"
   },
   {
    "duration": 19,
    "start_time": "2023-01-10T16:34:25.301Z"
   },
   {
    "duration": 192,
    "start_time": "2023-01-10T16:34:25.322Z"
   },
   {
    "duration": 163,
    "start_time": "2023-01-10T16:34:25.516Z"
   },
   {
    "duration": 11,
    "start_time": "2023-01-10T16:34:25.681Z"
   },
   {
    "duration": 17,
    "start_time": "2023-01-10T16:34:25.697Z"
   },
   {
    "duration": 356,
    "start_time": "2023-01-10T16:34:25.716Z"
   },
   {
    "duration": 189,
    "start_time": "2023-01-10T16:34:26.074Z"
   },
   {
    "duration": 280,
    "start_time": "2023-01-10T16:34:26.265Z"
   },
   {
    "duration": 310,
    "start_time": "2023-01-10T16:34:26.547Z"
   },
   {
    "duration": 0,
    "start_time": "2023-01-10T16:34:26.858Z"
   },
   {
    "duration": 0,
    "start_time": "2023-01-10T16:34:26.860Z"
   },
   {
    "duration": 0,
    "start_time": "2023-01-10T16:34:26.861Z"
   },
   {
    "duration": 0,
    "start_time": "2023-01-10T16:34:26.861Z"
   },
   {
    "duration": 0,
    "start_time": "2023-01-10T16:34:26.862Z"
   },
   {
    "duration": 0,
    "start_time": "2023-01-10T16:34:26.863Z"
   },
   {
    "duration": 0,
    "start_time": "2023-01-10T16:34:26.864Z"
   },
   {
    "duration": 0,
    "start_time": "2023-01-10T16:34:26.865Z"
   },
   {
    "duration": 0,
    "start_time": "2023-01-10T16:34:26.866Z"
   },
   {
    "duration": 0,
    "start_time": "2023-01-10T16:34:26.867Z"
   },
   {
    "duration": 0,
    "start_time": "2023-01-10T16:34:26.868Z"
   },
   {
    "duration": 0,
    "start_time": "2023-01-10T16:34:26.869Z"
   },
   {
    "duration": 0,
    "start_time": "2023-01-10T16:34:26.870Z"
   },
   {
    "duration": 0,
    "start_time": "2023-01-10T16:34:26.871Z"
   },
   {
    "duration": 0,
    "start_time": "2023-01-10T16:34:26.872Z"
   },
   {
    "duration": 0,
    "start_time": "2023-01-10T16:34:26.874Z"
   },
   {
    "duration": 0,
    "start_time": "2023-01-10T16:34:26.875Z"
   },
   {
    "duration": 191,
    "start_time": "2023-01-10T16:37:49.345Z"
   },
   {
    "duration": 180,
    "start_time": "2023-01-10T16:37:56.610Z"
   },
   {
    "duration": 193,
    "start_time": "2023-01-10T16:40:27.188Z"
   },
   {
    "duration": 184,
    "start_time": "2023-01-10T16:40:51.281Z"
   },
   {
    "duration": 229,
    "start_time": "2023-01-10T16:41:22.567Z"
   },
   {
    "duration": 322,
    "start_time": "2023-01-10T16:42:11.040Z"
   },
   {
    "duration": 353,
    "start_time": "2023-01-10T16:42:35.317Z"
   },
   {
    "duration": 12,
    "start_time": "2023-01-10T16:42:44.607Z"
   },
   {
    "duration": 103,
    "start_time": "2023-01-10T16:42:47.098Z"
   },
   {
    "duration": 14,
    "start_time": "2023-01-10T16:42:51.816Z"
   },
   {
    "duration": 119,
    "start_time": "2023-01-10T16:42:54.509Z"
   },
   {
    "duration": 121,
    "start_time": "2023-01-10T16:42:57.281Z"
   },
   {
    "duration": 5,
    "start_time": "2023-01-10T16:43:00.804Z"
   },
   {
    "duration": 213,
    "start_time": "2023-01-10T16:43:15.980Z"
   },
   {
    "duration": 124,
    "start_time": "2023-01-10T16:43:34.083Z"
   },
   {
    "duration": 115,
    "start_time": "2023-01-10T16:43:36.582Z"
   },
   {
    "duration": 5,
    "start_time": "2023-01-10T16:43:39.663Z"
   },
   {
    "duration": 140,
    "start_time": "2023-01-10T16:43:41.380Z"
   },
   {
    "duration": 10,
    "start_time": "2023-01-10T16:43:46.304Z"
   },
   {
    "duration": 8,
    "start_time": "2023-01-10T16:43:48.704Z"
   },
   {
    "duration": 186,
    "start_time": "2023-01-10T16:47:35.608Z"
   },
   {
    "duration": 173,
    "start_time": "2023-01-10T16:48:56.902Z"
   },
   {
    "duration": 268,
    "start_time": "2023-01-10T16:50:00.241Z"
   },
   {
    "duration": 297,
    "start_time": "2023-01-10T16:50:23.600Z"
   },
   {
    "duration": 176,
    "start_time": "2023-01-10T16:51:06.006Z"
   },
   {
    "duration": 350,
    "start_time": "2023-01-10T16:52:23.478Z"
   },
   {
    "duration": 294,
    "start_time": "2023-01-10T16:52:39.411Z"
   },
   {
    "duration": 5,
    "start_time": "2023-01-10T17:02:58.646Z"
   },
   {
    "duration": 10,
    "start_time": "2023-01-10T17:05:52.662Z"
   },
   {
    "duration": 5,
    "start_time": "2023-01-10T18:09:16.470Z"
   },
   {
    "duration": 7,
    "start_time": "2023-01-10T18:11:23.019Z"
   },
   {
    "duration": 161,
    "start_time": "2023-01-10T18:12:11.799Z"
   },
   {
    "duration": 8,
    "start_time": "2023-01-10T18:13:20.517Z"
   },
   {
    "duration": 33,
    "start_time": "2023-01-10T18:13:22.905Z"
   },
   {
    "duration": 216,
    "start_time": "2023-01-10T18:14:03.216Z"
   },
   {
    "duration": 20,
    "start_time": "2023-01-10T18:26:38.077Z"
   },
   {
    "duration": 12,
    "start_time": "2023-01-10T18:26:41.777Z"
   },
   {
    "duration": 28,
    "start_time": "2023-01-10T18:26:44.492Z"
   },
   {
    "duration": 14,
    "start_time": "2023-01-10T18:26:47.695Z"
   },
   {
    "duration": 11,
    "start_time": "2023-01-10T18:26:53.164Z"
   },
   {
    "duration": 245,
    "start_time": "2023-01-10T18:26:58.915Z"
   },
   {
    "duration": 46,
    "start_time": "2023-01-10T18:28:45.917Z"
   },
   {
    "duration": 1130,
    "start_time": "2023-01-10T18:29:25.263Z"
   },
   {
    "duration": 61,
    "start_time": "2023-01-10T18:29:26.394Z"
   },
   {
    "duration": 3,
    "start_time": "2023-01-10T18:29:26.457Z"
   },
   {
    "duration": 10,
    "start_time": "2023-01-10T18:29:26.462Z"
   },
   {
    "duration": 20,
    "start_time": "2023-01-10T18:29:26.476Z"
   },
   {
    "duration": 5,
    "start_time": "2023-01-10T18:29:26.497Z"
   },
   {
    "duration": 16,
    "start_time": "2023-01-10T18:29:26.504Z"
   },
   {
    "duration": 6,
    "start_time": "2023-01-10T18:29:26.522Z"
   },
   {
    "duration": 90,
    "start_time": "2023-01-10T18:29:26.530Z"
   },
   {
    "duration": 10,
    "start_time": "2023-01-10T18:29:26.621Z"
   },
   {
    "duration": 10,
    "start_time": "2023-01-10T18:29:26.633Z"
   },
   {
    "duration": 26,
    "start_time": "2023-01-10T18:29:26.645Z"
   },
   {
    "duration": 11,
    "start_time": "2023-01-10T18:29:26.673Z"
   },
   {
    "duration": 8,
    "start_time": "2023-01-10T18:29:26.688Z"
   },
   {
    "duration": 34,
    "start_time": "2023-01-10T18:29:26.697Z"
   },
   {
    "duration": 13,
    "start_time": "2023-01-10T18:29:26.733Z"
   },
   {
    "duration": 2,
    "start_time": "2023-01-10T18:29:26.749Z"
   },
   {
    "duration": 18,
    "start_time": "2023-01-10T18:29:26.753Z"
   },
   {
    "duration": 5,
    "start_time": "2023-01-10T18:29:26.773Z"
   },
   {
    "duration": 13,
    "start_time": "2023-01-10T18:29:26.780Z"
   },
   {
    "duration": 36,
    "start_time": "2023-01-10T18:29:26.795Z"
   },
   {
    "duration": 8,
    "start_time": "2023-01-10T18:29:26.833Z"
   },
   {
    "duration": 11,
    "start_time": "2023-01-10T18:29:26.843Z"
   },
   {
    "duration": 10,
    "start_time": "2023-01-10T18:29:26.856Z"
   },
   {
    "duration": 164,
    "start_time": "2023-01-10T18:29:26.869Z"
   },
   {
    "duration": 134,
    "start_time": "2023-01-10T18:29:27.035Z"
   },
   {
    "duration": 20,
    "start_time": "2023-01-10T18:29:27.171Z"
   },
   {
    "duration": 17,
    "start_time": "2023-01-10T18:29:27.193Z"
   },
   {
    "duration": 297,
    "start_time": "2023-01-10T18:29:27.212Z"
   },
   {
    "duration": 203,
    "start_time": "2023-01-10T18:29:27.511Z"
   },
   {
    "duration": 310,
    "start_time": "2023-01-10T18:29:27.716Z"
   },
   {
    "duration": 189,
    "start_time": "2023-01-10T18:29:28.028Z"
   },
   {
    "duration": 336,
    "start_time": "2023-01-10T18:29:28.218Z"
   },
   {
    "duration": 12,
    "start_time": "2023-01-10T18:29:28.556Z"
   },
   {
    "duration": 128,
    "start_time": "2023-01-10T18:29:28.570Z"
   },
   {
    "duration": 6,
    "start_time": "2023-01-10T18:29:28.700Z"
   },
   {
    "duration": 27,
    "start_time": "2023-01-10T18:29:28.707Z"
   },
   {
    "duration": 147,
    "start_time": "2023-01-10T18:29:28.736Z"
   },
   {
    "duration": 188,
    "start_time": "2023-01-10T18:29:28.885Z"
   },
   {
    "duration": 6,
    "start_time": "2023-01-10T18:29:29.074Z"
   },
   {
    "duration": 148,
    "start_time": "2023-01-10T18:29:29.085Z"
   },
   {
    "duration": 146,
    "start_time": "2023-01-10T18:29:29.234Z"
   },
   {
    "duration": 6,
    "start_time": "2023-01-10T18:29:29.382Z"
   },
   {
    "duration": 189,
    "start_time": "2023-01-10T18:29:29.390Z"
   },
   {
    "duration": 13,
    "start_time": "2023-01-10T18:29:29.581Z"
   },
   {
    "duration": 34,
    "start_time": "2023-01-10T18:29:29.596Z"
   },
   {
    "duration": 10,
    "start_time": "2023-01-10T18:29:29.632Z"
   },
   {
    "duration": 25,
    "start_time": "2023-01-10T18:29:29.644Z"
   },
   {
    "duration": 19,
    "start_time": "2023-01-10T18:29:29.671Z"
   },
   {
    "duration": 1196,
    "start_time": "2023-01-10T18:34:49.037Z"
   },
   {
    "duration": 67,
    "start_time": "2023-01-10T18:34:50.234Z"
   },
   {
    "duration": 4,
    "start_time": "2023-01-10T18:34:50.303Z"
   },
   {
    "duration": 8,
    "start_time": "2023-01-10T18:34:50.310Z"
   },
   {
    "duration": 19,
    "start_time": "2023-01-10T18:34:50.320Z"
   },
   {
    "duration": 5,
    "start_time": "2023-01-10T18:34:50.341Z"
   },
   {
    "duration": 26,
    "start_time": "2023-01-10T18:34:50.348Z"
   },
   {
    "duration": 8,
    "start_time": "2023-01-10T18:34:50.377Z"
   },
   {
    "duration": 113,
    "start_time": "2023-01-10T18:34:50.387Z"
   },
   {
    "duration": 8,
    "start_time": "2023-01-10T18:34:50.504Z"
   },
   {
    "duration": 14,
    "start_time": "2023-01-10T18:34:50.515Z"
   },
   {
    "duration": 27,
    "start_time": "2023-01-10T18:34:50.531Z"
   },
   {
    "duration": 15,
    "start_time": "2023-01-10T18:34:50.561Z"
   },
   {
    "duration": 19,
    "start_time": "2023-01-10T18:34:50.578Z"
   },
   {
    "duration": 12,
    "start_time": "2023-01-10T18:34:50.599Z"
   },
   {
    "duration": 23,
    "start_time": "2023-01-10T18:34:50.613Z"
   },
   {
    "duration": 4,
    "start_time": "2023-01-10T18:34:50.638Z"
   },
   {
    "duration": 25,
    "start_time": "2023-01-10T18:34:50.643Z"
   },
   {
    "duration": 4,
    "start_time": "2023-01-10T18:34:50.670Z"
   },
   {
    "duration": 14,
    "start_time": "2023-01-10T18:34:50.676Z"
   },
   {
    "duration": 14,
    "start_time": "2023-01-10T18:34:50.691Z"
   },
   {
    "duration": 20,
    "start_time": "2023-01-10T18:34:50.708Z"
   },
   {
    "duration": 11,
    "start_time": "2023-01-10T18:34:50.731Z"
   },
   {
    "duration": 18,
    "start_time": "2023-01-10T18:34:50.744Z"
   },
   {
    "duration": 180,
    "start_time": "2023-01-10T18:34:50.764Z"
   },
   {
    "duration": 126,
    "start_time": "2023-01-10T18:34:50.946Z"
   },
   {
    "duration": 7,
    "start_time": "2023-01-10T18:34:51.074Z"
   },
   {
    "duration": 12,
    "start_time": "2023-01-10T18:34:51.086Z"
   },
   {
    "duration": 301,
    "start_time": "2023-01-10T18:34:51.099Z"
   },
   {
    "duration": 207,
    "start_time": "2023-01-10T18:34:51.401Z"
   },
   {
    "duration": 322,
    "start_time": "2023-01-10T18:34:51.610Z"
   },
   {
    "duration": 195,
    "start_time": "2023-01-10T18:34:51.934Z"
   },
   {
    "duration": 285,
    "start_time": "2023-01-10T18:34:52.130Z"
   },
   {
    "duration": 18,
    "start_time": "2023-01-10T18:34:52.416Z"
   },
   {
    "duration": 123,
    "start_time": "2023-01-10T18:34:52.436Z"
   },
   {
    "duration": 6,
    "start_time": "2023-01-10T18:34:52.561Z"
   },
   {
    "duration": 23,
    "start_time": "2023-01-10T18:34:52.569Z"
   },
   {
    "duration": 138,
    "start_time": "2023-01-10T18:34:52.594Z"
   },
   {
    "duration": 151,
    "start_time": "2023-01-10T18:34:52.734Z"
   },
   {
    "duration": 5,
    "start_time": "2023-01-10T18:34:52.887Z"
   },
   {
    "duration": 109,
    "start_time": "2023-01-10T18:34:52.894Z"
   },
   {
    "duration": 3,
    "start_time": "2023-01-10T18:34:53.004Z"
   },
   {
    "duration": 16,
    "start_time": "2023-01-10T18:34:53.009Z"
   },
   {
    "duration": 155,
    "start_time": "2023-01-10T18:34:53.027Z"
   },
   {
    "duration": 11,
    "start_time": "2023-01-10T18:34:53.183Z"
   },
   {
    "duration": 34,
    "start_time": "2023-01-10T18:34:53.196Z"
   },
   {
    "duration": 15,
    "start_time": "2023-01-10T18:34:53.232Z"
   },
   {
    "duration": 27,
    "start_time": "2023-01-10T18:34:53.249Z"
   },
   {
    "duration": 14,
    "start_time": "2023-01-10T18:34:53.278Z"
   },
   {
    "duration": 21,
    "start_time": "2023-01-10T18:39:04.950Z"
   },
   {
    "duration": 31,
    "start_time": "2023-01-10T18:40:19.740Z"
   },
   {
    "duration": 13,
    "start_time": "2023-01-10T18:41:20.247Z"
   },
   {
    "duration": 20,
    "start_time": "2023-01-10T18:42:09.345Z"
   },
   {
    "duration": 15,
    "start_time": "2023-01-10T18:42:56.978Z"
   },
   {
    "duration": 1042,
    "start_time": "2023-01-10T18:43:13.969Z"
   },
   {
    "duration": 68,
    "start_time": "2023-01-10T18:43:15.014Z"
   },
   {
    "duration": 3,
    "start_time": "2023-01-10T18:43:15.084Z"
   },
   {
    "duration": 10,
    "start_time": "2023-01-10T18:43:15.089Z"
   },
   {
    "duration": 16,
    "start_time": "2023-01-10T18:43:15.101Z"
   },
   {
    "duration": 5,
    "start_time": "2023-01-10T18:43:15.119Z"
   },
   {
    "duration": 15,
    "start_time": "2023-01-10T18:43:15.126Z"
   },
   {
    "duration": 7,
    "start_time": "2023-01-10T18:43:15.143Z"
   },
   {
    "duration": 89,
    "start_time": "2023-01-10T18:43:15.152Z"
   },
   {
    "duration": 8,
    "start_time": "2023-01-10T18:43:15.244Z"
   },
   {
    "duration": 11,
    "start_time": "2023-01-10T18:43:15.254Z"
   },
   {
    "duration": 21,
    "start_time": "2023-01-10T18:43:15.267Z"
   },
   {
    "duration": 9,
    "start_time": "2023-01-10T18:43:15.291Z"
   },
   {
    "duration": 10,
    "start_time": "2023-01-10T18:43:15.302Z"
   },
   {
    "duration": 29,
    "start_time": "2023-01-10T18:43:15.313Z"
   },
   {
    "duration": 34,
    "start_time": "2023-01-10T18:43:15.344Z"
   },
   {
    "duration": 18,
    "start_time": "2023-01-10T18:43:15.380Z"
   },
   {
    "duration": 37,
    "start_time": "2023-01-10T18:43:15.400Z"
   },
   {
    "duration": 29,
    "start_time": "2023-01-10T18:43:15.438Z"
   },
   {
    "duration": 46,
    "start_time": "2023-01-10T18:43:15.469Z"
   },
   {
    "duration": 73,
    "start_time": "2023-01-10T18:43:15.517Z"
   },
   {
    "duration": 28,
    "start_time": "2023-01-10T18:43:15.593Z"
   },
   {
    "duration": 45,
    "start_time": "2023-01-10T18:43:15.622Z"
   },
   {
    "duration": 29,
    "start_time": "2023-01-10T18:43:15.669Z"
   },
   {
    "duration": 243,
    "start_time": "2023-01-10T18:43:15.700Z"
   },
   {
    "duration": 143,
    "start_time": "2023-01-10T18:43:15.945Z"
   },
   {
    "duration": 7,
    "start_time": "2023-01-10T18:43:16.090Z"
   },
   {
    "duration": 41,
    "start_time": "2023-01-10T18:43:16.101Z"
   },
   {
    "duration": 285,
    "start_time": "2023-01-10T18:43:16.143Z"
   },
   {
    "duration": 196,
    "start_time": "2023-01-10T18:43:16.430Z"
   },
   {
    "duration": 303,
    "start_time": "2023-01-10T18:43:16.628Z"
   },
   {
    "duration": 223,
    "start_time": "2023-01-10T18:43:16.933Z"
   },
   {
    "duration": 283,
    "start_time": "2023-01-10T18:43:17.158Z"
   },
   {
    "duration": 11,
    "start_time": "2023-01-10T18:43:17.443Z"
   },
   {
    "duration": 136,
    "start_time": "2023-01-10T18:43:17.456Z"
   },
   {
    "duration": 6,
    "start_time": "2023-01-10T18:43:17.594Z"
   },
   {
    "duration": 30,
    "start_time": "2023-01-10T18:43:17.602Z"
   },
   {
    "duration": 144,
    "start_time": "2023-01-10T18:43:17.634Z"
   },
   {
    "duration": 141,
    "start_time": "2023-01-10T18:43:17.780Z"
   },
   {
    "duration": 8,
    "start_time": "2023-01-10T18:43:17.926Z"
   },
   {
    "duration": 113,
    "start_time": "2023-01-10T18:43:17.935Z"
   },
   {
    "duration": 160,
    "start_time": "2023-01-10T18:43:18.049Z"
   },
   {
    "duration": 19,
    "start_time": "2023-01-10T18:43:18.212Z"
   },
   {
    "duration": 47,
    "start_time": "2023-01-10T18:43:18.233Z"
   },
   {
    "duration": 12,
    "start_time": "2023-01-10T18:43:18.282Z"
   },
   {
    "duration": 13,
    "start_time": "2023-01-10T18:43:18.296Z"
   },
   {
    "duration": 24,
    "start_time": "2023-01-10T18:43:18.311Z"
   },
   {
    "duration": 37,
    "start_time": "2023-01-10T18:43:18.337Z"
   },
   {
    "duration": 18,
    "start_time": "2023-01-10T18:43:18.376Z"
   },
   {
    "duration": 1010,
    "start_time": "2023-01-10T18:56:32.062Z"
   },
   {
    "duration": 60,
    "start_time": "2023-01-10T18:56:33.074Z"
   },
   {
    "duration": 3,
    "start_time": "2023-01-10T18:56:33.135Z"
   },
   {
    "duration": 8,
    "start_time": "2023-01-10T18:56:33.140Z"
   },
   {
    "duration": 14,
    "start_time": "2023-01-10T18:56:33.151Z"
   },
   {
    "duration": 4,
    "start_time": "2023-01-10T18:56:33.167Z"
   },
   {
    "duration": 8,
    "start_time": "2023-01-10T18:56:33.173Z"
   },
   {
    "duration": 8,
    "start_time": "2023-01-10T18:56:33.182Z"
   },
   {
    "duration": 96,
    "start_time": "2023-01-10T18:56:33.192Z"
   },
   {
    "duration": 8,
    "start_time": "2023-01-10T18:56:33.290Z"
   },
   {
    "duration": 7,
    "start_time": "2023-01-10T18:56:33.300Z"
   },
   {
    "duration": 20,
    "start_time": "2023-01-10T18:56:33.309Z"
   },
   {
    "duration": 10,
    "start_time": "2023-01-10T18:56:33.331Z"
   },
   {
    "duration": 14,
    "start_time": "2023-01-10T18:56:33.344Z"
   },
   {
    "duration": 7,
    "start_time": "2023-01-10T18:56:33.360Z"
   },
   {
    "duration": 10,
    "start_time": "2023-01-10T18:56:33.368Z"
   },
   {
    "duration": 3,
    "start_time": "2023-01-10T18:56:33.380Z"
   },
   {
    "duration": 16,
    "start_time": "2023-01-10T18:56:33.385Z"
   },
   {
    "duration": 24,
    "start_time": "2023-01-10T18:56:33.403Z"
   },
   {
    "duration": 10,
    "start_time": "2023-01-10T18:56:33.429Z"
   },
   {
    "duration": 11,
    "start_time": "2023-01-10T18:56:33.441Z"
   },
   {
    "duration": 7,
    "start_time": "2023-01-10T18:56:33.453Z"
   },
   {
    "duration": 14,
    "start_time": "2023-01-10T18:56:33.461Z"
   },
   {
    "duration": 8,
    "start_time": "2023-01-10T18:56:33.477Z"
   },
   {
    "duration": 174,
    "start_time": "2023-01-10T18:56:33.486Z"
   },
   {
    "duration": 124,
    "start_time": "2023-01-10T18:56:33.662Z"
   },
   {
    "duration": 6,
    "start_time": "2023-01-10T18:56:33.788Z"
   },
   {
    "duration": 11,
    "start_time": "2023-01-10T18:56:33.796Z"
   },
   {
    "duration": 299,
    "start_time": "2023-01-10T18:56:33.809Z"
   },
   {
    "duration": 192,
    "start_time": "2023-01-10T18:56:34.110Z"
   },
   {
    "duration": 343,
    "start_time": "2023-01-10T18:56:34.305Z"
   },
   {
    "duration": 196,
    "start_time": "2023-01-10T18:56:34.649Z"
   },
   {
    "duration": 272,
    "start_time": "2023-01-10T18:56:34.846Z"
   },
   {
    "duration": 13,
    "start_time": "2023-01-10T18:56:35.120Z"
   },
   {
    "duration": 125,
    "start_time": "2023-01-10T18:56:35.135Z"
   },
   {
    "duration": 6,
    "start_time": "2023-01-10T18:56:35.261Z"
   },
   {
    "duration": 25,
    "start_time": "2023-01-10T18:56:35.268Z"
   },
   {
    "duration": 173,
    "start_time": "2023-01-10T18:56:35.294Z"
   },
   {
    "duration": 168,
    "start_time": "2023-01-10T18:56:35.469Z"
   },
   {
    "duration": 6,
    "start_time": "2023-01-10T18:56:35.640Z"
   },
   {
    "duration": 146,
    "start_time": "2023-01-10T18:56:35.651Z"
   },
   {
    "duration": 192,
    "start_time": "2023-01-10T18:56:35.799Z"
   },
   {
    "duration": 7,
    "start_time": "2023-01-10T18:56:35.993Z"
   },
   {
    "duration": 37,
    "start_time": "2023-01-10T18:56:36.001Z"
   },
   {
    "duration": 11,
    "start_time": "2023-01-10T18:56:36.040Z"
   },
   {
    "duration": 21,
    "start_time": "2023-01-10T18:56:36.053Z"
   },
   {
    "duration": 11,
    "start_time": "2023-01-10T18:56:36.077Z"
   },
   {
    "duration": 46,
    "start_time": "2023-01-10T18:56:36.090Z"
   },
   {
    "duration": 21,
    "start_time": "2023-01-10T18:56:36.138Z"
   },
   {
    "duration": 2248,
    "start_time": "2023-01-10T20:44:02.032Z"
   },
   {
    "duration": 151,
    "start_time": "2023-01-10T20:44:04.332Z"
   },
   {
    "duration": 3,
    "start_time": "2023-01-10T20:44:04.490Z"
   },
   {
    "duration": 60,
    "start_time": "2023-01-10T20:44:04.499Z"
   },
   {
    "duration": 26,
    "start_time": "2023-01-10T20:44:04.564Z"
   },
   {
    "duration": 37,
    "start_time": "2023-01-10T20:44:04.596Z"
   },
   {
    "duration": 17,
    "start_time": "2023-01-10T20:44:04.641Z"
   },
   {
    "duration": 22,
    "start_time": "2023-01-10T20:44:04.663Z"
   },
   {
    "duration": 245,
    "start_time": "2023-01-10T20:44:04.739Z"
   },
   {
    "duration": 14,
    "start_time": "2023-01-10T20:44:04.987Z"
   },
   {
    "duration": 38,
    "start_time": "2023-01-10T20:44:05.003Z"
   },
   {
    "duration": 83,
    "start_time": "2023-01-10T20:44:05.043Z"
   },
   {
    "duration": 24,
    "start_time": "2023-01-10T20:44:05.128Z"
   },
   {
    "duration": 73,
    "start_time": "2023-01-10T20:44:05.154Z"
   },
   {
    "duration": 10,
    "start_time": "2023-01-10T20:44:05.229Z"
   },
   {
    "duration": 11,
    "start_time": "2023-01-10T20:44:05.243Z"
   },
   {
    "duration": 10,
    "start_time": "2023-01-10T20:44:05.256Z"
   },
   {
    "duration": 70,
    "start_time": "2023-01-10T20:44:05.269Z"
   },
   {
    "duration": 20,
    "start_time": "2023-01-10T20:44:05.341Z"
   },
   {
    "duration": 71,
    "start_time": "2023-01-10T20:44:05.363Z"
   },
   {
    "duration": 27,
    "start_time": "2023-01-10T20:44:05.436Z"
   },
   {
    "duration": 62,
    "start_time": "2023-01-10T20:44:05.465Z"
   },
   {
    "duration": 6,
    "start_time": "2023-01-10T20:44:05.530Z"
   },
   {
    "duration": 28,
    "start_time": "2023-01-10T20:44:05.538Z"
   },
   {
    "duration": 574,
    "start_time": "2023-01-10T20:44:05.569Z"
   },
   {
    "duration": 390,
    "start_time": "2023-01-10T20:44:06.146Z"
   },
   {
    "duration": 8,
    "start_time": "2023-01-10T20:44:06.538Z"
   },
   {
    "duration": 74,
    "start_time": "2023-01-10T20:44:06.553Z"
   },
   {
    "duration": 799,
    "start_time": "2023-01-10T20:44:06.630Z"
   },
   {
    "duration": 535,
    "start_time": "2023-01-10T20:44:07.431Z"
   },
   {
    "duration": 673,
    "start_time": "2023-01-10T20:44:07.968Z"
   },
   {
    "duration": 524,
    "start_time": "2023-01-10T20:44:08.644Z"
   },
   {
    "duration": 584,
    "start_time": "2023-01-10T20:44:09.171Z"
   },
   {
    "duration": 71,
    "start_time": "2023-01-10T20:44:09.757Z"
   },
   {
    "duration": 311,
    "start_time": "2023-01-10T20:44:09.837Z"
   },
   {
    "duration": 6,
    "start_time": "2023-01-10T20:44:10.150Z"
   },
   {
    "duration": 83,
    "start_time": "2023-01-10T20:44:10.158Z"
   },
   {
    "duration": 395,
    "start_time": "2023-01-10T20:44:10.243Z"
   },
   {
    "duration": 333,
    "start_time": "2023-01-10T20:44:10.640Z"
   },
   {
    "duration": 53,
    "start_time": "2023-01-10T20:44:10.975Z"
   },
   {
    "duration": 312,
    "start_time": "2023-01-10T20:44:11.031Z"
   },
   {
    "duration": 507,
    "start_time": "2023-01-10T20:44:11.347Z"
   },
   {
    "duration": 9,
    "start_time": "2023-01-10T20:44:11.856Z"
   },
   {
    "duration": 82,
    "start_time": "2023-01-10T20:44:11.867Z"
   },
   {
    "duration": 19,
    "start_time": "2023-01-10T20:44:11.952Z"
   },
   {
    "duration": 101,
    "start_time": "2023-01-10T20:44:11.972Z"
   },
   {
    "duration": 57,
    "start_time": "2023-01-10T20:44:12.074Z"
   },
   {
    "duration": 38,
    "start_time": "2023-01-10T20:44:12.133Z"
   },
   {
    "duration": 43,
    "start_time": "2023-01-10T20:44:12.226Z"
   },
   {
    "duration": 69,
    "start_time": "2023-01-10T20:47:23.952Z"
   }
  ],
  "kernelspec": {
   "display_name": "Python 3 (ipykernel)",
   "language": "python",
   "name": "python3"
  },
  "language_info": {
   "codemirror_mode": {
    "name": "ipython",
    "version": 3
   },
   "file_extension": ".py",
   "mimetype": "text/x-python",
   "name": "python",
   "nbconvert_exporter": "python",
   "pygments_lexer": "ipython3",
   "version": "3.9.13"
  },
  "toc": {
   "base_numbering": "1",
   "nav_menu": {},
   "number_sections": true,
   "sideBar": true,
   "skip_h1_title": true,
   "title_cell": "Table of Contents",
   "title_sidebar": "Contents",
   "toc_cell": false,
   "toc_position": {},
   "toc_section_display": true,
   "toc_window_display": true
  }
 },
 "nbformat": 4,
 "nbformat_minor": 5
}
