{
 "cells": [
  {
   "cell_type": "markdown",
   "id": "809429b8",
   "metadata": {},
   "source": [
    "# Оценка результатов A/B тестирования"
   ]
  },
  {
   "cell_type": "markdown",
   "id": "b735fc6f",
   "metadata": {},
   "source": [
    "## Описание проекта"
   ]
  },
  {
   "cell_type": "markdown",
   "id": "f1ef3147",
   "metadata": {},
   "source": [
    "**Цель** исследования - исследовать корректность и провести оценку результатов A/B-теста."
   ]
  },
  {
   "cell_type": "markdown",
   "id": "26728b77",
   "metadata": {},
   "source": [
    "**Ход исследования:**\n",
    "* Выполнить предобработку данных\n",
    "* Оценить корректность проведения теста:\n",
    "    - Соответствие данных требованиям технического задания. Проверить корректность всех пунктов технического задания.\n",
    "    - Время проведения теста. Убедиться, что оно не совпадает с маркетинговыми и другими активностями.\n",
    "    - Аудитория теста. Удостовериться, что нет пересечений с конкурирующим тестом и нет пользователей, участвующих в двух группах теста одновременно. Проверить равномерность распределения по тестовым группам и правильность их формирования.\n",
    "* Провести исследовательский анализ данных:\n",
    "    - Количество событий на пользователя одинаково распределены в выборках?\n",
    "    - Как число событий в выборках распределено по дням?\n",
    "    - Как меняется конверсия в воронке в выборках на разных этапах?\n",
    "    - Какие особенности данных нужно учесть, прежде чем приступать к A/B-тестированию?\n",
    "* Оценить результаты A/B-тестирования\n",
    "    - Что можно сказать про результаты A/В-тестирования?\n",
    "    - Проверьте статистическую разницу долей z-критерием.\n",
    "* Сформулировать выводы"
   ]
  },
  {
   "cell_type": "markdown",
   "id": "0260ba36",
   "metadata": {},
   "source": [
    "**Техническое задание**"
   ]
  },
  {
   "cell_type": "markdown",
   "id": "ea058b50",
   "metadata": {},
   "source": [
    "- Название теста: `recommender_system_test`;\n",
    "- группы: А — контрольная, B — новая платёжная воронка;\n",
    "- дата запуска: 2020-12-07;\n",
    "- дата остановки набора новых пользователей: 2020-12-21;\n",
    "- дата остановки: 2021-01-04;\n",
    "- аудитория: 15% новых пользователей из региона EU;\n",
    "- назначение теста: тестирование изменений, связанных с внедрением улучшенной рекомендательной системы;\n",
    "- ожидаемое количество участников теста: 6000.\n",
    "- ожидаемый эффект: за 14 дней с момента регистрации пользователи покажут улучшение каждой метрики не менее, чем на 10%:\n",
    "    - конверсии в просмотр карточек товаров — событие `product_page`,\n",
    "    - просмотры корзины — `product_cart`,\n",
    "    - покупки — `purchase`."
   ]
  },
  {
   "cell_type": "markdown",
   "id": "e9c42974",
   "metadata": {},
   "source": [
    "**Описание данных**"
   ]
  },
  {
   "cell_type": "markdown",
   "id": "f7d085b0",
   "metadata": {},
   "source": [
    "`ab_project_marketing_events.csv` — календарь маркетинговых событий на 2020 год.\n",
    "\n",
    "Структура файла:\n",
    "\n",
    "- `name` — название маркетингового события;\n",
    "- `regions` — регионы, в которых будет проводиться рекламная кампания;\n",
    "- `start_dt` — дата начала кампании;\n",
    "- `finish_dt` — дата завершения кампании."
   ]
  },
  {
   "cell_type": "markdown",
   "id": "52289793",
   "metadata": {},
   "source": [
    "`final_ab_new_users.csv` — пользователи, зарегистрировавшиеся с 7 по 21 декабря 2020 года.\n",
    "\n",
    "Структура файла:\n",
    "\n",
    "- `user_id` — идентификатор пользователя;\n",
    "- `first_date` — дата регистрации;\n",
    "- `region` — регион пользователя;\n",
    "- `device` — устройство, с которого происходила регистрация."
   ]
  },
  {
   "cell_type": "markdown",
   "id": "0facb4a5",
   "metadata": {},
   "source": [
    "`final_ab_events.csv` — действия новых пользователей в период с 7 декабря 2020 по 4 января 2021 года.\n",
    "\n",
    "Структура файла:\n",
    "\n",
    "- `user_id` — идентификатор пользователя;\n",
    "- `event_dt` — дата и время события;\n",
    "- `event_name` — тип события;\n",
    "- `details` — дополнительные данные о событии. Например, для покупок, `purchase,` в этом поле хранится стоимость покупки в долларах."
   ]
  },
  {
   "cell_type": "markdown",
   "id": "4b25a4d8",
   "metadata": {},
   "source": [
    "`final_ab_participants.csv` — таблица участников тестов.\n",
    "\n",
    "Структура файла:\n",
    "\n",
    "- `user_id` — идентификатор пользователя;\n",
    "- `ab_test` — название теста;\n",
    "- `group` — группа пользователя."
   ]
  },
  {
   "cell_type": "markdown",
   "id": "cadebefa",
   "metadata": {},
   "source": [
    "## Загрузка и знакомство с данными"
   ]
  },
  {
   "cell_type": "code",
   "execution_count": 1,
   "id": "46bf38be",
   "metadata": {},
   "outputs": [
    {
     "data": {
      "text/html": [
       "        <script type=\"text/javascript\">\n",
       "        window.PlotlyConfig = {MathJaxConfig: 'local'};\n",
       "        if (window.MathJax && window.MathJax.Hub && window.MathJax.Hub.Config) {window.MathJax.Hub.Config({SVG: {font: \"STIX-Web\"}});}\n",
       "        if (typeof require !== 'undefined') {\n",
       "        require.undef(\"plotly\");\n",
       "        requirejs.config({\n",
       "            paths: {\n",
       "                'plotly': ['https://cdn.plot.ly/plotly-2.18.0.min']\n",
       "            }\n",
       "        });\n",
       "        require(['plotly'], function(Plotly) {\n",
       "            window._Plotly = Plotly;\n",
       "        });\n",
       "        }\n",
       "        </script>\n",
       "        "
      ]
     },
     "metadata": {},
     "output_type": "display_data"
    }
   ],
   "source": [
    "import pandas as pd\n",
    "import numpy as np\n",
    "from scipy import stats as st\n",
    "import math as mth\n",
    "\n",
    "import seaborn as sns\n",
    "import matplotlib.pyplot as plt\n",
    "import plotly.express as px\n",
    "from plotly import graph_objects as go\n",
    "from plotly.offline import init_notebook_mode\n",
    "init_notebook_mode(connected=True)"
   ]
  },
  {
   "cell_type": "code",
   "execution_count": 2,
   "id": "e0ba01ed",
   "metadata": {},
   "outputs": [],
   "source": [
    "try:\n",
    "    m_events, n_users, events, ab_users= (\n",
    "        pd.read_csv('ab_project_marketing_events.csv'),\n",
    "        pd.read_csv('final_ab_new_users.csv'),\n",
    "        pd.read_csv('final_ab_events.csv'),\n",
    "        pd.read_csv('final_ab_participants.csv')\n",
    "    )\n",
    "except:\n",
    "    m_events, n_users, events, ab_users= (\n",
    "        pd.read_csv('/datasets/ab_project_marketing_events.csv'),\n",
    "        pd.read_csv('/datasets/final_ab_new_users.csv'),\n",
    "        pd.read_csv('/datasets/final_ab_events.csv'),\n",
    "        pd.read_csv('/datasets/final_ab_participants.csv') \n",
    "    )"
   ]
  },
  {
   "cell_type": "code",
   "execution_count": 3,
   "id": "671dfc2f",
   "metadata": {},
   "outputs": [
    {
     "data": {
      "text/html": [
       "<div>\n",
       "<style scoped>\n",
       "    .dataframe tbody tr th:only-of-type {\n",
       "        vertical-align: middle;\n",
       "    }\n",
       "\n",
       "    .dataframe tbody tr th {\n",
       "        vertical-align: top;\n",
       "    }\n",
       "\n",
       "    .dataframe thead th {\n",
       "        text-align: right;\n",
       "    }\n",
       "</style>\n",
       "<table border=\"1\" class=\"dataframe\">\n",
       "  <thead>\n",
       "    <tr style=\"text-align: right;\">\n",
       "      <th></th>\n",
       "      <th>name</th>\n",
       "      <th>regions</th>\n",
       "      <th>start_dt</th>\n",
       "      <th>finish_dt</th>\n",
       "    </tr>\n",
       "  </thead>\n",
       "  <tbody>\n",
       "    <tr>\n",
       "      <th>9</th>\n",
       "      <td>Victory Day CIS (May 9th) Event</td>\n",
       "      <td>CIS</td>\n",
       "      <td>2020-05-09</td>\n",
       "      <td>2020-05-11</td>\n",
       "    </tr>\n",
       "    <tr>\n",
       "      <th>8</th>\n",
       "      <td>International Women's Day Promo</td>\n",
       "      <td>EU, CIS, APAC</td>\n",
       "      <td>2020-03-08</td>\n",
       "      <td>2020-03-10</td>\n",
       "    </tr>\n",
       "    <tr>\n",
       "      <th>1</th>\n",
       "      <td>St. Valentine's Day Giveaway</td>\n",
       "      <td>EU, CIS, APAC, N.America</td>\n",
       "      <td>2020-02-14</td>\n",
       "      <td>2020-02-16</td>\n",
       "    </tr>\n",
       "  </tbody>\n",
       "</table>\n",
       "</div>"
      ],
      "text/plain": [
       "                              name                   regions    start_dt  \\\n",
       "9  Victory Day CIS (May 9th) Event                       CIS  2020-05-09   \n",
       "8  International Women's Day Promo             EU, CIS, APAC  2020-03-08   \n",
       "1     St. Valentine's Day Giveaway  EU, CIS, APAC, N.America  2020-02-14   \n",
       "\n",
       "    finish_dt  \n",
       "9  2020-05-11  \n",
       "8  2020-03-10  \n",
       "1  2020-02-16  "
      ]
     },
     "metadata": {},
     "output_type": "display_data"
    },
    {
     "data": {
      "text/html": [
       "<div>\n",
       "<style scoped>\n",
       "    .dataframe tbody tr th:only-of-type {\n",
       "        vertical-align: middle;\n",
       "    }\n",
       "\n",
       "    .dataframe tbody tr th {\n",
       "        vertical-align: top;\n",
       "    }\n",
       "\n",
       "    .dataframe thead th {\n",
       "        text-align: right;\n",
       "    }\n",
       "</style>\n",
       "<table border=\"1\" class=\"dataframe\">\n",
       "  <thead>\n",
       "    <tr style=\"text-align: right;\">\n",
       "      <th></th>\n",
       "      <th>user_id</th>\n",
       "      <th>first_date</th>\n",
       "      <th>region</th>\n",
       "      <th>device</th>\n",
       "    </tr>\n",
       "  </thead>\n",
       "  <tbody>\n",
       "    <tr>\n",
       "      <th>53945</th>\n",
       "      <td>F9F9469C2F547188</td>\n",
       "      <td>2020-12-13</td>\n",
       "      <td>CIS</td>\n",
       "      <td>Android</td>\n",
       "    </tr>\n",
       "    <tr>\n",
       "      <th>21568</th>\n",
       "      <td>F4EC4110EB5ACF1D</td>\n",
       "      <td>2020-12-15</td>\n",
       "      <td>EU</td>\n",
       "      <td>iPhone</td>\n",
       "    </tr>\n",
       "    <tr>\n",
       "      <th>44156</th>\n",
       "      <td>50826DF7F032ACCE</td>\n",
       "      <td>2020-12-18</td>\n",
       "      <td>EU</td>\n",
       "      <td>iPhone</td>\n",
       "    </tr>\n",
       "  </tbody>\n",
       "</table>\n",
       "</div>"
      ],
      "text/plain": [
       "                user_id  first_date region   device\n",
       "53945  F9F9469C2F547188  2020-12-13    CIS  Android\n",
       "21568  F4EC4110EB5ACF1D  2020-12-15     EU   iPhone\n",
       "44156  50826DF7F032ACCE  2020-12-18     EU   iPhone"
      ]
     },
     "metadata": {},
     "output_type": "display_data"
    },
    {
     "data": {
      "text/html": [
       "<div>\n",
       "<style scoped>\n",
       "    .dataframe tbody tr th:only-of-type {\n",
       "        vertical-align: middle;\n",
       "    }\n",
       "\n",
       "    .dataframe tbody tr th {\n",
       "        vertical-align: top;\n",
       "    }\n",
       "\n",
       "    .dataframe thead th {\n",
       "        text-align: right;\n",
       "    }\n",
       "</style>\n",
       "<table border=\"1\" class=\"dataframe\">\n",
       "  <thead>\n",
       "    <tr style=\"text-align: right;\">\n",
       "      <th></th>\n",
       "      <th>user_id</th>\n",
       "      <th>event_dt</th>\n",
       "      <th>event_name</th>\n",
       "      <th>details</th>\n",
       "    </tr>\n",
       "  </thead>\n",
       "  <tbody>\n",
       "    <tr>\n",
       "      <th>67535</th>\n",
       "      <td>E3489214C951A58C</td>\n",
       "      <td>2020-12-09 13:55:25</td>\n",
       "      <td>product_cart</td>\n",
       "      <td>NaN</td>\n",
       "    </tr>\n",
       "    <tr>\n",
       "      <th>149693</th>\n",
       "      <td>1FB147305F651265</td>\n",
       "      <td>2020-12-13 12:36:16</td>\n",
       "      <td>product_page</td>\n",
       "      <td>NaN</td>\n",
       "    </tr>\n",
       "    <tr>\n",
       "      <th>295543</th>\n",
       "      <td>45CBAC51835124DF</td>\n",
       "      <td>2020-12-14 14:07:00</td>\n",
       "      <td>login</td>\n",
       "      <td>NaN</td>\n",
       "    </tr>\n",
       "  </tbody>\n",
       "</table>\n",
       "</div>"
      ],
      "text/plain": [
       "                 user_id             event_dt    event_name  details\n",
       "67535   E3489214C951A58C  2020-12-09 13:55:25  product_cart      NaN\n",
       "149693  1FB147305F651265  2020-12-13 12:36:16  product_page      NaN\n",
       "295543  45CBAC51835124DF  2020-12-14 14:07:00         login      NaN"
      ]
     },
     "metadata": {},
     "output_type": "display_data"
    },
    {
     "data": {
      "text/html": [
       "<div>\n",
       "<style scoped>\n",
       "    .dataframe tbody tr th:only-of-type {\n",
       "        vertical-align: middle;\n",
       "    }\n",
       "\n",
       "    .dataframe tbody tr th {\n",
       "        vertical-align: top;\n",
       "    }\n",
       "\n",
       "    .dataframe thead th {\n",
       "        text-align: right;\n",
       "    }\n",
       "</style>\n",
       "<table border=\"1\" class=\"dataframe\">\n",
       "  <thead>\n",
       "    <tr style=\"text-align: right;\">\n",
       "      <th></th>\n",
       "      <th>user_id</th>\n",
       "      <th>group</th>\n",
       "      <th>ab_test</th>\n",
       "    </tr>\n",
       "  </thead>\n",
       "  <tbody>\n",
       "    <tr>\n",
       "      <th>12584</th>\n",
       "      <td>7591676C34F21ACD</td>\n",
       "      <td>B</td>\n",
       "      <td>interface_eu_test</td>\n",
       "    </tr>\n",
       "    <tr>\n",
       "      <th>15395</th>\n",
       "      <td>7768F84153D017E9</td>\n",
       "      <td>B</td>\n",
       "      <td>interface_eu_test</td>\n",
       "    </tr>\n",
       "    <tr>\n",
       "      <th>13684</th>\n",
       "      <td>1C7D23927835213F</td>\n",
       "      <td>B</td>\n",
       "      <td>interface_eu_test</td>\n",
       "    </tr>\n",
       "  </tbody>\n",
       "</table>\n",
       "</div>"
      ],
      "text/plain": [
       "                user_id group            ab_test\n",
       "12584  7591676C34F21ACD     B  interface_eu_test\n",
       "15395  7768F84153D017E9     B  interface_eu_test\n",
       "13684  1C7D23927835213F     B  interface_eu_test"
      ]
     },
     "metadata": {},
     "output_type": "display_data"
    }
   ],
   "source": [
    "display(m_events.sample(3))\n",
    "display(n_users.sample(3))\n",
    "display(events.sample(3))\n",
    "display(ab_users.sample(3))"
   ]
  },
  {
   "cell_type": "code",
   "execution_count": 4,
   "id": "d749a2a6",
   "metadata": {},
   "outputs": [
    {
     "name": "stdout",
     "output_type": "stream",
     "text": [
      "<class 'pandas.core.frame.DataFrame'>\n",
      "RangeIndex: 14 entries, 0 to 13\n",
      "Data columns (total 4 columns):\n",
      " #   Column     Non-Null Count  Dtype \n",
      "---  ------     --------------  ----- \n",
      " 0   name       14 non-null     object\n",
      " 1   regions    14 non-null     object\n",
      " 2   start_dt   14 non-null     object\n",
      " 3   finish_dt  14 non-null     object\n",
      "dtypes: object(4)\n",
      "memory usage: 576.0+ bytes\n",
      "<class 'pandas.core.frame.DataFrame'>\n",
      "RangeIndex: 61733 entries, 0 to 61732\n",
      "Data columns (total 4 columns):\n",
      " #   Column      Non-Null Count  Dtype \n",
      "---  ------      --------------  ----- \n",
      " 0   user_id     61733 non-null  object\n",
      " 1   first_date  61733 non-null  object\n",
      " 2   region      61733 non-null  object\n",
      " 3   device      61733 non-null  object\n",
      "dtypes: object(4)\n",
      "memory usage: 1.9+ MB\n",
      "<class 'pandas.core.frame.DataFrame'>\n",
      "RangeIndex: 440317 entries, 0 to 440316\n",
      "Data columns (total 4 columns):\n",
      " #   Column      Non-Null Count   Dtype  \n",
      "---  ------      --------------   -----  \n",
      " 0   user_id     440317 non-null  object \n",
      " 1   event_dt    440317 non-null  object \n",
      " 2   event_name  440317 non-null  object \n",
      " 3   details     62740 non-null   float64\n",
      "dtypes: float64(1), object(3)\n",
      "memory usage: 13.4+ MB\n",
      "<class 'pandas.core.frame.DataFrame'>\n",
      "RangeIndex: 18268 entries, 0 to 18267\n",
      "Data columns (total 3 columns):\n",
      " #   Column   Non-Null Count  Dtype \n",
      "---  ------   --------------  ----- \n",
      " 0   user_id  18268 non-null  object\n",
      " 1   group    18268 non-null  object\n",
      " 2   ab_test  18268 non-null  object\n",
      "dtypes: object(3)\n",
      "memory usage: 428.3+ KB\n"
     ]
    },
    {
     "data": {
      "text/plain": [
       "(None, None, None, None)"
      ]
     },
     "execution_count": 4,
     "metadata": {},
     "output_type": "execute_result"
    }
   ],
   "source": [
    "m_events.info(), n_users.info(), events.info(), ab_users.info()"
   ]
  },
  {
   "cell_type": "markdown",
   "id": "f161a2e9",
   "metadata": {},
   "source": [
    "Пропуски есть только в столбце `details` в датасете `events`.   \n",
    "Даты во всех датасетах в формате `object`, необходимо будет перевести в `datetime`."
   ]
  },
  {
   "cell_type": "markdown",
   "id": "32d4a8fa",
   "metadata": {},
   "source": [
    "## Предобработка данных"
   ]
  },
  {
   "cell_type": "markdown",
   "id": "edd881d9",
   "metadata": {},
   "source": [
    "### дубликаты"
   ]
  },
  {
   "cell_type": "markdown",
   "id": "b3bb493e",
   "metadata": {},
   "source": [
    "Проверим датасеты на наличие явных дубликатов"
   ]
  },
  {
   "cell_type": "code",
   "execution_count": 5,
   "id": "b5ecb280",
   "metadata": {},
   "outputs": [
    {
     "data": {
      "text/plain": [
       "(0, 0, 0, 0)"
      ]
     },
     "execution_count": 5,
     "metadata": {},
     "output_type": "execute_result"
    }
   ],
   "source": [
    "m_events.duplicated().sum(), n_users.duplicated().sum(), events.duplicated().sum(), ab_users.duplicated().sum()"
   ]
  },
  {
   "cell_type": "markdown",
   "id": "e133f82d",
   "metadata": {},
   "source": [
    "Проверим категориальные данные на наличие неявных дубликатов"
   ]
  },
  {
   "cell_type": "code",
   "execution_count": 6,
   "id": "139c0c18",
   "metadata": {},
   "outputs": [
    {
     "data": {
      "text/plain": [
       "(array(['Christmas&New Year Promo', \"St. Valentine's Day Giveaway\",\n",
       "        \"St. Patric's Day Promo\", 'Easter Promo', '4th of July Promo',\n",
       "        'Black Friday Ads Campaign', 'Chinese New Year Promo',\n",
       "        'Labor day (May 1st) Ads Campaign',\n",
       "        \"International Women's Day Promo\",\n",
       "        'Victory Day CIS (May 9th) Event', 'CIS New Year Gift Lottery',\n",
       "        'Dragon Boat Festival Giveaway', \"Single's Day Gift Promo\",\n",
       "        'Chinese Moon Festival'], dtype=object),\n",
       " array(['EU, N.America', 'EU, CIS, APAC, N.America', 'N.America', 'APAC',\n",
       "        'EU, CIS, APAC', 'CIS'], dtype=object))"
      ]
     },
     "execution_count": 6,
     "metadata": {},
     "output_type": "execute_result"
    }
   ],
   "source": [
    "m_events['name'].unique(), m_events['regions'].unique()"
   ]
  },
  {
   "cell_type": "code",
   "execution_count": 7,
   "id": "cc2b9f07",
   "metadata": {},
   "outputs": [
    {
     "data": {
      "text/plain": [
       "(array(['EU', 'N.America', 'APAC', 'CIS'], dtype=object),\n",
       " array(['PC', 'Android', 'iPhone', 'Mac'], dtype=object))"
      ]
     },
     "execution_count": 7,
     "metadata": {},
     "output_type": "execute_result"
    }
   ],
   "source": [
    "n_users['region'].unique(), n_users['device'].unique()"
   ]
  },
  {
   "cell_type": "code",
   "execution_count": 8,
   "id": "e003480f",
   "metadata": {},
   "outputs": [
    {
     "data": {
      "text/plain": [
       "(array(['purchase', 'product_cart', 'product_page', 'login'], dtype=object),\n",
       " array([ 99.99,   9.99,   4.99, 499.99,    nan]))"
      ]
     },
     "execution_count": 8,
     "metadata": {},
     "output_type": "execute_result"
    }
   ],
   "source": [
    "events['event_name'].unique(), events['details'].unique()"
   ]
  },
  {
   "cell_type": "code",
   "execution_count": 9,
   "id": "0b2e9f6a",
   "metadata": {},
   "outputs": [
    {
     "data": {
      "text/plain": [
       "(array(['A', 'B'], dtype=object),\n",
       " array(['recommender_system_test', 'interface_eu_test'], dtype=object))"
      ]
     },
     "execution_count": 9,
     "metadata": {},
     "output_type": "execute_result"
    }
   ],
   "source": [
    "ab_users['group'].unique(), ab_users['ab_test'].unique()"
   ]
  },
  {
   "cell_type": "markdown",
   "id": "1ab568c2",
   "metadata": {},
   "source": [
    "### формат данных"
   ]
  },
  {
   "cell_type": "markdown",
   "id": "e3343edb",
   "metadata": {},
   "source": [
    "Изменим формат времени в датасетах на `datetime`"
   ]
  },
  {
   "cell_type": "code",
   "execution_count": 10,
   "id": "abdc7f83",
   "metadata": {},
   "outputs": [],
   "source": [
    "m_events['start_dt']= pd.to_datetime(m_events['start_dt']) \n",
    "m_events['finish_dt']= pd.to_datetime(m_events['finish_dt'])\n",
    "n_users['first_date']= pd.to_datetime(n_users['first_date'])\n",
    "events['event_dt']= pd.to_datetime(events['event_dt'])"
   ]
  },
  {
   "cell_type": "code",
   "execution_count": 11,
   "id": "cfe8f76c",
   "metadata": {},
   "outputs": [
    {
     "name": "stdout",
     "output_type": "stream",
     "text": [
      "<class 'pandas.core.frame.DataFrame'>\n",
      "RangeIndex: 440317 entries, 0 to 440316\n",
      "Data columns (total 4 columns):\n",
      " #   Column      Non-Null Count   Dtype         \n",
      "---  ------      --------------   -----         \n",
      " 0   user_id     440317 non-null  object        \n",
      " 1   event_dt    440317 non-null  datetime64[ns]\n",
      " 2   event_name  440317 non-null  object        \n",
      " 3   details     62740 non-null   float64       \n",
      "dtypes: datetime64[ns](1), float64(1), object(2)\n",
      "memory usage: 13.4+ MB\n"
     ]
    }
   ],
   "source": [
    "events.info()"
   ]
  },
  {
   "cell_type": "markdown",
   "id": "49a9125e",
   "metadata": {},
   "source": [
    "### пропуски"
   ]
  },
  {
   "cell_type": "markdown",
   "id": "eaee898e",
   "metadata": {},
   "source": [
    "На этапе знакомства с данными мы выяснили, что пропуски есть только в датасете `events` в столбце `details` (дополнительные данные о событии). В качестве уникальных значений столбца представлены только цифры, то есть цены. То есть, вероятнее всего, пропуски связаны с самим событием."
   ]
  },
  {
   "cell_type": "code",
   "execution_count": 12,
   "id": "a27ed2a5",
   "metadata": {},
   "outputs": [
    {
     "name": "stdout",
     "output_type": "stream",
     "text": [
      "Количество пропущенных значений = 377577\n",
      "Количество заполненных значений = 62740\n"
     ]
    }
   ],
   "source": [
    "print('Количество пропущенных значений =', events['details'].isna().sum())\n",
    "print('Количество заполненных значений =', events['details'].notna().sum())"
   ]
  },
  {
   "cell_type": "code",
   "execution_count": 13,
   "id": "aff2e6a8",
   "metadata": {},
   "outputs": [
    {
     "data": {
      "text/html": [
       "<div>\n",
       "<style scoped>\n",
       "    .dataframe tbody tr th:only-of-type {\n",
       "        vertical-align: middle;\n",
       "    }\n",
       "\n",
       "    .dataframe tbody tr th {\n",
       "        vertical-align: top;\n",
       "    }\n",
       "\n",
       "    .dataframe thead th {\n",
       "        text-align: right;\n",
       "    }\n",
       "</style>\n",
       "<table border=\"1\" class=\"dataframe\">\n",
       "  <thead>\n",
       "    <tr style=\"text-align: right;\">\n",
       "      <th></th>\n",
       "      <th>details</th>\n",
       "    </tr>\n",
       "    <tr>\n",
       "      <th>event_name</th>\n",
       "      <th></th>\n",
       "    </tr>\n",
       "  </thead>\n",
       "  <tbody>\n",
       "    <tr>\n",
       "      <th>login</th>\n",
       "      <td>0</td>\n",
       "    </tr>\n",
       "    <tr>\n",
       "      <th>product_cart</th>\n",
       "      <td>0</td>\n",
       "    </tr>\n",
       "    <tr>\n",
       "      <th>product_page</th>\n",
       "      <td>0</td>\n",
       "    </tr>\n",
       "    <tr>\n",
       "      <th>purchase</th>\n",
       "      <td>62740</td>\n",
       "    </tr>\n",
       "  </tbody>\n",
       "</table>\n",
       "</div>"
      ],
      "text/plain": [
       "              details\n",
       "event_name           \n",
       "login               0\n",
       "product_cart        0\n",
       "product_page        0\n",
       "purchase        62740"
      ]
     },
     "execution_count": 13,
     "metadata": {},
     "output_type": "execute_result"
    }
   ],
   "source": [
    "events.groupby('event_name').agg({'details':'count'})"
   ]
  },
  {
   "cell_type": "markdown",
   "id": "4c772cef",
   "metadata": {},
   "source": [
    "Пропущенные значения отсутствуют только при событии покупка, для остальных значений событий нет никакой дополнительной информации. Удалять или заполнять их не требуется."
   ]
  },
  {
   "cell_type": "markdown",
   "id": "d81474d8",
   "metadata": {},
   "source": [
    "## Проверка ТЗ"
   ]
  },
  {
   "cell_type": "markdown",
   "id": "e12c80c1",
   "metadata": {},
   "source": [
    "Прежде всего, необходимо объединить датафреймы `n_users`, `events` и `ab_users` в один.\n",
    "\n",
    "Ключевым является датасет с участниками тестов, поэтому присоединять будем по столбцу `user_id` таким образом, чтобы отсечь нерелевантных юзеров из других датасетов."
   ]
  },
  {
   "cell_type": "code",
   "execution_count": 14,
   "id": "d8da5083",
   "metadata": {},
   "outputs": [
    {
     "data": {
      "text/plain": [
       "(16666, 58703, 61733)"
      ]
     },
     "execution_count": 14,
     "metadata": {},
     "output_type": "execute_result"
    }
   ],
   "source": [
    "ab_users['user_id'].nunique(), events['user_id'].nunique(), n_users['user_id'].nunique()"
   ]
  },
  {
   "cell_type": "code",
   "execution_count": 15,
   "id": "2a8a1b21",
   "metadata": {},
   "outputs": [
    {
     "data": {
      "text/plain": [
       "16666"
      ]
     },
     "execution_count": 15,
     "metadata": {},
     "output_type": "execute_result"
    }
   ],
   "source": [
    "df= ab_users.merge(events, on= 'user_id', how= 'left')\n",
    "df['user_id'].nunique()"
   ]
  },
  {
   "cell_type": "code",
   "execution_count": 16,
   "id": "9500e5ed",
   "metadata": {},
   "outputs": [
    {
     "data": {
      "text/plain": [
       "16666"
      ]
     },
     "execution_count": 16,
     "metadata": {},
     "output_type": "execute_result"
    }
   ],
   "source": [
    "df= df.merge(n_users, on= 'user_id', how= 'left')\n",
    "df['user_id'].nunique()"
   ]
  },
  {
   "cell_type": "code",
   "execution_count": 17,
   "id": "5b9642f5",
   "metadata": {},
   "outputs": [
    {
     "data": {
      "text/html": [
       "<div>\n",
       "<style scoped>\n",
       "    .dataframe tbody tr th:only-of-type {\n",
       "        vertical-align: middle;\n",
       "    }\n",
       "\n",
       "    .dataframe tbody tr th {\n",
       "        vertical-align: top;\n",
       "    }\n",
       "\n",
       "    .dataframe thead th {\n",
       "        text-align: right;\n",
       "    }\n",
       "</style>\n",
       "<table border=\"1\" class=\"dataframe\">\n",
       "  <thead>\n",
       "    <tr style=\"text-align: right;\">\n",
       "      <th></th>\n",
       "      <th>user_id</th>\n",
       "      <th>group</th>\n",
       "      <th>ab_test</th>\n",
       "      <th>event_dt</th>\n",
       "      <th>event_name</th>\n",
       "      <th>details</th>\n",
       "      <th>first_date</th>\n",
       "      <th>region</th>\n",
       "      <th>device</th>\n",
       "    </tr>\n",
       "  </thead>\n",
       "  <tbody>\n",
       "    <tr>\n",
       "      <th>105099</th>\n",
       "      <td>9580270116FFFADA</td>\n",
       "      <td>A</td>\n",
       "      <td>interface_eu_test</td>\n",
       "      <td>2020-12-24 17:19:47</td>\n",
       "      <td>purchase</td>\n",
       "      <td>9.99</td>\n",
       "      <td>2020-12-14</td>\n",
       "      <td>EU</td>\n",
       "      <td>PC</td>\n",
       "    </tr>\n",
       "    <tr>\n",
       "      <th>89584</th>\n",
       "      <td>B6E9C41B7467AFB6</td>\n",
       "      <td>A</td>\n",
       "      <td>interface_eu_test</td>\n",
       "      <td>2020-12-22 17:53:02</td>\n",
       "      <td>product_cart</td>\n",
       "      <td>NaN</td>\n",
       "      <td>2020-12-16</td>\n",
       "      <td>EU</td>\n",
       "      <td>Mac</td>\n",
       "    </tr>\n",
       "  </tbody>\n",
       "</table>\n",
       "</div>"
      ],
      "text/plain": [
       "                 user_id group            ab_test            event_dt  \\\n",
       "105099  9580270116FFFADA     A  interface_eu_test 2020-12-24 17:19:47   \n",
       "89584   B6E9C41B7467AFB6     A  interface_eu_test 2020-12-22 17:53:02   \n",
       "\n",
       "          event_name  details first_date region device  \n",
       "105099      purchase     9.99 2020-12-14     EU     PC  \n",
       "89584   product_cart      NaN 2020-12-16     EU    Mac  "
      ]
     },
     "execution_count": 17,
     "metadata": {},
     "output_type": "execute_result"
    }
   ],
   "source": [
    "df.sample(2)"
   ]
  },
  {
   "cell_type": "code",
   "execution_count": 18,
   "id": "fcadd05d",
   "metadata": {},
   "outputs": [
    {
     "name": "stdout",
     "output_type": "stream",
     "text": [
      "<class 'pandas.core.frame.DataFrame'>\n",
      "Int64Index: 110368 entries, 0 to 110367\n",
      "Data columns (total 9 columns):\n",
      " #   Column      Non-Null Count   Dtype         \n",
      "---  ------      --------------   -----         \n",
      " 0   user_id     110368 non-null  object        \n",
      " 1   group       110368 non-null  object        \n",
      " 2   ab_test     110368 non-null  object        \n",
      " 3   event_dt    106625 non-null  datetime64[ns]\n",
      " 4   event_name  106625 non-null  object        \n",
      " 5   details     15416 non-null   float64       \n",
      " 6   first_date  110368 non-null  datetime64[ns]\n",
      " 7   region      110368 non-null  object        \n",
      " 8   device      110368 non-null  object        \n",
      "dtypes: datetime64[ns](2), float64(1), object(6)\n",
      "memory usage: 8.4+ MB\n"
     ]
    }
   ],
   "source": [
    "df.info()"
   ]
  },
  {
   "cell_type": "markdown",
   "id": "dfae9578",
   "metadata": {},
   "source": [
    "После объединения датафреймов появились новые пропущенные значения в столбцах `event_dt` и `event_name`. Это пользователи зарегистрировавшиеся в системе, но не совершавшие никаких действий."
   ]
  },
  {
   "cell_type": "markdown",
   "id": "995c8b98",
   "metadata": {},
   "source": [
    "### Анализ новых пропусков"
   ]
  },
  {
   "cell_type": "markdown",
   "id": "c576098d",
   "metadata": {},
   "source": [
    "Прежде, чем проводить анализ пропущенных значений, посмотрим, есть ли пользователи, принимающие участие в обоих тестах."
   ]
  },
  {
   "cell_type": "code",
   "execution_count": 19,
   "id": "34f0e0c7",
   "metadata": {},
   "outputs": [
    {
     "data": {
      "text/plain": [
       "ab_test    1602\n",
       "dtype: int64"
      ]
     },
     "execution_count": 19,
     "metadata": {},
     "output_type": "execute_result"
    }
   ],
   "source": [
    "df.groupby('user_id').agg({'ab_test':'nunique'}).query('ab_test> 1').count()"
   ]
  },
  {
   "cell_type": "markdown",
   "id": "44282a46",
   "metadata": {},
   "source": [
    "1602 пользователя принимает участие в обоих тестах, позже придется их убрать для корректного анализа результатов интересующего нас теста."
   ]
  },
  {
   "cell_type": "markdown",
   "id": "401cb522",
   "metadata": {},
   "source": [
    "Но среди них, вероятно, есть пользователи, которые, участвуя в двух тестах, могут состоять в контрольной группе А для каждого из тестов. Такие пользователи не буду влиять на анализ результатов тестирования.   \n",
    "Посмотрим, есть ли такие."
   ]
  },
  {
   "cell_type": "code",
   "execution_count": 20,
   "id": "a403fe84",
   "metadata": {},
   "outputs": [
    {
     "data": {
      "text/plain": [
       "ab_test    482\n",
       "dtype: int64"
      ]
     },
     "execution_count": 20,
     "metadata": {},
     "output_type": "execute_result"
    }
   ],
   "source": [
    "(df.query('group != \"B\"')\n",
    " .groupby('user_id').agg({'ab_test':'nunique'})\n",
    " .query('ab_test> 1').count())"
   ]
  },
  {
   "cell_type": "markdown",
   "id": "06582dea",
   "metadata": {},
   "source": [
    "482 пользователя участвуют в двух тестах и находятся в А группах."
   ]
  },
  {
   "cell_type": "markdown",
   "id": "e5e7c878",
   "metadata": {},
   "source": [
    "Создадим новый датафрейм в котором будут пользователи участвующие только в одном тесте."
   ]
  },
  {
   "cell_type": "code",
   "execution_count": 21,
   "id": "5f524faf",
   "metadata": {},
   "outputs": [
    {
     "data": {
      "text/plain": [
       "482"
      ]
     },
     "execution_count": 21,
     "metadata": {},
     "output_type": "execute_result"
    }
   ],
   "source": [
    "#переменная для сохранения А-А пользователей\n",
    "double_AA_users= (\n",
    "    df.query('group != \"B\"')\n",
    "    .groupby('user_id', as_index= False)\n",
    "    .agg({'ab_test':'nunique'})\n",
    "    .query('ab_test> 1')['user_id'])\n",
    "\n",
    "double_AA_users.count()"
   ]
  },
  {
   "cell_type": "code",
   "execution_count": 22,
   "id": "2292c5a8",
   "metadata": {},
   "outputs": [
    {
     "data": {
      "text/plain": [
       "1120"
      ]
     },
     "execution_count": 22,
     "metadata": {},
     "output_type": "execute_result"
    }
   ],
   "source": [
    "# переменная для отсечения пользователей из двух групп\n",
    "double_users= df.groupby('user_id', as_index= False).agg({'ab_test':'nunique'}).query('ab_test> 1')\n",
    "double_users= double_users.query('user_id not in @double_AA_users')['user_id']\n",
    "\n",
    "double_users.count()"
   ]
  },
  {
   "cell_type": "code",
   "execution_count": 23,
   "id": "5f5b0ef9",
   "metadata": {},
   "outputs": [],
   "source": [
    "df_1_test= df.query('user_id not in @double_users')"
   ]
  },
  {
   "cell_type": "code",
   "execution_count": 24,
   "id": "a3919c5f",
   "metadata": {},
   "outputs": [
    {
     "data": {
      "text/plain": [
       "15546"
      ]
     },
     "execution_count": 24,
     "metadata": {},
     "output_type": "execute_result"
    }
   ],
   "source": [
    "df_1_test['user_id'].nunique()"
   ]
  },
  {
   "cell_type": "code",
   "execution_count": 25,
   "id": "78354800",
   "metadata": {},
   "outputs": [
    {
     "data": {
      "text/html": [
       "<div>\n",
       "<style scoped>\n",
       "    .dataframe tbody tr th:only-of-type {\n",
       "        vertical-align: middle;\n",
       "    }\n",
       "\n",
       "    .dataframe tbody tr th {\n",
       "        vertical-align: top;\n",
       "    }\n",
       "\n",
       "    .dataframe thead th {\n",
       "        text-align: right;\n",
       "    }\n",
       "</style>\n",
       "<table border=\"1\" class=\"dataframe\">\n",
       "  <thead>\n",
       "    <tr style=\"text-align: right;\">\n",
       "      <th></th>\n",
       "      <th>user_id</th>\n",
       "      <th>group</th>\n",
       "      <th>ab_test</th>\n",
       "      <th>event_dt</th>\n",
       "      <th>event_name</th>\n",
       "      <th>details</th>\n",
       "      <th>first_date</th>\n",
       "      <th>region</th>\n",
       "      <th>device</th>\n",
       "    </tr>\n",
       "  </thead>\n",
       "  <tbody>\n",
       "    <tr>\n",
       "      <th>22145</th>\n",
       "      <td>23F246A7F4388473</td>\n",
       "      <td>A</td>\n",
       "      <td>recommender_system_test</td>\n",
       "      <td>2020-12-17 21:33:49</td>\n",
       "      <td>login</td>\n",
       "      <td>NaN</td>\n",
       "      <td>2020-12-17</td>\n",
       "      <td>EU</td>\n",
       "      <td>Mac</td>\n",
       "    </tr>\n",
       "    <tr>\n",
       "      <th>91354</th>\n",
       "      <td>2D30AA371461F7EA</td>\n",
       "      <td>B</td>\n",
       "      <td>interface_eu_test</td>\n",
       "      <td>2020-12-17 15:25:58</td>\n",
       "      <td>purchase</td>\n",
       "      <td>4.99</td>\n",
       "      <td>2020-12-14</td>\n",
       "      <td>EU</td>\n",
       "      <td>Android</td>\n",
       "    </tr>\n",
       "  </tbody>\n",
       "</table>\n",
       "</div>"
      ],
      "text/plain": [
       "                user_id group                  ab_test            event_dt  \\\n",
       "22145  23F246A7F4388473     A  recommender_system_test 2020-12-17 21:33:49   \n",
       "91354  2D30AA371461F7EA     B        interface_eu_test 2020-12-17 15:25:58   \n",
       "\n",
       "      event_name  details first_date region   device  \n",
       "22145      login      NaN 2020-12-17     EU      Mac  \n",
       "91354   purchase     4.99 2020-12-14     EU  Android  "
      ]
     },
     "execution_count": 25,
     "metadata": {},
     "output_type": "execute_result"
    }
   ],
   "source": [
    "df_1_test.sample(2)"
   ]
  },
  {
   "cell_type": "code",
   "execution_count": 26,
   "id": "c59807cc",
   "metadata": {},
   "outputs": [],
   "source": [
    "# датасет уникальных юзеров участвующих в одном тесте, либо в двух А-А тестах для анализа пропусков\n",
    "df_1_test_nans= (\n",
    "    df_1_test.groupby(['user_id', 'ab_test'], as_index= False)\n",
    "    .agg({\n",
    "        'group': 'max',\n",
    "        'region': 'max',\n",
    "        'device': 'max',\n",
    "        'event_dt': 'max',\n",
    "         'first_date': 'max'\n",
    "    })\n",
    ")"
   ]
  },
  {
   "cell_type": "markdown",
   "id": "165a8d52",
   "metadata": {},
   "source": [
    "Напишем функцию для расчета доли пропусков по категориям."
   ]
  },
  {
   "cell_type": "code",
   "execution_count": 27,
   "id": "1b6e6235",
   "metadata": {},
   "outputs": [],
   "source": [
    "def nan_rate_cols_test (df):\n",
    "    print('------------')\n",
    "    x=['group', 'region', 'device', 'first_date'] #рассматриваемые категории \n",
    "    \n",
    "    for c in x:\n",
    "        nans= df.groupby([c]).agg({'user_id': 'count', 'event_dt': 'count'})\n",
    "        nans['nan_rate_%']= round((1-nans['event_dt']/nans['user_id'])*100,2) #расчет доли\n",
    "        print('столбец', c)\n",
    "        print('------------')\n",
    "        display(nans)\n",
    "        print('------------')"
   ]
  },
  {
   "cell_type": "code",
   "execution_count": 28,
   "id": "5d7de558",
   "metadata": {},
   "outputs": [
    {
     "name": "stdout",
     "output_type": "stream",
     "text": [
      "------------\n",
      "столбец group\n",
      "------------\n"
     ]
    },
    {
     "data": {
      "text/html": [
       "<div>\n",
       "<style scoped>\n",
       "    .dataframe tbody tr th:only-of-type {\n",
       "        vertical-align: middle;\n",
       "    }\n",
       "\n",
       "    .dataframe tbody tr th {\n",
       "        vertical-align: top;\n",
       "    }\n",
       "\n",
       "    .dataframe thead th {\n",
       "        text-align: right;\n",
       "    }\n",
       "</style>\n",
       "<table border=\"1\" class=\"dataframe\">\n",
       "  <thead>\n",
       "    <tr style=\"text-align: right;\">\n",
       "      <th></th>\n",
       "      <th>user_id</th>\n",
       "      <th>event_dt</th>\n",
       "      <th>nan_rate_%</th>\n",
       "    </tr>\n",
       "    <tr>\n",
       "      <th>group</th>\n",
       "      <th></th>\n",
       "      <th></th>\n",
       "      <th></th>\n",
       "    </tr>\n",
       "  </thead>\n",
       "  <tbody>\n",
       "    <tr>\n",
       "      <th>A</th>\n",
       "      <td>3385</td>\n",
       "      <td>2422</td>\n",
       "      <td>28.45</td>\n",
       "    </tr>\n",
       "    <tr>\n",
       "      <th>B</th>\n",
       "      <td>2196</td>\n",
       "      <td>706</td>\n",
       "      <td>67.85</td>\n",
       "    </tr>\n",
       "  </tbody>\n",
       "</table>\n",
       "</div>"
      ],
      "text/plain": [
       "       user_id  event_dt  nan_rate_%\n",
       "group                               \n",
       "A         3385      2422       28.45\n",
       "B         2196       706       67.85"
      ]
     },
     "metadata": {},
     "output_type": "display_data"
    },
    {
     "name": "stdout",
     "output_type": "stream",
     "text": [
      "------------\n",
      "столбец region\n",
      "------------\n"
     ]
    },
    {
     "data": {
      "text/html": [
       "<div>\n",
       "<style scoped>\n",
       "    .dataframe tbody tr th:only-of-type {\n",
       "        vertical-align: middle;\n",
       "    }\n",
       "\n",
       "    .dataframe tbody tr th {\n",
       "        vertical-align: top;\n",
       "    }\n",
       "\n",
       "    .dataframe thead th {\n",
       "        text-align: right;\n",
       "    }\n",
       "</style>\n",
       "<table border=\"1\" class=\"dataframe\">\n",
       "  <thead>\n",
       "    <tr style=\"text-align: right;\">\n",
       "      <th></th>\n",
       "      <th>user_id</th>\n",
       "      <th>event_dt</th>\n",
       "      <th>nan_rate_%</th>\n",
       "    </tr>\n",
       "    <tr>\n",
       "      <th>region</th>\n",
       "      <th></th>\n",
       "      <th></th>\n",
       "      <th></th>\n",
       "    </tr>\n",
       "  </thead>\n",
       "  <tbody>\n",
       "    <tr>\n",
       "      <th>APAC</th>\n",
       "      <td>72</td>\n",
       "      <td>45</td>\n",
       "      <td>37.50</td>\n",
       "    </tr>\n",
       "    <tr>\n",
       "      <th>CIS</th>\n",
       "      <td>55</td>\n",
       "      <td>30</td>\n",
       "      <td>45.45</td>\n",
       "    </tr>\n",
       "    <tr>\n",
       "      <th>EU</th>\n",
       "      <td>5231</td>\n",
       "      <td>2934</td>\n",
       "      <td>43.91</td>\n",
       "    </tr>\n",
       "    <tr>\n",
       "      <th>N.America</th>\n",
       "      <td>223</td>\n",
       "      <td>119</td>\n",
       "      <td>46.64</td>\n",
       "    </tr>\n",
       "  </tbody>\n",
       "</table>\n",
       "</div>"
      ],
      "text/plain": [
       "           user_id  event_dt  nan_rate_%\n",
       "region                                  \n",
       "APAC            72        45       37.50\n",
       "CIS             55        30       45.45\n",
       "EU            5231      2934       43.91\n",
       "N.America      223       119       46.64"
      ]
     },
     "metadata": {},
     "output_type": "display_data"
    },
    {
     "name": "stdout",
     "output_type": "stream",
     "text": [
      "------------\n",
      "столбец device\n",
      "------------\n"
     ]
    },
    {
     "data": {
      "text/html": [
       "<div>\n",
       "<style scoped>\n",
       "    .dataframe tbody tr th:only-of-type {\n",
       "        vertical-align: middle;\n",
       "    }\n",
       "\n",
       "    .dataframe tbody tr th {\n",
       "        vertical-align: top;\n",
       "    }\n",
       "\n",
       "    .dataframe thead th {\n",
       "        text-align: right;\n",
       "    }\n",
       "</style>\n",
       "<table border=\"1\" class=\"dataframe\">\n",
       "  <thead>\n",
       "    <tr style=\"text-align: right;\">\n",
       "      <th></th>\n",
       "      <th>user_id</th>\n",
       "      <th>event_dt</th>\n",
       "      <th>nan_rate_%</th>\n",
       "    </tr>\n",
       "    <tr>\n",
       "      <th>device</th>\n",
       "      <th></th>\n",
       "      <th></th>\n",
       "      <th></th>\n",
       "    </tr>\n",
       "  </thead>\n",
       "  <tbody>\n",
       "    <tr>\n",
       "      <th>Android</th>\n",
       "      <td>2514</td>\n",
       "      <td>1393</td>\n",
       "      <td>44.59</td>\n",
       "    </tr>\n",
       "    <tr>\n",
       "      <th>Mac</th>\n",
       "      <td>499</td>\n",
       "      <td>286</td>\n",
       "      <td>42.69</td>\n",
       "    </tr>\n",
       "    <tr>\n",
       "      <th>PC</th>\n",
       "      <td>1410</td>\n",
       "      <td>803</td>\n",
       "      <td>43.05</td>\n",
       "    </tr>\n",
       "    <tr>\n",
       "      <th>iPhone</th>\n",
       "      <td>1158</td>\n",
       "      <td>646</td>\n",
       "      <td>44.21</td>\n",
       "    </tr>\n",
       "  </tbody>\n",
       "</table>\n",
       "</div>"
      ],
      "text/plain": [
       "         user_id  event_dt  nan_rate_%\n",
       "device                                \n",
       "Android     2514      1393       44.59\n",
       "Mac          499       286       42.69\n",
       "PC          1410       803       43.05\n",
       "iPhone      1158       646       44.21"
      ]
     },
     "metadata": {},
     "output_type": "display_data"
    },
    {
     "name": "stdout",
     "output_type": "stream",
     "text": [
      "------------\n",
      "столбец first_date\n",
      "------------\n"
     ]
    },
    {
     "data": {
      "text/html": [
       "<div>\n",
       "<style scoped>\n",
       "    .dataframe tbody tr th:only-of-type {\n",
       "        vertical-align: middle;\n",
       "    }\n",
       "\n",
       "    .dataframe tbody tr th {\n",
       "        vertical-align: top;\n",
       "    }\n",
       "\n",
       "    .dataframe thead th {\n",
       "        text-align: right;\n",
       "    }\n",
       "</style>\n",
       "<table border=\"1\" class=\"dataframe\">\n",
       "  <thead>\n",
       "    <tr style=\"text-align: right;\">\n",
       "      <th></th>\n",
       "      <th>user_id</th>\n",
       "      <th>event_dt</th>\n",
       "      <th>nan_rate_%</th>\n",
       "    </tr>\n",
       "    <tr>\n",
       "      <th>first_date</th>\n",
       "      <th></th>\n",
       "      <th></th>\n",
       "      <th></th>\n",
       "    </tr>\n",
       "  </thead>\n",
       "  <tbody>\n",
       "    <tr>\n",
       "      <th>2020-12-07</th>\n",
       "      <td>525</td>\n",
       "      <td>273</td>\n",
       "      <td>48.00</td>\n",
       "    </tr>\n",
       "    <tr>\n",
       "      <th>2020-12-08</th>\n",
       "      <td>296</td>\n",
       "      <td>122</td>\n",
       "      <td>58.78</td>\n",
       "    </tr>\n",
       "    <tr>\n",
       "      <th>2020-12-09</th>\n",
       "      <td>204</td>\n",
       "      <td>129</td>\n",
       "      <td>36.76</td>\n",
       "    </tr>\n",
       "    <tr>\n",
       "      <th>2020-12-10</th>\n",
       "      <td>330</td>\n",
       "      <td>86</td>\n",
       "      <td>73.94</td>\n",
       "    </tr>\n",
       "    <tr>\n",
       "      <th>2020-12-11</th>\n",
       "      <td>234</td>\n",
       "      <td>97</td>\n",
       "      <td>58.55</td>\n",
       "    </tr>\n",
       "    <tr>\n",
       "      <th>2020-12-12</th>\n",
       "      <td>414</td>\n",
       "      <td>98</td>\n",
       "      <td>76.33</td>\n",
       "    </tr>\n",
       "    <tr>\n",
       "      <th>2020-12-13</th>\n",
       "      <td>495</td>\n",
       "      <td>61</td>\n",
       "      <td>87.68</td>\n",
       "    </tr>\n",
       "    <tr>\n",
       "      <th>2020-12-14</th>\n",
       "      <td>556</td>\n",
       "      <td>401</td>\n",
       "      <td>27.88</td>\n",
       "    </tr>\n",
       "    <tr>\n",
       "      <th>2020-12-15</th>\n",
       "      <td>288</td>\n",
       "      <td>206</td>\n",
       "      <td>28.47</td>\n",
       "    </tr>\n",
       "    <tr>\n",
       "      <th>2020-12-16</th>\n",
       "      <td>239</td>\n",
       "      <td>226</td>\n",
       "      <td>5.44</td>\n",
       "    </tr>\n",
       "    <tr>\n",
       "      <th>2020-12-17</th>\n",
       "      <td>299</td>\n",
       "      <td>215</td>\n",
       "      <td>28.09</td>\n",
       "    </tr>\n",
       "    <tr>\n",
       "      <th>2020-12-18</th>\n",
       "      <td>326</td>\n",
       "      <td>231</td>\n",
       "      <td>29.14</td>\n",
       "    </tr>\n",
       "    <tr>\n",
       "      <th>2020-12-19</th>\n",
       "      <td>365</td>\n",
       "      <td>251</td>\n",
       "      <td>31.23</td>\n",
       "    </tr>\n",
       "    <tr>\n",
       "      <th>2020-12-20</th>\n",
       "      <td>407</td>\n",
       "      <td>294</td>\n",
       "      <td>27.76</td>\n",
       "    </tr>\n",
       "    <tr>\n",
       "      <th>2020-12-21</th>\n",
       "      <td>603</td>\n",
       "      <td>438</td>\n",
       "      <td>27.36</td>\n",
       "    </tr>\n",
       "  </tbody>\n",
       "</table>\n",
       "</div>"
      ],
      "text/plain": [
       "            user_id  event_dt  nan_rate_%\n",
       "first_date                               \n",
       "2020-12-07      525       273       48.00\n",
       "2020-12-08      296       122       58.78\n",
       "2020-12-09      204       129       36.76\n",
       "2020-12-10      330        86       73.94\n",
       "2020-12-11      234        97       58.55\n",
       "2020-12-12      414        98       76.33\n",
       "2020-12-13      495        61       87.68\n",
       "2020-12-14      556       401       27.88\n",
       "2020-12-15      288       206       28.47\n",
       "2020-12-16      239       226        5.44\n",
       "2020-12-17      299       215       28.09\n",
       "2020-12-18      326       231       29.14\n",
       "2020-12-19      365       251       31.23\n",
       "2020-12-20      407       294       27.76\n",
       "2020-12-21      603       438       27.36"
      ]
     },
     "metadata": {},
     "output_type": "display_data"
    },
    {
     "name": "stdout",
     "output_type": "stream",
     "text": [
      "------------\n"
     ]
    }
   ],
   "source": [
    "nan_rate_cols_test(df_1_test_nans.query('ab_test != \"interface_eu_test\" '))"
   ]
  },
  {
   "cell_type": "markdown",
   "id": "be7a10e7",
   "metadata": {},
   "source": [
    "Среди пользователей участвующих в тесте `recommender_system_test`, в распределении по тестовым группам, большая часть неактивных клиентов находится в тестовой группе `B` - 68%, в то время как в контрольной группе `A` - 28%.  По остальным категориям пользователи распределены относительно равномерно - 40-45%."
   ]
  },
  {
   "cell_type": "code",
   "execution_count": 29,
   "id": "7c876afb",
   "metadata": {},
   "outputs": [
    {
     "name": "stdout",
     "output_type": "stream",
     "text": [
      "------------\n",
      "столбец group\n",
      "------------\n"
     ]
    },
    {
     "data": {
      "text/html": [
       "<div>\n",
       "<style scoped>\n",
       "    .dataframe tbody tr th:only-of-type {\n",
       "        vertical-align: middle;\n",
       "    }\n",
       "\n",
       "    .dataframe tbody tr th {\n",
       "        vertical-align: top;\n",
       "    }\n",
       "\n",
       "    .dataframe thead th {\n",
       "        text-align: right;\n",
       "    }\n",
       "</style>\n",
       "<table border=\"1\" class=\"dataframe\">\n",
       "  <thead>\n",
       "    <tr style=\"text-align: right;\">\n",
       "      <th></th>\n",
       "      <th>user_id</th>\n",
       "      <th>event_dt</th>\n",
       "      <th>nan_rate_%</th>\n",
       "    </tr>\n",
       "    <tr>\n",
       "      <th>group</th>\n",
       "      <th></th>\n",
       "      <th></th>\n",
       "      <th></th>\n",
       "    </tr>\n",
       "  </thead>\n",
       "  <tbody>\n",
       "    <tr>\n",
       "      <th>A</th>\n",
       "      <td>5494</td>\n",
       "      <td>5351</td>\n",
       "      <td>2.60</td>\n",
       "    </tr>\n",
       "    <tr>\n",
       "      <th>B</th>\n",
       "      <td>4953</td>\n",
       "      <td>4952</td>\n",
       "      <td>0.02</td>\n",
       "    </tr>\n",
       "  </tbody>\n",
       "</table>\n",
       "</div>"
      ],
      "text/plain": [
       "       user_id  event_dt  nan_rate_%\n",
       "group                               \n",
       "A         5494      5351        2.60\n",
       "B         4953      4952        0.02"
      ]
     },
     "metadata": {},
     "output_type": "display_data"
    },
    {
     "name": "stdout",
     "output_type": "stream",
     "text": [
      "------------\n",
      "столбец region\n",
      "------------\n"
     ]
    },
    {
     "data": {
      "text/html": [
       "<div>\n",
       "<style scoped>\n",
       "    .dataframe tbody tr th:only-of-type {\n",
       "        vertical-align: middle;\n",
       "    }\n",
       "\n",
       "    .dataframe tbody tr th {\n",
       "        vertical-align: top;\n",
       "    }\n",
       "\n",
       "    .dataframe thead th {\n",
       "        text-align: right;\n",
       "    }\n",
       "</style>\n",
       "<table border=\"1\" class=\"dataframe\">\n",
       "  <thead>\n",
       "    <tr style=\"text-align: right;\">\n",
       "      <th></th>\n",
       "      <th>user_id</th>\n",
       "      <th>event_dt</th>\n",
       "      <th>nan_rate_%</th>\n",
       "    </tr>\n",
       "    <tr>\n",
       "      <th>region</th>\n",
       "      <th></th>\n",
       "      <th></th>\n",
       "      <th></th>\n",
       "    </tr>\n",
       "  </thead>\n",
       "  <tbody>\n",
       "    <tr>\n",
       "      <th>EU</th>\n",
       "      <td>10447</td>\n",
       "      <td>10303</td>\n",
       "      <td>1.38</td>\n",
       "    </tr>\n",
       "  </tbody>\n",
       "</table>\n",
       "</div>"
      ],
      "text/plain": [
       "        user_id  event_dt  nan_rate_%\n",
       "region                               \n",
       "EU        10447     10303        1.38"
      ]
     },
     "metadata": {},
     "output_type": "display_data"
    },
    {
     "name": "stdout",
     "output_type": "stream",
     "text": [
      "------------\n",
      "столбец device\n",
      "------------\n"
     ]
    },
    {
     "data": {
      "text/html": [
       "<div>\n",
       "<style scoped>\n",
       "    .dataframe tbody tr th:only-of-type {\n",
       "        vertical-align: middle;\n",
       "    }\n",
       "\n",
       "    .dataframe tbody tr th {\n",
       "        vertical-align: top;\n",
       "    }\n",
       "\n",
       "    .dataframe thead th {\n",
       "        text-align: right;\n",
       "    }\n",
       "</style>\n",
       "<table border=\"1\" class=\"dataframe\">\n",
       "  <thead>\n",
       "    <tr style=\"text-align: right;\">\n",
       "      <th></th>\n",
       "      <th>user_id</th>\n",
       "      <th>event_dt</th>\n",
       "      <th>nan_rate_%</th>\n",
       "    </tr>\n",
       "    <tr>\n",
       "      <th>device</th>\n",
       "      <th></th>\n",
       "      <th></th>\n",
       "      <th></th>\n",
       "    </tr>\n",
       "  </thead>\n",
       "  <tbody>\n",
       "    <tr>\n",
       "      <th>Android</th>\n",
       "      <td>4703</td>\n",
       "      <td>4627</td>\n",
       "      <td>1.62</td>\n",
       "    </tr>\n",
       "    <tr>\n",
       "      <th>Mac</th>\n",
       "      <td>1073</td>\n",
       "      <td>1060</td>\n",
       "      <td>1.21</td>\n",
       "    </tr>\n",
       "    <tr>\n",
       "      <th>PC</th>\n",
       "      <td>2649</td>\n",
       "      <td>2614</td>\n",
       "      <td>1.32</td>\n",
       "    </tr>\n",
       "    <tr>\n",
       "      <th>iPhone</th>\n",
       "      <td>2022</td>\n",
       "      <td>2002</td>\n",
       "      <td>0.99</td>\n",
       "    </tr>\n",
       "  </tbody>\n",
       "</table>\n",
       "</div>"
      ],
      "text/plain": [
       "         user_id  event_dt  nan_rate_%\n",
       "device                                \n",
       "Android     4703      4627        1.62\n",
       "Mac         1073      1060        1.21\n",
       "PC          2649      2614        1.32\n",
       "iPhone      2022      2002        0.99"
      ]
     },
     "metadata": {},
     "output_type": "display_data"
    },
    {
     "name": "stdout",
     "output_type": "stream",
     "text": [
      "------------\n",
      "столбец first_date\n",
      "------------\n"
     ]
    },
    {
     "data": {
      "text/html": [
       "<div>\n",
       "<style scoped>\n",
       "    .dataframe tbody tr th:only-of-type {\n",
       "        vertical-align: middle;\n",
       "    }\n",
       "\n",
       "    .dataframe tbody tr th {\n",
       "        vertical-align: top;\n",
       "    }\n",
       "\n",
       "    .dataframe thead th {\n",
       "        text-align: right;\n",
       "    }\n",
       "</style>\n",
       "<table border=\"1\" class=\"dataframe\">\n",
       "  <thead>\n",
       "    <tr style=\"text-align: right;\">\n",
       "      <th></th>\n",
       "      <th>user_id</th>\n",
       "      <th>event_dt</th>\n",
       "      <th>nan_rate_%</th>\n",
       "    </tr>\n",
       "    <tr>\n",
       "      <th>first_date</th>\n",
       "      <th></th>\n",
       "      <th></th>\n",
       "      <th></th>\n",
       "    </tr>\n",
       "  </thead>\n",
       "  <tbody>\n",
       "    <tr>\n",
       "      <th>2020-12-07</th>\n",
       "      <td>911</td>\n",
       "      <td>885</td>\n",
       "      <td>2.85</td>\n",
       "    </tr>\n",
       "    <tr>\n",
       "      <th>2020-12-08</th>\n",
       "      <td>544</td>\n",
       "      <td>531</td>\n",
       "      <td>2.39</td>\n",
       "    </tr>\n",
       "    <tr>\n",
       "      <th>2020-12-09</th>\n",
       "      <td>372</td>\n",
       "      <td>363</td>\n",
       "      <td>2.42</td>\n",
       "    </tr>\n",
       "    <tr>\n",
       "      <th>2020-12-10</th>\n",
       "      <td>490</td>\n",
       "      <td>470</td>\n",
       "      <td>4.08</td>\n",
       "    </tr>\n",
       "    <tr>\n",
       "      <th>2020-12-11</th>\n",
       "      <td>407</td>\n",
       "      <td>397</td>\n",
       "      <td>2.46</td>\n",
       "    </tr>\n",
       "    <tr>\n",
       "      <th>2020-12-12</th>\n",
       "      <td>725</td>\n",
       "      <td>704</td>\n",
       "      <td>2.90</td>\n",
       "    </tr>\n",
       "    <tr>\n",
       "      <th>2020-12-13</th>\n",
       "      <td>788</td>\n",
       "      <td>743</td>\n",
       "      <td>5.71</td>\n",
       "    </tr>\n",
       "    <tr>\n",
       "      <th>2020-12-14</th>\n",
       "      <td>936</td>\n",
       "      <td>936</td>\n",
       "      <td>0.00</td>\n",
       "    </tr>\n",
       "    <tr>\n",
       "      <th>2020-12-15</th>\n",
       "      <td>518</td>\n",
       "      <td>518</td>\n",
       "      <td>0.00</td>\n",
       "    </tr>\n",
       "    <tr>\n",
       "      <th>2020-12-16</th>\n",
       "      <td>341</td>\n",
       "      <td>341</td>\n",
       "      <td>0.00</td>\n",
       "    </tr>\n",
       "    <tr>\n",
       "      <th>2020-12-17</th>\n",
       "      <td>521</td>\n",
       "      <td>521</td>\n",
       "      <td>0.00</td>\n",
       "    </tr>\n",
       "    <tr>\n",
       "      <th>2020-12-18</th>\n",
       "      <td>556</td>\n",
       "      <td>556</td>\n",
       "      <td>0.00</td>\n",
       "    </tr>\n",
       "    <tr>\n",
       "      <th>2020-12-19</th>\n",
       "      <td>560</td>\n",
       "      <td>560</td>\n",
       "      <td>0.00</td>\n",
       "    </tr>\n",
       "    <tr>\n",
       "      <th>2020-12-20</th>\n",
       "      <td>716</td>\n",
       "      <td>716</td>\n",
       "      <td>0.00</td>\n",
       "    </tr>\n",
       "    <tr>\n",
       "      <th>2020-12-21</th>\n",
       "      <td>1060</td>\n",
       "      <td>1060</td>\n",
       "      <td>0.00</td>\n",
       "    </tr>\n",
       "    <tr>\n",
       "      <th>2020-12-22</th>\n",
       "      <td>587</td>\n",
       "      <td>587</td>\n",
       "      <td>0.00</td>\n",
       "    </tr>\n",
       "    <tr>\n",
       "      <th>2020-12-23</th>\n",
       "      <td>415</td>\n",
       "      <td>415</td>\n",
       "      <td>0.00</td>\n",
       "    </tr>\n",
       "  </tbody>\n",
       "</table>\n",
       "</div>"
      ],
      "text/plain": [
       "            user_id  event_dt  nan_rate_%\n",
       "first_date                               \n",
       "2020-12-07      911       885        2.85\n",
       "2020-12-08      544       531        2.39\n",
       "2020-12-09      372       363        2.42\n",
       "2020-12-10      490       470        4.08\n",
       "2020-12-11      407       397        2.46\n",
       "2020-12-12      725       704        2.90\n",
       "2020-12-13      788       743        5.71\n",
       "2020-12-14      936       936        0.00\n",
       "2020-12-15      518       518        0.00\n",
       "2020-12-16      341       341        0.00\n",
       "2020-12-17      521       521        0.00\n",
       "2020-12-18      556       556        0.00\n",
       "2020-12-19      560       560        0.00\n",
       "2020-12-20      716       716        0.00\n",
       "2020-12-21     1060      1060        0.00\n",
       "2020-12-22      587       587        0.00\n",
       "2020-12-23      415       415        0.00"
      ]
     },
     "metadata": {},
     "output_type": "display_data"
    },
    {
     "name": "stdout",
     "output_type": "stream",
     "text": [
      "------------\n"
     ]
    }
   ],
   "source": [
    "nan_rate_cols_test(df_1_test_nans.query('ab_test == \"interface_eu_test\"'))"
   ]
  },
  {
   "cell_type": "markdown",
   "id": "7db04522",
   "metadata": {},
   "source": [
    "Неактивных пользователей участвующих в тесте `interface_eu_test` не более 3% в каждой категории, в распределении по времени после 13 декабря среди пользователей ни одного неактивного."
   ]
  },
  {
   "cell_type": "markdown",
   "id": "582e6eb9",
   "metadata": {},
   "source": [
    "Выявить закономерности не получается - колоссальная разница даже среди участников контрольных групп, которых изменения не касаются -  в `recommender_system_test` - 28% неактивных пользователей, в `interface_eu_test` - 3%.   \n",
    "Если рассматривать пользователей без событий в разрезе региона `EU`, то среди участников `recommender_system_test` таких 44%, среди `interface_eu_test` - 1,4%.   \n",
    "В группе `interface_eu_test` после 13 декабря нет ни одного неактивного пользователя, в `recommender_system_test` - особых разлиичий нет."
   ]
  },
  {
   "cell_type": "markdown",
   "id": "58371b1c",
   "metadata": {},
   "source": [
    "Поскольку пользователи не совершающие никаких действий никак не пригодятся для последующего анализа А/Б теста, придется их удалить."
   ]
  },
  {
   "cell_type": "code",
   "execution_count": 30,
   "id": "04898f3d",
   "metadata": {},
   "outputs": [
    {
     "name": "stdout",
     "output_type": "stream",
     "text": [
      "<class 'pandas.core.frame.DataFrame'>\n",
      "Int64Index: 99661 entries, 0 to 110367\n",
      "Data columns (total 9 columns):\n",
      " #   Column      Non-Null Count  Dtype         \n",
      "---  ------      --------------  -----         \n",
      " 0   user_id     99661 non-null  object        \n",
      " 1   group       99661 non-null  object        \n",
      " 2   ab_test     99661 non-null  object        \n",
      " 3   event_dt    99661 non-null  datetime64[ns]\n",
      " 4   event_name  99661 non-null  object        \n",
      " 5   details     14492 non-null  float64       \n",
      " 6   first_date  99661 non-null  datetime64[ns]\n",
      " 7   region      99661 non-null  object        \n",
      " 8   device      99661 non-null  object        \n",
      "dtypes: datetime64[ns](2), float64(1), object(6)\n",
      "memory usage: 7.6+ MB\n"
     ]
    }
   ],
   "source": [
    "df_1_test= df_1_test[df_1_test['event_dt'].notna()]\n",
    "df_1_test.info()"
   ]
  },
  {
   "cell_type": "markdown",
   "id": "b9d73f76",
   "metadata": {},
   "source": [
    "Проверим пересечения внутри теста"
   ]
  },
  {
   "cell_type": "code",
   "execution_count": 31,
   "id": "35dad25f",
   "metadata": {},
   "outputs": [
    {
     "data": {
      "text/html": [
       "<div>\n",
       "<style scoped>\n",
       "    .dataframe tbody tr th:only-of-type {\n",
       "        vertical-align: middle;\n",
       "    }\n",
       "\n",
       "    .dataframe tbody tr th {\n",
       "        vertical-align: top;\n",
       "    }\n",
       "\n",
       "    .dataframe thead th {\n",
       "        text-align: right;\n",
       "    }\n",
       "</style>\n",
       "<table border=\"1\" class=\"dataframe\">\n",
       "  <thead>\n",
       "    <tr style=\"text-align: right;\">\n",
       "      <th></th>\n",
       "      <th>group</th>\n",
       "    </tr>\n",
       "    <tr>\n",
       "      <th>user_id</th>\n",
       "      <th></th>\n",
       "    </tr>\n",
       "  </thead>\n",
       "  <tbody>\n",
       "  </tbody>\n",
       "</table>\n",
       "</div>"
      ],
      "text/plain": [
       "Empty DataFrame\n",
       "Columns: [group]\n",
       "Index: []"
      ]
     },
     "execution_count": 31,
     "metadata": {},
     "output_type": "execute_result"
    }
   ],
   "source": [
    "(\n",
    "df_1_test\n",
    "    .groupby('user_id')\n",
    "    .agg({'group' : 'nunique'})\n",
    "    .query('group>1')\n",
    ")"
   ]
  },
  {
   "cell_type": "markdown",
   "id": "3b032252",
   "metadata": {},
   "source": [
    "Пересечений внутри теста нет"
   ]
  },
  {
   "cell_type": "markdown",
   "id": "432edec4",
   "metadata": {},
   "source": [
    "### Корректность"
   ]
  },
  {
   "cell_type": "markdown",
   "id": "8f75db5a",
   "metadata": {},
   "source": [
    "Далее по пунктам проверим техническое задание на корректность."
   ]
  },
  {
   "cell_type": "markdown",
   "id": "3963ee2d",
   "metadata": {},
   "source": [
    "- Название теста: `recommender_system_test`;\n",
    "- группы: А — контрольная, B — новая платёжная воронка;\n",
    "- дата запуска: 2020-12-07;\n",
    "- дата остановки набора новых пользователей: 2020-12-21;\n",
    "- дата остановки: 2021-01-04;\n",
    "- аудитория: 15% новых пользователей из региона EU;\n",
    "- назначение теста: тестирование изменений, связанных с внедрением улучшенной рекомендательной системы;\n",
    "- ожидаемое количество участников теста: 6000.\n",
    "- ожидаемый эффект: за 14 дней с момента регистрации пользователи покажут улучшение каждой метрики не менее, чем на 10%:\n",
    "    - конверсии в просмотр карточек товаров — событие `product_page`,\n",
    "    - просмотры корзины — `product_cart`,\n",
    "    - покупки — `purchase`."
   ]
  },
  {
   "cell_type": "markdown",
   "id": "b7178e64",
   "metadata": {},
   "source": [
    "Создадим датафрейм, в котором будут пользователи, участвовавшие в исследуемомтесте - `recommender_system_test`."
   ]
  },
  {
   "cell_type": "code",
   "execution_count": 32,
   "id": "de6a1b7e",
   "metadata": {},
   "outputs": [
    {
     "data": {
      "text/html": [
       "<div>\n",
       "<style scoped>\n",
       "    .dataframe tbody tr th:only-of-type {\n",
       "        vertical-align: middle;\n",
       "    }\n",
       "\n",
       "    .dataframe tbody tr th {\n",
       "        vertical-align: top;\n",
       "    }\n",
       "\n",
       "    .dataframe thead th {\n",
       "        text-align: right;\n",
       "    }\n",
       "</style>\n",
       "<table border=\"1\" class=\"dataframe\">\n",
       "  <thead>\n",
       "    <tr style=\"text-align: right;\">\n",
       "      <th></th>\n",
       "      <th>user_id</th>\n",
       "      <th>group</th>\n",
       "      <th>event_dt</th>\n",
       "      <th>event_name</th>\n",
       "      <th>details</th>\n",
       "      <th>first_date</th>\n",
       "      <th>region</th>\n",
       "      <th>device</th>\n",
       "    </tr>\n",
       "  </thead>\n",
       "  <tbody>\n",
       "    <tr>\n",
       "      <th>26402</th>\n",
       "      <td>A47A3F447566B4FB</td>\n",
       "      <td>A</td>\n",
       "      <td>2020-12-29 08:33:21</td>\n",
       "      <td>login</td>\n",
       "      <td>NaN</td>\n",
       "      <td>2020-12-19</td>\n",
       "      <td>N.America</td>\n",
       "      <td>Android</td>\n",
       "    </tr>\n",
       "    <tr>\n",
       "      <th>3771</th>\n",
       "      <td>BE52857ABCAD4C9B</td>\n",
       "      <td>A</td>\n",
       "      <td>2020-12-18 04:47:25</td>\n",
       "      <td>product_page</td>\n",
       "      <td>NaN</td>\n",
       "      <td>2020-12-18</td>\n",
       "      <td>EU</td>\n",
       "      <td>PC</td>\n",
       "    </tr>\n",
       "  </tbody>\n",
       "</table>\n",
       "</div>"
      ],
      "text/plain": [
       "                user_id group            event_dt    event_name  details  \\\n",
       "26402  A47A3F447566B4FB     A 2020-12-29 08:33:21         login      NaN   \n",
       "3771   BE52857ABCAD4C9B     A 2020-12-18 04:47:25  product_page      NaN   \n",
       "\n",
       "      first_date     region   device  \n",
       "26402 2020-12-19  N.America  Android  \n",
       "3771  2020-12-18         EU       PC  "
      ]
     },
     "metadata": {},
     "output_type": "display_data"
    },
    {
     "data": {
      "text/plain": [
       "(21216, 8)"
      ]
     },
     "execution_count": 32,
     "metadata": {},
     "output_type": "execute_result"
    }
   ],
   "source": [
    "df_rec= df_1_test.query('ab_test== \"recommender_system_test\"').drop(columns= 'ab_test')\n",
    "display(df_rec.sample(2))\n",
    "df_rec.shape"
   ]
  },
  {
   "cell_type": "markdown",
   "id": "5d8e66ff",
   "metadata": {},
   "source": [
    "Согласно ТЗ:\n",
    "* дата регистрации пользователя должна быть в пределах 2020-12-07 - 2020-12-21\n",
    "* последнее действие пользователя должно быть не позднее 2021-01-04\n",
    "* лайфтайм пользователя не должен превышать 14 дней\n",
    "* 15% пользователей должны быть из EU\n",
    "* количество участников теста - ~6000"
   ]
  },
  {
   "cell_type": "code",
   "execution_count": 33,
   "id": "99b1c782",
   "metadata": {},
   "outputs": [
    {
     "data": {
      "text/html": [
       "<div>\n",
       "<style scoped>\n",
       "    .dataframe tbody tr th:only-of-type {\n",
       "        vertical-align: middle;\n",
       "    }\n",
       "\n",
       "    .dataframe tbody tr th {\n",
       "        vertical-align: top;\n",
       "    }\n",
       "\n",
       "    .dataframe thead th {\n",
       "        text-align: right;\n",
       "    }\n",
       "</style>\n",
       "<table border=\"1\" class=\"dataframe\">\n",
       "  <thead>\n",
       "    <tr style=\"text-align: right;\">\n",
       "      <th></th>\n",
       "      <th>user_id</th>\n",
       "      <th>group</th>\n",
       "      <th>event_dt</th>\n",
       "      <th>event_name</th>\n",
       "      <th>details</th>\n",
       "      <th>first_date</th>\n",
       "      <th>region</th>\n",
       "      <th>device</th>\n",
       "    </tr>\n",
       "  </thead>\n",
       "  <tbody>\n",
       "  </tbody>\n",
       "</table>\n",
       "</div>"
      ],
      "text/plain": [
       "Empty DataFrame\n",
       "Columns: [user_id, group, event_dt, event_name, details, first_date, region, device]\n",
       "Index: []"
      ]
     },
     "execution_count": 33,
     "metadata": {},
     "output_type": "execute_result"
    }
   ],
   "source": [
    "df_rec.query('first_date < \"2020-12-07\" or first_date > \"2020-12-21\"')"
   ]
  },
  {
   "cell_type": "markdown",
   "id": "390c91db",
   "metadata": {},
   "source": [
    "С регистрацией пользователей все в порядке. Новые пользователи в границах проведения теста."
   ]
  },
  {
   "cell_type": "code",
   "execution_count": 34,
   "id": "9075ecef",
   "metadata": {},
   "outputs": [
    {
     "data": {
      "text/html": [
       "<div>\n",
       "<style scoped>\n",
       "    .dataframe tbody tr th:only-of-type {\n",
       "        vertical-align: middle;\n",
       "    }\n",
       "\n",
       "    .dataframe tbody tr th {\n",
       "        vertical-align: top;\n",
       "    }\n",
       "\n",
       "    .dataframe thead th {\n",
       "        text-align: right;\n",
       "    }\n",
       "</style>\n",
       "<table border=\"1\" class=\"dataframe\">\n",
       "  <thead>\n",
       "    <tr style=\"text-align: right;\">\n",
       "      <th></th>\n",
       "      <th>user_id</th>\n",
       "      <th>group</th>\n",
       "      <th>event_dt</th>\n",
       "      <th>event_name</th>\n",
       "      <th>details</th>\n",
       "      <th>first_date</th>\n",
       "      <th>region</th>\n",
       "      <th>device</th>\n",
       "    </tr>\n",
       "  </thead>\n",
       "  <tbody>\n",
       "  </tbody>\n",
       "</table>\n",
       "</div>"
      ],
      "text/plain": [
       "Empty DataFrame\n",
       "Columns: [user_id, group, event_dt, event_name, details, first_date, region, device]\n",
       "Index: []"
      ]
     },
     "execution_count": 34,
     "metadata": {},
     "output_type": "execute_result"
    }
   ],
   "source": [
    "df_rec.query('event_dt > \"2021-01-04\"')"
   ]
  },
  {
   "cell_type": "markdown",
   "id": "f3ac40ad",
   "metadata": {},
   "source": [
    "С последними действиями пользователей тоже все в порядке.\n",
    "\n",
    "___"
   ]
  },
  {
   "cell_type": "markdown",
   "id": "8934e64f",
   "metadata": {},
   "source": [
    "Согласно тз, количество пользователей в исследуемом тесте должно составлять 15% от количества новых пользователей из `EU` зарегистрированных "
   ]
  },
  {
   "cell_type": "markdown",
   "id": "20fd83cd",
   "metadata": {},
   "source": [
    "Проверим наш датафрейм со всеми новыми пользователями на соответствие временному периоду"
   ]
  },
  {
   "cell_type": "code",
   "execution_count": 35,
   "id": "647d69ba",
   "metadata": {},
   "outputs": [
    {
     "data": {
      "text/html": [
       "<div>\n",
       "<style scoped>\n",
       "    .dataframe tbody tr th:only-of-type {\n",
       "        vertical-align: middle;\n",
       "    }\n",
       "\n",
       "    .dataframe tbody tr th {\n",
       "        vertical-align: top;\n",
       "    }\n",
       "\n",
       "    .dataframe thead th {\n",
       "        text-align: right;\n",
       "    }\n",
       "</style>\n",
       "<table border=\"1\" class=\"dataframe\">\n",
       "  <thead>\n",
       "    <tr style=\"text-align: right;\">\n",
       "      <th></th>\n",
       "      <th>user_id</th>\n",
       "      <th>group</th>\n",
       "      <th>ab_test</th>\n",
       "      <th>event_dt</th>\n",
       "      <th>event_name</th>\n",
       "      <th>details</th>\n",
       "      <th>first_date</th>\n",
       "      <th>region</th>\n",
       "      <th>device</th>\n",
       "    </tr>\n",
       "  </thead>\n",
       "  <tbody>\n",
       "    <tr>\n",
       "      <th>27724</th>\n",
       "      <td>D4E530F6595A05A3</td>\n",
       "      <td>A</td>\n",
       "      <td>interface_eu_test</td>\n",
       "      <td>2020-12-22 06:01:01</td>\n",
       "      <td>product_cart</td>\n",
       "      <td>NaN</td>\n",
       "      <td>2020-12-22</td>\n",
       "      <td>EU</td>\n",
       "      <td>Android</td>\n",
       "    </tr>\n",
       "    <tr>\n",
       "      <th>27725</th>\n",
       "      <td>D4E530F6595A05A3</td>\n",
       "      <td>A</td>\n",
       "      <td>interface_eu_test</td>\n",
       "      <td>2020-12-25 18:39:01</td>\n",
       "      <td>product_cart</td>\n",
       "      <td>NaN</td>\n",
       "      <td>2020-12-22</td>\n",
       "      <td>EU</td>\n",
       "      <td>Android</td>\n",
       "    </tr>\n",
       "    <tr>\n",
       "      <th>27726</th>\n",
       "      <td>D4E530F6595A05A3</td>\n",
       "      <td>A</td>\n",
       "      <td>interface_eu_test</td>\n",
       "      <td>2020-12-26 09:31:53</td>\n",
       "      <td>product_cart</td>\n",
       "      <td>NaN</td>\n",
       "      <td>2020-12-22</td>\n",
       "      <td>EU</td>\n",
       "      <td>Android</td>\n",
       "    </tr>\n",
       "    <tr>\n",
       "      <th>27727</th>\n",
       "      <td>D4E530F6595A05A3</td>\n",
       "      <td>A</td>\n",
       "      <td>interface_eu_test</td>\n",
       "      <td>2020-12-29 23:35:45</td>\n",
       "      <td>product_cart</td>\n",
       "      <td>NaN</td>\n",
       "      <td>2020-12-22</td>\n",
       "      <td>EU</td>\n",
       "      <td>Android</td>\n",
       "    </tr>\n",
       "    <tr>\n",
       "      <th>27728</th>\n",
       "      <td>D4E530F6595A05A3</td>\n",
       "      <td>A</td>\n",
       "      <td>interface_eu_test</td>\n",
       "      <td>2020-12-22 06:00:57</td>\n",
       "      <td>login</td>\n",
       "      <td>NaN</td>\n",
       "      <td>2020-12-22</td>\n",
       "      <td>EU</td>\n",
       "      <td>Android</td>\n",
       "    </tr>\n",
       "    <tr>\n",
       "      <th>...</th>\n",
       "      <td>...</td>\n",
       "      <td>...</td>\n",
       "      <td>...</td>\n",
       "      <td>...</td>\n",
       "      <td>...</td>\n",
       "      <td>...</td>\n",
       "      <td>...</td>\n",
       "      <td>...</td>\n",
       "      <td>...</td>\n",
       "    </tr>\n",
       "    <tr>\n",
       "      <th>110256</th>\n",
       "      <td>4E72793CE1C61E8D</td>\n",
       "      <td>A</td>\n",
       "      <td>interface_eu_test</td>\n",
       "      <td>2020-12-28 13:16:26</td>\n",
       "      <td>product_page</td>\n",
       "      <td>NaN</td>\n",
       "      <td>2020-12-22</td>\n",
       "      <td>EU</td>\n",
       "      <td>iPhone</td>\n",
       "    </tr>\n",
       "    <tr>\n",
       "      <th>110257</th>\n",
       "      <td>4E72793CE1C61E8D</td>\n",
       "      <td>A</td>\n",
       "      <td>interface_eu_test</td>\n",
       "      <td>2020-12-22 13:08:15</td>\n",
       "      <td>login</td>\n",
       "      <td>NaN</td>\n",
       "      <td>2020-12-22</td>\n",
       "      <td>EU</td>\n",
       "      <td>iPhone</td>\n",
       "    </tr>\n",
       "    <tr>\n",
       "      <th>110258</th>\n",
       "      <td>4E72793CE1C61E8D</td>\n",
       "      <td>A</td>\n",
       "      <td>interface_eu_test</td>\n",
       "      <td>2020-12-23 01:15:14</td>\n",
       "      <td>login</td>\n",
       "      <td>NaN</td>\n",
       "      <td>2020-12-22</td>\n",
       "      <td>EU</td>\n",
       "      <td>iPhone</td>\n",
       "    </tr>\n",
       "    <tr>\n",
       "      <th>110259</th>\n",
       "      <td>4E72793CE1C61E8D</td>\n",
       "      <td>A</td>\n",
       "      <td>interface_eu_test</td>\n",
       "      <td>2020-12-26 00:51:20</td>\n",
       "      <td>login</td>\n",
       "      <td>NaN</td>\n",
       "      <td>2020-12-22</td>\n",
       "      <td>EU</td>\n",
       "      <td>iPhone</td>\n",
       "    </tr>\n",
       "    <tr>\n",
       "      <th>110260</th>\n",
       "      <td>4E72793CE1C61E8D</td>\n",
       "      <td>A</td>\n",
       "      <td>interface_eu_test</td>\n",
       "      <td>2020-12-28 13:16:26</td>\n",
       "      <td>login</td>\n",
       "      <td>NaN</td>\n",
       "      <td>2020-12-22</td>\n",
       "      <td>EU</td>\n",
       "      <td>iPhone</td>\n",
       "    </tr>\n",
       "  </tbody>\n",
       "</table>\n",
       "<p>6117 rows × 9 columns</p>\n",
       "</div>"
      ],
      "text/plain": [
       "                 user_id group            ab_test            event_dt  \\\n",
       "27724   D4E530F6595A05A3     A  interface_eu_test 2020-12-22 06:01:01   \n",
       "27725   D4E530F6595A05A3     A  interface_eu_test 2020-12-25 18:39:01   \n",
       "27726   D4E530F6595A05A3     A  interface_eu_test 2020-12-26 09:31:53   \n",
       "27727   D4E530F6595A05A3     A  interface_eu_test 2020-12-29 23:35:45   \n",
       "27728   D4E530F6595A05A3     A  interface_eu_test 2020-12-22 06:00:57   \n",
       "...                  ...   ...                ...                 ...   \n",
       "110256  4E72793CE1C61E8D     A  interface_eu_test 2020-12-28 13:16:26   \n",
       "110257  4E72793CE1C61E8D     A  interface_eu_test 2020-12-22 13:08:15   \n",
       "110258  4E72793CE1C61E8D     A  interface_eu_test 2020-12-23 01:15:14   \n",
       "110259  4E72793CE1C61E8D     A  interface_eu_test 2020-12-26 00:51:20   \n",
       "110260  4E72793CE1C61E8D     A  interface_eu_test 2020-12-28 13:16:26   \n",
       "\n",
       "          event_name  details first_date region   device  \n",
       "27724   product_cart      NaN 2020-12-22     EU  Android  \n",
       "27725   product_cart      NaN 2020-12-22     EU  Android  \n",
       "27726   product_cart      NaN 2020-12-22     EU  Android  \n",
       "27727   product_cart      NaN 2020-12-22     EU  Android  \n",
       "27728          login      NaN 2020-12-22     EU  Android  \n",
       "...              ...      ...        ...    ...      ...  \n",
       "110256  product_page      NaN 2020-12-22     EU   iPhone  \n",
       "110257         login      NaN 2020-12-22     EU   iPhone  \n",
       "110258         login      NaN 2020-12-22     EU   iPhone  \n",
       "110259         login      NaN 2020-12-22     EU   iPhone  \n",
       "110260         login      NaN 2020-12-22     EU   iPhone  \n",
       "\n",
       "[6117 rows x 9 columns]"
      ]
     },
     "execution_count": 35,
     "metadata": {},
     "output_type": "execute_result"
    }
   ],
   "source": [
    "df.query('first_date < \"2020-12-07\" or first_date > \"2020-12-21\"')"
   ]
  },
  {
   "cell_type": "code",
   "execution_count": 36,
   "id": "a2e62a4a",
   "metadata": {},
   "outputs": [
    {
     "data": {
      "text/plain": [
       "0        D1ABA3E2887B6A73\n",
       "1        D1ABA3E2887B6A73\n",
       "2        D1ABA3E2887B6A73\n",
       "3        D1ABA3E2887B6A73\n",
       "4        D1ABA3E2887B6A73\n",
       "               ...       \n",
       "26285    80712ED4EA1B52A5\n",
       "26286    80712ED4EA1B52A5\n",
       "26287    80712ED4EA1B52A5\n",
       "26288    80712ED4EA1B52A5\n",
       "26289    80712ED4EA1B52A5\n",
       "Name: user_id, Length: 26290, dtype: object"
      ]
     },
     "execution_count": 36,
     "metadata": {},
     "output_type": "execute_result"
    }
   ],
   "source": [
    "eu_users = df.query('(first_date >= \"2020-12-07\" and first_date <= \"2020-12-21\") and region == \"EU\"')\n",
    "eu_users[eu_users['ab_test']== \"recommender_system_test\"]['user_id']"
   ]
  },
  {
   "cell_type": "code",
   "execution_count": 37,
   "id": "358060fa",
   "metadata": {},
   "outputs": [
    {
     "data": {
      "text/plain": [
       "0        D72A72121175D8BE\n",
       "2        2E1BF1D4C37EA01F\n",
       "3        50734A22C0C63768\n",
       "7        8942E64218C9A1ED\n",
       "9        FFCEA1179C253104\n",
       "               ...       \n",
       "61728    1DB53B933257165D\n",
       "61729    538643EB4527ED03\n",
       "61730    7ADEE837D5D8CBBD\n",
       "61731    1C7D23927835213F\n",
       "61732    8F04273BB2860229\n",
       "Name: user_id, Length: 42340, dtype: object"
      ]
     },
     "execution_count": 37,
     "metadata": {},
     "output_type": "execute_result"
    }
   ],
   "source": [
    "n_users.query('first_date <= \"2020-12-21\" and region == \"EU\"')['user_id']"
   ]
  },
  {
   "cell_type": "code",
   "execution_count": 38,
   "id": "0ca68154",
   "metadata": {},
   "outputs": [
    {
     "data": {
      "text/plain": [
       "0.15"
      ]
     },
     "execution_count": 38,
     "metadata": {},
     "output_type": "execute_result"
    }
   ],
   "source": [
    "(eu_users[eu_users['ab_test']== \"recommender_system_test\"]['user_id'].nunique()\n",
    "/n_users.query('first_date <= \"2020-12-21\" and region == \"EU\"')['user_id'].nunique())"
   ]
  },
  {
   "cell_type": "markdown",
   "id": "9b78ba40",
   "metadata": {},
   "source": [
    "Расчет показал, что наша аудитория - 15% новых пользователей из региона EU, что полностью согласуется с ТЗ."
   ]
  },
  {
   "cell_type": "markdown",
   "id": "f70d9f39",
   "metadata": {},
   "source": [
    "### Лайфтайм"
   ]
  },
  {
   "cell_type": "markdown",
   "id": "02892e2e",
   "metadata": {},
   "source": [
    "Проверим лайфтайм пользователей."
   ]
  },
  {
   "cell_type": "code",
   "execution_count": 39,
   "id": "5bb3b645",
   "metadata": {},
   "outputs": [
    {
     "data": {
      "text/html": [
       "<div>\n",
       "<style scoped>\n",
       "    .dataframe tbody tr th:only-of-type {\n",
       "        vertical-align: middle;\n",
       "    }\n",
       "\n",
       "    .dataframe tbody tr th {\n",
       "        vertical-align: top;\n",
       "    }\n",
       "\n",
       "    .dataframe thead th {\n",
       "        text-align: right;\n",
       "    }\n",
       "</style>\n",
       "<table border=\"1\" class=\"dataframe\">\n",
       "  <thead>\n",
       "    <tr style=\"text-align: right;\">\n",
       "      <th></th>\n",
       "      <th>user_id</th>\n",
       "      <th>group</th>\n",
       "      <th>event_dt</th>\n",
       "      <th>event_name</th>\n",
       "      <th>details</th>\n",
       "      <th>first_date</th>\n",
       "      <th>region</th>\n",
       "      <th>device</th>\n",
       "    </tr>\n",
       "  </thead>\n",
       "  <tbody>\n",
       "    <tr>\n",
       "      <th>15230</th>\n",
       "      <td>5B5F8713DF915802</td>\n",
       "      <td>A</td>\n",
       "      <td>2020-12-22 12:25:44</td>\n",
       "      <td>login</td>\n",
       "      <td>NaN</td>\n",
       "      <td>2020-12-21</td>\n",
       "      <td>EU</td>\n",
       "      <td>Android</td>\n",
       "    </tr>\n",
       "  </tbody>\n",
       "</table>\n",
       "</div>"
      ],
      "text/plain": [
       "                user_id group            event_dt event_name  details  \\\n",
       "15230  5B5F8713DF915802     A 2020-12-22 12:25:44      login      NaN   \n",
       "\n",
       "      first_date region   device  \n",
       "15230 2020-12-21     EU  Android  "
      ]
     },
     "execution_count": 39,
     "metadata": {},
     "output_type": "execute_result"
    }
   ],
   "source": [
    "df_rec.sample(1)"
   ]
  },
  {
   "cell_type": "code",
   "execution_count": 40,
   "id": "26dfb524",
   "metadata": {},
   "outputs": [
    {
     "data": {
      "text/html": [
       "<div>\n",
       "<style scoped>\n",
       "    .dataframe tbody tr th:only-of-type {\n",
       "        vertical-align: middle;\n",
       "    }\n",
       "\n",
       "    .dataframe tbody tr th {\n",
       "        vertical-align: top;\n",
       "    }\n",
       "\n",
       "    .dataframe thead th {\n",
       "        text-align: right;\n",
       "    }\n",
       "</style>\n",
       "<table border=\"1\" class=\"dataframe\">\n",
       "  <thead>\n",
       "    <tr style=\"text-align: right;\">\n",
       "      <th></th>\n",
       "      <th>user_id</th>\n",
       "      <th>event_dt</th>\n",
       "      <th>first_date</th>\n",
       "    </tr>\n",
       "  </thead>\n",
       "  <tbody>\n",
       "    <tr>\n",
       "      <th>144</th>\n",
       "      <td>0DC63E84277804EC</td>\n",
       "      <td>2020-12-14</td>\n",
       "      <td>2020-12-14</td>\n",
       "    </tr>\n",
       "    <tr>\n",
       "      <th>2197</th>\n",
       "      <td>B28720DBB0468944</td>\n",
       "      <td>2020-12-21</td>\n",
       "      <td>2020-12-17</td>\n",
       "    </tr>\n",
       "  </tbody>\n",
       "</table>\n",
       "</div>"
      ],
      "text/plain": [
       "               user_id   event_dt first_date\n",
       "144   0DC63E84277804EC 2020-12-14 2020-12-14\n",
       "2197  B28720DBB0468944 2020-12-21 2020-12-17"
      ]
     },
     "execution_count": 40,
     "metadata": {},
     "output_type": "execute_result"
    }
   ],
   "source": [
    "date_check= df_rec.groupby('user_id', as_index= False).agg({'event_dt': 'last', 'first_date': 'max'})\n",
    "date_check['event_dt']= pd.to_datetime(date_check['event_dt']).dt.date\n",
    "date_check['event_dt']= pd.to_datetime(date_check['event_dt']).dt.normalize()\n",
    "date_check.sample(2)"
   ]
  },
  {
   "cell_type": "code",
   "execution_count": 41,
   "id": "87ec677f",
   "metadata": {},
   "outputs": [
    {
     "data": {
      "text/html": [
       "<div>\n",
       "<style scoped>\n",
       "    .dataframe tbody tr th:only-of-type {\n",
       "        vertical-align: middle;\n",
       "    }\n",
       "\n",
       "    .dataframe tbody tr th {\n",
       "        vertical-align: top;\n",
       "    }\n",
       "\n",
       "    .dataframe thead th {\n",
       "        text-align: right;\n",
       "    }\n",
       "</style>\n",
       "<table border=\"1\" class=\"dataframe\">\n",
       "  <thead>\n",
       "    <tr style=\"text-align: right;\">\n",
       "      <th></th>\n",
       "      <th>user_id</th>\n",
       "      <th>event_dt</th>\n",
       "      <th>first_date</th>\n",
       "      <th>days_diff</th>\n",
       "    </tr>\n",
       "  </thead>\n",
       "  <tbody>\n",
       "    <tr>\n",
       "      <th>682</th>\n",
       "      <td>38C10366AB1B0A90</td>\n",
       "      <td>2020-12-19</td>\n",
       "      <td>2020-12-14</td>\n",
       "      <td>5</td>\n",
       "    </tr>\n",
       "  </tbody>\n",
       "</table>\n",
       "</div>"
      ],
      "text/plain": [
       "              user_id   event_dt first_date  days_diff\n",
       "682  38C10366AB1B0A90 2020-12-19 2020-12-14          5"
      ]
     },
     "execution_count": 41,
     "metadata": {},
     "output_type": "execute_result"
    }
   ],
   "source": [
    "date_check['days_diff']= (date_check['event_dt']-date_check['first_date']).dt.days\n",
    "date_check.sample(1)"
   ]
  },
  {
   "cell_type": "code",
   "execution_count": 42,
   "id": "3bee1a1a",
   "metadata": {
    "scrolled": false
   },
   "outputs": [
    {
     "data": {
      "text/html": [
       "<div>\n",
       "<style scoped>\n",
       "    .dataframe tbody tr th:only-of-type {\n",
       "        vertical-align: middle;\n",
       "    }\n",
       "\n",
       "    .dataframe tbody tr th {\n",
       "        vertical-align: top;\n",
       "    }\n",
       "\n",
       "    .dataframe thead th {\n",
       "        text-align: right;\n",
       "    }\n",
       "</style>\n",
       "<table border=\"1\" class=\"dataframe\">\n",
       "  <thead>\n",
       "    <tr style=\"text-align: right;\">\n",
       "      <th></th>\n",
       "      <th>user_id</th>\n",
       "      <th>event_dt</th>\n",
       "      <th>first_date</th>\n",
       "      <th>days_diff</th>\n",
       "    </tr>\n",
       "  </thead>\n",
       "  <tbody>\n",
       "    <tr>\n",
       "      <th>13</th>\n",
       "      <td>015CCC27BDB640E1</td>\n",
       "      <td>2020-12-24</td>\n",
       "      <td>2020-12-09</td>\n",
       "      <td>15</td>\n",
       "    </tr>\n",
       "    <tr>\n",
       "      <th>16</th>\n",
       "      <td>016F758EB5C5A5DA</td>\n",
       "      <td>2020-12-29</td>\n",
       "      <td>2020-12-13</td>\n",
       "      <td>16</td>\n",
       "    </tr>\n",
       "    <tr>\n",
       "      <th>17</th>\n",
       "      <td>0178FA423606B54B</td>\n",
       "      <td>2020-12-28</td>\n",
       "      <td>2020-12-08</td>\n",
       "      <td>20</td>\n",
       "    </tr>\n",
       "    <tr>\n",
       "      <th>25</th>\n",
       "      <td>021E3EC8A37EE2E3</td>\n",
       "      <td>2020-12-29</td>\n",
       "      <td>2020-12-07</td>\n",
       "      <td>22</td>\n",
       "    </tr>\n",
       "    <tr>\n",
       "      <th>57</th>\n",
       "      <td>053FB26D6D49EDDC</td>\n",
       "      <td>2020-12-25</td>\n",
       "      <td>2020-12-10</td>\n",
       "      <td>15</td>\n",
       "    </tr>\n",
       "    <tr>\n",
       "      <th>...</th>\n",
       "      <td>...</td>\n",
       "      <td>...</td>\n",
       "      <td>...</td>\n",
       "      <td>...</td>\n",
       "    </tr>\n",
       "    <tr>\n",
       "      <th>3084</th>\n",
       "      <td>FCF9CA847EFA5A92</td>\n",
       "      <td>2020-12-28</td>\n",
       "      <td>2020-12-07</td>\n",
       "      <td>21</td>\n",
       "    </tr>\n",
       "    <tr>\n",
       "      <th>3086</th>\n",
       "      <td>FD11BEB17BD1E5F1</td>\n",
       "      <td>2020-12-28</td>\n",
       "      <td>2020-12-09</td>\n",
       "      <td>19</td>\n",
       "    </tr>\n",
       "    <tr>\n",
       "      <th>3091</th>\n",
       "      <td>FD38A6D8AF786363</td>\n",
       "      <td>2020-12-24</td>\n",
       "      <td>2020-12-08</td>\n",
       "      <td>16</td>\n",
       "    </tr>\n",
       "    <tr>\n",
       "      <th>3098</th>\n",
       "      <td>FDC4F5414D325E59</td>\n",
       "      <td>2020-12-29</td>\n",
       "      <td>2020-12-09</td>\n",
       "      <td>20</td>\n",
       "    </tr>\n",
       "    <tr>\n",
       "      <th>3117</th>\n",
       "      <td>FF120D67C4BE2DA3</td>\n",
       "      <td>2020-12-22</td>\n",
       "      <td>2020-12-07</td>\n",
       "      <td>15</td>\n",
       "    </tr>\n",
       "  </tbody>\n",
       "</table>\n",
       "<p>228 rows × 4 columns</p>\n",
       "</div>"
      ],
      "text/plain": [
       "               user_id   event_dt first_date  days_diff\n",
       "13    015CCC27BDB640E1 2020-12-24 2020-12-09         15\n",
       "16    016F758EB5C5A5DA 2020-12-29 2020-12-13         16\n",
       "17    0178FA423606B54B 2020-12-28 2020-12-08         20\n",
       "25    021E3EC8A37EE2E3 2020-12-29 2020-12-07         22\n",
       "57    053FB26D6D49EDDC 2020-12-25 2020-12-10         15\n",
       "...                ...        ...        ...        ...\n",
       "3084  FCF9CA847EFA5A92 2020-12-28 2020-12-07         21\n",
       "3086  FD11BEB17BD1E5F1 2020-12-28 2020-12-09         19\n",
       "3091  FD38A6D8AF786363 2020-12-24 2020-12-08         16\n",
       "3098  FDC4F5414D325E59 2020-12-29 2020-12-09         20\n",
       "3117  FF120D67C4BE2DA3 2020-12-22 2020-12-07         15\n",
       "\n",
       "[228 rows x 4 columns]"
      ]
     },
     "execution_count": 42,
     "metadata": {},
     "output_type": "execute_result"
    }
   ],
   "source": [
    "date_check.query('days_diff > 14')"
   ]
  },
  {
   "cell_type": "markdown",
   "id": "03733765",
   "metadata": {},
   "source": [
    "У 228 пользователей промежуток между регистрацией и последним действием составляет более 14 дней. В соответствии с тз, придется их убрать."
   ]
  },
  {
   "cell_type": "code",
   "execution_count": 43,
   "id": "cdd8f876",
   "metadata": {},
   "outputs": [],
   "source": [
    "users_big_lifetime= date_check.query('days_diff > 14')['user_id']"
   ]
  },
  {
   "cell_type": "code",
   "execution_count": 44,
   "id": "1abc23dc",
   "metadata": {},
   "outputs": [],
   "source": [
    "df_rec= df_rec.query('user_id not in @users_big_lifetime')"
   ]
  },
  {
   "cell_type": "markdown",
   "id": "071611de",
   "metadata": {},
   "source": [
    "### Пересечение с событиями"
   ]
  },
  {
   "cell_type": "markdown",
   "id": "2238fcd2",
   "metadata": {},
   "source": [
    "Посмотрим, есть ли события совпадающие с временем проведения теста"
   ]
  },
  {
   "cell_type": "code",
   "execution_count": 45,
   "id": "9a745f2c",
   "metadata": {},
   "outputs": [
    {
     "data": {
      "text/html": [
       "<div>\n",
       "<style scoped>\n",
       "    .dataframe tbody tr th:only-of-type {\n",
       "        vertical-align: middle;\n",
       "    }\n",
       "\n",
       "    .dataframe tbody tr th {\n",
       "        vertical-align: top;\n",
       "    }\n",
       "\n",
       "    .dataframe thead th {\n",
       "        text-align: right;\n",
       "    }\n",
       "</style>\n",
       "<table border=\"1\" class=\"dataframe\">\n",
       "  <thead>\n",
       "    <tr style=\"text-align: right;\">\n",
       "      <th></th>\n",
       "      <th>name</th>\n",
       "      <th>regions</th>\n",
       "      <th>start_dt</th>\n",
       "      <th>finish_dt</th>\n",
       "    </tr>\n",
       "  </thead>\n",
       "  <tbody>\n",
       "    <tr>\n",
       "      <th>0</th>\n",
       "      <td>Christmas&amp;New Year Promo</td>\n",
       "      <td>EU, N.America</td>\n",
       "      <td>2020-12-25</td>\n",
       "      <td>2021-01-03</td>\n",
       "    </tr>\n",
       "  </tbody>\n",
       "</table>\n",
       "</div>"
      ],
      "text/plain": [
       "                       name        regions   start_dt  finish_dt\n",
       "0  Christmas&New Year Promo  EU, N.America 2020-12-25 2021-01-03"
      ]
     },
     "execution_count": 45,
     "metadata": {},
     "output_type": "execute_result"
    }
   ],
   "source": [
    "m_events.query('start_dt >= \"2020-12-07\" and finish_dt <= \"2021-01-04\"')"
   ]
  },
  {
   "cell_type": "markdown",
   "id": "d65cddc1",
   "metadata": {},
   "source": [
    "Есть только одно событие совпадающее с проведением теста."
   ]
  },
  {
   "cell_type": "markdown",
   "id": "6719be89",
   "metadata": {},
   "source": [
    "### Количество пользователей"
   ]
  },
  {
   "cell_type": "markdown",
   "id": "7a22689a",
   "metadata": {},
   "source": [
    "Согласно тз, количество участников в тесте должно составлять 6000 пользователей."
   ]
  },
  {
   "cell_type": "code",
   "execution_count": 46,
   "id": "e6d142b7",
   "metadata": {},
   "outputs": [
    {
     "data": {
      "text/plain": [
       "2900"
      ]
     },
     "execution_count": 46,
     "metadata": {},
     "output_type": "execute_result"
    }
   ],
   "source": [
    "df_rec['user_id'].nunique()"
   ]
  },
  {
   "cell_type": "code",
   "execution_count": 47,
   "id": "01455c85",
   "metadata": {},
   "outputs": [
    {
     "data": {
      "text/html": [
       "<div>\n",
       "<style scoped>\n",
       "    .dataframe tbody tr th:only-of-type {\n",
       "        vertical-align: middle;\n",
       "    }\n",
       "\n",
       "    .dataframe tbody tr th {\n",
       "        vertical-align: top;\n",
       "    }\n",
       "\n",
       "    .dataframe thead th {\n",
       "        text-align: right;\n",
       "    }\n",
       "</style>\n",
       "<table border=\"1\" class=\"dataframe\">\n",
       "  <thead>\n",
       "    <tr style=\"text-align: right;\">\n",
       "      <th></th>\n",
       "      <th>user_id</th>\n",
       "      <th>group</th>\n",
       "      <th>event_dt</th>\n",
       "      <th>event_name</th>\n",
       "      <th>details</th>\n",
       "      <th>first_date</th>\n",
       "      <th>region</th>\n",
       "      <th>device</th>\n",
       "    </tr>\n",
       "  </thead>\n",
       "  <tbody>\n",
       "    <tr>\n",
       "      <th>19232</th>\n",
       "      <td>CD77B10F620BEABA</td>\n",
       "      <td>A</td>\n",
       "      <td>2020-12-26 03:28:29</td>\n",
       "      <td>login</td>\n",
       "      <td>NaN</td>\n",
       "      <td>2020-12-21</td>\n",
       "      <td>EU</td>\n",
       "      <td>iPhone</td>\n",
       "    </tr>\n",
       "    <tr>\n",
       "      <th>14945</th>\n",
       "      <td>C890B90703F73F15</td>\n",
       "      <td>A</td>\n",
       "      <td>2020-12-25 02:21:14</td>\n",
       "      <td>product_cart</td>\n",
       "      <td>NaN</td>\n",
       "      <td>2020-12-21</td>\n",
       "      <td>EU</td>\n",
       "      <td>iPhone</td>\n",
       "    </tr>\n",
       "  </tbody>\n",
       "</table>\n",
       "</div>"
      ],
      "text/plain": [
       "                user_id group            event_dt    event_name  details  \\\n",
       "19232  CD77B10F620BEABA     A 2020-12-26 03:28:29         login      NaN   \n",
       "14945  C890B90703F73F15     A 2020-12-25 02:21:14  product_cart      NaN   \n",
       "\n",
       "      first_date region  device  \n",
       "19232 2020-12-21     EU  iPhone  \n",
       "14945 2020-12-21     EU  iPhone  "
      ]
     },
     "execution_count": 47,
     "metadata": {},
     "output_type": "execute_result"
    }
   ],
   "source": [
    "df_rec.sample(2)"
   ]
  },
  {
   "cell_type": "markdown",
   "id": "377992a5",
   "metadata": {},
   "source": [
    "После всех проверок и удалений нерелевантных пользователей у нас осталось всего 2900 пользователей."
   ]
  },
  {
   "cell_type": "code",
   "execution_count": 48,
   "id": "60cc9995",
   "metadata": {},
   "outputs": [
    {
     "data": {
      "text/html": [
       "<div>\n",
       "<style scoped>\n",
       "    .dataframe tbody tr th:only-of-type {\n",
       "        vertical-align: middle;\n",
       "    }\n",
       "\n",
       "    .dataframe tbody tr th {\n",
       "        vertical-align: top;\n",
       "    }\n",
       "\n",
       "    .dataframe thead th {\n",
       "        text-align: right;\n",
       "    }\n",
       "</style>\n",
       "<table border=\"1\" class=\"dataframe\">\n",
       "  <thead>\n",
       "    <tr style=\"text-align: right;\">\n",
       "      <th></th>\n",
       "      <th>group</th>\n",
       "      <th>user_id</th>\n",
       "    </tr>\n",
       "  </thead>\n",
       "  <tbody>\n",
       "    <tr>\n",
       "      <th>0</th>\n",
       "      <td>A</td>\n",
       "      <td>2280</td>\n",
       "    </tr>\n",
       "    <tr>\n",
       "      <th>1</th>\n",
       "      <td>B</td>\n",
       "      <td>620</td>\n",
       "    </tr>\n",
       "  </tbody>\n",
       "</table>\n",
       "</div>"
      ],
      "text/plain": [
       "  group  user_id\n",
       "0     A     2280\n",
       "1     B      620"
      ]
     },
     "execution_count": 48,
     "metadata": {},
     "output_type": "execute_result"
    }
   ],
   "source": [
    "df_rec.groupby('group', as_index= False).agg({'user_id': 'nunique'})"
   ]
  },
  {
   "cell_type": "markdown",
   "id": "e418c1d2",
   "metadata": {},
   "source": [
    "Если учесть, что базовая конверсия - 50%, минимальный обнаруживаемый эффект - 10%, при статистической мощности 80% и уровне значимости - 5%, размер выборки составляет 390 человек, что вполне удовлетворяет нашим данным (2280- группа A, 620 человек - группа - B)"
   ]
  },
  {
   "cell_type": "markdown",
   "id": "e594aea7",
   "metadata": {},
   "source": [
    "Посчитаем равномерность распределения пользователей в группах "
   ]
  },
  {
   "cell_type": "code",
   "execution_count": 49,
   "id": "e9f073ac",
   "metadata": {},
   "outputs": [
    {
     "data": {
      "text/plain": [
       "3.68"
      ]
     },
     "execution_count": 49,
     "metadata": {},
     "output_type": "execute_result"
    }
   ],
   "source": [
    "ab_rel = (df_rec\n",
    "          .groupby('group')\n",
    "          .agg({'user_id': 'nunique'}))\n",
    "\n",
    "round(ab_rel['user_id'][0]/ab_rel['user_id'][1],2)"
   ]
  },
  {
   "cell_type": "markdown",
   "id": "748d009b",
   "metadata": {},
   "source": [
    "Пользователи в группах распределены неравномерно - в контрольной группе в 3.7 раз больше пользователей, чем в тестовой."
   ]
  },
  {
   "cell_type": "markdown",
   "id": "348ebeae",
   "metadata": {},
   "source": [
    "### Конверсия"
   ]
  },
  {
   "cell_type": "markdown",
   "id": "cee021bd",
   "metadata": {},
   "source": [
    "Согласно тз, ожидаемый эффект: за 14 дней с момента регистрации пользователи покажут улучшение каждой метрики не менее, чем на 10%:\n",
    "* конверсии в просмотр карточек товаров — событие `product_page`,\n",
    "* просмотры корзины — `product_cart`,\n",
    "* покупки — `purchase`."
   ]
  },
  {
   "cell_type": "markdown",
   "id": "1a43d12b",
   "metadata": {},
   "source": [
    "Построим воронки"
   ]
  },
  {
   "cell_type": "code",
   "execution_count": 50,
   "id": "773124dd",
   "metadata": {},
   "outputs": [
    {
     "data": {
      "text/html": [
       "<div>\n",
       "<style scoped>\n",
       "    .dataframe tbody tr th:only-of-type {\n",
       "        vertical-align: middle;\n",
       "    }\n",
       "\n",
       "    .dataframe tbody tr th {\n",
       "        vertical-align: top;\n",
       "    }\n",
       "\n",
       "    .dataframe thead th {\n",
       "        text-align: right;\n",
       "    }\n",
       "</style>\n",
       "<table border=\"1\" class=\"dataframe\">\n",
       "  <thead>\n",
       "    <tr style=\"text-align: right;\">\n",
       "      <th></th>\n",
       "      <th>event_name</th>\n",
       "      <th>users</th>\n",
       "    </tr>\n",
       "  </thead>\n",
       "  <tbody>\n",
       "    <tr>\n",
       "      <th>0</th>\n",
       "      <td>login</td>\n",
       "      <td>2280</td>\n",
       "    </tr>\n",
       "    <tr>\n",
       "      <th>2</th>\n",
       "      <td>product_page</td>\n",
       "      <td>1478</td>\n",
       "    </tr>\n",
       "    <tr>\n",
       "      <th>3</th>\n",
       "      <td>purchase</td>\n",
       "      <td>735</td>\n",
       "    </tr>\n",
       "    <tr>\n",
       "      <th>1</th>\n",
       "      <td>product_cart</td>\n",
       "      <td>695</td>\n",
       "    </tr>\n",
       "  </tbody>\n",
       "</table>\n",
       "</div>"
      ],
      "text/plain": [
       "     event_name  users\n",
       "0         login   2280\n",
       "2  product_page   1478\n",
       "3      purchase    735\n",
       "1  product_cart    695"
      ]
     },
     "metadata": {},
     "output_type": "display_data"
    },
    {
     "data": {
      "text/html": [
       "<div>\n",
       "<style scoped>\n",
       "    .dataframe tbody tr th:only-of-type {\n",
       "        vertical-align: middle;\n",
       "    }\n",
       "\n",
       "    .dataframe tbody tr th {\n",
       "        vertical-align: top;\n",
       "    }\n",
       "\n",
       "    .dataframe thead th {\n",
       "        text-align: right;\n",
       "    }\n",
       "</style>\n",
       "<table border=\"1\" class=\"dataframe\">\n",
       "  <thead>\n",
       "    <tr style=\"text-align: right;\">\n",
       "      <th></th>\n",
       "      <th>event_name</th>\n",
       "      <th>users</th>\n",
       "    </tr>\n",
       "  </thead>\n",
       "  <tbody>\n",
       "    <tr>\n",
       "      <th>0</th>\n",
       "      <td>login</td>\n",
       "      <td>620</td>\n",
       "    </tr>\n",
       "    <tr>\n",
       "      <th>2</th>\n",
       "      <td>product_page</td>\n",
       "      <td>349</td>\n",
       "    </tr>\n",
       "    <tr>\n",
       "      <th>3</th>\n",
       "      <td>purchase</td>\n",
       "      <td>176</td>\n",
       "    </tr>\n",
       "    <tr>\n",
       "      <th>1</th>\n",
       "      <td>product_cart</td>\n",
       "      <td>175</td>\n",
       "    </tr>\n",
       "  </tbody>\n",
       "</table>\n",
       "</div>"
      ],
      "text/plain": [
       "     event_name  users\n",
       "0         login    620\n",
       "2  product_page    349\n",
       "3      purchase    176\n",
       "1  product_cart    175"
      ]
     },
     "metadata": {},
     "output_type": "display_data"
    }
   ],
   "source": [
    "funnel_A= (\n",
    "    df_rec.query('group == \"A\"')\n",
    "    .groupby('event_name', as_index= False)\n",
    "    .agg({'user_id': 'nunique'})\n",
    "    .rename(columns= {'user_id': 'users'})\n",
    "    .sort_values(by= 'users', ascending= False)\n",
    ")\n",
    "funnel_B= (\n",
    "    df_rec.query('group == \"B\"')\n",
    "    .groupby('event_name', as_index= False)\n",
    "    .agg({'user_id': 'nunique'})\n",
    "    .rename(columns= {'user_id': 'users'})\n",
    "    .sort_values(by= 'users', ascending= False)\n",
    ")\n",
    "display(funnel_A)\n",
    "display(funnel_B)"
   ]
  },
  {
   "cell_type": "markdown",
   "id": "b50304f3",
   "metadata": {},
   "source": [
    "Теоретически, порядок действий пользователя должен быть следующий: логин-просмотр продукта-добавление продукта-покупка.   \n",
    "Однако, согласно расчетам, некоторые пользователи сразу переходят к стадии покупки, минуя стадию добавления в корзину. Вероятно, на сайте есть возможность купить товар на странице товара, не добавляя его в корзину."
   ]
  },
  {
   "cell_type": "code",
   "execution_count": 51,
   "id": "a8162dd8",
   "metadata": {},
   "outputs": [],
   "source": [
    "funnel_A['conversion']= round((funnel_A['users']/df_rec.query('group == \"A\"')['user_id'].nunique())*100,2)\n",
    "funnel_B['conversion']= round((funnel_B['users']/df_rec.query('group == \"B\"')['user_id'].nunique())*100,2)"
   ]
  },
  {
   "cell_type": "code",
   "execution_count": 52,
   "id": "4ee3e76f",
   "metadata": {},
   "outputs": [],
   "source": [
    "funnel_A['step_conversion'] = round(\n",
    "    (funnel_A['conversion'] / funnel_A['conversion'].shift())*100, 2\n",
    ")\n",
    "\n",
    "funnel_B['step_conversion'] = round(\n",
    "    (funnel_B['conversion'] / funnel_B['conversion'].shift())*100, 2\n",
    ")"
   ]
  },
  {
   "cell_type": "code",
   "execution_count": 53,
   "id": "fbbe36d9",
   "metadata": {},
   "outputs": [
    {
     "data": {
      "text/html": [
       "<div>\n",
       "<style scoped>\n",
       "    .dataframe tbody tr th:only-of-type {\n",
       "        vertical-align: middle;\n",
       "    }\n",
       "\n",
       "    .dataframe tbody tr th {\n",
       "        vertical-align: top;\n",
       "    }\n",
       "\n",
       "    .dataframe thead th {\n",
       "        text-align: right;\n",
       "    }\n",
       "</style>\n",
       "<table border=\"1\" class=\"dataframe\">\n",
       "  <thead>\n",
       "    <tr style=\"text-align: right;\">\n",
       "      <th></th>\n",
       "      <th>event_name</th>\n",
       "      <th>users</th>\n",
       "      <th>conversion</th>\n",
       "      <th>step_conversion</th>\n",
       "    </tr>\n",
       "  </thead>\n",
       "  <tbody>\n",
       "    <tr>\n",
       "      <th>0</th>\n",
       "      <td>login</td>\n",
       "      <td>2280</td>\n",
       "      <td>100.00</td>\n",
       "      <td>NaN</td>\n",
       "    </tr>\n",
       "    <tr>\n",
       "      <th>2</th>\n",
       "      <td>product_page</td>\n",
       "      <td>1478</td>\n",
       "      <td>64.82</td>\n",
       "      <td>64.82</td>\n",
       "    </tr>\n",
       "    <tr>\n",
       "      <th>3</th>\n",
       "      <td>purchase</td>\n",
       "      <td>735</td>\n",
       "      <td>32.24</td>\n",
       "      <td>49.74</td>\n",
       "    </tr>\n",
       "    <tr>\n",
       "      <th>1</th>\n",
       "      <td>product_cart</td>\n",
       "      <td>695</td>\n",
       "      <td>30.48</td>\n",
       "      <td>94.54</td>\n",
       "    </tr>\n",
       "  </tbody>\n",
       "</table>\n",
       "</div>"
      ],
      "text/plain": [
       "     event_name  users  conversion  step_conversion\n",
       "0         login   2280      100.00              NaN\n",
       "2  product_page   1478       64.82            64.82\n",
       "3      purchase    735       32.24            49.74\n",
       "1  product_cart    695       30.48            94.54"
      ]
     },
     "metadata": {},
     "output_type": "display_data"
    },
    {
     "data": {
      "text/html": [
       "<div>\n",
       "<style scoped>\n",
       "    .dataframe tbody tr th:only-of-type {\n",
       "        vertical-align: middle;\n",
       "    }\n",
       "\n",
       "    .dataframe tbody tr th {\n",
       "        vertical-align: top;\n",
       "    }\n",
       "\n",
       "    .dataframe thead th {\n",
       "        text-align: right;\n",
       "    }\n",
       "</style>\n",
       "<table border=\"1\" class=\"dataframe\">\n",
       "  <thead>\n",
       "    <tr style=\"text-align: right;\">\n",
       "      <th></th>\n",
       "      <th>event_name</th>\n",
       "      <th>users</th>\n",
       "      <th>conversion</th>\n",
       "      <th>step_conversion</th>\n",
       "    </tr>\n",
       "  </thead>\n",
       "  <tbody>\n",
       "    <tr>\n",
       "      <th>0</th>\n",
       "      <td>login</td>\n",
       "      <td>620</td>\n",
       "      <td>100.00</td>\n",
       "      <td>NaN</td>\n",
       "    </tr>\n",
       "    <tr>\n",
       "      <th>2</th>\n",
       "      <td>product_page</td>\n",
       "      <td>349</td>\n",
       "      <td>56.29</td>\n",
       "      <td>56.29</td>\n",
       "    </tr>\n",
       "    <tr>\n",
       "      <th>3</th>\n",
       "      <td>purchase</td>\n",
       "      <td>176</td>\n",
       "      <td>28.39</td>\n",
       "      <td>50.44</td>\n",
       "    </tr>\n",
       "    <tr>\n",
       "      <th>1</th>\n",
       "      <td>product_cart</td>\n",
       "      <td>175</td>\n",
       "      <td>28.23</td>\n",
       "      <td>99.44</td>\n",
       "    </tr>\n",
       "  </tbody>\n",
       "</table>\n",
       "</div>"
      ],
      "text/plain": [
       "     event_name  users  conversion  step_conversion\n",
       "0         login    620      100.00              NaN\n",
       "2  product_page    349       56.29            56.29\n",
       "3      purchase    176       28.39            50.44\n",
       "1  product_cart    175       28.23            99.44"
      ]
     },
     "metadata": {},
     "output_type": "display_data"
    }
   ],
   "source": [
    "display(funnel_A)\n",
    "display(funnel_B)"
   ]
  },
  {
   "cell_type": "code",
   "execution_count": 54,
   "id": "6c7000c7",
   "metadata": {},
   "outputs": [
    {
     "data": {
      "text/plain": [
       "0    0.00\n",
       "2    8.53\n",
       "3    3.85\n",
       "1    2.25\n",
       "Name: conversion, dtype: float64"
      ]
     },
     "metadata": {},
     "output_type": "display_data"
    }
   ],
   "source": [
    "# Разница в конверсии в между группами A и B\n",
    "display(funnel_A['conversion']- funnel_B['conversion'])"
   ]
  },
  {
   "cell_type": "markdown",
   "id": "bf65a31a",
   "metadata": {},
   "source": [
    "Разница в конверсии между контрольной и тестовой группами менее 10%. У тестовой группы конверсия меньше, чем у контрольной."
   ]
  },
  {
   "cell_type": "markdown",
   "id": "5df873fc",
   "metadata": {},
   "source": [
    "### Вывод"
   ]
  },
  {
   "cell_type": "markdown",
   "id": "52a41114",
   "metadata": {},
   "source": [
    "Проверка технического задания выявила следующие расхождения:\n",
    "* После всех проверок и удалений нерелевантных пользователей у нас осталось всего 2900 пользователей, вместо запланированных 6000\n",
    "* Пользователи в группах распределены неравномерно - в контрольной группе в 3.7 раз больше пользователей, чем в тестовой.\n",
    "* Разница в конверсии между контрольной и тестовой группами менее ожидаемых 10%. У тестовой группы конверсия меньше, чем у контрольной."
   ]
  },
  {
   "cell_type": "markdown",
   "id": "29fbdfb9",
   "metadata": {},
   "source": [
    "## Исследовательский анализ данных"
   ]
  },
  {
   "cell_type": "markdown",
   "id": "989801ce",
   "metadata": {},
   "source": [
    "- Количество событий на пользователя одинаково распределены в выборках?\n",
    "- Как число событий в выборках распределено по дням?\n",
    "- Как меняется конверсия в воронке в выборках на разных этапах?\n",
    "- Какие особенности данных нужно учесть, прежде чем приступать к A/B-тестированию?\n",
    "\n",
    "___"
   ]
  },
  {
   "cell_type": "markdown",
   "id": "65430699",
   "metadata": {},
   "source": [
    "*Количество событий на пользователя одинаково распределены в выборках?*"
   ]
  },
  {
   "cell_type": "code",
   "execution_count": 55,
   "id": "0ea1f8dd",
   "metadata": {},
   "outputs": [
    {
     "data": {
      "text/html": [
       "<div>\n",
       "<style scoped>\n",
       "    .dataframe tbody tr th:only-of-type {\n",
       "        vertical-align: middle;\n",
       "    }\n",
       "\n",
       "    .dataframe tbody tr th {\n",
       "        vertical-align: top;\n",
       "    }\n",
       "\n",
       "    .dataframe thead th {\n",
       "        text-align: right;\n",
       "    }\n",
       "</style>\n",
       "<table border=\"1\" class=\"dataframe\">\n",
       "  <thead>\n",
       "    <tr style=\"text-align: right;\">\n",
       "      <th></th>\n",
       "      <th></th>\n",
       "      <th>count</th>\n",
       "      <th>nunique</th>\n",
       "      <th>rate</th>\n",
       "    </tr>\n",
       "    <tr>\n",
       "      <th>group</th>\n",
       "      <th>event_name</th>\n",
       "      <th></th>\n",
       "      <th></th>\n",
       "      <th></th>\n",
       "    </tr>\n",
       "  </thead>\n",
       "  <tbody>\n",
       "    <tr>\n",
       "      <th rowspan=\"4\" valign=\"top\">A</th>\n",
       "      <th>login</th>\n",
       "      <td>7041</td>\n",
       "      <td>2280</td>\n",
       "      <td>3.09</td>\n",
       "    </tr>\n",
       "    <tr>\n",
       "      <th>product_cart</th>\n",
       "      <td>2155</td>\n",
       "      <td>695</td>\n",
       "      <td>3.10</td>\n",
       "    </tr>\n",
       "    <tr>\n",
       "      <th>product_page</th>\n",
       "      <td>4557</td>\n",
       "      <td>1478</td>\n",
       "      <td>3.08</td>\n",
       "    </tr>\n",
       "    <tr>\n",
       "      <th>purchase</th>\n",
       "      <td>2211</td>\n",
       "      <td>735</td>\n",
       "      <td>3.01</td>\n",
       "    </tr>\n",
       "    <tr>\n",
       "      <th rowspan=\"4\" valign=\"top\">B</th>\n",
       "      <th>login</th>\n",
       "      <td>1641</td>\n",
       "      <td>620</td>\n",
       "      <td>2.65</td>\n",
       "    </tr>\n",
       "    <tr>\n",
       "      <th>product_cart</th>\n",
       "      <td>443</td>\n",
       "      <td>175</td>\n",
       "      <td>2.53</td>\n",
       "    </tr>\n",
       "    <tr>\n",
       "      <th>product_page</th>\n",
       "      <td>869</td>\n",
       "      <td>349</td>\n",
       "      <td>2.49</td>\n",
       "    </tr>\n",
       "    <tr>\n",
       "      <th>purchase</th>\n",
       "      <td>434</td>\n",
       "      <td>176</td>\n",
       "      <td>2.47</td>\n",
       "    </tr>\n",
       "  </tbody>\n",
       "</table>\n",
       "</div>"
      ],
      "text/plain": [
       "                    count  nunique  rate\n",
       "group event_name                        \n",
       "A     login          7041     2280  3.09\n",
       "      product_cart   2155      695  3.10\n",
       "      product_page   4557     1478  3.08\n",
       "      purchase       2211      735  3.01\n",
       "B     login          1641      620  2.65\n",
       "      product_cart    443      175  2.53\n",
       "      product_page    869      349  2.49\n",
       "      purchase        434      176  2.47"
      ]
     },
     "execution_count": 55,
     "metadata": {},
     "output_type": "execute_result"
    }
   ],
   "source": [
    "user_event= (df_rec\n",
    "             .groupby(['group', 'event_name'])\n",
    "             .agg(count= ('user_id', 'count')\n",
    "                  , nunique=('user_id', 'nunique')))\n",
    "user_event['rate']= round(user_event['count']/user_event['nunique'],2)\n",
    "user_event"
   ]
  },
  {
   "cell_type": "markdown",
   "id": "d9ff1a4c",
   "metadata": {},
   "source": [
    "В целом, количество событий на пользователя распределено относительно равномерно."
   ]
  },
  {
   "cell_type": "code",
   "execution_count": 56,
   "id": "6023f8ee",
   "metadata": {},
   "outputs": [
    {
     "data": {
      "text/plain": [
       "6.672758620689655"
      ]
     },
     "execution_count": 56,
     "metadata": {},
     "output_type": "execute_result"
    }
   ],
   "source": [
    "event_by_user= df_rec.groupby('user_id', as_index= False).agg({'event_name':'count'})\n",
    "event_by_user['event_name'].mean()"
   ]
  },
  {
   "cell_type": "markdown",
   "id": "f0c2ae50",
   "metadata": {},
   "source": [
    "В среднем на одного пользователя приходится 6.67 событий.\n",
    "\n",
    "___"
   ]
  },
  {
   "cell_type": "markdown",
   "id": "a21bf17f",
   "metadata": {},
   "source": [
    "*Как число событий в выборках распределено по дням?*"
   ]
  },
  {
   "cell_type": "code",
   "execution_count": 57,
   "id": "b1da348d",
   "metadata": {},
   "outputs": [],
   "source": [
    "df_rec['event_day']= df_rec['event_dt'].dt.day\n",
    "df_rec['event_day']= df_rec['event_day'].astype(str).replace({'7':'07','8':'08','9':'09'})"
   ]
  },
  {
   "cell_type": "code",
   "execution_count": 58,
   "id": "4937c5a0",
   "metadata": {},
   "outputs": [
    {
     "data": {
      "image/png": "[encoded data removed]",
      "text/plain": [
       "<Figure size 1400x700 with 2 Axes>"
      ]
     },
     "metadata": {},
     "output_type": "display_data"
    }
   ],
   "source": [
    "fig, axes = plt.subplots(1, 2, figsize=(14, 7))\n",
    "axes= axes.flatten()\n",
    "sns.axes_style('dark')\n",
    "fig.suptitle('Распределение действий пользователей теста по дням (декабрь) ')\n",
    "\n",
    "ax1= sns.histplot(ax= axes[0],\n",
    "                 data= df_rec.query('group== \"A\"')\n",
    "                 .sort_values(by= 'event_day'), \n",
    "                 x= 'event_day',\n",
    "                 hue= 'event_name',\n",
    "                 multiple= 'stack',\n",
    "                 hue_order= ['purchase', 'product_cart', 'product_page', 'login'])\n",
    "axes[0].title.set_text('группа A')\n",
    "for c in ax1.containers:\n",
    "    ax1.bar_label(c, label_type= 'center', color= 'black', fontsize= 6, padding= -1)\n",
    "\n",
    "ax2=sns.histplot(ax= axes[1],\n",
    "                 data= df_rec.query('group== \"B\"')\n",
    "                 .sort_values(by= 'event_day'), \n",
    "                 x= 'event_day',\n",
    "                 hue= 'event_name',\n",
    "                 multiple= 'stack',\n",
    "                 hue_order= ['purchase', 'product_cart', 'product_page', 'login'])\n",
    "axes[1].title.set_text('группа B')\n",
    "for c in ax2.containers:\n",
    "    ax2.bar_label(c, label_type= 'center', color= 'black', fontsize= 6, padding= -1)\n",
    "    \n",
    "for c in range(2):\n",
    "    axes[c].set_xlabel('День месяца')\n",
    "    axes[c].set_ylabel('Количество пользователей')"
   ]
  },
  {
   "cell_type": "markdown",
   "id": "e4923c64",
   "metadata": {},
   "source": [
    "В контрольной группе А число событий резко начинает расти после 13 декабря, пик - 21 декабря.   \n",
    "В тестовой группе B изначально число событий имеет средние значения, к 13 числу снижаюся и дальше постепенно растут до пика 21 декабря. В отличие от контрольной группы, резких скачков тут не наблюдается.\n",
    "\n",
    "___"
   ]
  },
  {
   "cell_type": "markdown",
   "id": "1a37fa9e",
   "metadata": {},
   "source": [
    "*Как меняется конверсия в воронке в выборках на разных этапах?*"
   ]
  },
  {
   "cell_type": "markdown",
   "id": "732d4a1e",
   "metadata": {},
   "source": [
    "На этапе проверки ТЗ уже сравнивались воронки двух групп."
   ]
  },
  {
   "cell_type": "code",
   "execution_count": 59,
   "id": "27d7a8f1",
   "metadata": {},
   "outputs": [
    {
     "name": "stdout",
     "output_type": "stream",
     "text": [
      "Воронка контрольной группы\n"
     ]
    },
    {
     "data": {
      "text/html": [
       "<div>\n",
       "<style scoped>\n",
       "    .dataframe tbody tr th:only-of-type {\n",
       "        vertical-align: middle;\n",
       "    }\n",
       "\n",
       "    .dataframe tbody tr th {\n",
       "        vertical-align: top;\n",
       "    }\n",
       "\n",
       "    .dataframe thead th {\n",
       "        text-align: right;\n",
       "    }\n",
       "</style>\n",
       "<table border=\"1\" class=\"dataframe\">\n",
       "  <thead>\n",
       "    <tr style=\"text-align: right;\">\n",
       "      <th></th>\n",
       "      <th>event_name</th>\n",
       "      <th>users</th>\n",
       "      <th>conversion</th>\n",
       "      <th>step_conversion</th>\n",
       "    </tr>\n",
       "  </thead>\n",
       "  <tbody>\n",
       "    <tr>\n",
       "      <th>0</th>\n",
       "      <td>login</td>\n",
       "      <td>2280</td>\n",
       "      <td>100.00</td>\n",
       "      <td>NaN</td>\n",
       "    </tr>\n",
       "    <tr>\n",
       "      <th>2</th>\n",
       "      <td>product_page</td>\n",
       "      <td>1478</td>\n",
       "      <td>64.82</td>\n",
       "      <td>64.82</td>\n",
       "    </tr>\n",
       "    <tr>\n",
       "      <th>3</th>\n",
       "      <td>purchase</td>\n",
       "      <td>735</td>\n",
       "      <td>32.24</td>\n",
       "      <td>49.74</td>\n",
       "    </tr>\n",
       "    <tr>\n",
       "      <th>1</th>\n",
       "      <td>product_cart</td>\n",
       "      <td>695</td>\n",
       "      <td>30.48</td>\n",
       "      <td>94.54</td>\n",
       "    </tr>\n",
       "  </tbody>\n",
       "</table>\n",
       "</div>"
      ],
      "text/plain": [
       "     event_name  users  conversion  step_conversion\n",
       "0         login   2280      100.00              NaN\n",
       "2  product_page   1478       64.82            64.82\n",
       "3      purchase    735       32.24            49.74\n",
       "1  product_cart    695       30.48            94.54"
      ]
     },
     "metadata": {},
     "output_type": "display_data"
    },
    {
     "name": "stdout",
     "output_type": "stream",
     "text": [
      "___________________________\n",
      "Воронка тестовой группы\n"
     ]
    },
    {
     "data": {
      "text/html": [
       "<div>\n",
       "<style scoped>\n",
       "    .dataframe tbody tr th:only-of-type {\n",
       "        vertical-align: middle;\n",
       "    }\n",
       "\n",
       "    .dataframe tbody tr th {\n",
       "        vertical-align: top;\n",
       "    }\n",
       "\n",
       "    .dataframe thead th {\n",
       "        text-align: right;\n",
       "    }\n",
       "</style>\n",
       "<table border=\"1\" class=\"dataframe\">\n",
       "  <thead>\n",
       "    <tr style=\"text-align: right;\">\n",
       "      <th></th>\n",
       "      <th>event_name</th>\n",
       "      <th>users</th>\n",
       "      <th>conversion</th>\n",
       "      <th>step_conversion</th>\n",
       "    </tr>\n",
       "  </thead>\n",
       "  <tbody>\n",
       "    <tr>\n",
       "      <th>0</th>\n",
       "      <td>login</td>\n",
       "      <td>620</td>\n",
       "      <td>100.00</td>\n",
       "      <td>NaN</td>\n",
       "    </tr>\n",
       "    <tr>\n",
       "      <th>2</th>\n",
       "      <td>product_page</td>\n",
       "      <td>349</td>\n",
       "      <td>56.29</td>\n",
       "      <td>56.29</td>\n",
       "    </tr>\n",
       "    <tr>\n",
       "      <th>3</th>\n",
       "      <td>purchase</td>\n",
       "      <td>176</td>\n",
       "      <td>28.39</td>\n",
       "      <td>50.44</td>\n",
       "    </tr>\n",
       "    <tr>\n",
       "      <th>1</th>\n",
       "      <td>product_cart</td>\n",
       "      <td>175</td>\n",
       "      <td>28.23</td>\n",
       "      <td>99.44</td>\n",
       "    </tr>\n",
       "  </tbody>\n",
       "</table>\n",
       "</div>"
      ],
      "text/plain": [
       "     event_name  users  conversion  step_conversion\n",
       "0         login    620      100.00              NaN\n",
       "2  product_page    349       56.29            56.29\n",
       "3      purchase    176       28.39            50.44\n",
       "1  product_cart    175       28.23            99.44"
      ]
     },
     "metadata": {},
     "output_type": "display_data"
    }
   ],
   "source": [
    "print('Воронка контрольной группы')\n",
    "display(funnel_A)\n",
    "print('___________________________')\n",
    "print('Воронка тестовой группы')\n",
    "display(funnel_B)"
   ]
  },
  {
   "cell_type": "markdown",
   "id": "9f59e646",
   "metadata": {},
   "source": [
    "Конверсия тестовой группы на 8% меньше для шага `login` - `product_page` и на 4% меньше на этапе `product_page` - `purchase`, чем у контрольной группы.   "
   ]
  },
  {
   "cell_type": "code",
   "execution_count": 60,
   "id": "66ab491c",
   "metadata": {},
   "outputs": [
    {
     "data": {
      "application/vnd.plotly.v1+json": {
       "config": {
        "plotlyServerURL": "https://plot.ly"
       },
       "data": [
        {
         "name": "Группа А",
         "textinfo": "value+percent initial",
         "type": "funnel",
         "x": [
          2280,
          1478,
          735,
          695
         ],
         "y": [
          "login",
          "product_page",
          "purchase",
          "product_cart"
         ]
        },
        {
         "name": "Группа B",
         "textinfo": "value+percent initial",
         "type": "funnel",
         "x": [
          620,
          349,
          176,
          175
         ],
         "y": [
          "login",
          "product_page",
          "purchase",
          "product_cart"
         ]
        }
       ],
       "layout": {
        "template": {
         "data": {
          "bar": [
           {
            "error_x": {
             "color": "#2a3f5f"
            },
            "error_y": {
             "color": "#2a3f5f"
            },
            "marker": {
             "line": {
              "color": "#E5ECF6",
              "width": 0.5
             },
             "pattern": {
              "fillmode": "overlay",
              "size": 10,
              "solidity": 0.2
             }
            },
            "type": "bar"
           }
          ],
          "barpolar": [
           {
            "marker": {
             "line": {
              "color": "#E5ECF6",
              "width": 0.5
             },
             "pattern": {
              "fillmode": "overlay",
              "size": 10,
              "solidity": 0.2
             }
            },
            "type": "barpolar"
           }
          ],
          "carpet": [
           {
            "aaxis": {
             "endlinecolor": "#2a3f5f",
             "gridcolor": "white",
             "linecolor": "white",
             "minorgridcolor": "white",
             "startlinecolor": "#2a3f5f"
            },
            "baxis": {
             "endlinecolor": "#2a3f5f",
             "gridcolor": "white",
             "linecolor": "white",
             "minorgridcolor": "white",
             "startlinecolor": "#2a3f5f"
            },
            "type": "carpet"
           }
          ],
          "choropleth": [
           {
            "colorbar": {
             "outlinewidth": 0,
             "ticks": ""
            },
            "type": "choropleth"
           }
          ],
          "contour": [
           {
            "colorbar": {
             "outlinewidth": 0,
             "ticks": ""
            },
            "colorscale": [
             [
              0,
              "#0d0887"
             ],
             [
              0.1111111111111111,
              "#46039f"
             ],
             [
              0.2222222222222222,
              "#7201a8"
             ],
             [
              0.3333333333333333,
              "#9c179e"
             ],
             [
              0.4444444444444444,
              "#bd3786"
             ],
             [
              0.5555555555555556,
              "#d8576b"
             ],
             [
              0.6666666666666666,
              "#ed7953"
             ],
             [
              0.7777777777777778,
              "#fb9f3a"
             ],
             [
              0.8888888888888888,
              "#fdca26"
             ],
             [
              1,
              "#f0f921"
             ]
            ],
            "type": "contour"
           }
          ],
          "contourcarpet": [
           {
            "colorbar": {
             "outlinewidth": 0,
             "ticks": ""
            },
            "type": "contourcarpet"
           }
          ],
          "heatmap": [
           {
            "colorbar": {
             "outlinewidth": 0,
             "ticks": ""
            },
            "colorscale": [
             [
              0,
              "#0d0887"
             ],
             [
              0.1111111111111111,
              "#46039f"
             ],
             [
              0.2222222222222222,
              "#7201a8"
             ],
             [
              0.3333333333333333,
              "#9c179e"
             ],
             [
              0.4444444444444444,
              "#bd3786"
             ],
             [
              0.5555555555555556,
              "#d8576b"
             ],
             [
              0.6666666666666666,
              "#ed7953"
             ],
             [
              0.7777777777777778,
              "#fb9f3a"
             ],
             [
              0.8888888888888888,
              "#fdca26"
             ],
             [
              1,
              "#f0f921"
             ]
            ],
            "type": "heatmap"
           }
          ],
          "heatmapgl": [
           {
            "colorbar": {
             "outlinewidth": 0,
             "ticks": ""
            },
            "colorscale": [
             [
              0,
              "#0d0887"
             ],
             [
              0.1111111111111111,
              "#46039f"
             ],
             [
              0.2222222222222222,
              "#7201a8"
             ],
             [
              0.3333333333333333,
              "#9c179e"
             ],
             [
              0.4444444444444444,
              "#bd3786"
             ],
             [
              0.5555555555555556,
              "#d8576b"
             ],
             [
              0.6666666666666666,
              "#ed7953"
             ],
             [
              0.7777777777777778,
              "#fb9f3a"
             ],
             [
              0.8888888888888888,
              "#fdca26"
             ],
             [
              1,
              "#f0f921"
             ]
            ],
            "type": "heatmapgl"
           }
          ],
          "histogram": [
           {
            "marker": {
             "pattern": {
              "fillmode": "overlay",
              "size": 10,
              "solidity": 0.2
             }
            },
            "type": "histogram"
           }
          ],
          "histogram2d": [
           {
            "colorbar": {
             "outlinewidth": 0,
             "ticks": ""
            },
            "colorscale": [
             [
              0,
              "#0d0887"
             ],
             [
              0.1111111111111111,
              "#46039f"
             ],
             [
              0.2222222222222222,
              "#7201a8"
             ],
             [
              0.3333333333333333,
              "#9c179e"
             ],
             [
              0.4444444444444444,
              "#bd3786"
             ],
             [
              0.5555555555555556,
              "#d8576b"
             ],
             [
              0.6666666666666666,
              "#ed7953"
             ],
             [
              0.7777777777777778,
              "#fb9f3a"
             ],
             [
              0.8888888888888888,
              "#fdca26"
             ],
             [
              1,
              "#f0f921"
             ]
            ],
            "type": "histogram2d"
           }
          ],
          "histogram2dcontour": [
           {
            "colorbar": {
             "outlinewidth": 0,
             "ticks": ""
            },
            "colorscale": [
             [
              0,
              "#0d0887"
             ],
             [
              0.1111111111111111,
              "#46039f"
             ],
             [
              0.2222222222222222,
              "#7201a8"
             ],
             [
              0.3333333333333333,
              "#9c179e"
             ],
             [
              0.4444444444444444,
              "#bd3786"
             ],
             [
              0.5555555555555556,
              "#d8576b"
             ],
             [
              0.6666666666666666,
              "#ed7953"
             ],
             [
              0.7777777777777778,
              "#fb9f3a"
             ],
             [
              0.8888888888888888,
              "#fdca26"
             ],
             [
              1,
              "#f0f921"
             ]
            ],
            "type": "histogram2dcontour"
           }
          ],
          "mesh3d": [
           {
            "colorbar": {
             "outlinewidth": 0,
             "ticks": ""
            },
            "type": "mesh3d"
           }
          ],
          "parcoords": [
           {
            "line": {
             "colorbar": {
              "outlinewidth": 0,
              "ticks": ""
             }
            },
            "type": "parcoords"
           }
          ],
          "pie": [
           {
            "automargin": true,
            "type": "pie"
           }
          ],
          "scatter": [
           {
            "fillpattern": {
             "fillmode": "overlay",
             "size": 10,
             "solidity": 0.2
            },
            "type": "scatter"
           }
          ],
          "scatter3d": [
           {
            "line": {
             "colorbar": {
              "outlinewidth": 0,
              "ticks": ""
             }
            },
            "marker": {
             "colorbar": {
              "outlinewidth": 0,
              "ticks": ""
             }
            },
            "type": "scatter3d"
           }
          ],
          "scattercarpet": [
           {
            "marker": {
             "colorbar": {
              "outlinewidth": 0,
              "ticks": ""
             }
            },
            "type": "scattercarpet"
           }
          ],
          "scattergeo": [
           {
            "marker": {
             "colorbar": {
              "outlinewidth": 0,
              "ticks": ""
             }
            },
            "type": "scattergeo"
           }
          ],
          "scattergl": [
           {
            "marker": {
             "colorbar": {
              "outlinewidth": 0,
              "ticks": ""
             }
            },
            "type": "scattergl"
           }
          ],
          "scattermapbox": [
           {
            "marker": {
             "colorbar": {
              "outlinewidth": 0,
              "ticks": ""
             }
            },
            "type": "scattermapbox"
           }
          ],
          "scatterpolar": [
           {
            "marker": {
             "colorbar": {
              "outlinewidth": 0,
              "ticks": ""
             }
            },
            "type": "scatterpolar"
           }
          ],
          "scatterpolargl": [
           {
            "marker": {
             "colorbar": {
              "outlinewidth": 0,
              "ticks": ""
             }
            },
            "type": "scatterpolargl"
           }
          ],
          "scatterternary": [
           {
            "marker": {
             "colorbar": {
              "outlinewidth": 0,
              "ticks": ""
             }
            },
            "type": "scatterternary"
           }
          ],
          "surface": [
           {
            "colorbar": {
             "outlinewidth": 0,
             "ticks": ""
            },
            "colorscale": [
             [
              0,
              "#0d0887"
             ],
             [
              0.1111111111111111,
              "#46039f"
             ],
             [
              0.2222222222222222,
              "#7201a8"
             ],
             [
              0.3333333333333333,
              "#9c179e"
             ],
             [
              0.4444444444444444,
              "#bd3786"
             ],
             [
              0.5555555555555556,
              "#d8576b"
             ],
             [
              0.6666666666666666,
              "#ed7953"
             ],
             [
              0.7777777777777778,
              "#fb9f3a"
             ],
             [
              0.8888888888888888,
              "#fdca26"
             ],
             [
              1,
              "#f0f921"
             ]
            ],
            "type": "surface"
           }
          ],
          "table": [
           {
            "cells": {
             "fill": {
              "color": "#EBF0F8"
             },
             "line": {
              "color": "white"
             }
            },
            "header": {
             "fill": {
              "color": "#C8D4E3"
             },
             "line": {
              "color": "white"
             }
            },
            "type": "table"
           }
          ]
         },
         "layout": {
          "annotationdefaults": {
           "arrowcolor": "#2a3f5f",
           "arrowhead": 0,
           "arrowwidth": 1
          },
          "autotypenumbers": "strict",
          "coloraxis": {
           "colorbar": {
            "outlinewidth": 0,
            "ticks": ""
           }
          },
          "colorscale": {
           "diverging": [
            [
             0,
             "#8e0152"
            ],
            [
             0.1,
             "#c51b7d"
            ],
            [
             0.2,
             "#de77ae"
            ],
            [
             0.3,
             "#f1b6da"
            ],
            [
             0.4,
             "#fde0ef"
            ],
            [
             0.5,
             "#f7f7f7"
            ],
            [
             0.6,
             "#e6f5d0"
            ],
            [
             0.7,
             "#b8e186"
            ],
            [
             0.8,
             "#7fbc41"
            ],
            [
             0.9,
             "#4d9221"
            ],
            [
             1,
             "#276419"
            ]
           ],
           "sequential": [
            [
             0,
             "#0d0887"
            ],
            [
             0.1111111111111111,
             "#46039f"
            ],
            [
             0.2222222222222222,
             "#7201a8"
            ],
            [
             0.3333333333333333,
             "#9c179e"
            ],
            [
             0.4444444444444444,
             "#bd3786"
            ],
            [
             0.5555555555555556,
             "#d8576b"
            ],
            [
             0.6666666666666666,
             "#ed7953"
            ],
            [
             0.7777777777777778,
             "#fb9f3a"
            ],
            [
             0.8888888888888888,
             "#fdca26"
            ],
            [
             1,
             "#f0f921"
            ]
           ],
           "sequentialminus": [
            [
             0,
             "#0d0887"
            ],
            [
             0.1111111111111111,
             "#46039f"
            ],
            [
             0.2222222222222222,
             "#7201a8"
            ],
            [
             0.3333333333333333,
             "#9c179e"
            ],
            [
             0.4444444444444444,
             "#bd3786"
            ],
            [
             0.5555555555555556,
             "#d8576b"
            ],
            [
             0.6666666666666666,
             "#ed7953"
            ],
            [
             0.7777777777777778,
             "#fb9f3a"
            ],
            [
             0.8888888888888888,
             "#fdca26"
            ],
            [
             1,
             "#f0f921"
            ]
           ]
          },
          "colorway": [
           "#636efa",
           "#EF553B",
           "#00cc96",
           "#ab63fa",
           "#FFA15A",
           "#19d3f3",
           "#FF6692",
           "#B6E880",
           "#FF97FF",
           "#FECB52"
          ],
          "font": {
           "color": "#2a3f5f"
          },
          "geo": {
           "bgcolor": "white",
           "lakecolor": "white",
           "landcolor": "#E5ECF6",
           "showlakes": true,
           "showland": true,
           "subunitcolor": "white"
          },
          "hoverlabel": {
           "align": "left"
          },
          "hovermode": "closest",
          "mapbox": {
           "style": "light"
          },
          "paper_bgcolor": "white",
          "plot_bgcolor": "#E5ECF6",
          "polar": {
           "angularaxis": {
            "gridcolor": "white",
            "linecolor": "white",
            "ticks": ""
           },
           "bgcolor": "#E5ECF6",
           "radialaxis": {
            "gridcolor": "white",
            "linecolor": "white",
            "ticks": ""
           }
          },
          "scene": {
           "xaxis": {
            "backgroundcolor": "#E5ECF6",
            "gridcolor": "white",
            "gridwidth": 2,
            "linecolor": "white",
            "showbackground": true,
            "ticks": "",
            "zerolinecolor": "white"
           },
           "yaxis": {
            "backgroundcolor": "#E5ECF6",
            "gridcolor": "white",
            "gridwidth": 2,
            "linecolor": "white",
            "showbackground": true,
            "ticks": "",
            "zerolinecolor": "white"
           },
           "zaxis": {
            "backgroundcolor": "#E5ECF6",
            "gridcolor": "white",
            "gridwidth": 2,
            "linecolor": "white",
            "showbackground": true,
            "ticks": "",
            "zerolinecolor": "white"
           }
          },
          "shapedefaults": {
           "line": {
            "color": "#2a3f5f"
           }
          },
          "ternary": {
           "aaxis": {
            "gridcolor": "white",
            "linecolor": "white",
            "ticks": ""
           },
           "baxis": {
            "gridcolor": "white",
            "linecolor": "white",
            "ticks": ""
           },
           "bgcolor": "#E5ECF6",
           "caxis": {
            "gridcolor": "white",
            "linecolor": "white",
            "ticks": ""
           }
          },
          "title": {
           "x": 0.05
          },
          "xaxis": {
           "automargin": true,
           "gridcolor": "white",
           "linecolor": "white",
           "ticks": "",
           "title": {
            "standoff": 15
           },
           "zerolinecolor": "white",
           "zerolinewidth": 2
          },
          "yaxis": {
           "automargin": true,
           "gridcolor": "white",
           "linecolor": "white",
           "ticks": "",
           "title": {
            "standoff": 15
           },
           "zerolinecolor": "white",
           "zerolinewidth": 2
          }
         }
        },
        "title": {
         "text": "Воронка событий пользователей теста recommender_system_test"
        }
       }
      },
      "text/html": [
       "<div>                            <div id=\"8856cc39-22fe-4e57-a15c-999122b16489\" class=\"plotly-graph-div\" style=\"height:525px; width:100%;\"></div>            <script type=\"text/javascript\">                require([\"plotly\"], function(Plotly) {                    window.PLOTLYENV=window.PLOTLYENV || {};                                    if (document.getElementById(\"8856cc39-22fe-4e57-a15c-999122b16489\")) {                    Plotly.newPlot(                        \"8856cc39-22fe-4e57-a15c-999122b16489\",                        [{\"name\":\"\\u0413\\u0440\\u0443\\u043f\\u043f\\u0430 \\u0410\",\"textinfo\":\"value+percent initial\",\"x\":[2280,1478,735,695],\"y\":[\"login\",\"product_page\",\"purchase\",\"product_cart\"],\"type\":\"funnel\"},{\"name\":\"\\u0413\\u0440\\u0443\\u043f\\u043f\\u0430 B\",\"textinfo\":\"value+percent initial\",\"x\":[620,349,176,175],\"y\":[\"login\",\"product_page\",\"purchase\",\"product_cart\"],\"type\":\"funnel\"}],                        {\"template\":{\"data\":{\"histogram2dcontour\":[{\"type\":\"histogram2dcontour\",\"colorbar\":{\"outlinewidth\":0,\"ticks\":\"\"},\"colorscale\":[[0.0,\"#0d0887\"],[0.1111111111111111,\"#46039f\"],[0.2222222222222222,\"#7201a8\"],[0.3333333333333333,\"#9c179e\"],[0.4444444444444444,\"#bd3786\"],[0.5555555555555556,\"#d8576b\"],[0.6666666666666666,\"#ed7953\"],[0.7777777777777778,\"#fb9f3a\"],[0.8888888888888888,\"#fdca26\"],[1.0,\"#f0f921\"]]}],\"choropleth\":[{\"type\":\"choropleth\",\"colorbar\":{\"outlinewidth\":0,\"ticks\":\"\"}}],\"histogram2d\":[{\"type\":\"histogram2d\",\"colorbar\":{\"outlinewidth\":0,\"ticks\":\"\"},\"colorscale\":[[0.0,\"#0d0887\"],[0.1111111111111111,\"#46039f\"],[0.2222222222222222,\"#7201a8\"],[0.3333333333333333,\"#9c179e\"],[0.4444444444444444,\"#bd3786\"],[0.5555555555555556,\"#d8576b\"],[0.6666666666666666,\"#ed7953\"],[0.7777777777777778,\"#fb9f3a\"],[0.8888888888888888,\"#fdca26\"],[1.0,\"#f0f921\"]]}],\"heatmap\":[{\"type\":\"heatmap\",\"colorbar\":{\"outlinewidth\":0,\"ticks\":\"\"},\"colorscale\":[[0.0,\"#0d0887\"],[0.1111111111111111,\"#46039f\"],[0.2222222222222222,\"#7201a8\"],[0.3333333333333333,\"#9c179e\"],[0.4444444444444444,\"#bd3786\"],[0.5555555555555556,\"#d8576b\"],[0.6666666666666666,\"#ed7953\"],[0.7777777777777778,\"#fb9f3a\"],[0.8888888888888888,\"#fdca26\"],[1.0,\"#f0f921\"]]}],\"heatmapgl\":[{\"type\":\"heatmapgl\",\"colorbar\":{\"outlinewidth\":0,\"ticks\":\"\"},\"colorscale\":[[0.0,\"#0d0887\"],[0.1111111111111111,\"#46039f\"],[0.2222222222222222,\"#7201a8\"],[0.3333333333333333,\"#9c179e\"],[0.4444444444444444,\"#bd3786\"],[0.5555555555555556,\"#d8576b\"],[0.6666666666666666,\"#ed7953\"],[0.7777777777777778,\"#fb9f3a\"],[0.8888888888888888,\"#fdca26\"],[1.0,\"#f0f921\"]]}],\"contourcarpet\":[{\"type\":\"contourcarpet\",\"colorbar\":{\"outlinewidth\":0,\"ticks\":\"\"}}],\"contour\":[{\"type\":\"contour\",\"colorbar\":{\"outlinewidth\":0,\"ticks\":\"\"},\"colorscale\":[[0.0,\"#0d0887\"],[0.1111111111111111,\"#46039f\"],[0.2222222222222222,\"#7201a8\"],[0.3333333333333333,\"#9c179e\"],[0.4444444444444444,\"#bd3786\"],[0.5555555555555556,\"#d8576b\"],[0.6666666666666666,\"#ed7953\"],[0.7777777777777778,\"#fb9f3a\"],[0.8888888888888888,\"#fdca26\"],[1.0,\"#f0f921\"]]}],\"surface\":[{\"type\":\"surface\",\"colorbar\":{\"outlinewidth\":0,\"ticks\":\"\"},\"colorscale\":[[0.0,\"#0d0887\"],[0.1111111111111111,\"#46039f\"],[0.2222222222222222,\"#7201a8\"],[0.3333333333333333,\"#9c179e\"],[0.4444444444444444,\"#bd3786\"],[0.5555555555555556,\"#d8576b\"],[0.6666666666666666,\"#ed7953\"],[0.7777777777777778,\"#fb9f3a\"],[0.8888888888888888,\"#fdca26\"],[1.0,\"#f0f921\"]]}],\"mesh3d\":[{\"type\":\"mesh3d\",\"colorbar\":{\"outlinewidth\":0,\"ticks\":\"\"}}],\"scatter\":[{\"fillpattern\":{\"fillmode\":\"overlay\",\"size\":10,\"solidity\":0.2},\"type\":\"scatter\"}],\"parcoords\":[{\"type\":\"parcoords\",\"line\":{\"colorbar\":{\"outlinewidth\":0,\"ticks\":\"\"}}}],\"scatterpolargl\":[{\"type\":\"scatterpolargl\",\"marker\":{\"colorbar\":{\"outlinewidth\":0,\"ticks\":\"\"}}}],\"bar\":[{\"error_x\":{\"color\":\"#2a3f5f\"},\"error_y\":{\"color\":\"#2a3f5f\"},\"marker\":{\"line\":{\"color\":\"#E5ECF6\",\"width\":0.5},\"pattern\":{\"fillmode\":\"overlay\",\"size\":10,\"solidity\":0.2}},\"type\":\"bar\"}],\"scattergeo\":[{\"type\":\"scattergeo\",\"marker\":{\"colorbar\":{\"outlinewidth\":0,\"ticks\":\"\"}}}],\"scatterpolar\":[{\"type\":\"scatterpolar\",\"marker\":{\"colorbar\":{\"outlinewidth\":0,\"ticks\":\"\"}}}],\"histogram\":[{\"marker\":{\"pattern\":{\"fillmode\":\"overlay\",\"size\":10,\"solidity\":0.2}},\"type\":\"histogram\"}],\"scattergl\":[{\"type\":\"scattergl\",\"marker\":{\"colorbar\":{\"outlinewidth\":0,\"ticks\":\"\"}}}],\"scatter3d\":[{\"type\":\"scatter3d\",\"line\":{\"colorbar\":{\"outlinewidth\":0,\"ticks\":\"\"}},\"marker\":{\"colorbar\":{\"outlinewidth\":0,\"ticks\":\"\"}}}],\"scattermapbox\":[{\"type\":\"scattermapbox\",\"marker\":{\"colorbar\":{\"outlinewidth\":0,\"ticks\":\"\"}}}],\"scatterternary\":[{\"type\":\"scatterternary\",\"marker\":{\"colorbar\":{\"outlinewidth\":0,\"ticks\":\"\"}}}],\"scattercarpet\":[{\"type\":\"scattercarpet\",\"marker\":{\"colorbar\":{\"outlinewidth\":0,\"ticks\":\"\"}}}],\"carpet\":[{\"aaxis\":{\"endlinecolor\":\"#2a3f5f\",\"gridcolor\":\"white\",\"linecolor\":\"white\",\"minorgridcolor\":\"white\",\"startlinecolor\":\"#2a3f5f\"},\"baxis\":{\"endlinecolor\":\"#2a3f5f\",\"gridcolor\":\"white\",\"linecolor\":\"white\",\"minorgridcolor\":\"white\",\"startlinecolor\":\"#2a3f5f\"},\"type\":\"carpet\"}],\"table\":[{\"cells\":{\"fill\":{\"color\":\"#EBF0F8\"},\"line\":{\"color\":\"white\"}},\"header\":{\"fill\":{\"color\":\"#C8D4E3\"},\"line\":{\"color\":\"white\"}},\"type\":\"table\"}],\"barpolar\":[{\"marker\":{\"line\":{\"color\":\"#E5ECF6\",\"width\":0.5},\"pattern\":{\"fillmode\":\"overlay\",\"size\":10,\"solidity\":0.2}},\"type\":\"barpolar\"}],\"pie\":[{\"automargin\":true,\"type\":\"pie\"}]},\"layout\":{\"autotypenumbers\":\"strict\",\"colorway\":[\"#636efa\",\"#EF553B\",\"#00cc96\",\"#ab63fa\",\"#FFA15A\",\"#19d3f3\",\"#FF6692\",\"#B6E880\",\"#FF97FF\",\"#FECB52\"],\"font\":{\"color\":\"#2a3f5f\"},\"hovermode\":\"closest\",\"hoverlabel\":{\"align\":\"left\"},\"paper_bgcolor\":\"white\",\"plot_bgcolor\":\"#E5ECF6\",\"polar\":{\"bgcolor\":\"#E5ECF6\",\"angularaxis\":{\"gridcolor\":\"white\",\"linecolor\":\"white\",\"ticks\":\"\"},\"radialaxis\":{\"gridcolor\":\"white\",\"linecolor\":\"white\",\"ticks\":\"\"}},\"ternary\":{\"bgcolor\":\"#E5ECF6\",\"aaxis\":{\"gridcolor\":\"white\",\"linecolor\":\"white\",\"ticks\":\"\"},\"baxis\":{\"gridcolor\":\"white\",\"linecolor\":\"white\",\"ticks\":\"\"},\"caxis\":{\"gridcolor\":\"white\",\"linecolor\":\"white\",\"ticks\":\"\"}},\"coloraxis\":{\"colorbar\":{\"outlinewidth\":0,\"ticks\":\"\"}},\"colorscale\":{\"sequential\":[[0.0,\"#0d0887\"],[0.1111111111111111,\"#46039f\"],[0.2222222222222222,\"#7201a8\"],[0.3333333333333333,\"#9c179e\"],[0.4444444444444444,\"#bd3786\"],[0.5555555555555556,\"#d8576b\"],[0.6666666666666666,\"#ed7953\"],[0.7777777777777778,\"#fb9f3a\"],[0.8888888888888888,\"#fdca26\"],[1.0,\"#f0f921\"]],\"sequentialminus\":[[0.0,\"#0d0887\"],[0.1111111111111111,\"#46039f\"],[0.2222222222222222,\"#7201a8\"],[0.3333333333333333,\"#9c179e\"],[0.4444444444444444,\"#bd3786\"],[0.5555555555555556,\"#d8576b\"],[0.6666666666666666,\"#ed7953\"],[0.7777777777777778,\"#fb9f3a\"],[0.8888888888888888,\"#fdca26\"],[1.0,\"#f0f921\"]],\"diverging\":[[0,\"#8e0152\"],[0.1,\"#c51b7d\"],[0.2,\"#de77ae\"],[0.3,\"#f1b6da\"],[0.4,\"#fde0ef\"],[0.5,\"#f7f7f7\"],[0.6,\"#e6f5d0\"],[0.7,\"#b8e186\"],[0.8,\"#7fbc41\"],[0.9,\"#4d9221\"],[1,\"#276419\"]]},\"xaxis\":{\"gridcolor\":\"white\",\"linecolor\":\"white\",\"ticks\":\"\",\"title\":{\"standoff\":15},\"zerolinecolor\":\"white\",\"automargin\":true,\"zerolinewidth\":2},\"yaxis\":{\"gridcolor\":\"white\",\"linecolor\":\"white\",\"ticks\":\"\",\"title\":{\"standoff\":15},\"zerolinecolor\":\"white\",\"automargin\":true,\"zerolinewidth\":2},\"scene\":{\"xaxis\":{\"backgroundcolor\":\"#E5ECF6\",\"gridcolor\":\"white\",\"linecolor\":\"white\",\"showbackground\":true,\"ticks\":\"\",\"zerolinecolor\":\"white\",\"gridwidth\":2},\"yaxis\":{\"backgroundcolor\":\"#E5ECF6\",\"gridcolor\":\"white\",\"linecolor\":\"white\",\"showbackground\":true,\"ticks\":\"\",\"zerolinecolor\":\"white\",\"gridwidth\":2},\"zaxis\":{\"backgroundcolor\":\"#E5ECF6\",\"gridcolor\":\"white\",\"linecolor\":\"white\",\"showbackground\":true,\"ticks\":\"\",\"zerolinecolor\":\"white\",\"gridwidth\":2}},\"shapedefaults\":{\"line\":{\"color\":\"#2a3f5f\"}},\"annotationdefaults\":{\"arrowcolor\":\"#2a3f5f\",\"arrowhead\":0,\"arrowwidth\":1},\"geo\":{\"bgcolor\":\"white\",\"landcolor\":\"#E5ECF6\",\"subunitcolor\":\"white\",\"showland\":true,\"showlakes\":true,\"lakecolor\":\"white\"},\"title\":{\"x\":0.05},\"mapbox\":{\"style\":\"light\"}}},\"title\":{\"text\":\"\\u0412\\u043e\\u0440\\u043e\\u043d\\u043a\\u0430 \\u0441\\u043e\\u0431\\u044b\\u0442\\u0438\\u0439 \\u043f\\u043e\\u043b\\u044c\\u0437\\u043e\\u0432\\u0430\\u0442\\u0435\\u043b\\u0435\\u0439 \\u0442\\u0435\\u0441\\u0442\\u0430 recommender_system_test\"}},                        {\"responsive\": true}                    ).then(function(){\n",
       "                            \n",
       "var gd = document.getElementById('8856cc39-22fe-4e57-a15c-999122b16489');\n",
       "var x = new MutationObserver(function (mutations, observer) {{\n",
       "        var display = window.getComputedStyle(gd).display;\n",
       "        if (!display || display === 'none') {{\n",
       "            console.log([gd, 'removed!']);\n",
       "            Plotly.purge(gd);\n",
       "            observer.disconnect();\n",
       "        }}\n",
       "}});\n",
       "\n",
       "// Listen for the removal of the full notebook cells\n",
       "var notebookContainer = gd.closest('#notebook-container');\n",
       "if (notebookContainer) {{\n",
       "    x.observe(notebookContainer, {childList: true});\n",
       "}}\n",
       "\n",
       "// Listen for the clearing of the current output cell\n",
       "var outputEl = gd.closest('.output');\n",
       "if (outputEl) {{\n",
       "    x.observe(outputEl, {childList: true});\n",
       "}}\n",
       "\n",
       "                        })                };                });            </script>        </div>"
      ]
     },
     "metadata": {},
     "output_type": "display_data"
    }
   ],
   "source": [
    "fig = go.Figure()\n",
    "\n",
    "fig.add_trace(go.Funnel(\n",
    "    name = 'Группа А',\n",
    "    y = funnel_A['event_name'],\n",
    "    x = funnel_A['users'],\n",
    "    textinfo = \"value+percent initial\"))\n",
    "\n",
    "fig.add_trace(go.Funnel(\n",
    "    name = 'Группа B',\n",
    "    y = funnel_B['event_name'],\n",
    "    x = funnel_B['users'],\n",
    "    textinfo = \"value+percent initial\"))\n",
    "\n",
    "fig.update_layout(title_text='Воронка событий пользователей теста recommender_system_test')\n",
    "fig.show()"
   ]
  },
  {
   "cell_type": "markdown",
   "id": "b5c5e7a0",
   "metadata": {},
   "source": [
    "## Оценка результатов A/B тестирования"
   ]
  },
  {
   "cell_type": "markdown",
   "id": "b3d58380",
   "metadata": {},
   "source": [
    "Расчеты показали, что показатели тестовой группы хуже показателей контрольной группы. Осталось проверить статистическую раницу z-критерием."
   ]
  },
  {
   "cell_type": "code",
   "execution_count": 61,
   "id": "1eaf67f5",
   "metadata": {},
   "outputs": [],
   "source": [
    "funnel_A['total_users']= df_rec.query('group== \"A\"')['user_id'].nunique()\n",
    "funnel_B['total_users']= df_rec.query('group== \"B\"')['user_id'].nunique()"
   ]
  },
  {
   "cell_type": "code",
   "execution_count": 62,
   "id": "8dffc226",
   "metadata": {},
   "outputs": [
    {
     "data": {
      "text/plain": [
       "(     event_name  users  conversion  step_conversion  total_users\n",
       " 0         login   2280      100.00              NaN         2280\n",
       " 2  product_page   1478       64.82            64.82         2280\n",
       " 3      purchase    735       32.24            49.74         2280\n",
       " 1  product_cart    695       30.48            94.54         2280,\n",
       "      event_name  users  conversion  step_conversion  total_users\n",
       " 0         login    620      100.00              NaN          620\n",
       " 2  product_page    349       56.29            56.29          620\n",
       " 3      purchase    176       28.39            50.44          620\n",
       " 1  product_cart    175       28.23            99.44          620)"
      ]
     },
     "execution_count": 62,
     "metadata": {},
     "output_type": "execute_result"
    }
   ],
   "source": [
    "funnel_A, funnel_B"
   ]
  },
  {
   "cell_type": "markdown",
   "id": "f5589be7",
   "metadata": {},
   "source": [
    "Для корректного расчета разницы в долях придется удалить событие `login`."
   ]
  },
  {
   "cell_type": "code",
   "execution_count": 63,
   "id": "f7afa241",
   "metadata": {},
   "outputs": [],
   "source": [
    "funnel_A= funnel_A.drop(index=0).reset_index().drop(columns= 'index')\n",
    "funnel_B= funnel_B.drop(index=0).reset_index().drop(columns= 'index')"
   ]
  },
  {
   "cell_type": "code",
   "execution_count": 64,
   "id": "57b5a965",
   "metadata": {},
   "outputs": [
    {
     "data": {
      "text/plain": [
       "(     event_name  users  conversion  step_conversion  total_users\n",
       " 0  product_page   1478       64.82            64.82         2280\n",
       " 1      purchase    735       32.24            49.74         2280\n",
       " 2  product_cart    695       30.48            94.54         2280,\n",
       "      event_name  users  conversion  step_conversion  total_users\n",
       " 0  product_page    349       56.29            56.29          620\n",
       " 1      purchase    176       28.39            50.44          620\n",
       " 2  product_cart    175       28.23            99.44          620)"
      ]
     },
     "execution_count": 64,
     "metadata": {},
     "output_type": "execute_result"
    }
   ],
   "source": [
    "funnel_A, funnel_B"
   ]
  },
  {
   "cell_type": "markdown",
   "id": "722c95f1",
   "metadata": {},
   "source": [
    "Для удобства проверки статистической достоверности различия между группами, напишем функцию (поскольку делается множественное сравнение(3 штуки), применим поправку Бонферрони)"
   ]
  },
  {
   "cell_type": "code",
   "execution_count": 65,
   "id": "515b5821",
   "metadata": {},
   "outputs": [],
   "source": [
    "def z_test (df1, df2, event, alpha, m):\n",
    "\n",
    "    alpha_bonferron = alpha/m\n",
    "    \n",
    "    total_users = np.array([df1['total_users'][0],\n",
    "                            df2['total_users'][0]])\n",
    "    \n",
    "    event_users = np.array([df1[df1['event_name'] == event]['users'],\n",
    "                            df2[df2['event_name'] == event]['users']])\n",
    "\n",
    "    # доля пользователей, совершивших событие в первой группе:\n",
    "    p1 = event_users[0]/total_users[0]\n",
    "\n",
    "    # доля пользователей, совершивших событие во второй группе:\n",
    "    p2 = event_users[1]/total_users[1]\n",
    "    \n",
    "    print(event_users[0],event_users[1] , total_users[0], total_users[1])\n",
    "\n",
    "    # доля пользователей, совершивших событие в комбинированном датасете:\n",
    "    p_combined = (event_users[0] + event_users[1]) / (total_users[0] + total_users[1])\n",
    "\n",
    "    # разница пропорций в датасетах\n",
    "    difference = p1 - p2 \n",
    "\n",
    "    # считаем статистику в ст.отклонениях стандартного нормального распределения\n",
    "    z_value = difference / mth.sqrt(p_combined * (1 - p_combined) * (1/total_users[0] + 1/total_users[1]))\n",
    "\n",
    "    # задаем стандартное нормальное распределение (среднее 0, ст.отклонение 1)\n",
    "    distr = st.norm(0, 1)  \n",
    "\n",
    "    p_value = (1 - distr.cdf(abs(z_value))) * 2\n",
    "    \n",
    "    print('Событие:', event)    \n",
    "    print('p-значение: ', p_value)\n",
    "\n",
    "    if p_value < alpha_bonferron:\n",
    "        print('Отвергаем нулевую гипотезу: между долями есть значимая разница')\n",
    "    else:\n",
    "        print(\n",
    "            'Не получилось отвергнуть нулевую гипотезу, нет оснований считать доли разными') "
   ]
  },
  {
   "cell_type": "markdown",
   "id": "a193661c",
   "metadata": {},
   "source": [
    "Сформулируем гипотезы:\n",
    "\n",
    "**Нулевая гипотеза**: доли пользователей, совершивших событие, равны.\n",
    "\n",
    "**Альтернативная гипотеза**: доли пользователей, совершивших событие, неравны."
   ]
  },
  {
   "cell_type": "code",
   "execution_count": 66,
   "id": "9c5d3d3c",
   "metadata": {},
   "outputs": [
    {
     "name": "stdout",
     "output_type": "stream",
     "text": [
      "[1478] [349] 2280 620\n",
      "Событие: product_page\n",
      "p-значение:  [9.51511731e-05]\n",
      "Отвергаем нулевую гипотезу: между долями есть значимая разница\n",
      "\n",
      "[735] [176] 2280 620\n",
      "Событие: purchase\n",
      "p-значение:  [0.06708208]\n",
      "Не получилось отвергнуть нулевую гипотезу, нет оснований считать доли разными\n",
      "\n",
      "[695] [175] 2280 620\n",
      "Событие: product_cart\n",
      "p-значение:  [0.27693812]\n",
      "Не получилось отвергнуть нулевую гипотезу, нет оснований считать доли разными\n",
      "\n"
     ]
    }
   ],
   "source": [
    "for event in funnel_A['event_name']:\n",
    "    z_test(funnel_A, funnel_B, event, 0.05, 3)\n",
    "    print()"
   ]
  },
  {
   "cell_type": "markdown",
   "id": "a721579c",
   "metadata": {},
   "source": [
    "Для события `product_page` нулевая гипотеза была отвергнута, для остальных событий отвергнуть нулевую гипотезу не получилось - статистически значимого различия нет."
   ]
  },
  {
   "cell_type": "markdown",
   "id": "a325a970",
   "metadata": {},
   "source": [
    "## Вывод"
   ]
  },
  {
   "cell_type": "markdown",
   "id": "0e3b76ad",
   "metadata": {},
   "source": [
    "В ходе работы была проведена оценка корректности проведения A/B теста, проведен исследовательсткий анализ данных и оценены результаты проведенного A/B теста.\n",
    "\n",
    "В части оценки корректности были выявлены слеующие нарушения:\n",
    "* Во время теста проводилась рекламная акция,\n",
    "* В тестируемой группе были пользователи, параллельно участвующие в другом тесте\n",
    "* После удалений нерелевантных пользователей осталось всего 2900 пользователей, вместо запланированных 6000\n",
    "* Разница в конверсии между контрольной и тестовой группами менее ожидаемых 10%. У тестовой группы конверсия меньше, чем у контрольной.\n",
    "\n",
    "В части исследовательского анализа данных и оцененки результатов проведенного A/B теста, были сделаны следующие выводы\n",
    "* Пользователи в группах распределены неравномерно - в контрольной группе в 3.7 раз больше пользователей, чем в тестовой.\n",
    "* Конверсия тестовой группы на 8% меньше для шага `login` - `product_page` и на 4% меньше на этапе `product_page` - `purchase`, чем у контрольной группы.  \n",
    "* В ходе проверки статистической разницы долей выяснили, что для события `product_page` разница между долями присутствует, для остальных событий статистически значимого различия нет.\n",
    "\n",
    "В целом, проведенный тест можно считать проваленным - имеются расхождения с техническим заданием и имеются нарушения в формировании контрольной и тестовой групп."
   ]
  }
 ],
 "metadata": {
  "ExecuteTimeLog": [
   {
    "duration": 1539,
    "start_time": "2023-03-04T19:54:16.763Z"
   },
   {
    "duration": 0,
    "start_time": "2023-03-04T19:54:18.307Z"
   },
   {
    "duration": 0,
    "start_time": "2023-03-04T19:54:18.308Z"
   },
   {
    "duration": 0,
    "start_time": "2023-03-04T19:54:18.309Z"
   },
   {
    "duration": 0,
    "start_time": "2023-03-04T19:54:18.311Z"
   },
   {
    "duration": 0,
    "start_time": "2023-03-04T19:54:18.312Z"
   },
   {
    "duration": 0,
    "start_time": "2023-03-04T19:54:18.326Z"
   },
   {
    "duration": 0,
    "start_time": "2023-03-04T19:54:18.327Z"
   },
   {
    "duration": 0,
    "start_time": "2023-03-04T19:54:18.335Z"
   },
   {
    "duration": 0,
    "start_time": "2023-03-04T19:54:18.336Z"
   },
   {
    "duration": 0,
    "start_time": "2023-03-04T19:54:18.337Z"
   },
   {
    "duration": 0,
    "start_time": "2023-03-04T19:54:18.339Z"
   },
   {
    "duration": 0,
    "start_time": "2023-03-04T19:54:18.340Z"
   },
   {
    "duration": 0,
    "start_time": "2023-03-04T19:54:18.341Z"
   },
   {
    "duration": 0,
    "start_time": "2023-03-04T19:54:18.341Z"
   },
   {
    "duration": 0,
    "start_time": "2023-03-04T19:54:18.344Z"
   },
   {
    "duration": 0,
    "start_time": "2023-03-04T19:54:18.345Z"
   },
   {
    "duration": 0,
    "start_time": "2023-03-04T19:54:18.346Z"
   },
   {
    "duration": 0,
    "start_time": "2023-03-04T19:54:18.347Z"
   },
   {
    "duration": 0,
    "start_time": "2023-03-04T19:54:18.348Z"
   },
   {
    "duration": 0,
    "start_time": "2023-03-04T19:54:18.349Z"
   },
   {
    "duration": 0,
    "start_time": "2023-03-04T19:54:18.351Z"
   },
   {
    "duration": 0,
    "start_time": "2023-03-04T19:54:18.352Z"
   },
   {
    "duration": 0,
    "start_time": "2023-03-04T19:54:18.353Z"
   },
   {
    "duration": 0,
    "start_time": "2023-03-04T19:54:18.354Z"
   },
   {
    "duration": 0,
    "start_time": "2023-03-04T19:54:18.354Z"
   },
   {
    "duration": 1,
    "start_time": "2023-03-04T19:54:18.355Z"
   },
   {
    "duration": 0,
    "start_time": "2023-03-04T19:54:18.356Z"
   },
   {
    "duration": 0,
    "start_time": "2023-03-04T19:54:18.358Z"
   },
   {
    "duration": 0,
    "start_time": "2023-03-04T19:54:18.359Z"
   },
   {
    "duration": 0,
    "start_time": "2023-03-04T19:54:18.360Z"
   },
   {
    "duration": 0,
    "start_time": "2023-03-04T19:54:18.361Z"
   },
   {
    "duration": 0,
    "start_time": "2023-03-04T19:54:18.363Z"
   },
   {
    "duration": 0,
    "start_time": "2023-03-04T19:54:18.364Z"
   },
   {
    "duration": 0,
    "start_time": "2023-03-04T19:54:18.365Z"
   },
   {
    "duration": 0,
    "start_time": "2023-03-04T19:54:18.366Z"
   },
   {
    "duration": 0,
    "start_time": "2023-03-04T19:54:18.367Z"
   },
   {
    "duration": 0,
    "start_time": "2023-03-04T19:54:18.426Z"
   },
   {
    "duration": 0,
    "start_time": "2023-03-04T19:54:18.427Z"
   },
   {
    "duration": 0,
    "start_time": "2023-03-04T19:54:18.430Z"
   },
   {
    "duration": 0,
    "start_time": "2023-03-04T19:54:18.431Z"
   },
   {
    "duration": 0,
    "start_time": "2023-03-04T19:54:18.432Z"
   },
   {
    "duration": 0,
    "start_time": "2023-03-04T19:54:18.433Z"
   },
   {
    "duration": 0,
    "start_time": "2023-03-04T19:54:18.433Z"
   },
   {
    "duration": 0,
    "start_time": "2023-03-04T19:54:18.434Z"
   },
   {
    "duration": 0,
    "start_time": "2023-03-04T19:54:18.435Z"
   },
   {
    "duration": 0,
    "start_time": "2023-03-04T19:54:18.435Z"
   },
   {
    "duration": 0,
    "start_time": "2023-03-04T19:54:18.436Z"
   },
   {
    "duration": 0,
    "start_time": "2023-03-04T19:54:18.437Z"
   },
   {
    "duration": 0,
    "start_time": "2023-03-04T19:54:18.437Z"
   },
   {
    "duration": 0,
    "start_time": "2023-03-04T19:54:18.438Z"
   },
   {
    "duration": 0,
    "start_time": "2023-03-04T19:54:18.439Z"
   },
   {
    "duration": 0,
    "start_time": "2023-03-04T19:54:18.439Z"
   },
   {
    "duration": 0,
    "start_time": "2023-03-04T19:54:18.440Z"
   },
   {
    "duration": 0,
    "start_time": "2023-03-04T19:54:18.441Z"
   },
   {
    "duration": 0,
    "start_time": "2023-03-04T19:54:18.444Z"
   },
   {
    "duration": 0,
    "start_time": "2023-03-04T19:54:18.445Z"
   },
   {
    "duration": 0,
    "start_time": "2023-03-04T19:54:18.446Z"
   },
   {
    "duration": 0,
    "start_time": "2023-03-04T19:54:18.447Z"
   },
   {
    "duration": 0,
    "start_time": "2023-03-04T19:54:18.448Z"
   },
   {
    "duration": 0,
    "start_time": "2023-03-04T19:54:18.449Z"
   },
   {
    "duration": 0,
    "start_time": "2023-03-04T19:54:18.450Z"
   },
   {
    "duration": 0,
    "start_time": "2023-03-04T19:54:18.451Z"
   },
   {
    "duration": 0,
    "start_time": "2023-03-04T19:54:18.453Z"
   },
   {
    "duration": 0,
    "start_time": "2023-03-04T19:54:18.453Z"
   },
   {
    "duration": 1287,
    "start_time": "2023-03-04T19:54:59.107Z"
   },
   {
    "duration": 245,
    "start_time": "2023-03-04T19:55:00.396Z"
   },
   {
    "duration": 0,
    "start_time": "2023-03-04T19:55:00.658Z"
   },
   {
    "duration": 0,
    "start_time": "2023-03-04T19:55:00.659Z"
   },
   {
    "duration": 0,
    "start_time": "2023-03-04T19:55:00.668Z"
   },
   {
    "duration": 0,
    "start_time": "2023-03-04T19:55:00.670Z"
   },
   {
    "duration": 0,
    "start_time": "2023-03-04T19:55:00.671Z"
   },
   {
    "duration": 0,
    "start_time": "2023-03-04T19:55:00.673Z"
   },
   {
    "duration": 0,
    "start_time": "2023-03-04T19:55:00.674Z"
   },
   {
    "duration": 0,
    "start_time": "2023-03-04T19:55:00.676Z"
   },
   {
    "duration": 0,
    "start_time": "2023-03-04T19:55:00.677Z"
   },
   {
    "duration": 0,
    "start_time": "2023-03-04T19:55:00.678Z"
   },
   {
    "duration": 0,
    "start_time": "2023-03-04T19:55:00.680Z"
   },
   {
    "duration": 0,
    "start_time": "2023-03-04T19:55:00.681Z"
   },
   {
    "duration": 0,
    "start_time": "2023-03-04T19:55:00.682Z"
   },
   {
    "duration": 0,
    "start_time": "2023-03-04T19:55:00.683Z"
   },
   {
    "duration": 0,
    "start_time": "2023-03-04T19:55:00.685Z"
   },
   {
    "duration": 0,
    "start_time": "2023-03-04T19:55:00.686Z"
   },
   {
    "duration": 0,
    "start_time": "2023-03-04T19:55:00.687Z"
   },
   {
    "duration": 1,
    "start_time": "2023-03-04T19:55:00.688Z"
   },
   {
    "duration": 0,
    "start_time": "2023-03-04T19:55:00.690Z"
   },
   {
    "duration": 0,
    "start_time": "2023-03-04T19:55:00.691Z"
   },
   {
    "duration": 0,
    "start_time": "2023-03-04T19:55:00.693Z"
   },
   {
    "duration": 0,
    "start_time": "2023-03-04T19:55:00.694Z"
   },
   {
    "duration": 0,
    "start_time": "2023-03-04T19:55:00.696Z"
   },
   {
    "duration": 0,
    "start_time": "2023-03-04T19:55:00.697Z"
   },
   {
    "duration": 0,
    "start_time": "2023-03-04T19:55:00.698Z"
   },
   {
    "duration": 0,
    "start_time": "2023-03-04T19:55:00.734Z"
   },
   {
    "duration": 0,
    "start_time": "2023-03-04T19:55:00.735Z"
   },
   {
    "duration": 0,
    "start_time": "2023-03-04T19:55:00.736Z"
   },
   {
    "duration": 0,
    "start_time": "2023-03-04T19:55:00.739Z"
   },
   {
    "duration": 0,
    "start_time": "2023-03-04T19:55:00.742Z"
   },
   {
    "duration": 0,
    "start_time": "2023-03-04T19:55:00.743Z"
   },
   {
    "duration": 0,
    "start_time": "2023-03-04T19:55:00.748Z"
   },
   {
    "duration": 0,
    "start_time": "2023-03-04T19:55:00.749Z"
   },
   {
    "duration": 0,
    "start_time": "2023-03-04T19:55:00.749Z"
   },
   {
    "duration": 0,
    "start_time": "2023-03-04T19:55:00.750Z"
   },
   {
    "duration": 0,
    "start_time": "2023-03-04T19:55:00.751Z"
   },
   {
    "duration": 0,
    "start_time": "2023-03-04T19:55:00.752Z"
   },
   {
    "duration": 0,
    "start_time": "2023-03-04T19:55:00.753Z"
   },
   {
    "duration": 0,
    "start_time": "2023-03-04T19:55:00.754Z"
   },
   {
    "duration": 0,
    "start_time": "2023-03-04T19:55:00.755Z"
   },
   {
    "duration": 0,
    "start_time": "2023-03-04T19:55:00.755Z"
   },
   {
    "duration": 0,
    "start_time": "2023-03-04T19:55:00.756Z"
   },
   {
    "duration": 0,
    "start_time": "2023-03-04T19:55:00.757Z"
   },
   {
    "duration": 0,
    "start_time": "2023-03-04T19:55:00.758Z"
   },
   {
    "duration": 0,
    "start_time": "2023-03-04T19:55:00.759Z"
   },
   {
    "duration": 0,
    "start_time": "2023-03-04T19:55:00.760Z"
   },
   {
    "duration": 0,
    "start_time": "2023-03-04T19:55:00.761Z"
   },
   {
    "duration": 0,
    "start_time": "2023-03-04T19:55:00.763Z"
   },
   {
    "duration": 0,
    "start_time": "2023-03-04T19:55:00.764Z"
   },
   {
    "duration": 0,
    "start_time": "2023-03-04T19:55:00.766Z"
   },
   {
    "duration": 0,
    "start_time": "2023-03-04T19:55:00.767Z"
   },
   {
    "duration": 0,
    "start_time": "2023-03-04T19:55:00.768Z"
   },
   {
    "duration": 0,
    "start_time": "2023-03-04T19:55:00.770Z"
   },
   {
    "duration": 0,
    "start_time": "2023-03-04T19:55:00.771Z"
   },
   {
    "duration": 0,
    "start_time": "2023-03-04T19:55:00.774Z"
   },
   {
    "duration": 0,
    "start_time": "2023-03-04T19:55:00.776Z"
   },
   {
    "duration": 0,
    "start_time": "2023-03-04T19:55:00.777Z"
   },
   {
    "duration": 0,
    "start_time": "2023-03-04T19:55:00.825Z"
   },
   {
    "duration": 0,
    "start_time": "2023-03-04T19:55:00.826Z"
   },
   {
    "duration": 0,
    "start_time": "2023-03-04T19:55:00.827Z"
   },
   {
    "duration": 0,
    "start_time": "2023-03-04T19:55:00.829Z"
   },
   {
    "duration": 0,
    "start_time": "2023-03-04T19:55:00.834Z"
   },
   {
    "duration": 0,
    "start_time": "2023-03-04T19:55:00.835Z"
   },
   {
    "duration": 1337,
    "start_time": "2023-03-04T19:57:08.144Z"
   },
   {
    "duration": 2345,
    "start_time": "2023-03-04T19:57:09.484Z"
   },
   {
    "duration": 50,
    "start_time": "2023-03-04T19:57:11.831Z"
   },
   {
    "duration": 129,
    "start_time": "2023-03-04T19:57:11.883Z"
   },
   {
    "duration": 371,
    "start_time": "2023-03-04T19:57:12.013Z"
   },
   {
    "duration": 5,
    "start_time": "2023-03-04T19:57:12.385Z"
   },
   {
    "duration": 13,
    "start_time": "2023-03-04T19:57:12.391Z"
   },
   {
    "duration": 60,
    "start_time": "2023-03-04T19:57:12.406Z"
   },
   {
    "duration": 6,
    "start_time": "2023-03-04T19:57:12.467Z"
   },
   {
    "duration": 170,
    "start_time": "2023-03-04T19:57:12.477Z"
   },
   {
    "duration": 47,
    "start_time": "2023-03-04T19:57:12.649Z"
   },
   {
    "duration": 6,
    "start_time": "2023-03-04T19:57:12.698Z"
   },
   {
    "duration": 52,
    "start_time": "2023-03-04T19:57:12.706Z"
   },
   {
    "duration": 131,
    "start_time": "2023-03-04T19:57:12.760Z"
   },
   {
    "duration": 183,
    "start_time": "2023-03-04T19:57:12.893Z"
   },
   {
    "duration": 85,
    "start_time": "2023-03-04T19:57:13.078Z"
   },
   {
    "duration": 32,
    "start_time": "2023-03-04T19:57:13.164Z"
   },
   {
    "duration": 60,
    "start_time": "2023-03-04T19:57:13.198Z"
   },
   {
    "duration": 49,
    "start_time": "2023-03-04T19:57:13.260Z"
   },
   {
    "duration": 64,
    "start_time": "2023-03-04T19:57:13.311Z"
   },
   {
    "duration": 57,
    "start_time": "2023-03-04T19:57:13.376Z"
   },
   {
    "duration": 65,
    "start_time": "2023-03-04T19:57:13.436Z"
   },
   {
    "duration": 33,
    "start_time": "2023-03-04T19:57:13.503Z"
   },
   {
    "duration": 23,
    "start_time": "2023-03-04T19:57:13.542Z"
   },
   {
    "duration": 15,
    "start_time": "2023-03-04T19:57:13.567Z"
   },
   {
    "duration": 3804,
    "start_time": "2023-03-04T19:57:13.584Z"
   },
   {
    "duration": 4,
    "start_time": "2023-03-04T19:57:17.389Z"
   },
   {
    "duration": 83,
    "start_time": "2023-03-04T19:57:17.397Z"
   },
   {
    "duration": 78,
    "start_time": "2023-03-04T19:57:17.482Z"
   },
   {
    "duration": 136,
    "start_time": "2023-03-04T19:57:17.562Z"
   },
   {
    "duration": 0,
    "start_time": "2023-03-04T19:57:17.700Z"
   },
   {
    "duration": 0,
    "start_time": "2023-03-04T19:57:17.701Z"
   },
   {
    "duration": 0,
    "start_time": "2023-03-04T19:57:17.703Z"
   },
   {
    "duration": 0,
    "start_time": "2023-03-04T19:57:17.704Z"
   },
   {
    "duration": 0,
    "start_time": "2023-03-04T19:57:17.705Z"
   },
   {
    "duration": 0,
    "start_time": "2023-03-04T19:57:17.707Z"
   },
   {
    "duration": 0,
    "start_time": "2023-03-04T19:57:17.708Z"
   },
   {
    "duration": 0,
    "start_time": "2023-03-04T19:57:17.710Z"
   },
   {
    "duration": 0,
    "start_time": "2023-03-04T19:57:17.730Z"
   },
   {
    "duration": 0,
    "start_time": "2023-03-04T19:57:17.737Z"
   },
   {
    "duration": 0,
    "start_time": "2023-03-04T19:57:17.739Z"
   },
   {
    "duration": 0,
    "start_time": "2023-03-04T19:57:17.740Z"
   },
   {
    "duration": 0,
    "start_time": "2023-03-04T19:57:17.741Z"
   },
   {
    "duration": 0,
    "start_time": "2023-03-04T19:57:17.742Z"
   },
   {
    "duration": 0,
    "start_time": "2023-03-04T19:57:17.743Z"
   },
   {
    "duration": 0,
    "start_time": "2023-03-04T19:57:17.746Z"
   },
   {
    "duration": 0,
    "start_time": "2023-03-04T19:57:17.747Z"
   },
   {
    "duration": 0,
    "start_time": "2023-03-04T19:57:17.748Z"
   },
   {
    "duration": 0,
    "start_time": "2023-03-04T19:57:17.749Z"
   },
   {
    "duration": 0,
    "start_time": "2023-03-04T19:57:17.750Z"
   },
   {
    "duration": 0,
    "start_time": "2023-03-04T19:57:17.751Z"
   },
   {
    "duration": 0,
    "start_time": "2023-03-04T19:57:17.752Z"
   },
   {
    "duration": 0,
    "start_time": "2023-03-04T19:57:17.753Z"
   },
   {
    "duration": 0,
    "start_time": "2023-03-04T19:57:17.754Z"
   },
   {
    "duration": 0,
    "start_time": "2023-03-04T19:57:17.756Z"
   },
   {
    "duration": 0,
    "start_time": "2023-03-04T19:57:17.757Z"
   },
   {
    "duration": 0,
    "start_time": "2023-03-04T19:57:17.758Z"
   },
   {
    "duration": 0,
    "start_time": "2023-03-04T19:57:17.760Z"
   },
   {
    "duration": 0,
    "start_time": "2023-03-04T19:57:17.761Z"
   },
   {
    "duration": 0,
    "start_time": "2023-03-04T19:57:17.763Z"
   },
   {
    "duration": 0,
    "start_time": "2023-03-04T19:57:17.764Z"
   },
   {
    "duration": 0,
    "start_time": "2023-03-04T19:57:17.765Z"
   },
   {
    "duration": 0,
    "start_time": "2023-03-04T19:57:17.766Z"
   },
   {
    "duration": 0,
    "start_time": "2023-03-04T19:57:17.767Z"
   },
   {
    "duration": 0,
    "start_time": "2023-03-04T19:57:17.768Z"
   },
   {
    "duration": 44,
    "start_time": "2023-03-04T20:01:48.546Z"
   },
   {
    "duration": 1355,
    "start_time": "2023-03-04T20:02:34.303Z"
   },
   {
    "duration": 746,
    "start_time": "2023-03-04T20:02:35.662Z"
   },
   {
    "duration": 66,
    "start_time": "2023-03-04T20:02:36.410Z"
   },
   {
    "duration": 124,
    "start_time": "2023-03-04T20:02:36.478Z"
   },
   {
    "duration": 377,
    "start_time": "2023-03-04T20:02:36.604Z"
   },
   {
    "duration": 4,
    "start_time": "2023-03-04T20:02:36.983Z"
   },
   {
    "duration": 13,
    "start_time": "2023-03-04T20:02:36.989Z"
   },
   {
    "duration": 69,
    "start_time": "2023-03-04T20:02:37.004Z"
   },
   {
    "duration": 9,
    "start_time": "2023-03-04T20:02:37.074Z"
   },
   {
    "duration": 143,
    "start_time": "2023-03-04T20:02:37.086Z"
   },
   {
    "duration": 60,
    "start_time": "2023-03-04T20:02:37.230Z"
   },
   {
    "duration": 5,
    "start_time": "2023-03-04T20:02:37.292Z"
   },
   {
    "duration": 72,
    "start_time": "2023-03-04T20:02:37.299Z"
   },
   {
    "duration": 134,
    "start_time": "2023-03-04T20:02:37.374Z"
   },
   {
    "duration": 178,
    "start_time": "2023-03-04T20:02:37.509Z"
   },
   {
    "duration": 79,
    "start_time": "2023-03-04T20:02:37.689Z"
   },
   {
    "duration": 41,
    "start_time": "2023-03-04T20:02:37.770Z"
   },
   {
    "duration": 67,
    "start_time": "2023-03-04T20:02:37.813Z"
   },
   {
    "duration": 75,
    "start_time": "2023-03-04T20:02:37.881Z"
   },
   {
    "duration": 42,
    "start_time": "2023-03-04T20:02:37.958Z"
   },
   {
    "duration": 51,
    "start_time": "2023-03-04T20:02:38.003Z"
   },
   {
    "duration": 48,
    "start_time": "2023-03-04T20:02:38.055Z"
   },
   {
    "duration": 39,
    "start_time": "2023-03-04T20:02:38.105Z"
   },
   {
    "duration": 22,
    "start_time": "2023-03-04T20:02:38.146Z"
   },
   {
    "duration": 16,
    "start_time": "2023-03-04T20:02:38.169Z"
   },
   {
    "duration": 4002,
    "start_time": "2023-03-04T20:02:38.187Z"
   },
   {
    "duration": 4,
    "start_time": "2023-03-04T20:02:42.191Z"
   },
   {
    "duration": 78,
    "start_time": "2023-03-04T20:02:42.199Z"
   },
   {
    "duration": 95,
    "start_time": "2023-03-04T20:02:42.279Z"
   },
   {
    "duration": 65,
    "start_time": "2023-03-04T20:02:42.375Z"
   },
   {
    "duration": 23,
    "start_time": "2023-03-04T20:02:42.450Z"
   },
   {
    "duration": 15,
    "start_time": "2023-03-04T20:02:42.475Z"
   },
   {
    "duration": 11,
    "start_time": "2023-03-04T20:02:42.491Z"
   },
   {
    "duration": 94,
    "start_time": "2023-03-04T20:02:42.504Z"
   },
   {
    "duration": 13,
    "start_time": "2023-03-04T20:02:42.600Z"
   },
   {
    "duration": 42,
    "start_time": "2023-03-04T20:02:42.614Z"
   },
   {
    "duration": 13,
    "start_time": "2023-03-04T20:02:42.658Z"
   },
   {
    "duration": 14,
    "start_time": "2023-03-04T20:02:42.672Z"
   },
   {
    "duration": 36,
    "start_time": "2023-03-04T20:02:42.688Z"
   },
   {
    "duration": 19,
    "start_time": "2023-03-04T20:02:42.729Z"
   },
   {
    "duration": 13,
    "start_time": "2023-03-04T20:02:42.754Z"
   },
   {
    "duration": 16,
    "start_time": "2023-03-04T20:02:42.769Z"
   },
   {
    "duration": 6,
    "start_time": "2023-03-04T20:02:42.787Z"
   },
   {
    "duration": 22,
    "start_time": "2023-03-04T20:02:42.795Z"
   },
   {
    "duration": 33,
    "start_time": "2023-03-04T20:02:42.819Z"
   },
   {
    "duration": 8,
    "start_time": "2023-03-04T20:02:42.854Z"
   },
   {
    "duration": 27,
    "start_time": "2023-03-04T20:02:42.864Z"
   },
   {
    "duration": 13,
    "start_time": "2023-03-04T20:02:42.893Z"
   },
   {
    "duration": 10,
    "start_time": "2023-03-04T20:02:42.908Z"
   },
   {
    "duration": 41,
    "start_time": "2023-03-04T20:02:42.920Z"
   },
   {
    "duration": 3,
    "start_time": "2023-03-04T20:02:42.964Z"
   },
   {
    "duration": 17,
    "start_time": "2023-03-04T20:02:42.968Z"
   },
   {
    "duration": 6,
    "start_time": "2023-03-04T20:02:42.986Z"
   },
   {
    "duration": 44,
    "start_time": "2023-03-04T20:02:42.994Z"
   },
   {
    "duration": 7,
    "start_time": "2023-03-04T20:02:43.040Z"
   },
   {
    "duration": 32,
    "start_time": "2023-03-04T20:02:43.048Z"
   },
   {
    "duration": 18,
    "start_time": "2023-03-04T20:02:43.083Z"
   },
   {
    "duration": 748,
    "start_time": "2023-03-04T20:02:43.103Z"
   },
   {
    "duration": 0,
    "start_time": "2023-03-04T20:02:43.856Z"
   },
   {
    "duration": 0,
    "start_time": "2023-03-04T20:02:43.859Z"
   },
   {
    "duration": 0,
    "start_time": "2023-03-04T20:02:43.860Z"
   },
   {
    "duration": 0,
    "start_time": "2023-03-04T20:02:43.861Z"
   },
   {
    "duration": 0,
    "start_time": "2023-03-04T20:02:43.862Z"
   },
   {
    "duration": 0,
    "start_time": "2023-03-04T20:02:43.864Z"
   },
   {
    "duration": 0,
    "start_time": "2023-03-04T20:02:43.865Z"
   },
   {
    "duration": 11805,
    "start_time": "2023-03-04T20:08:03.060Z"
   },
   {
    "duration": 713,
    "start_time": "2023-03-04T20:08:28.979Z"
   },
   {
    "duration": 1497,
    "start_time": "2023-03-04T20:08:35.940Z"
   },
   {
    "duration": 3604,
    "start_time": "2023-03-04T20:08:37.449Z"
   },
   {
    "duration": 831,
    "start_time": "2023-03-04T20:08:41.055Z"
   },
   {
    "duration": 54,
    "start_time": "2023-03-04T20:08:41.888Z"
   },
   {
    "duration": 138,
    "start_time": "2023-03-04T20:08:41.947Z"
   },
   {
    "duration": 421,
    "start_time": "2023-03-04T20:08:42.087Z"
   },
   {
    "duration": 22,
    "start_time": "2023-03-04T20:08:42.510Z"
   },
   {
    "duration": 23,
    "start_time": "2023-03-04T20:08:42.535Z"
   },
   {
    "duration": 49,
    "start_time": "2023-03-04T20:08:42.560Z"
   },
   {
    "duration": 20,
    "start_time": "2023-03-04T20:08:42.611Z"
   },
   {
    "duration": 134,
    "start_time": "2023-03-04T20:08:42.640Z"
   },
   {
    "duration": 61,
    "start_time": "2023-03-04T20:08:42.776Z"
   },
   {
    "duration": 17,
    "start_time": "2023-03-04T20:08:42.838Z"
   },
   {
    "duration": 40,
    "start_time": "2023-03-04T20:08:42.862Z"
   },
   {
    "duration": 160,
    "start_time": "2023-03-04T20:08:42.904Z"
   },
   {
    "duration": 223,
    "start_time": "2023-03-04T20:08:43.065Z"
   },
   {
    "duration": 83,
    "start_time": "2023-03-04T20:08:43.290Z"
   },
   {
    "duration": 36,
    "start_time": "2023-03-04T20:08:43.376Z"
   },
   {
    "duration": 65,
    "start_time": "2023-03-04T20:08:43.423Z"
   },
   {
    "duration": 76,
    "start_time": "2023-03-04T20:08:43.490Z"
   },
   {
    "duration": 40,
    "start_time": "2023-03-04T20:08:43.568Z"
   },
   {
    "duration": 72,
    "start_time": "2023-03-04T20:08:43.610Z"
   },
   {
    "duration": 56,
    "start_time": "2023-03-04T20:08:43.683Z"
   },
   {
    "duration": 22,
    "start_time": "2023-03-04T20:08:43.741Z"
   },
   {
    "duration": 17,
    "start_time": "2023-03-04T20:08:43.766Z"
   },
   {
    "duration": 15,
    "start_time": "2023-03-04T20:08:43.784Z"
   },
   {
    "duration": 4077,
    "start_time": "2023-03-04T20:08:43.800Z"
   },
   {
    "duration": 4,
    "start_time": "2023-03-04T20:08:47.879Z"
   },
   {
    "duration": 87,
    "start_time": "2023-03-04T20:08:47.885Z"
   },
   {
    "duration": 68,
    "start_time": "2023-03-04T20:08:47.974Z"
   },
   {
    "duration": 52,
    "start_time": "2023-03-04T20:08:48.044Z"
   },
   {
    "duration": 44,
    "start_time": "2023-03-04T20:08:48.098Z"
   },
   {
    "duration": 25,
    "start_time": "2023-03-04T20:08:48.144Z"
   },
   {
    "duration": 11,
    "start_time": "2023-03-04T20:08:48.170Z"
   },
   {
    "duration": 95,
    "start_time": "2023-03-04T20:08:48.183Z"
   },
   {
    "duration": 15,
    "start_time": "2023-03-04T20:08:48.281Z"
   },
   {
    "duration": 32,
    "start_time": "2023-03-04T20:08:48.298Z"
   },
   {
    "duration": 23,
    "start_time": "2023-03-04T20:08:48.332Z"
   },
   {
    "duration": 18,
    "start_time": "2023-03-04T20:08:48.362Z"
   },
   {
    "duration": 5,
    "start_time": "2023-03-04T20:08:48.382Z"
   },
   {
    "duration": 6,
    "start_time": "2023-03-04T20:08:48.392Z"
   },
   {
    "duration": 41,
    "start_time": "2023-03-04T20:08:48.401Z"
   },
   {
    "duration": 22,
    "start_time": "2023-03-04T20:08:48.445Z"
   },
   {
    "duration": 5,
    "start_time": "2023-03-04T20:08:48.468Z"
   },
   {
    "duration": 9,
    "start_time": "2023-03-04T20:08:48.475Z"
   },
   {
    "duration": 4,
    "start_time": "2023-03-04T20:08:48.486Z"
   },
   {
    "duration": 8,
    "start_time": "2023-03-04T20:08:48.492Z"
   },
   {
    "duration": 40,
    "start_time": "2023-03-04T20:08:48.502Z"
   },
   {
    "duration": 21,
    "start_time": "2023-03-04T20:08:48.546Z"
   },
   {
    "duration": 10,
    "start_time": "2023-03-04T20:08:48.569Z"
   },
   {
    "duration": 27,
    "start_time": "2023-03-04T20:08:48.581Z"
   },
   {
    "duration": 6,
    "start_time": "2023-03-04T20:08:48.626Z"
   },
   {
    "duration": 27,
    "start_time": "2023-03-04T20:08:48.634Z"
   },
   {
    "duration": 7,
    "start_time": "2023-03-04T20:08:48.662Z"
   },
   {
    "duration": 22,
    "start_time": "2023-03-04T20:08:48.671Z"
   },
   {
    "duration": 5,
    "start_time": "2023-03-04T20:08:48.695Z"
   },
   {
    "duration": 66,
    "start_time": "2023-03-04T20:08:48.702Z"
   },
   {
    "duration": 17,
    "start_time": "2023-03-04T20:08:48.769Z"
   },
   {
    "duration": 2208,
    "start_time": "2023-03-04T20:08:48.788Z"
   },
   {
    "duration": 34,
    "start_time": "2023-03-04T20:08:50.998Z"
   },
   {
    "duration": 19,
    "start_time": "2023-03-04T20:08:51.036Z"
   },
   {
    "duration": 11,
    "start_time": "2023-03-04T20:08:51.057Z"
   },
   {
    "duration": 7,
    "start_time": "2023-03-04T20:08:51.070Z"
   },
   {
    "duration": 9,
    "start_time": "2023-03-04T20:08:51.079Z"
   },
   {
    "duration": 38,
    "start_time": "2023-03-04T20:08:51.089Z"
   },
   {
    "duration": 23,
    "start_time": "2023-03-04T20:08:51.136Z"
   },
   {
    "duration": 1287,
    "start_time": "2023-03-04T20:31:19.328Z"
   },
   {
    "duration": 14946,
    "start_time": "2023-03-04T20:31:20.616Z"
   },
   {
    "duration": 727,
    "start_time": "2023-03-04T20:31:35.566Z"
   },
   {
    "duration": 42,
    "start_time": "2023-03-04T20:31:36.295Z"
   },
   {
    "duration": 113,
    "start_time": "2023-03-04T20:31:36.339Z"
   },
   {
    "duration": 378,
    "start_time": "2023-03-04T20:31:36.456Z"
   },
   {
    "duration": 24,
    "start_time": "2023-03-04T20:31:36.836Z"
   },
   {
    "duration": 44,
    "start_time": "2023-03-04T20:31:36.862Z"
   },
   {
    "duration": 30,
    "start_time": "2023-03-04T20:31:36.908Z"
   },
   {
    "duration": 10,
    "start_time": "2023-03-04T20:31:36.942Z"
   },
   {
    "duration": 162,
    "start_time": "2023-03-04T20:31:36.954Z"
   },
   {
    "duration": 52,
    "start_time": "2023-03-04T20:31:37.118Z"
   },
   {
    "duration": 22,
    "start_time": "2023-03-04T20:31:37.172Z"
   },
   {
    "duration": 36,
    "start_time": "2023-03-04T20:31:37.196Z"
   },
   {
    "duration": 166,
    "start_time": "2023-03-04T20:31:37.234Z"
   },
   {
    "duration": 190,
    "start_time": "2023-03-04T20:31:37.402Z"
   },
   {
    "duration": 84,
    "start_time": "2023-03-04T20:31:37.594Z"
   },
   {
    "duration": 33,
    "start_time": "2023-03-04T20:31:37.683Z"
   },
   {
    "duration": 42,
    "start_time": "2023-03-04T20:31:37.717Z"
   },
   {
    "duration": 55,
    "start_time": "2023-03-04T20:31:37.760Z"
   },
   {
    "duration": 68,
    "start_time": "2023-03-04T20:31:37.816Z"
   },
   {
    "duration": 36,
    "start_time": "2023-03-04T20:31:37.887Z"
   },
   {
    "duration": 92,
    "start_time": "2023-03-04T20:31:37.925Z"
   },
   {
    "duration": 15,
    "start_time": "2023-03-04T20:31:38.018Z"
   },
   {
    "duration": 38,
    "start_time": "2023-03-04T20:31:38.035Z"
   },
   {
    "duration": 31,
    "start_time": "2023-03-04T20:31:38.078Z"
   },
   {
    "duration": 3598,
    "start_time": "2023-03-04T20:31:38.111Z"
   },
   {
    "duration": 4,
    "start_time": "2023-03-04T20:31:41.713Z"
   },
   {
    "duration": 70,
    "start_time": "2023-03-04T20:31:41.718Z"
   },
   {
    "duration": 71,
    "start_time": "2023-03-04T20:31:41.790Z"
   },
   {
    "duration": 45,
    "start_time": "2023-03-04T20:31:41.862Z"
   },
   {
    "duration": 39,
    "start_time": "2023-03-04T20:31:41.909Z"
   },
   {
    "duration": 12,
    "start_time": "2023-03-04T20:31:41.950Z"
   },
   {
    "duration": 27,
    "start_time": "2023-03-04T20:31:41.963Z"
   },
   {
    "duration": 57,
    "start_time": "2023-03-04T20:31:41.992Z"
   },
   {
    "duration": 29,
    "start_time": "2023-03-04T20:31:42.051Z"
   },
   {
    "duration": 28,
    "start_time": "2023-03-04T20:31:42.081Z"
   },
   {
    "duration": 9,
    "start_time": "2023-03-04T20:31:42.110Z"
   },
   {
    "duration": 14,
    "start_time": "2023-03-04T20:31:42.120Z"
   },
   {
    "duration": 47,
    "start_time": "2023-03-04T20:31:42.136Z"
   },
   {
    "duration": 16,
    "start_time": "2023-03-04T20:31:42.185Z"
   },
   {
    "duration": 13,
    "start_time": "2023-03-04T20:31:42.203Z"
   },
   {
    "duration": 12,
    "start_time": "2023-03-04T20:31:42.217Z"
   },
   {
    "duration": 6,
    "start_time": "2023-03-04T20:31:42.230Z"
   },
   {
    "duration": 41,
    "start_time": "2023-03-04T20:31:42.237Z"
   },
   {
    "duration": 8,
    "start_time": "2023-03-04T20:31:42.280Z"
   },
   {
    "duration": 8,
    "start_time": "2023-03-04T20:31:42.289Z"
   },
   {
    "duration": 12,
    "start_time": "2023-03-04T20:31:42.298Z"
   },
   {
    "duration": 13,
    "start_time": "2023-03-04T20:31:42.311Z"
   },
   {
    "duration": 9,
    "start_time": "2023-03-04T20:31:42.325Z"
   },
   {
    "duration": 46,
    "start_time": "2023-03-04T20:31:42.335Z"
   },
   {
    "duration": 20,
    "start_time": "2023-03-04T20:31:42.383Z"
   },
   {
    "duration": 20,
    "start_time": "2023-03-04T20:31:42.405Z"
   },
   {
    "duration": 83,
    "start_time": "2023-03-04T20:31:42.427Z"
   },
   {
    "duration": 55,
    "start_time": "2023-03-04T20:31:42.512Z"
   },
   {
    "duration": 15,
    "start_time": "2023-03-04T20:31:42.579Z"
   },
   {
    "duration": 37,
    "start_time": "2023-03-04T20:31:42.596Z"
   },
   {
    "duration": 44,
    "start_time": "2023-03-04T20:31:42.635Z"
   },
   {
    "duration": 774,
    "start_time": "2023-03-04T20:31:42.682Z"
   },
   {
    "duration": 0,
    "start_time": "2023-03-04T20:31:43.461Z"
   },
   {
    "duration": 0,
    "start_time": "2023-03-04T20:31:43.462Z"
   },
   {
    "duration": 0,
    "start_time": "2023-03-04T20:31:43.463Z"
   },
   {
    "duration": 0,
    "start_time": "2023-03-04T20:31:43.464Z"
   },
   {
    "duration": 0,
    "start_time": "2023-03-04T20:31:43.464Z"
   },
   {
    "duration": 0,
    "start_time": "2023-03-04T20:31:43.465Z"
   },
   {
    "duration": 0,
    "start_time": "2023-03-04T20:31:43.468Z"
   },
   {
    "duration": 7,
    "start_time": "2023-03-04T20:37:10.589Z"
   },
   {
    "duration": 25,
    "start_time": "2023-03-04T20:37:14.876Z"
   },
   {
    "duration": 14,
    "start_time": "2023-03-04T20:49:08.025Z"
   },
   {
    "duration": 12,
    "start_time": "2023-03-04T20:49:09.764Z"
   },
   {
    "duration": 14,
    "start_time": "2023-03-04T20:49:09.933Z"
   },
   {
    "duration": 8,
    "start_time": "2023-03-04T20:49:10.294Z"
   },
   {
    "duration": 10,
    "start_time": "2023-03-04T20:49:10.465Z"
   },
   {
    "duration": 5,
    "start_time": "2023-03-04T20:49:10.802Z"
   },
   {
    "duration": 16,
    "start_time": "2023-03-04T20:49:11.146Z"
   },
   {
    "duration": 5,
    "start_time": "2023-03-04T20:51:40.795Z"
   },
   {
    "duration": 14,
    "start_time": "2023-03-04T20:51:47.498Z"
   },
   {
    "duration": 1240,
    "start_time": "2023-03-04T21:20:59.520Z"
   },
   {
    "duration": 32592,
    "start_time": "2023-03-04T21:21:00.762Z"
   },
   {
    "duration": 934,
    "start_time": "2023-03-04T21:21:33.356Z"
   },
   {
    "duration": 45,
    "start_time": "2023-03-04T21:21:34.292Z"
   },
   {
    "duration": 138,
    "start_time": "2023-03-04T21:21:34.340Z"
   },
   {
    "duration": 277,
    "start_time": "2023-03-04T21:21:34.480Z"
   },
   {
    "duration": 4,
    "start_time": "2023-03-04T21:21:34.758Z"
   },
   {
    "duration": 11,
    "start_time": "2023-03-04T21:21:34.764Z"
   },
   {
    "duration": 38,
    "start_time": "2023-03-04T21:21:34.776Z"
   },
   {
    "duration": 7,
    "start_time": "2023-03-04T21:21:34.816Z"
   },
   {
    "duration": 112,
    "start_time": "2023-03-04T21:21:34.824Z"
   },
   {
    "duration": 43,
    "start_time": "2023-03-04T21:21:34.938Z"
   },
   {
    "duration": 11,
    "start_time": "2023-03-04T21:21:34.983Z"
   },
   {
    "duration": 33,
    "start_time": "2023-03-04T21:21:34.995Z"
   },
   {
    "duration": 100,
    "start_time": "2023-03-04T21:21:35.029Z"
   },
   {
    "duration": 130,
    "start_time": "2023-03-04T21:21:35.130Z"
   },
   {
    "duration": 61,
    "start_time": "2023-03-04T21:21:35.261Z"
   },
   {
    "duration": 29,
    "start_time": "2023-03-04T21:21:35.323Z"
   },
   {
    "duration": 47,
    "start_time": "2023-03-04T21:21:35.354Z"
   },
   {
    "duration": 42,
    "start_time": "2023-03-04T21:21:35.403Z"
   },
   {
    "duration": 45,
    "start_time": "2023-03-04T21:21:35.446Z"
   },
   {
    "duration": 32,
    "start_time": "2023-03-04T21:21:35.493Z"
   },
   {
    "duration": 40,
    "start_time": "2023-03-04T21:21:35.527Z"
   },
   {
    "duration": 28,
    "start_time": "2023-03-04T21:21:35.568Z"
   },
   {
    "duration": 24,
    "start_time": "2023-03-04T21:21:35.598Z"
   },
   {
    "duration": 12,
    "start_time": "2023-03-04T21:21:35.624Z"
   },
   {
    "duration": 3110,
    "start_time": "2023-03-04T21:21:35.637Z"
   },
   {
    "duration": 4,
    "start_time": "2023-03-04T21:21:38.751Z"
   },
   {
    "duration": 53,
    "start_time": "2023-03-04T21:21:38.756Z"
   },
   {
    "duration": 40,
    "start_time": "2023-03-04T21:21:38.811Z"
   },
   {
    "duration": 67,
    "start_time": "2023-03-04T21:21:38.852Z"
   },
   {
    "duration": 18,
    "start_time": "2023-03-04T21:21:38.921Z"
   },
   {
    "duration": 9,
    "start_time": "2023-03-04T21:21:38.941Z"
   },
   {
    "duration": 9,
    "start_time": "2023-03-04T21:21:38.951Z"
   },
   {
    "duration": 73,
    "start_time": "2023-03-04T21:21:38.961Z"
   },
   {
    "duration": 10,
    "start_time": "2023-03-04T21:21:39.035Z"
   },
   {
    "duration": 22,
    "start_time": "2023-03-04T21:21:39.047Z"
   },
   {
    "duration": 27,
    "start_time": "2023-03-04T21:21:39.071Z"
   },
   {
    "duration": 12,
    "start_time": "2023-03-04T21:21:39.099Z"
   },
   {
    "duration": 4,
    "start_time": "2023-03-04T21:21:39.113Z"
   },
   {
    "duration": 10,
    "start_time": "2023-03-04T21:21:39.118Z"
   },
   {
    "duration": 9,
    "start_time": "2023-03-04T21:21:39.129Z"
   },
   {
    "duration": 12,
    "start_time": "2023-03-04T21:21:39.139Z"
   },
   {
    "duration": 6,
    "start_time": "2023-03-04T21:21:39.153Z"
   },
   {
    "duration": 30,
    "start_time": "2023-03-04T21:21:39.161Z"
   },
   {
    "duration": 4,
    "start_time": "2023-03-04T21:21:39.193Z"
   },
   {
    "duration": 7,
    "start_time": "2023-03-04T21:21:39.199Z"
   },
   {
    "duration": 9,
    "start_time": "2023-03-04T21:21:39.208Z"
   },
   {
    "duration": 13,
    "start_time": "2023-03-04T21:21:39.219Z"
   },
   {
    "duration": 8,
    "start_time": "2023-03-04T21:21:39.234Z"
   },
   {
    "duration": 53,
    "start_time": "2023-03-04T21:21:39.244Z"
   },
   {
    "duration": 2,
    "start_time": "2023-03-04T21:21:39.298Z"
   },
   {
    "duration": 15,
    "start_time": "2023-03-04T21:21:39.301Z"
   },
   {
    "duration": 5,
    "start_time": "2023-03-04T21:21:39.318Z"
   },
   {
    "duration": 16,
    "start_time": "2023-03-04T21:21:39.324Z"
   },
   {
    "duration": 7,
    "start_time": "2023-03-04T21:21:39.341Z"
   },
   {
    "duration": 47,
    "start_time": "2023-03-04T21:21:39.350Z"
   },
   {
    "duration": 14,
    "start_time": "2023-03-04T21:21:39.399Z"
   },
   {
    "duration": 576,
    "start_time": "2023-03-04T21:21:39.415Z"
   },
   {
    "duration": 0,
    "start_time": "2023-03-04T21:21:39.992Z"
   },
   {
    "duration": 0,
    "start_time": "2023-03-04T21:21:39.994Z"
   },
   {
    "duration": 0,
    "start_time": "2023-03-04T21:21:39.995Z"
   },
   {
    "duration": 0,
    "start_time": "2023-03-04T21:21:39.996Z"
   },
   {
    "duration": 0,
    "start_time": "2023-03-04T21:21:39.997Z"
   },
   {
    "duration": 0,
    "start_time": "2023-03-04T21:21:39.998Z"
   },
   {
    "duration": 0,
    "start_time": "2023-03-04T21:21:39.999Z"
   },
   {
    "duration": 437,
    "start_time": "2023-03-04T21:21:52.231Z"
   },
   {
    "duration": 1209,
    "start_time": "2023-03-04T21:21:59.593Z"
   },
   {
    "duration": 2633,
    "start_time": "2023-03-04T21:22:00.804Z"
   },
   {
    "duration": 579,
    "start_time": "2023-03-04T21:22:03.439Z"
   },
   {
    "duration": 46,
    "start_time": "2023-03-04T21:22:04.020Z"
   },
   {
    "duration": 106,
    "start_time": "2023-03-04T21:22:04.068Z"
   },
   {
    "duration": 284,
    "start_time": "2023-03-04T21:22:04.176Z"
   },
   {
    "duration": 5,
    "start_time": "2023-03-04T21:22:04.462Z"
   },
   {
    "duration": 22,
    "start_time": "2023-03-04T21:22:04.469Z"
   },
   {
    "duration": 26,
    "start_time": "2023-03-04T21:22:04.493Z"
   },
   {
    "duration": 5,
    "start_time": "2023-03-04T21:22:04.521Z"
   },
   {
    "duration": 109,
    "start_time": "2023-03-04T21:22:04.527Z"
   },
   {
    "duration": 54,
    "start_time": "2023-03-04T21:22:04.638Z"
   },
   {
    "duration": 7,
    "start_time": "2023-03-04T21:22:04.694Z"
   },
   {
    "duration": 36,
    "start_time": "2023-03-04T21:22:04.703Z"
   },
   {
    "duration": 105,
    "start_time": "2023-03-04T21:22:04.741Z"
   },
   {
    "duration": 144,
    "start_time": "2023-03-04T21:22:04.848Z"
   },
   {
    "duration": 55,
    "start_time": "2023-03-04T21:22:04.994Z"
   },
   {
    "duration": 46,
    "start_time": "2023-03-04T21:22:05.050Z"
   },
   {
    "duration": 33,
    "start_time": "2023-03-04T21:22:05.098Z"
   },
   {
    "duration": 39,
    "start_time": "2023-03-04T21:22:05.133Z"
   },
   {
    "duration": 32,
    "start_time": "2023-03-04T21:22:05.191Z"
   },
   {
    "duration": 31,
    "start_time": "2023-03-04T21:22:05.225Z"
   },
   {
    "duration": 57,
    "start_time": "2023-03-04T21:22:05.257Z"
   },
   {
    "duration": 13,
    "start_time": "2023-03-04T21:22:05.316Z"
   },
   {
    "duration": 17,
    "start_time": "2023-03-04T21:22:05.331Z"
   },
   {
    "duration": 29,
    "start_time": "2023-03-04T21:22:05.350Z"
   },
   {
    "duration": 3125,
    "start_time": "2023-03-04T21:22:05.381Z"
   },
   {
    "duration": 4,
    "start_time": "2023-03-04T21:22:08.509Z"
   },
   {
    "duration": 51,
    "start_time": "2023-03-04T21:22:08.515Z"
   },
   {
    "duration": 54,
    "start_time": "2023-03-04T21:22:08.568Z"
   },
   {
    "duration": 35,
    "start_time": "2023-03-04T21:22:08.623Z"
   },
   {
    "duration": 40,
    "start_time": "2023-03-04T21:22:08.659Z"
   },
   {
    "duration": 9,
    "start_time": "2023-03-04T21:22:08.701Z"
   },
   {
    "duration": 12,
    "start_time": "2023-03-04T21:22:08.711Z"
   },
   {
    "duration": 65,
    "start_time": "2023-03-04T21:22:08.724Z"
   },
   {
    "duration": 10,
    "start_time": "2023-03-04T21:22:08.790Z"
   },
   {
    "duration": 37,
    "start_time": "2023-03-04T21:22:08.801Z"
   },
   {
    "duration": 8,
    "start_time": "2023-03-04T21:22:08.840Z"
   },
   {
    "duration": 11,
    "start_time": "2023-03-04T21:22:08.849Z"
   },
   {
    "duration": 4,
    "start_time": "2023-03-04T21:22:08.861Z"
   },
   {
    "duration": 24,
    "start_time": "2023-03-04T21:22:08.866Z"
   },
   {
    "duration": 19,
    "start_time": "2023-03-04T21:22:08.891Z"
   },
   {
    "duration": 36,
    "start_time": "2023-03-04T21:22:08.911Z"
   },
   {
    "duration": 8,
    "start_time": "2023-03-04T21:22:08.948Z"
   },
   {
    "duration": 40,
    "start_time": "2023-03-04T21:22:08.957Z"
   },
   {
    "duration": 28,
    "start_time": "2023-03-04T21:22:08.999Z"
   },
   {
    "duration": 32,
    "start_time": "2023-03-04T21:22:09.028Z"
   },
   {
    "duration": 26,
    "start_time": "2023-03-04T21:22:09.061Z"
   },
   {
    "duration": 21,
    "start_time": "2023-03-04T21:22:09.089Z"
   },
   {
    "duration": 22,
    "start_time": "2023-03-04T21:22:09.112Z"
   },
   {
    "duration": 40,
    "start_time": "2023-03-04T21:22:09.135Z"
   },
   {
    "duration": 2,
    "start_time": "2023-03-04T21:22:09.177Z"
   },
   {
    "duration": 14,
    "start_time": "2023-03-04T21:22:09.180Z"
   },
   {
    "duration": 6,
    "start_time": "2023-03-04T21:22:09.195Z"
   },
   {
    "duration": 15,
    "start_time": "2023-03-04T21:22:09.202Z"
   },
   {
    "duration": 4,
    "start_time": "2023-03-04T21:22:09.219Z"
   },
   {
    "duration": 20,
    "start_time": "2023-03-04T21:22:09.224Z"
   },
   {
    "duration": 15,
    "start_time": "2023-03-04T21:22:09.245Z"
   },
   {
    "duration": 1585,
    "start_time": "2023-03-04T21:22:09.262Z"
   },
   {
    "duration": 17,
    "start_time": "2023-03-04T21:22:10.849Z"
   },
   {
    "duration": 28,
    "start_time": "2023-03-04T21:22:10.868Z"
   },
   {
    "duration": 7,
    "start_time": "2023-03-04T21:22:10.897Z"
   },
   {
    "duration": 8,
    "start_time": "2023-03-04T21:22:10.906Z"
   },
   {
    "duration": 8,
    "start_time": "2023-03-04T21:22:10.916Z"
   },
   {
    "duration": 6,
    "start_time": "2023-03-04T21:22:10.925Z"
   },
   {
    "duration": 15,
    "start_time": "2023-03-04T21:22:10.933Z"
   },
   {
    "duration": 34,
    "start_time": "2023-03-04T21:29:20.799Z"
   },
   {
    "duration": 3,
    "start_time": "2023-03-04T21:31:14.404Z"
   },
   {
    "duration": 2,
    "start_time": "2023-03-04T21:31:17.495Z"
   },
   {
    "duration": 2,
    "start_time": "2023-03-04T21:31:20.898Z"
   },
   {
    "duration": 2,
    "start_time": "2023-03-04T21:31:26.679Z"
   },
   {
    "duration": 1471,
    "start_time": "2023-03-04T21:54:34.482Z"
   },
   {
    "duration": 3672,
    "start_time": "2023-03-04T21:54:35.955Z"
   },
   {
    "duration": 571,
    "start_time": "2023-03-04T21:54:39.630Z"
   },
   {
    "duration": 45,
    "start_time": "2023-03-04T21:54:40.203Z"
   },
   {
    "duration": 102,
    "start_time": "2023-03-04T21:54:40.249Z"
   },
   {
    "duration": 269,
    "start_time": "2023-03-04T21:54:40.353Z"
   },
   {
    "duration": 4,
    "start_time": "2023-03-04T21:54:40.624Z"
   },
   {
    "duration": 16,
    "start_time": "2023-03-04T21:54:40.630Z"
   },
   {
    "duration": 41,
    "start_time": "2023-03-04T21:54:40.647Z"
   },
   {
    "duration": 10,
    "start_time": "2023-03-04T21:54:40.691Z"
   },
   {
    "duration": 112,
    "start_time": "2023-03-04T21:54:40.703Z"
   },
   {
    "duration": 42,
    "start_time": "2023-03-04T21:54:40.817Z"
   },
   {
    "duration": 11,
    "start_time": "2023-03-04T21:54:40.861Z"
   },
   {
    "duration": 49,
    "start_time": "2023-03-04T21:54:40.873Z"
   },
   {
    "duration": 93,
    "start_time": "2023-03-04T21:54:40.923Z"
   },
   {
    "duration": 127,
    "start_time": "2023-03-04T21:54:41.017Z"
   },
   {
    "duration": 57,
    "start_time": "2023-03-04T21:54:41.145Z"
   },
   {
    "duration": 36,
    "start_time": "2023-03-04T21:54:41.203Z"
   },
   {
    "duration": 39,
    "start_time": "2023-03-04T21:54:41.241Z"
   },
   {
    "duration": 61,
    "start_time": "2023-03-04T21:54:41.282Z"
   },
   {
    "duration": 32,
    "start_time": "2023-03-04T21:54:41.345Z"
   },
   {
    "duration": 41,
    "start_time": "2023-03-04T21:54:41.379Z"
   },
   {
    "duration": 39,
    "start_time": "2023-03-04T21:54:41.422Z"
   },
   {
    "duration": 12,
    "start_time": "2023-03-04T21:54:41.462Z"
   },
   {
    "duration": 14,
    "start_time": "2023-03-04T21:54:41.490Z"
   },
   {
    "duration": 12,
    "start_time": "2023-03-04T21:54:41.505Z"
   },
   {
    "duration": 3041,
    "start_time": "2023-03-04T21:54:41.519Z"
   },
   {
    "duration": 5,
    "start_time": "2023-03-04T21:54:44.564Z"
   },
   {
    "duration": 59,
    "start_time": "2023-03-04T21:54:44.571Z"
   },
   {
    "duration": 74,
    "start_time": "2023-03-04T21:54:44.632Z"
   },
   {
    "duration": 34,
    "start_time": "2023-03-04T21:54:44.707Z"
   },
   {
    "duration": 49,
    "start_time": "2023-03-04T21:54:44.743Z"
   },
   {
    "duration": 18,
    "start_time": "2023-03-04T21:54:44.793Z"
   },
   {
    "duration": 12,
    "start_time": "2023-03-04T21:54:44.812Z"
   },
   {
    "duration": 10,
    "start_time": "2023-03-04T21:54:44.826Z"
   },
   {
    "duration": 95,
    "start_time": "2023-03-04T21:54:44.838Z"
   },
   {
    "duration": 11,
    "start_time": "2023-03-04T21:54:44.935Z"
   },
   {
    "duration": 24,
    "start_time": "2023-03-04T21:54:44.947Z"
   },
   {
    "duration": 26,
    "start_time": "2023-03-04T21:54:44.973Z"
   },
   {
    "duration": 39,
    "start_time": "2023-03-04T21:54:45.000Z"
   },
   {
    "duration": 14,
    "start_time": "2023-03-04T21:54:45.041Z"
   },
   {
    "duration": 9,
    "start_time": "2023-03-04T21:54:45.056Z"
   },
   {
    "duration": 10,
    "start_time": "2023-03-04T21:54:45.066Z"
   },
   {
    "duration": 5,
    "start_time": "2023-03-04T21:54:45.077Z"
   },
   {
    "duration": 5,
    "start_time": "2023-03-04T21:54:45.083Z"
   },
   {
    "duration": 4,
    "start_time": "2023-03-04T21:54:45.089Z"
   },
   {
    "duration": 7,
    "start_time": "2023-03-04T21:54:45.094Z"
   },
   {
    "duration": 11,
    "start_time": "2023-03-04T21:54:45.102Z"
   },
   {
    "duration": 14,
    "start_time": "2023-03-04T21:54:45.114Z"
   },
   {
    "duration": 124,
    "start_time": "2023-03-04T21:54:45.130Z"
   },
   {
    "duration": 8,
    "start_time": "2023-03-04T21:54:45.256Z"
   },
   {
    "duration": 34,
    "start_time": "2023-03-04T21:54:45.265Z"
   },
   {
    "duration": 2,
    "start_time": "2023-03-04T21:54:45.301Z"
   },
   {
    "duration": 23,
    "start_time": "2023-03-04T21:54:45.304Z"
   },
   {
    "duration": 5,
    "start_time": "2023-03-04T21:54:45.329Z"
   },
   {
    "duration": 22,
    "start_time": "2023-03-04T21:54:45.335Z"
   },
   {
    "duration": 5,
    "start_time": "2023-03-04T21:54:45.358Z"
   },
   {
    "duration": 39,
    "start_time": "2023-03-04T21:54:45.364Z"
   },
   {
    "duration": 18,
    "start_time": "2023-03-04T21:54:45.404Z"
   },
   {
    "duration": 2082,
    "start_time": "2023-03-04T21:54:45.424Z"
   },
   {
    "duration": 13,
    "start_time": "2023-03-04T21:54:47.507Z"
   },
   {
    "duration": 12,
    "start_time": "2023-03-04T21:54:47.522Z"
   },
   {
    "duration": 7,
    "start_time": "2023-03-04T21:54:47.535Z"
   },
   {
    "duration": 9,
    "start_time": "2023-03-04T21:54:47.543Z"
   },
   {
    "duration": 38,
    "start_time": "2023-03-04T21:54:47.554Z"
   },
   {
    "duration": 8,
    "start_time": "2023-03-04T21:54:47.593Z"
   },
   {
    "duration": 19,
    "start_time": "2023-03-04T21:54:47.602Z"
   },
   {
    "duration": 1225,
    "start_time": "2023-03-04T21:58:38.885Z"
   },
   {
    "duration": 2578,
    "start_time": "2023-03-04T21:58:40.111Z"
   },
   {
    "duration": 577,
    "start_time": "2023-03-04T21:58:42.692Z"
   },
   {
    "duration": 41,
    "start_time": "2023-03-04T21:58:43.271Z"
   },
   {
    "duration": 102,
    "start_time": "2023-03-04T21:58:43.314Z"
   },
   {
    "duration": 293,
    "start_time": "2023-03-04T21:58:43.418Z"
   },
   {
    "duration": 5,
    "start_time": "2023-03-04T21:58:43.712Z"
   },
   {
    "duration": 12,
    "start_time": "2023-03-04T21:58:43.718Z"
   },
   {
    "duration": 27,
    "start_time": "2023-03-04T21:58:43.731Z"
   },
   {
    "duration": 6,
    "start_time": "2023-03-04T21:58:43.790Z"
   },
   {
    "duration": 122,
    "start_time": "2023-03-04T21:58:43.797Z"
   },
   {
    "duration": 42,
    "start_time": "2023-03-04T21:58:43.921Z"
   },
   {
    "duration": 29,
    "start_time": "2023-03-04T21:58:43.964Z"
   },
   {
    "duration": 33,
    "start_time": "2023-03-04T21:58:43.995Z"
   },
   {
    "duration": 106,
    "start_time": "2023-03-04T21:58:44.030Z"
   },
   {
    "duration": 138,
    "start_time": "2023-03-04T21:58:44.138Z"
   },
   {
    "duration": 63,
    "start_time": "2023-03-04T21:58:44.279Z"
   },
   {
    "duration": 47,
    "start_time": "2023-03-04T21:58:44.344Z"
   },
   {
    "duration": 35,
    "start_time": "2023-03-04T21:58:44.393Z"
   },
   {
    "duration": 54,
    "start_time": "2023-03-04T21:58:44.429Z"
   },
   {
    "duration": 37,
    "start_time": "2023-03-04T21:58:44.484Z"
   },
   {
    "duration": 31,
    "start_time": "2023-03-04T21:58:44.523Z"
   },
   {
    "duration": 61,
    "start_time": "2023-03-04T21:58:44.556Z"
   },
   {
    "duration": 13,
    "start_time": "2023-03-04T21:58:44.618Z"
   },
   {
    "duration": 20,
    "start_time": "2023-03-04T21:58:44.632Z"
   },
   {
    "duration": 17,
    "start_time": "2023-03-04T21:58:44.653Z"
   },
   {
    "duration": 3843,
    "start_time": "2023-03-04T21:58:44.672Z"
   },
   {
    "duration": 4,
    "start_time": "2023-03-04T21:58:48.520Z"
   },
   {
    "duration": 99,
    "start_time": "2023-03-04T21:58:48.525Z"
   },
   {
    "duration": 92,
    "start_time": "2023-03-04T21:58:48.626Z"
   },
   {
    "duration": 35,
    "start_time": "2023-03-04T21:58:48.720Z"
   },
   {
    "duration": 61,
    "start_time": "2023-03-04T21:58:48.756Z"
   },
   {
    "duration": 16,
    "start_time": "2023-03-04T21:58:48.819Z"
   },
   {
    "duration": 8,
    "start_time": "2023-03-04T21:58:48.837Z"
   },
   {
    "duration": 7,
    "start_time": "2023-03-04T21:58:48.847Z"
   },
   {
    "duration": 80,
    "start_time": "2023-03-04T21:58:48.855Z"
   },
   {
    "duration": 10,
    "start_time": "2023-03-04T21:58:48.936Z"
   },
   {
    "duration": 21,
    "start_time": "2023-03-04T21:58:48.947Z"
   },
   {
    "duration": 29,
    "start_time": "2023-03-04T21:58:48.970Z"
   },
   {
    "duration": 13,
    "start_time": "2023-03-04T21:58:49.000Z"
   },
   {
    "duration": 4,
    "start_time": "2023-03-04T21:58:49.014Z"
   },
   {
    "duration": 8,
    "start_time": "2023-03-04T21:58:49.019Z"
   },
   {
    "duration": 9,
    "start_time": "2023-03-04T21:58:49.028Z"
   },
   {
    "duration": 15,
    "start_time": "2023-03-04T21:58:49.038Z"
   },
   {
    "duration": 5,
    "start_time": "2023-03-04T21:58:49.055Z"
   },
   {
    "duration": 30,
    "start_time": "2023-03-04T21:58:49.061Z"
   },
   {
    "duration": 4,
    "start_time": "2023-03-04T21:58:49.092Z"
   },
   {
    "duration": 9,
    "start_time": "2023-03-04T21:58:49.097Z"
   },
   {
    "duration": 10,
    "start_time": "2023-03-04T21:58:49.108Z"
   },
   {
    "duration": 14,
    "start_time": "2023-03-04T21:58:49.119Z"
   },
   {
    "duration": 8,
    "start_time": "2023-03-04T21:58:49.134Z"
   },
   {
    "duration": 57,
    "start_time": "2023-03-04T21:58:49.144Z"
   },
   {
    "duration": 3,
    "start_time": "2023-03-04T21:58:49.202Z"
   },
   {
    "duration": 78,
    "start_time": "2023-03-04T21:58:49.206Z"
   },
   {
    "duration": 5,
    "start_time": "2023-03-04T21:58:49.285Z"
   },
   {
    "duration": 14,
    "start_time": "2023-03-04T21:58:49.291Z"
   },
   {
    "duration": 5,
    "start_time": "2023-03-04T21:58:49.307Z"
   },
   {
    "duration": 30,
    "start_time": "2023-03-04T21:58:49.313Z"
   },
   {
    "duration": 16,
    "start_time": "2023-03-04T21:58:49.345Z"
   },
   {
    "duration": 1865,
    "start_time": "2023-03-04T21:58:49.362Z"
   },
   {
    "duration": 17,
    "start_time": "2023-03-04T21:58:51.229Z"
   },
   {
    "duration": 13,
    "start_time": "2023-03-04T21:58:51.248Z"
   },
   {
    "duration": 32,
    "start_time": "2023-03-04T21:58:51.263Z"
   },
   {
    "duration": 10,
    "start_time": "2023-03-04T21:58:51.297Z"
   },
   {
    "duration": 10,
    "start_time": "2023-03-04T21:58:51.309Z"
   },
   {
    "duration": 6,
    "start_time": "2023-03-04T21:58:51.320Z"
   },
   {
    "duration": 21,
    "start_time": "2023-03-04T21:58:51.327Z"
   },
   {
    "duration": 4,
    "start_time": "2023-03-04T22:21:37.147Z"
   },
   {
    "duration": 5,
    "start_time": "2023-03-04T22:22:05.327Z"
   },
   {
    "duration": 13,
    "start_time": "2023-03-04T22:24:03.346Z"
   },
   {
    "duration": 1185,
    "start_time": "2023-03-04T22:26:23.440Z"
   },
   {
    "duration": 3081,
    "start_time": "2023-03-04T22:26:24.627Z"
   },
   {
    "duration": 997,
    "start_time": "2023-03-04T22:26:27.710Z"
   },
   {
    "duration": 45,
    "start_time": "2023-03-04T22:26:28.709Z"
   },
   {
    "duration": 115,
    "start_time": "2023-03-04T22:26:28.755Z"
   },
   {
    "duration": 343,
    "start_time": "2023-03-04T22:26:28.871Z"
   },
   {
    "duration": 5,
    "start_time": "2023-03-04T22:26:29.216Z"
   },
   {
    "duration": 11,
    "start_time": "2023-03-04T22:26:29.223Z"
   },
   {
    "duration": 30,
    "start_time": "2023-03-04T22:26:29.236Z"
   },
   {
    "duration": 7,
    "start_time": "2023-03-04T22:26:29.291Z"
   },
   {
    "duration": 124,
    "start_time": "2023-03-04T22:26:29.300Z"
   },
   {
    "duration": 48,
    "start_time": "2023-03-04T22:26:29.426Z"
   },
   {
    "duration": 8,
    "start_time": "2023-03-04T22:26:29.490Z"
   },
   {
    "duration": 39,
    "start_time": "2023-03-04T22:26:29.499Z"
   },
   {
    "duration": 126,
    "start_time": "2023-03-04T22:26:29.540Z"
   },
   {
    "duration": 166,
    "start_time": "2023-03-04T22:26:29.668Z"
   },
   {
    "duration": 68,
    "start_time": "2023-03-04T22:26:29.836Z"
   },
   {
    "duration": 35,
    "start_time": "2023-03-04T22:26:29.906Z"
   },
   {
    "duration": 55,
    "start_time": "2023-03-04T22:26:29.944Z"
   },
   {
    "duration": 16,
    "start_time": "2023-03-04T22:26:30.001Z"
   },
   {
    "duration": 48,
    "start_time": "2023-03-04T22:26:30.019Z"
   },
   {
    "duration": 58,
    "start_time": "2023-03-04T22:26:30.069Z"
   },
   {
    "duration": 37,
    "start_time": "2023-03-04T22:26:30.129Z"
   },
   {
    "duration": 71,
    "start_time": "2023-03-04T22:26:30.168Z"
   },
   {
    "duration": 15,
    "start_time": "2023-03-04T22:26:30.241Z"
   },
   {
    "duration": 34,
    "start_time": "2023-03-04T22:26:30.258Z"
   },
   {
    "duration": 26,
    "start_time": "2023-03-04T22:26:30.294Z"
   },
   {
    "duration": 3319,
    "start_time": "2023-03-04T22:26:30.323Z"
   },
   {
    "duration": 4,
    "start_time": "2023-03-04T22:26:33.644Z"
   },
   {
    "duration": 65,
    "start_time": "2023-03-04T22:26:33.649Z"
   },
   {
    "duration": 77,
    "start_time": "2023-03-04T22:26:33.716Z"
   },
   {
    "duration": 49,
    "start_time": "2023-03-04T22:26:33.795Z"
   },
   {
    "duration": 60,
    "start_time": "2023-03-04T22:26:33.846Z"
   },
   {
    "duration": 20,
    "start_time": "2023-03-04T22:26:33.908Z"
   },
   {
    "duration": 9,
    "start_time": "2023-03-04T22:26:33.930Z"
   },
   {
    "duration": 9,
    "start_time": "2023-03-04T22:26:33.941Z"
   },
   {
    "duration": 89,
    "start_time": "2023-03-04T22:26:33.951Z"
   },
   {
    "duration": 21,
    "start_time": "2023-03-04T22:26:34.042Z"
   },
   {
    "duration": 35,
    "start_time": "2023-03-04T22:26:34.065Z"
   },
   {
    "duration": 25,
    "start_time": "2023-03-04T22:26:34.102Z"
   },
   {
    "duration": 11,
    "start_time": "2023-03-04T22:26:34.129Z"
   },
   {
    "duration": 15,
    "start_time": "2023-03-04T22:26:34.141Z"
   },
   {
    "duration": 6,
    "start_time": "2023-03-04T22:26:34.158Z"
   },
   {
    "duration": 7,
    "start_time": "2023-03-04T22:26:34.192Z"
   },
   {
    "duration": 21,
    "start_time": "2023-03-04T22:26:34.201Z"
   },
   {
    "duration": 11,
    "start_time": "2023-03-04T22:26:34.224Z"
   },
   {
    "duration": 10,
    "start_time": "2023-03-04T22:26:34.237Z"
   },
   {
    "duration": 14,
    "start_time": "2023-03-04T22:26:34.249Z"
   },
   {
    "duration": 9,
    "start_time": "2023-03-04T22:26:34.265Z"
   },
   {
    "duration": 25,
    "start_time": "2023-03-04T22:26:34.292Z"
   },
   {
    "duration": 14,
    "start_time": "2023-03-04T22:26:34.319Z"
   },
   {
    "duration": 7,
    "start_time": "2023-03-04T22:26:34.334Z"
   },
   {
    "duration": 16,
    "start_time": "2023-03-04T22:26:34.342Z"
   },
   {
    "duration": 34,
    "start_time": "2023-03-04T22:26:34.360Z"
   },
   {
    "duration": 25,
    "start_time": "2023-03-04T22:26:34.395Z"
   },
   {
    "duration": 19,
    "start_time": "2023-03-04T22:26:34.422Z"
   },
   {
    "duration": 2047,
    "start_time": "2023-03-04T22:26:34.442Z"
   },
   {
    "duration": 18,
    "start_time": "2023-03-04T22:26:36.491Z"
   },
   {
    "duration": 18,
    "start_time": "2023-03-04T22:26:36.511Z"
   },
   {
    "duration": 8,
    "start_time": "2023-03-04T22:26:36.530Z"
   },
   {
    "duration": 8,
    "start_time": "2023-03-04T22:26:36.539Z"
   },
   {
    "duration": 10,
    "start_time": "2023-03-04T22:26:36.549Z"
   },
   {
    "duration": 34,
    "start_time": "2023-03-04T22:26:36.561Z"
   },
   {
    "duration": 20,
    "start_time": "2023-03-04T22:26:36.597Z"
   },
   {
    "duration": 26,
    "start_time": "2023-03-04T22:27:23.471Z"
   },
   {
    "duration": 35,
    "start_time": "2023-03-04T22:27:54.995Z"
   },
   {
    "duration": 29,
    "start_time": "2023-03-04T22:28:01.425Z"
   },
   {
    "duration": 15,
    "start_time": "2023-03-04T22:28:15.269Z"
   },
   {
    "duration": 42,
    "start_time": "2023-03-04T22:28:50.910Z"
   },
   {
    "duration": 47,
    "start_time": "2023-03-04T22:29:11.640Z"
   },
   {
    "duration": 2,
    "start_time": "2023-03-04T22:30:14.915Z"
   },
   {
    "duration": 1168,
    "start_time": "2023-03-04T22:30:21.325Z"
   },
   {
    "duration": 2563,
    "start_time": "2023-03-04T22:30:22.494Z"
   },
   {
    "duration": 591,
    "start_time": "2023-03-04T22:30:25.059Z"
   },
   {
    "duration": 46,
    "start_time": "2023-03-04T22:30:25.652Z"
   },
   {
    "duration": 104,
    "start_time": "2023-03-04T22:30:25.700Z"
   },
   {
    "duration": 314,
    "start_time": "2023-03-04T22:30:25.806Z"
   },
   {
    "duration": 4,
    "start_time": "2023-03-04T22:30:26.121Z"
   },
   {
    "duration": 12,
    "start_time": "2023-03-04T22:30:26.127Z"
   },
   {
    "duration": 28,
    "start_time": "2023-03-04T22:30:26.140Z"
   },
   {
    "duration": 5,
    "start_time": "2023-03-04T22:30:26.170Z"
   },
   {
    "duration": 125,
    "start_time": "2023-03-04T22:30:26.176Z"
   },
   {
    "duration": 41,
    "start_time": "2023-03-04T22:30:26.303Z"
   },
   {
    "duration": 5,
    "start_time": "2023-03-04T22:30:26.346Z"
   },
   {
    "duration": 66,
    "start_time": "2023-03-04T22:30:26.352Z"
   },
   {
    "duration": 227,
    "start_time": "2023-03-04T22:30:26.420Z"
   },
   {
    "duration": 143,
    "start_time": "2023-03-04T22:30:26.690Z"
   },
   {
    "duration": 60,
    "start_time": "2023-03-04T22:30:26.835Z"
   },
   {
    "duration": 30,
    "start_time": "2023-03-04T22:30:26.897Z"
   },
   {
    "duration": 30,
    "start_time": "2023-03-04T22:30:26.929Z"
   },
   {
    "duration": 3,
    "start_time": "2023-03-04T22:30:26.960Z"
   },
   {
    "duration": 61,
    "start_time": "2023-03-04T22:30:26.964Z"
   },
   {
    "duration": 31,
    "start_time": "2023-03-04T22:30:27.027Z"
   },
   {
    "duration": 48,
    "start_time": "2023-03-04T22:30:27.060Z"
   },
   {
    "duration": 41,
    "start_time": "2023-03-04T22:30:27.109Z"
   },
   {
    "duration": 13,
    "start_time": "2023-03-04T22:30:27.151Z"
   },
   {
    "duration": 31,
    "start_time": "2023-03-04T22:30:27.165Z"
   },
   {
    "duration": 21,
    "start_time": "2023-03-04T22:30:27.197Z"
   },
   {
    "duration": 3192,
    "start_time": "2023-03-04T22:30:27.221Z"
   },
   {
    "duration": 4,
    "start_time": "2023-03-04T22:30:30.414Z"
   },
   {
    "duration": 84,
    "start_time": "2023-03-04T22:30:30.420Z"
   },
   {
    "duration": 44,
    "start_time": "2023-03-04T22:30:30.506Z"
   },
   {
    "duration": 66,
    "start_time": "2023-03-04T22:30:30.552Z"
   },
   {
    "duration": 37,
    "start_time": "2023-03-04T22:30:30.619Z"
   },
   {
    "duration": 37,
    "start_time": "2023-03-04T22:30:30.658Z"
   },
   {
    "duration": 11,
    "start_time": "2023-03-04T22:30:30.696Z"
   },
   {
    "duration": 32,
    "start_time": "2023-03-04T22:30:30.708Z"
   },
   {
    "duration": 51,
    "start_time": "2023-03-04T22:30:30.741Z"
   },
   {
    "duration": 14,
    "start_time": "2023-03-04T22:30:30.794Z"
   },
   {
    "duration": 36,
    "start_time": "2023-03-04T22:30:30.810Z"
   },
   {
    "duration": 21,
    "start_time": "2023-03-04T22:30:30.848Z"
   },
   {
    "duration": 23,
    "start_time": "2023-03-04T22:30:30.871Z"
   },
   {
    "duration": 27,
    "start_time": "2023-03-04T22:30:30.895Z"
   },
   {
    "duration": 41,
    "start_time": "2023-03-04T22:30:30.923Z"
   },
   {
    "duration": 19,
    "start_time": "2023-03-04T22:30:30.966Z"
   },
   {
    "duration": 19,
    "start_time": "2023-03-04T22:30:30.987Z"
   },
   {
    "duration": 29,
    "start_time": "2023-03-04T22:30:31.008Z"
   },
   {
    "duration": 42,
    "start_time": "2023-03-04T22:30:31.039Z"
   },
   {
    "duration": 8,
    "start_time": "2023-03-04T22:30:31.083Z"
   },
   {
    "duration": 39,
    "start_time": "2023-03-04T22:30:31.093Z"
   },
   {
    "duration": 12,
    "start_time": "2023-03-04T22:30:31.134Z"
   },
   {
    "duration": 6,
    "start_time": "2023-03-04T22:30:31.148Z"
   },
   {
    "duration": 22,
    "start_time": "2023-03-04T22:30:31.155Z"
   },
   {
    "duration": 8,
    "start_time": "2023-03-04T22:30:31.178Z"
   },
   {
    "duration": 22,
    "start_time": "2023-03-04T22:30:31.191Z"
   },
   {
    "duration": 18,
    "start_time": "2023-03-04T22:30:31.215Z"
   },
   {
    "duration": 1907,
    "start_time": "2023-03-04T22:30:31.234Z"
   },
   {
    "duration": 14,
    "start_time": "2023-03-04T22:30:33.142Z"
   },
   {
    "duration": 12,
    "start_time": "2023-03-04T22:30:33.158Z"
   },
   {
    "duration": 24,
    "start_time": "2023-03-04T22:30:33.171Z"
   },
   {
    "duration": 9,
    "start_time": "2023-03-04T22:30:33.196Z"
   },
   {
    "duration": 9,
    "start_time": "2023-03-04T22:30:33.206Z"
   },
   {
    "duration": 5,
    "start_time": "2023-03-04T22:30:33.217Z"
   },
   {
    "duration": 18,
    "start_time": "2023-03-04T22:30:33.223Z"
   },
   {
    "duration": 10,
    "start_time": "2023-03-04T22:31:36.272Z"
   },
   {
    "duration": 10,
    "start_time": "2023-03-04T22:31:57.789Z"
   },
   {
    "duration": 20,
    "start_time": "2023-03-04T22:32:10.080Z"
   },
   {
    "duration": 12,
    "start_time": "2023-03-04T22:34:17.537Z"
   },
   {
    "duration": 18,
    "start_time": "2023-03-04T22:34:40.914Z"
   },
   {
    "duration": 18,
    "start_time": "2023-03-04T22:34:56.948Z"
   },
   {
    "duration": 1178,
    "start_time": "2023-03-04T22:35:15.025Z"
   },
   {
    "duration": 2728,
    "start_time": "2023-03-04T22:35:16.205Z"
   },
   {
    "duration": 563,
    "start_time": "2023-03-04T22:35:18.935Z"
   },
   {
    "duration": 41,
    "start_time": "2023-03-04T22:35:19.500Z"
   },
   {
    "duration": 103,
    "start_time": "2023-03-04T22:35:19.543Z"
   },
   {
    "duration": 302,
    "start_time": "2023-03-04T22:35:19.647Z"
   },
   {
    "duration": 4,
    "start_time": "2023-03-04T22:35:19.951Z"
   },
   {
    "duration": 11,
    "start_time": "2023-03-04T22:35:19.956Z"
   },
   {
    "duration": 54,
    "start_time": "2023-03-04T22:35:19.968Z"
   },
   {
    "duration": 6,
    "start_time": "2023-03-04T22:35:20.024Z"
   },
   {
    "duration": 114,
    "start_time": "2023-03-04T22:35:20.031Z"
   },
   {
    "duration": 50,
    "start_time": "2023-03-04T22:35:20.146Z"
   },
   {
    "duration": 5,
    "start_time": "2023-03-04T22:35:20.198Z"
   },
   {
    "duration": 36,
    "start_time": "2023-03-04T22:35:20.205Z"
   },
   {
    "duration": 120,
    "start_time": "2023-03-04T22:35:20.243Z"
   },
   {
    "duration": 144,
    "start_time": "2023-03-04T22:35:20.365Z"
   },
   {
    "duration": 53,
    "start_time": "2023-03-04T22:35:20.511Z"
   },
   {
    "duration": 42,
    "start_time": "2023-03-04T22:35:20.566Z"
   },
   {
    "duration": 33,
    "start_time": "2023-03-04T22:35:20.609Z"
   },
   {
    "duration": 3,
    "start_time": "2023-03-04T22:35:20.644Z"
   },
   {
    "duration": 63,
    "start_time": "2023-03-04T22:35:20.648Z"
   },
   {
    "duration": 31,
    "start_time": "2023-03-04T22:35:20.713Z"
   },
   {
    "duration": 31,
    "start_time": "2023-03-04T22:35:20.745Z"
   },
   {
    "duration": 41,
    "start_time": "2023-03-04T22:35:20.791Z"
   },
   {
    "duration": 11,
    "start_time": "2023-03-04T22:35:20.834Z"
   },
   {
    "duration": 15,
    "start_time": "2023-03-04T22:35:20.847Z"
   },
   {
    "duration": 37,
    "start_time": "2023-03-04T22:35:20.864Z"
   },
   {
    "duration": 2923,
    "start_time": "2023-03-04T22:35:20.906Z"
   },
   {
    "duration": 5,
    "start_time": "2023-03-04T22:35:23.831Z"
   },
   {
    "duration": 73,
    "start_time": "2023-03-04T22:35:23.838Z"
   },
   {
    "duration": 45,
    "start_time": "2023-03-04T22:35:23.913Z"
   },
   {
    "duration": 39,
    "start_time": "2023-03-04T22:35:23.992Z"
   },
   {
    "duration": 37,
    "start_time": "2023-03-04T22:35:24.033Z"
   },
   {
    "duration": 36,
    "start_time": "2023-03-04T22:35:24.071Z"
   },
   {
    "duration": 10,
    "start_time": "2023-03-04T22:35:24.108Z"
   },
   {
    "duration": 11,
    "start_time": "2023-03-04T22:35:24.119Z"
   },
   {
    "duration": 25,
    "start_time": "2023-03-04T22:35:24.132Z"
   },
   {
    "duration": 44,
    "start_time": "2023-03-04T22:35:24.159Z"
   },
   {
    "duration": 17,
    "start_time": "2023-03-04T22:35:24.204Z"
   },
   {
    "duration": 11,
    "start_time": "2023-03-04T22:35:24.223Z"
   },
   {
    "duration": 42,
    "start_time": "2023-03-04T22:35:24.235Z"
   },
   {
    "duration": 14,
    "start_time": "2023-03-04T22:35:24.278Z"
   },
   {
    "duration": 13,
    "start_time": "2023-03-04T22:35:24.293Z"
   },
   {
    "duration": 4,
    "start_time": "2023-03-04T22:35:24.308Z"
   },
   {
    "duration": 8,
    "start_time": "2023-03-04T22:35:24.313Z"
   },
   {
    "duration": 10,
    "start_time": "2023-03-04T22:35:24.323Z"
   },
   {
    "duration": 8,
    "start_time": "2023-03-04T22:35:24.334Z"
   },
   {
    "duration": 11,
    "start_time": "2023-03-04T22:35:24.343Z"
   },
   {
    "duration": 50,
    "start_time": "2023-03-04T22:35:24.355Z"
   },
   {
    "duration": 9,
    "start_time": "2023-03-04T22:35:24.407Z"
   },
   {
    "duration": 25,
    "start_time": "2023-03-04T22:35:24.417Z"
   },
   {
    "duration": 12,
    "start_time": "2023-03-04T22:35:24.443Z"
   },
   {
    "duration": 5,
    "start_time": "2023-03-04T22:35:24.456Z"
   },
   {
    "duration": 40,
    "start_time": "2023-03-04T22:35:24.463Z"
   },
   {
    "duration": 6,
    "start_time": "2023-03-04T22:35:24.504Z"
   },
   {
    "duration": 22,
    "start_time": "2023-03-04T22:35:24.511Z"
   },
   {
    "duration": 18,
    "start_time": "2023-03-04T22:35:24.535Z"
   },
   {
    "duration": 2068,
    "start_time": "2023-03-04T22:35:24.555Z"
   },
   {
    "duration": 14,
    "start_time": "2023-03-04T22:35:26.624Z"
   },
   {
    "duration": 11,
    "start_time": "2023-03-04T22:35:26.640Z"
   },
   {
    "duration": 9,
    "start_time": "2023-03-04T22:35:26.652Z"
   },
   {
    "duration": 34,
    "start_time": "2023-03-04T22:35:26.662Z"
   },
   {
    "duration": 7,
    "start_time": "2023-03-04T22:35:26.697Z"
   },
   {
    "duration": 6,
    "start_time": "2023-03-04T22:35:26.706Z"
   },
   {
    "duration": 18,
    "start_time": "2023-03-04T22:35:26.713Z"
   },
   {
    "duration": 10,
    "start_time": "2023-03-04T22:45:38.412Z"
   },
   {
    "duration": 9,
    "start_time": "2023-03-04T22:45:50.877Z"
   },
   {
    "duration": 15,
    "start_time": "2023-03-04T22:45:54.730Z"
   },
   {
    "duration": 14,
    "start_time": "2023-03-04T22:46:07.900Z"
   },
   {
    "duration": 79,
    "start_time": "2023-03-04T22:51:43.339Z"
   },
   {
    "duration": 13,
    "start_time": "2023-03-04T22:53:48.493Z"
   },
   {
    "duration": 45,
    "start_time": "2023-03-04T22:54:28.279Z"
   },
   {
    "duration": 100,
    "start_time": "2023-03-04T22:54:33.508Z"
   },
   {
    "duration": 3,
    "start_time": "2023-03-04T22:54:43.100Z"
   },
   {
    "duration": 741,
    "start_time": "2023-03-04T22:55:20.293Z"
   },
   {
    "duration": 33,
    "start_time": "2023-03-04T22:55:29.892Z"
   },
   {
    "duration": 340,
    "start_time": "2023-03-04T22:57:39.655Z"
   },
   {
    "duration": 115,
    "start_time": "2023-03-04T22:59:17.167Z"
   },
   {
    "duration": 9,
    "start_time": "2023-03-04T23:01:50.941Z"
   },
   {
    "duration": 12,
    "start_time": "2023-03-04T23:02:00.716Z"
   },
   {
    "duration": 732,
    "start_time": "2023-03-04T23:02:41.054Z"
   },
   {
    "duration": 440,
    "start_time": "2023-03-04T23:04:22.311Z"
   },
   {
    "duration": 270,
    "start_time": "2023-03-04T23:05:26.592Z"
   },
   {
    "duration": 10,
    "start_time": "2023-03-04T23:09:09.937Z"
   },
   {
    "duration": 10,
    "start_time": "2023-03-04T23:09:46.564Z"
   },
   {
    "duration": 10,
    "start_time": "2023-03-04T23:10:04.862Z"
   },
   {
    "duration": 1425,
    "start_time": "2023-03-04T23:10:15.289Z"
   },
   {
    "duration": 2599,
    "start_time": "2023-03-04T23:10:16.715Z"
   },
   {
    "duration": 592,
    "start_time": "2023-03-04T23:10:19.316Z"
   },
   {
    "duration": 43,
    "start_time": "2023-03-04T23:10:19.910Z"
   },
   {
    "duration": 102,
    "start_time": "2023-03-04T23:10:19.954Z"
   },
   {
    "duration": 310,
    "start_time": "2023-03-04T23:10:20.058Z"
   },
   {
    "duration": 4,
    "start_time": "2023-03-04T23:10:20.370Z"
   },
   {
    "duration": 26,
    "start_time": "2023-03-04T23:10:20.375Z"
   },
   {
    "duration": 31,
    "start_time": "2023-03-04T23:10:20.403Z"
   },
   {
    "duration": 6,
    "start_time": "2023-03-04T23:10:20.436Z"
   },
   {
    "duration": 125,
    "start_time": "2023-03-04T23:10:20.444Z"
   },
   {
    "duration": 48,
    "start_time": "2023-03-04T23:10:20.570Z"
   },
   {
    "duration": 6,
    "start_time": "2023-03-04T23:10:20.619Z"
   },
   {
    "duration": 37,
    "start_time": "2023-03-04T23:10:20.627Z"
   },
   {
    "duration": 129,
    "start_time": "2023-03-04T23:10:20.665Z"
   },
   {
    "duration": 147,
    "start_time": "2023-03-04T23:10:20.795Z"
   },
   {
    "duration": 58,
    "start_time": "2023-03-04T23:10:20.944Z"
   },
   {
    "duration": 31,
    "start_time": "2023-03-04T23:10:21.004Z"
   },
   {
    "duration": 32,
    "start_time": "2023-03-04T23:10:21.037Z"
   },
   {
    "duration": 2,
    "start_time": "2023-03-04T23:10:21.091Z"
   },
   {
    "duration": 47,
    "start_time": "2023-03-04T23:10:21.095Z"
   },
   {
    "duration": 32,
    "start_time": "2023-03-04T23:10:21.144Z"
   },
   {
    "duration": 33,
    "start_time": "2023-03-04T23:10:21.191Z"
   },
   {
    "duration": 41,
    "start_time": "2023-03-04T23:10:21.225Z"
   },
   {
    "duration": 30,
    "start_time": "2023-03-04T23:10:21.267Z"
   },
   {
    "duration": 15,
    "start_time": "2023-03-04T23:10:21.298Z"
   },
   {
    "duration": 12,
    "start_time": "2023-03-04T23:10:21.315Z"
   },
   {
    "duration": 3131,
    "start_time": "2023-03-04T23:10:21.330Z"
   },
   {
    "duration": 3,
    "start_time": "2023-03-04T23:10:24.463Z"
   },
   {
    "duration": 60,
    "start_time": "2023-03-04T23:10:24.468Z"
   },
   {
    "duration": 75,
    "start_time": "2023-03-04T23:10:24.529Z"
   },
   {
    "duration": 36,
    "start_time": "2023-03-04T23:10:24.606Z"
   },
   {
    "duration": 57,
    "start_time": "2023-03-04T23:10:24.645Z"
   },
   {
    "duration": 17,
    "start_time": "2023-03-04T23:10:24.704Z"
   },
   {
    "duration": 10,
    "start_time": "2023-03-04T23:10:24.722Z"
   },
   {
    "duration": 8,
    "start_time": "2023-03-04T23:10:24.733Z"
   },
   {
    "duration": 49,
    "start_time": "2023-03-04T23:10:24.743Z"
   },
   {
    "duration": 15,
    "start_time": "2023-03-04T23:10:24.794Z"
   },
   {
    "duration": 17,
    "start_time": "2023-03-04T23:10:24.811Z"
   },
   {
    "duration": 10,
    "start_time": "2023-03-04T23:10:24.829Z"
   },
   {
    "duration": 20,
    "start_time": "2023-03-04T23:10:24.841Z"
   },
   {
    "duration": 38,
    "start_time": "2023-03-04T23:10:24.862Z"
   },
   {
    "duration": 17,
    "start_time": "2023-03-04T23:10:24.902Z"
   },
   {
    "duration": 5,
    "start_time": "2023-03-04T23:10:24.921Z"
   },
   {
    "duration": 7,
    "start_time": "2023-03-04T23:10:24.928Z"
   },
   {
    "duration": 10,
    "start_time": "2023-03-04T23:10:24.937Z"
   },
   {
    "duration": 8,
    "start_time": "2023-03-04T23:10:24.948Z"
   },
   {
    "duration": 40,
    "start_time": "2023-03-04T23:10:24.957Z"
   },
   {
    "duration": 14,
    "start_time": "2023-03-04T23:10:24.999Z"
   },
   {
    "duration": 10,
    "start_time": "2023-03-04T23:10:25.014Z"
   },
   {
    "duration": 25,
    "start_time": "2023-03-04T23:10:25.025Z"
   },
   {
    "duration": 46,
    "start_time": "2023-03-04T23:10:25.052Z"
   },
   {
    "duration": 6,
    "start_time": "2023-03-04T23:10:25.099Z"
   },
   {
    "duration": 16,
    "start_time": "2023-03-04T23:10:25.107Z"
   },
   {
    "duration": 8,
    "start_time": "2023-03-04T23:10:25.124Z"
   },
   {
    "duration": 29,
    "start_time": "2023-03-04T23:10:25.134Z"
   },
   {
    "duration": 27,
    "start_time": "2023-03-04T23:10:25.164Z"
   },
   {
    "duration": 19,
    "start_time": "2023-03-04T23:10:25.193Z"
   },
   {
    "duration": 2200,
    "start_time": "2023-03-04T23:10:25.214Z"
   },
   {
    "duration": 14,
    "start_time": "2023-03-04T23:10:27.416Z"
   },
   {
    "duration": 156,
    "start_time": "2023-03-04T23:10:27.432Z"
   },
   {
    "duration": 12,
    "start_time": "2023-03-04T23:10:27.589Z"
   },
   {
    "duration": 13,
    "start_time": "2023-03-04T23:10:27.603Z"
   },
   {
    "duration": 8,
    "start_time": "2023-03-04T23:10:27.618Z"
   },
   {
    "duration": 64,
    "start_time": "2023-03-04T23:10:27.628Z"
   },
   {
    "duration": 6,
    "start_time": "2023-03-04T23:10:27.694Z"
   },
   {
    "duration": 20,
    "start_time": "2023-03-04T23:10:27.701Z"
   },
   {
    "duration": 1234,
    "start_time": "2023-03-04T23:52:31.100Z"
   },
   {
    "duration": 2772,
    "start_time": "2023-03-04T23:52:32.336Z"
   },
   {
    "duration": 575,
    "start_time": "2023-03-04T23:52:35.110Z"
   },
   {
    "duration": 42,
    "start_time": "2023-03-04T23:52:35.687Z"
   },
   {
    "duration": 81,
    "start_time": "2023-03-04T23:52:35.732Z"
   },
   {
    "duration": 324,
    "start_time": "2023-03-04T23:52:35.815Z"
   },
   {
    "duration": 4,
    "start_time": "2023-03-04T23:52:36.140Z"
   },
   {
    "duration": 22,
    "start_time": "2023-03-04T23:52:36.146Z"
   },
   {
    "duration": 33,
    "start_time": "2023-03-04T23:52:36.170Z"
   },
   {
    "duration": 11,
    "start_time": "2023-03-04T23:52:36.204Z"
   },
   {
    "duration": 123,
    "start_time": "2023-03-04T23:52:36.217Z"
   },
   {
    "duration": 42,
    "start_time": "2023-03-04T23:52:36.341Z"
   },
   {
    "duration": 5,
    "start_time": "2023-03-04T23:52:36.385Z"
   },
   {
    "duration": 56,
    "start_time": "2023-03-04T23:52:36.393Z"
   },
   {
    "duration": 127,
    "start_time": "2023-03-04T23:52:36.451Z"
   },
   {
    "duration": 164,
    "start_time": "2023-03-04T23:52:36.580Z"
   },
   {
    "duration": 59,
    "start_time": "2023-03-04T23:52:36.746Z"
   },
   {
    "duration": 49,
    "start_time": "2023-03-04T23:52:36.806Z"
   },
   {
    "duration": 34,
    "start_time": "2023-03-04T23:52:36.857Z"
   },
   {
    "duration": 6,
    "start_time": "2023-03-04T23:52:36.893Z"
   },
   {
    "duration": 66,
    "start_time": "2023-03-04T23:52:36.901Z"
   },
   {
    "duration": 35,
    "start_time": "2023-03-04T23:52:36.969Z"
   },
   {
    "duration": 51,
    "start_time": "2023-03-04T23:52:37.006Z"
   },
   {
    "duration": 41,
    "start_time": "2023-03-04T23:52:37.058Z"
   },
   {
    "duration": 11,
    "start_time": "2023-03-04T23:52:37.101Z"
   },
   {
    "duration": 32,
    "start_time": "2023-03-04T23:52:37.114Z"
   },
   {
    "duration": 12,
    "start_time": "2023-03-04T23:52:37.147Z"
   },
   {
    "duration": 3050,
    "start_time": "2023-03-04T23:52:37.160Z"
   },
   {
    "duration": 4,
    "start_time": "2023-03-04T23:52:40.211Z"
   },
   {
    "duration": 52,
    "start_time": "2023-03-04T23:52:40.216Z"
   },
   {
    "duration": 73,
    "start_time": "2023-03-04T23:52:40.269Z"
   },
   {
    "duration": 33,
    "start_time": "2023-03-04T23:52:40.343Z"
   },
   {
    "duration": 34,
    "start_time": "2023-03-04T23:52:40.378Z"
   },
   {
    "duration": 39,
    "start_time": "2023-03-04T23:52:40.413Z"
   },
   {
    "duration": 14,
    "start_time": "2023-03-04T23:52:40.453Z"
   },
   {
    "duration": 8,
    "start_time": "2023-03-04T23:52:40.469Z"
   },
   {
    "duration": 25,
    "start_time": "2023-03-04T23:52:40.478Z"
   },
   {
    "duration": 13,
    "start_time": "2023-03-04T23:52:40.505Z"
   },
   {
    "duration": 17,
    "start_time": "2023-03-04T23:52:40.541Z"
   },
   {
    "duration": 11,
    "start_time": "2023-03-04T23:52:40.560Z"
   },
   {
    "duration": 21,
    "start_time": "2023-03-04T23:52:40.576Z"
   },
   {
    "duration": 10,
    "start_time": "2023-03-04T23:52:40.599Z"
   },
   {
    "duration": 13,
    "start_time": "2023-03-04T23:52:40.641Z"
   },
   {
    "duration": 6,
    "start_time": "2023-03-04T23:52:40.655Z"
   },
   {
    "duration": 7,
    "start_time": "2023-03-04T23:52:40.663Z"
   },
   {
    "duration": 11,
    "start_time": "2023-03-04T23:52:40.671Z"
   },
   {
    "duration": 8,
    "start_time": "2023-03-04T23:52:40.683Z"
   },
   {
    "duration": 11,
    "start_time": "2023-03-04T23:52:40.692Z"
   },
   {
    "duration": 46,
    "start_time": "2023-03-04T23:52:40.704Z"
   },
   {
    "duration": 12,
    "start_time": "2023-03-04T23:52:40.752Z"
   },
   {
    "duration": 25,
    "start_time": "2023-03-04T23:52:40.766Z"
   },
   {
    "duration": 12,
    "start_time": "2023-03-04T23:52:40.792Z"
   },
   {
    "duration": 5,
    "start_time": "2023-03-04T23:52:40.806Z"
   },
   {
    "duration": 40,
    "start_time": "2023-03-04T23:52:40.812Z"
   },
   {
    "duration": 5,
    "start_time": "2023-03-04T23:52:40.854Z"
   },
   {
    "duration": 29,
    "start_time": "2023-03-04T23:52:40.860Z"
   },
   {
    "duration": 11,
    "start_time": "2023-03-04T23:52:40.891Z"
   },
   {
    "duration": 46,
    "start_time": "2023-03-04T23:52:40.904Z"
   },
   {
    "duration": 1978,
    "start_time": "2023-03-04T23:52:40.952Z"
   },
   {
    "duration": 18,
    "start_time": "2023-03-04T23:52:42.932Z"
   },
   {
    "duration": 421,
    "start_time": "2023-03-04T23:52:42.952Z"
   },
   {
    "duration": 13,
    "start_time": "2023-03-04T23:52:43.375Z"
   },
   {
    "duration": 9,
    "start_time": "2023-03-04T23:52:43.390Z"
   },
   {
    "duration": 49,
    "start_time": "2023-03-04T23:52:43.401Z"
   },
   {
    "duration": 19,
    "start_time": "2023-03-04T23:52:43.451Z"
   },
   {
    "duration": 13,
    "start_time": "2023-03-04T23:52:43.472Z"
   },
   {
    "duration": 65,
    "start_time": "2023-03-04T23:52:43.487Z"
   },
   {
    "duration": 6,
    "start_time": "2023-03-04T23:53:33.566Z"
   },
   {
    "duration": 4,
    "start_time": "2023-03-04T23:53:38.598Z"
   },
   {
    "duration": 13,
    "start_time": "2023-03-04T23:53:40.425Z"
   },
   {
    "duration": 17,
    "start_time": "2023-03-04T23:53:56.217Z"
   },
   {
    "duration": 14,
    "start_time": "2023-03-04T23:54:19.868Z"
   },
   {
    "duration": 17,
    "start_time": "2023-03-04T23:54:24.584Z"
   },
   {
    "duration": 28,
    "start_time": "2023-03-04T23:54:29.484Z"
   },
   {
    "duration": 35,
    "start_time": "2023-03-04T23:55:11.460Z"
   },
   {
    "duration": 29,
    "start_time": "2023-03-04T23:55:22.112Z"
   },
   {
    "duration": 13,
    "start_time": "2023-03-04T23:57:01.949Z"
   },
   {
    "duration": 46,
    "start_time": "2023-03-05T08:26:17.279Z"
   },
   {
    "duration": 1358,
    "start_time": "2023-03-05T08:26:24.501Z"
   },
   {
    "duration": 26794,
    "start_time": "2023-03-05T08:26:25.862Z"
   },
   {
    "duration": 948,
    "start_time": "2023-03-05T08:26:52.658Z"
   },
   {
    "duration": 40,
    "start_time": "2023-03-05T08:26:53.608Z"
   },
   {
    "duration": 97,
    "start_time": "2023-03-05T08:26:53.651Z"
   },
   {
    "duration": 311,
    "start_time": "2023-03-05T08:26:53.750Z"
   },
   {
    "duration": 5,
    "start_time": "2023-03-05T08:26:54.063Z"
   },
   {
    "duration": 16,
    "start_time": "2023-03-05T08:26:54.070Z"
   },
   {
    "duration": 45,
    "start_time": "2023-03-05T08:26:54.088Z"
   },
   {
    "duration": 6,
    "start_time": "2023-03-05T08:26:54.135Z"
   },
   {
    "duration": 115,
    "start_time": "2023-03-05T08:26:54.142Z"
   },
   {
    "duration": 43,
    "start_time": "2023-03-05T08:26:54.259Z"
   },
   {
    "duration": 5,
    "start_time": "2023-03-05T08:26:54.314Z"
   },
   {
    "duration": 37,
    "start_time": "2023-03-05T08:26:54.322Z"
   },
   {
    "duration": 123,
    "start_time": "2023-03-05T08:26:54.360Z"
   },
   {
    "duration": 140,
    "start_time": "2023-03-05T08:26:54.485Z"
   },
   {
    "duration": 53,
    "start_time": "2023-03-05T08:26:54.626Z"
   },
   {
    "duration": 43,
    "start_time": "2023-03-05T08:26:54.681Z"
   },
   {
    "duration": 29,
    "start_time": "2023-03-05T08:26:54.726Z"
   },
   {
    "duration": 3,
    "start_time": "2023-03-05T08:26:54.756Z"
   },
   {
    "duration": 59,
    "start_time": "2023-03-05T08:26:54.761Z"
   },
   {
    "duration": 37,
    "start_time": "2023-03-05T08:26:54.822Z"
   },
   {
    "duration": 54,
    "start_time": "2023-03-05T08:26:54.861Z"
   },
   {
    "duration": 45,
    "start_time": "2023-03-05T08:26:54.917Z"
   },
   {
    "duration": 14,
    "start_time": "2023-03-05T08:26:54.964Z"
   },
   {
    "duration": 36,
    "start_time": "2023-03-05T08:26:54.980Z"
   },
   {
    "duration": 14,
    "start_time": "2023-03-05T08:26:55.017Z"
   },
   {
    "duration": 3449,
    "start_time": "2023-03-05T08:26:55.033Z"
   },
   {
    "duration": 4,
    "start_time": "2023-03-05T08:26:58.484Z"
   },
   {
    "duration": 74,
    "start_time": "2023-03-05T08:26:58.489Z"
   },
   {
    "duration": 72,
    "start_time": "2023-03-05T08:26:58.565Z"
   },
   {
    "duration": 35,
    "start_time": "2023-03-05T08:26:58.639Z"
   },
   {
    "duration": 60,
    "start_time": "2023-03-05T08:26:58.676Z"
   },
   {
    "duration": 19,
    "start_time": "2023-03-05T08:26:58.738Z"
   },
   {
    "duration": 10,
    "start_time": "2023-03-05T08:26:58.758Z"
   },
   {
    "duration": 22,
    "start_time": "2023-03-05T08:26:58.769Z"
   },
   {
    "duration": 42,
    "start_time": "2023-03-05T08:26:58.793Z"
   },
   {
    "duration": 17,
    "start_time": "2023-03-05T08:26:58.837Z"
   },
   {
    "duration": 37,
    "start_time": "2023-03-05T08:26:58.856Z"
   },
   {
    "duration": 31,
    "start_time": "2023-03-05T08:26:58.895Z"
   },
   {
    "duration": 4,
    "start_time": "2023-03-05T08:26:58.930Z"
   },
   {
    "duration": 35,
    "start_time": "2023-03-05T08:26:58.936Z"
   },
   {
    "duration": 47,
    "start_time": "2023-03-05T08:26:58.973Z"
   },
   {
    "duration": 20,
    "start_time": "2023-03-05T08:26:59.022Z"
   },
   {
    "duration": 26,
    "start_time": "2023-03-05T08:26:59.044Z"
   },
   {
    "duration": 28,
    "start_time": "2023-03-05T08:26:59.072Z"
   },
   {
    "duration": 25,
    "start_time": "2023-03-05T08:26:59.102Z"
   },
   {
    "duration": 16,
    "start_time": "2023-03-05T08:26:59.129Z"
   },
   {
    "duration": 22,
    "start_time": "2023-03-05T08:26:59.147Z"
   },
   {
    "duration": 17,
    "start_time": "2023-03-05T08:26:59.172Z"
   },
   {
    "duration": 42,
    "start_time": "2023-03-05T08:26:59.191Z"
   },
   {
    "duration": 14,
    "start_time": "2023-03-05T08:26:59.235Z"
   },
   {
    "duration": 61,
    "start_time": "2023-03-05T08:26:59.251Z"
   },
   {
    "duration": 13,
    "start_time": "2023-03-05T08:26:59.314Z"
   },
   {
    "duration": 7,
    "start_time": "2023-03-05T08:26:59.328Z"
   },
   {
    "duration": 26,
    "start_time": "2023-03-05T08:26:59.337Z"
   },
   {
    "duration": 11,
    "start_time": "2023-03-05T08:26:59.365Z"
   },
   {
    "duration": 26,
    "start_time": "2023-03-05T08:26:59.378Z"
   },
   {
    "duration": 18,
    "start_time": "2023-03-05T08:26:59.406Z"
   },
   {
    "duration": 17,
    "start_time": "2023-03-05T08:26:59.426Z"
   },
   {
    "duration": 744,
    "start_time": "2023-03-05T08:26:59.445Z"
   },
   {
    "duration": 0,
    "start_time": "2023-03-05T08:27:00.191Z"
   },
   {
    "duration": 0,
    "start_time": "2023-03-05T08:27:00.192Z"
   },
   {
    "duration": 0,
    "start_time": "2023-03-05T08:27:00.193Z"
   },
   {
    "duration": 0,
    "start_time": "2023-03-05T08:27:00.195Z"
   },
   {
    "duration": 0,
    "start_time": "2023-03-05T08:27:00.196Z"
   },
   {
    "duration": 0,
    "start_time": "2023-03-05T08:27:00.197Z"
   },
   {
    "duration": 0,
    "start_time": "2023-03-05T08:27:00.215Z"
   },
   {
    "duration": 0,
    "start_time": "2023-03-05T08:27:00.216Z"
   },
   {
    "duration": 628,
    "start_time": "2023-03-05T08:27:16.851Z"
   },
   {
    "duration": 173,
    "start_time": "2023-03-05T08:28:02.996Z"
   },
   {
    "duration": 13,
    "start_time": "2023-03-05T08:29:45.520Z"
   },
   {
    "duration": 4,
    "start_time": "2023-03-05T08:30:32.772Z"
   },
   {
    "duration": 29,
    "start_time": "2023-03-05T08:31:46.081Z"
   },
   {
    "duration": 15,
    "start_time": "2023-03-05T08:32:47.668Z"
   },
   {
    "duration": 38,
    "start_time": "2023-03-05T08:33:03.279Z"
   },
   {
    "duration": 23,
    "start_time": "2023-03-05T08:33:25.972Z"
   },
   {
    "duration": 12,
    "start_time": "2023-03-05T08:34:04.932Z"
   },
   {
    "duration": 28,
    "start_time": "2023-03-05T08:34:06.255Z"
   },
   {
    "duration": 2,
    "start_time": "2023-03-05T08:34:30.389Z"
   },
   {
    "duration": 3,
    "start_time": "2023-03-05T08:34:34.900Z"
   },
   {
    "duration": 1266,
    "start_time": "2023-03-05T12:28:18.792Z"
   },
   {
    "duration": 9211,
    "start_time": "2023-03-05T12:28:20.060Z"
   },
   {
    "duration": 685,
    "start_time": "2023-03-05T12:28:29.274Z"
   },
   {
    "duration": 47,
    "start_time": "2023-03-05T12:28:29.962Z"
   },
   {
    "duration": 94,
    "start_time": "2023-03-05T12:28:30.011Z"
   },
   {
    "duration": 380,
    "start_time": "2023-03-05T12:28:30.107Z"
   },
   {
    "duration": 6,
    "start_time": "2023-03-05T12:28:30.489Z"
   },
   {
    "duration": 50,
    "start_time": "2023-03-05T12:28:30.497Z"
   },
   {
    "duration": 51,
    "start_time": "2023-03-05T12:28:30.549Z"
   },
   {
    "duration": 37,
    "start_time": "2023-03-05T12:28:30.603Z"
   },
   {
    "duration": 126,
    "start_time": "2023-03-05T12:28:30.641Z"
   },
   {
    "duration": 41,
    "start_time": "2023-03-05T12:28:30.769Z"
   },
   {
    "duration": 28,
    "start_time": "2023-03-05T12:28:30.814Z"
   },
   {
    "duration": 51,
    "start_time": "2023-03-05T12:28:30.844Z"
   },
   {
    "duration": 116,
    "start_time": "2023-03-05T12:28:30.898Z"
   },
   {
    "duration": 194,
    "start_time": "2023-03-05T12:28:31.015Z"
   },
   {
    "duration": 65,
    "start_time": "2023-03-05T12:28:31.210Z"
   },
   {
    "duration": 31,
    "start_time": "2023-03-05T12:28:31.276Z"
   },
   {
    "duration": 38,
    "start_time": "2023-03-05T12:28:31.325Z"
   },
   {
    "duration": 3,
    "start_time": "2023-03-05T12:28:31.365Z"
   },
   {
    "duration": 64,
    "start_time": "2023-03-05T12:28:31.370Z"
   },
   {
    "duration": 40,
    "start_time": "2023-03-05T12:28:31.435Z"
   },
   {
    "duration": 56,
    "start_time": "2023-03-05T12:28:31.477Z"
   },
   {
    "duration": 44,
    "start_time": "2023-03-05T12:28:31.536Z"
   },
   {
    "duration": 14,
    "start_time": "2023-03-05T12:28:31.583Z"
   },
   {
    "duration": 33,
    "start_time": "2023-03-05T12:28:31.599Z"
   },
   {
    "duration": 13,
    "start_time": "2023-03-05T12:28:31.634Z"
   },
   {
    "duration": 3677,
    "start_time": "2023-03-05T12:28:31.651Z"
   },
   {
    "duration": 5,
    "start_time": "2023-03-05T12:28:35.329Z"
   },
   {
    "duration": 52,
    "start_time": "2023-03-05T12:28:35.336Z"
   },
   {
    "duration": 73,
    "start_time": "2023-03-05T12:28:35.390Z"
   },
   {
    "duration": 34,
    "start_time": "2023-03-05T12:28:35.465Z"
   },
   {
    "duration": 66,
    "start_time": "2023-03-05T12:28:35.501Z"
   },
   {
    "duration": 19,
    "start_time": "2023-03-05T12:28:35.570Z"
   },
   {
    "duration": 10,
    "start_time": "2023-03-05T12:28:35.590Z"
   },
   {
    "duration": 32,
    "start_time": "2023-03-05T12:28:35.602Z"
   },
   {
    "duration": 25,
    "start_time": "2023-03-05T12:28:35.636Z"
   },
   {
    "duration": 3,
    "start_time": "2023-03-05T12:28:35.662Z"
   },
   {
    "duration": 7,
    "start_time": "2023-03-05T12:28:35.666Z"
   },
   {
    "duration": 25,
    "start_time": "2023-03-05T12:28:35.674Z"
   },
   {
    "duration": 13,
    "start_time": "2023-03-05T12:28:35.722Z"
   },
   {
    "duration": 39,
    "start_time": "2023-03-05T12:28:35.745Z"
   },
   {
    "duration": 12,
    "start_time": "2023-03-05T12:28:35.786Z"
   },
   {
    "duration": 51,
    "start_time": "2023-03-05T12:28:35.800Z"
   },
   {
    "duration": 13,
    "start_time": "2023-03-05T12:28:35.854Z"
   },
   {
    "duration": 16,
    "start_time": "2023-03-05T12:28:35.869Z"
   },
   {
    "duration": 6,
    "start_time": "2023-03-05T12:28:35.887Z"
   },
   {
    "duration": 46,
    "start_time": "2023-03-05T12:28:35.895Z"
   },
   {
    "duration": 14,
    "start_time": "2023-03-05T12:28:35.944Z"
   },
   {
    "duration": 8,
    "start_time": "2023-03-05T12:28:35.959Z"
   },
   {
    "duration": 13,
    "start_time": "2023-03-05T12:28:35.969Z"
   },
   {
    "duration": 14,
    "start_time": "2023-03-05T12:28:35.984Z"
   },
   {
    "duration": 16,
    "start_time": "2023-03-05T12:28:36.025Z"
   },
   {
    "duration": 29,
    "start_time": "2023-03-05T12:28:36.045Z"
   },
   {
    "duration": 14,
    "start_time": "2023-03-05T12:28:36.077Z"
   },
   {
    "duration": 30,
    "start_time": "2023-03-05T12:28:36.093Z"
   },
   {
    "duration": 28,
    "start_time": "2023-03-05T12:28:36.125Z"
   },
   {
    "duration": 7,
    "start_time": "2023-03-05T12:28:36.156Z"
   },
   {
    "duration": 28,
    "start_time": "2023-03-05T12:28:36.164Z"
   },
   {
    "duration": 39,
    "start_time": "2023-03-05T12:28:36.194Z"
   },
   {
    "duration": 33,
    "start_time": "2023-03-05T12:28:36.236Z"
   },
   {
    "duration": 831,
    "start_time": "2023-03-05T12:28:36.271Z"
   },
   {
    "duration": 0,
    "start_time": "2023-03-05T12:28:37.104Z"
   },
   {
    "duration": 0,
    "start_time": "2023-03-05T12:28:37.106Z"
   },
   {
    "duration": 0,
    "start_time": "2023-03-05T12:28:37.107Z"
   },
   {
    "duration": 0,
    "start_time": "2023-03-05T12:28:37.108Z"
   },
   {
    "duration": 0,
    "start_time": "2023-03-05T12:28:37.121Z"
   },
   {
    "duration": 0,
    "start_time": "2023-03-05T12:28:37.121Z"
   },
   {
    "duration": 0,
    "start_time": "2023-03-05T12:28:37.122Z"
   },
   {
    "duration": 0,
    "start_time": "2023-03-05T12:28:37.125Z"
   },
   {
    "duration": 707,
    "start_time": "2023-03-05T12:29:03.459Z"
   },
   {
    "duration": 1402,
    "start_time": "2023-03-05T12:29:08.287Z"
   },
   {
    "duration": 3332,
    "start_time": "2023-03-05T12:29:09.692Z"
   },
   {
    "duration": 649,
    "start_time": "2023-03-05T12:29:13.030Z"
   },
   {
    "duration": 68,
    "start_time": "2023-03-05T12:29:13.681Z"
   },
   {
    "duration": 108,
    "start_time": "2023-03-05T12:29:13.751Z"
   },
   {
    "duration": 337,
    "start_time": "2023-03-05T12:29:13.861Z"
   },
   {
    "duration": 5,
    "start_time": "2023-03-05T12:29:14.199Z"
   },
   {
    "duration": 30,
    "start_time": "2023-03-05T12:29:14.206Z"
   },
   {
    "duration": 39,
    "start_time": "2023-03-05T12:29:14.242Z"
   },
   {
    "duration": 8,
    "start_time": "2023-03-05T12:29:14.285Z"
   },
   {
    "duration": 144,
    "start_time": "2023-03-05T12:29:14.295Z"
   },
   {
    "duration": 42,
    "start_time": "2023-03-05T12:29:14.441Z"
   },
   {
    "duration": 6,
    "start_time": "2023-03-05T12:29:14.484Z"
   },
   {
    "duration": 62,
    "start_time": "2023-03-05T12:29:14.492Z"
   },
   {
    "duration": 115,
    "start_time": "2023-03-05T12:29:14.556Z"
   },
   {
    "duration": 172,
    "start_time": "2023-03-05T12:29:14.673Z"
   },
   {
    "duration": 78,
    "start_time": "2023-03-05T12:29:14.847Z"
   },
   {
    "duration": 37,
    "start_time": "2023-03-05T12:29:14.934Z"
   },
   {
    "duration": 30,
    "start_time": "2023-03-05T12:29:14.973Z"
   },
   {
    "duration": 3,
    "start_time": "2023-03-05T12:29:15.005Z"
   },
   {
    "duration": 64,
    "start_time": "2023-03-05T12:29:15.023Z"
   },
   {
    "duration": 51,
    "start_time": "2023-03-05T12:29:15.088Z"
   },
   {
    "duration": 42,
    "start_time": "2023-03-05T12:29:15.143Z"
   },
   {
    "duration": 55,
    "start_time": "2023-03-05T12:29:15.186Z"
   },
   {
    "duration": 19,
    "start_time": "2023-03-05T12:29:15.243Z"
   },
   {
    "duration": 18,
    "start_time": "2023-03-05T12:29:15.265Z"
   },
   {
    "duration": 14,
    "start_time": "2023-03-05T12:29:15.285Z"
   },
   {
    "duration": 3904,
    "start_time": "2023-03-05T12:29:15.322Z"
   },
   {
    "duration": 7,
    "start_time": "2023-03-05T12:29:19.228Z"
   },
   {
    "duration": 50,
    "start_time": "2023-03-05T12:29:19.237Z"
   },
   {
    "duration": 75,
    "start_time": "2023-03-05T12:29:19.289Z"
   },
   {
    "duration": 66,
    "start_time": "2023-03-05T12:29:19.365Z"
   },
   {
    "duration": 47,
    "start_time": "2023-03-05T12:29:19.433Z"
   },
   {
    "duration": 18,
    "start_time": "2023-03-05T12:29:19.482Z"
   },
   {
    "duration": 33,
    "start_time": "2023-03-05T12:29:19.501Z"
   },
   {
    "duration": 14,
    "start_time": "2023-03-05T12:29:19.537Z"
   },
   {
    "duration": 28,
    "start_time": "2023-03-05T12:29:19.553Z"
   },
   {
    "duration": 4,
    "start_time": "2023-03-05T12:29:19.582Z"
   },
   {
    "duration": 3,
    "start_time": "2023-03-05T12:29:19.588Z"
   },
   {
    "duration": 56,
    "start_time": "2023-03-05T12:29:19.593Z"
   },
   {
    "duration": 13,
    "start_time": "2023-03-05T12:29:19.651Z"
   },
   {
    "duration": 61,
    "start_time": "2023-03-05T12:29:19.667Z"
   },
   {
    "duration": 14,
    "start_time": "2023-03-05T12:29:19.729Z"
   },
   {
    "duration": 22,
    "start_time": "2023-03-05T12:29:19.745Z"
   },
   {
    "duration": 10,
    "start_time": "2023-03-05T12:29:19.769Z"
   },
   {
    "duration": 41,
    "start_time": "2023-03-05T12:29:19.781Z"
   },
   {
    "duration": 12,
    "start_time": "2023-03-05T12:29:19.824Z"
   },
   {
    "duration": 16,
    "start_time": "2023-03-05T12:29:19.837Z"
   },
   {
    "duration": 15,
    "start_time": "2023-03-05T12:29:19.855Z"
   },
   {
    "duration": 14,
    "start_time": "2023-03-05T12:29:19.872Z"
   },
   {
    "duration": 14,
    "start_time": "2023-03-05T12:29:19.888Z"
   },
   {
    "duration": 33,
    "start_time": "2023-03-05T12:29:19.905Z"
   },
   {
    "duration": 12,
    "start_time": "2023-03-05T12:29:19.942Z"
   },
   {
    "duration": 44,
    "start_time": "2023-03-05T12:29:19.955Z"
   },
   {
    "duration": 14,
    "start_time": "2023-03-05T12:29:20.000Z"
   },
   {
    "duration": 15,
    "start_time": "2023-03-05T12:29:20.015Z"
   },
   {
    "duration": 25,
    "start_time": "2023-03-05T12:29:20.031Z"
   },
   {
    "duration": 5,
    "start_time": "2023-03-05T12:29:20.058Z"
   },
   {
    "duration": 24,
    "start_time": "2023-03-05T12:29:20.064Z"
   },
   {
    "duration": 32,
    "start_time": "2023-03-05T12:29:20.090Z"
   },
   {
    "duration": 25,
    "start_time": "2023-03-05T12:29:20.123Z"
   },
   {
    "duration": 2266,
    "start_time": "2023-03-05T12:29:20.150Z"
   },
   {
    "duration": 23,
    "start_time": "2023-03-05T12:29:22.422Z"
   },
   {
    "duration": 459,
    "start_time": "2023-03-05T12:29:22.447Z"
   },
   {
    "duration": 14,
    "start_time": "2023-03-05T12:29:22.908Z"
   },
   {
    "duration": 9,
    "start_time": "2023-03-05T12:29:22.923Z"
   },
   {
    "duration": 8,
    "start_time": "2023-03-05T12:29:22.934Z"
   },
   {
    "duration": 18,
    "start_time": "2023-03-05T12:29:22.944Z"
   },
   {
    "duration": 57,
    "start_time": "2023-03-05T12:29:22.964Z"
   },
   {
    "duration": 20,
    "start_time": "2023-03-05T12:29:23.023Z"
   }
  ],
  "kernelspec": {
   "display_name": "Python 3 (ipykernel)",
   "language": "python",
   "name": "python3"
  },
  "language_info": {
   "codemirror_mode": {
    "name": "ipython",
    "version": 3
   },
   "file_extension": ".py",
   "mimetype": "text/x-python",
   "name": "python",
   "nbconvert_exporter": "python",
   "pygments_lexer": "ipython3",
   "version": "3.9.13"
  },
  "toc": {
   "base_numbering": 1,
   "nav_menu": {},
   "number_sections": true,
   "sideBar": true,
   "skip_h1_title": true,
   "title_cell": "Table of Contents",
   "title_sidebar": "Contents",
   "toc_cell": false,
   "toc_position": {},
   "toc_section_display": true,
   "toc_window_display": true
  }
 },
 "nbformat": 4,
 "nbformat_minor": 5
}
