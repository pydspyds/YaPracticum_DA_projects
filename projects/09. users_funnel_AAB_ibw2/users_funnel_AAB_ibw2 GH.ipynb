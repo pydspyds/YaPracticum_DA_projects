{
 "cells": [
  {
   "cell_type": "markdown",
   "id": "29850cb9",
   "metadata": {},
   "source": [
    "# Анализ поведения пользователей мобильного приложения"
   ]
  },
  {
   "cell_type": "markdown",
   "id": "608645d6",
   "metadata": {},
   "source": [
    "## Введение"
   ]
  },
  {
   "cell_type": "markdown",
   "id": "21646da8",
   "metadata": {},
   "source": [
    "### Цель и задачи проекта"
   ]
  },
  {
   "cell_type": "markdown",
   "id": "0605cea9",
   "metadata": {},
   "source": [
    "**Цель работы** - разобраться в поведении пользователей мобильного приложения. Заказчик - стартап, который продаёт продукты питания.\n",
    "\n",
    "**Задачи**:\n",
    "* Изучить воронку продаж. Узнать, как пользователи доходят до покупки. Сколько пользователей доходит до покупки, а сколько — «застревает» на предыдущих шагах? На каких именно?\n",
    "* Исследовать результаты A/A/B-эксперимента по замене шрифта в приложении. Выяснить, какой шрифт лучше? \n",
    "\n",
    "**Ход работы**:\n",
    "* *Загрузка и предобработка данных*.\n",
    "---\n",
    "* *Изучение и проверка данных*:\n",
    "    1. сколько всего событий в логе?\n",
    "    2. сколько всего пользователей в логе?\n",
    "    3. сколько в среднем событий приходится на пользователя?\n",
    "    4. данными за какой период я располагаю?:\n",
    "        * найти максимальную и минимальную дату; \n",
    "        * построить гистограмму по дате и времени. Проверить полноту данных; \n",
    "    5. много ли событий и пользователей потеряется, если отбросить старые данные?;\n",
    "    6. проверить, что есть пользователи из всех трёх экспериментальных групп.\n",
    "---    \n",
    "* *Изучить воронку событий*:\n",
    "    1. посмотреть, какие события есть в логах, как часто они встречаются;\n",
    "    2. посчитать, сколько пользователей совершали каждое из этих событий;\n",
    "    3. предположить, в каком порядке происходят события;\n",
    "    4. по воронке событий посчитать, какая доля пользователей проходит на следующий шаг воронки;\n",
    "    5. на каком шаге теряется больше всего пользователей?;\n",
    "    6. какая доля пользователей доходит от первого события до оплаты?\n",
    "---\n",
    "* *Изучение результатов эксперимента*:\n",
    "    1. сколько пользователей в каждой экспериментальной группе?\n",
    "    2. проверить, находят ли статистические критерии разницу между выборками из контрольных групп 246 и 247;\n",
    "    3. выбрать самое популярное событие: \n",
    "        * посчитать число пользователей, совершивших это событие в каждой из контрольных групп, \n",
    "        * посчитать долю пользователей, совершивших это событие,\n",
    "        * проверить, будет ли отличие между группами статистически достоверным, \n",
    "        * проделать то же самое для всех других событий,\n",
    "    4. аналогично исследовать группу с изменённым шрифтом: \n",
    "        * сравнить результаты с каждой из контрольных групп в отдельности по каждому событию,\n",
    "        * сравнить результаты с объединённой контрольной группой"
   ]
  },
  {
   "cell_type": "markdown",
   "id": "c34d12fb",
   "metadata": {},
   "source": [
    "*Описание данных*:\n",
    "* `EventName` — название события;\n",
    "* `DeviceIDHash` — уникальный идентификатор пользователя;\n",
    "* `EventTimestamp` — время события;\n",
    "* `ExpId` — номер эксперимента: `246` и `247` — контрольные группы, а `248` — экспериментальная."
   ]
  },
  {
   "cell_type": "markdown",
   "id": "e323132e",
   "metadata": {},
   "source": [
    "### Загрузка данных"
   ]
  },
  {
   "cell_type": "code",
   "execution_count": 1,
   "id": "5d6c0ccb",
   "metadata": {},
   "outputs": [],
   "source": [
    "import pandas as pd\n",
    "import numpy as np\n",
    "from scipy import stats as st\n",
    "import math as mth\n",
    "import datetime as dt\n",
    "from datetime import datetime, timedelta\n",
    "\n",
    "import matplotlib.pyplot as plt\n",
    "import seaborn as sns\n",
    "import plotly.express as px\n",
    "from plotly import graph_objects as go\n",
    "\n",
    "import plotly.io as pio\n",
    "\n",
    "import warnings"
   ]
  },
  {
   "cell_type": "code",
   "execution_count": 2,
   "id": "6bd48273",
   "metadata": {},
   "outputs": [],
   "source": [
    "pio.renderers.default = \"png\"\n",
    "warnings.filterwarnings(action='ignore')"
   ]
  },
  {
   "cell_type": "code",
   "execution_count": 3,
   "id": "f2da5bbb",
   "metadata": {},
   "outputs": [],
   "source": [
    "try:\n",
    "    logs = pd.read_csv('logs_exp.csv', sep = '\\t')\n",
    "except:\n",
    "    logs = pd.read_csv('/datasets/logs_exp.csv', sep = '\\t')"
   ]
  },
  {
   "cell_type": "markdown",
   "id": "0215d990",
   "metadata": {},
   "source": [
    "Данные загружены, приступим к предобработке."
   ]
  },
  {
   "cell_type": "markdown",
   "id": "6035cc3f",
   "metadata": {},
   "source": [
    "## Подготовка данных"
   ]
  },
  {
   "cell_type": "code",
   "execution_count": 4,
   "id": "fcb7b130",
   "metadata": {},
   "outputs": [
    {
     "data": {
      "text/html": [
       "<div>\n",
       "<style scoped>\n",
       "    .dataframe tbody tr th:only-of-type {\n",
       "        vertical-align: middle;\n",
       "    }\n",
       "\n",
       "    .dataframe tbody tr th {\n",
       "        vertical-align: top;\n",
       "    }\n",
       "\n",
       "    .dataframe thead th {\n",
       "        text-align: right;\n",
       "    }\n",
       "</style>\n",
       "<table border=\"1\" class=\"dataframe\">\n",
       "  <thead>\n",
       "    <tr style=\"text-align: right;\">\n",
       "      <th></th>\n",
       "      <th>EventName</th>\n",
       "      <th>DeviceIDHash</th>\n",
       "      <th>EventTimestamp</th>\n",
       "      <th>ExpId</th>\n",
       "    </tr>\n",
       "  </thead>\n",
       "  <tbody>\n",
       "    <tr>\n",
       "      <th>0</th>\n",
       "      <td>MainScreenAppear</td>\n",
       "      <td>4575588528974610257</td>\n",
       "      <td>1564029816</td>\n",
       "      <td>246</td>\n",
       "    </tr>\n",
       "    <tr>\n",
       "      <th>1</th>\n",
       "      <td>MainScreenAppear</td>\n",
       "      <td>7416695313311560658</td>\n",
       "      <td>1564053102</td>\n",
       "      <td>246</td>\n",
       "    </tr>\n",
       "  </tbody>\n",
       "</table>\n",
       "</div>"
      ],
      "text/plain": [
       "          EventName         DeviceIDHash  EventTimestamp  ExpId\n",
       "0  MainScreenAppear  4575588528974610257      1564029816    246\n",
       "1  MainScreenAppear  7416695313311560658      1564053102    246"
      ]
     },
     "execution_count": 4,
     "metadata": {},
     "output_type": "execute_result"
    }
   ],
   "source": [
    "logs.head(2)"
   ]
  },
  {
   "cell_type": "code",
   "execution_count": 5,
   "id": "df4ba7b0",
   "metadata": {},
   "outputs": [
    {
     "name": "stdout",
     "output_type": "stream",
     "text": [
      "<class 'pandas.core.frame.DataFrame'>\n",
      "RangeIndex: 244126 entries, 0 to 244125\n",
      "Data columns (total 4 columns):\n",
      " #   Column          Non-Null Count   Dtype \n",
      "---  ------          --------------   ----- \n",
      " 0   EventName       244126 non-null  object\n",
      " 1   DeviceIDHash    244126 non-null  int64 \n",
      " 2   EventTimestamp  244126 non-null  int64 \n",
      " 3   ExpId           244126 non-null  int64 \n",
      "dtypes: int64(3), object(1)\n",
      "memory usage: 7.5+ MB\n"
     ]
    }
   ],
   "source": [
    "logs.info()"
   ]
  },
  {
   "cell_type": "markdown",
   "id": "dce0d483",
   "metadata": {},
   "source": [
    "Для начала переименуем столбцы"
   ]
  },
  {
   "cell_type": "code",
   "execution_count": 6,
   "id": "18299cf1",
   "metadata": {},
   "outputs": [],
   "source": [
    "logs.rename(\n",
    "    columns={\n",
    "        \"EventName\": \"event\",\n",
    "        \"DeviceIDHash\": \"user_id\",\n",
    "        \"EventTimestamp\": \"date\",\n",
    "        \"ExpId\": \"group\",\n",
    "    },\n",
    "    inplace=True,\n",
    ")"
   ]
  },
  {
   "cell_type": "code",
   "execution_count": 7,
   "id": "5838ed5d",
   "metadata": {},
   "outputs": [
    {
     "data": {
      "text/html": [
       "<div>\n",
       "<style scoped>\n",
       "    .dataframe tbody tr th:only-of-type {\n",
       "        vertical-align: middle;\n",
       "    }\n",
       "\n",
       "    .dataframe tbody tr th {\n",
       "        vertical-align: top;\n",
       "    }\n",
       "\n",
       "    .dataframe thead th {\n",
       "        text-align: right;\n",
       "    }\n",
       "</style>\n",
       "<table border=\"1\" class=\"dataframe\">\n",
       "  <thead>\n",
       "    <tr style=\"text-align: right;\">\n",
       "      <th></th>\n",
       "      <th>event</th>\n",
       "      <th>user_id</th>\n",
       "      <th>date</th>\n",
       "      <th>group</th>\n",
       "    </tr>\n",
       "  </thead>\n",
       "  <tbody>\n",
       "    <tr>\n",
       "      <th>0</th>\n",
       "      <td>MainScreenAppear</td>\n",
       "      <td>4575588528974610257</td>\n",
       "      <td>1564029816</td>\n",
       "      <td>246</td>\n",
       "    </tr>\n",
       "  </tbody>\n",
       "</table>\n",
       "</div>"
      ],
      "text/plain": [
       "              event              user_id        date  group\n",
       "0  MainScreenAppear  4575588528974610257  1564029816    246"
      ]
     },
     "execution_count": 7,
     "metadata": {},
     "output_type": "execute_result"
    }
   ],
   "source": [
    "logs.head(1)"
   ]
  },
  {
   "cell_type": "markdown",
   "id": "f9937b43",
   "metadata": {},
   "source": [
    "Сменим формат даты в столбце `date`."
   ]
  },
  {
   "cell_type": "code",
   "execution_count": 8,
   "id": "bd10c710",
   "metadata": {},
   "outputs": [
    {
     "data": {
      "text/html": [
       "<div>\n",
       "<style scoped>\n",
       "    .dataframe tbody tr th:only-of-type {\n",
       "        vertical-align: middle;\n",
       "    }\n",
       "\n",
       "    .dataframe tbody tr th {\n",
       "        vertical-align: top;\n",
       "    }\n",
       "\n",
       "    .dataframe thead th {\n",
       "        text-align: right;\n",
       "    }\n",
       "</style>\n",
       "<table border=\"1\" class=\"dataframe\">\n",
       "  <thead>\n",
       "    <tr style=\"text-align: right;\">\n",
       "      <th></th>\n",
       "      <th>event</th>\n",
       "      <th>user_id</th>\n",
       "      <th>date</th>\n",
       "      <th>group</th>\n",
       "      <th>date_and_time</th>\n",
       "    </tr>\n",
       "  </thead>\n",
       "  <tbody>\n",
       "    <tr>\n",
       "      <th>0</th>\n",
       "      <td>MainScreenAppear</td>\n",
       "      <td>4575588528974610257</td>\n",
       "      <td>2019-07-25</td>\n",
       "      <td>246</td>\n",
       "      <td>2019-07-25 04:43:36</td>\n",
       "    </tr>\n",
       "  </tbody>\n",
       "</table>\n",
       "</div>"
      ],
      "text/plain": [
       "              event              user_id       date  group       date_and_time\n",
       "0  MainScreenAppear  4575588528974610257 2019-07-25    246 2019-07-25 04:43:36"
      ]
     },
     "execution_count": 8,
     "metadata": {},
     "output_type": "execute_result"
    }
   ],
   "source": [
    "logs[\"date_and_time\"] = pd.to_datetime(logs[\"date\"], unit='s')\n",
    "logs[\"date\"] = pd.to_datetime(\n",
    "     logs[\"date\"].apply(lambda x: datetime.fromtimestamp(x).strftime(\"%Y-%m-%d\"))\n",
    ")\n",
    "logs.head(1)"
   ]
  },
  {
   "cell_type": "code",
   "execution_count": 9,
   "id": "e58ec94e",
   "metadata": {},
   "outputs": [
    {
     "name": "stdout",
     "output_type": "stream",
     "text": [
      "<class 'pandas.core.frame.DataFrame'>\n",
      "RangeIndex: 244126 entries, 0 to 244125\n",
      "Data columns (total 5 columns):\n",
      " #   Column         Non-Null Count   Dtype         \n",
      "---  ------         --------------   -----         \n",
      " 0   event          244126 non-null  object        \n",
      " 1   user_id        244126 non-null  int64         \n",
      " 2   date           244126 non-null  datetime64[ns]\n",
      " 3   group          244126 non-null  int64         \n",
      " 4   date_and_time  244126 non-null  datetime64[ns]\n",
      "dtypes: datetime64[ns](2), int64(2), object(1)\n",
      "memory usage: 9.3+ MB\n"
     ]
    }
   ],
   "source": [
    "logs.info()"
   ]
  },
  {
   "cell_type": "markdown",
   "id": "468fcb21",
   "metadata": {},
   "source": [
    "Формат даты изменили, пропусков нет."
   ]
  },
  {
   "cell_type": "markdown",
   "id": "6b14dd39",
   "metadata": {},
   "source": [
    "Для удобства изменим названия групп в столбце `group`"
   ]
  },
  {
   "cell_type": "code",
   "execution_count": 10,
   "id": "5ca269dc",
   "metadata": {},
   "outputs": [
    {
     "data": {
      "text/plain": [
       "248    85747\n",
       "246    80304\n",
       "247    78075\n",
       "Name: group, dtype: int64"
      ]
     },
     "execution_count": 10,
     "metadata": {},
     "output_type": "execute_result"
    }
   ],
   "source": [
    "logs['group'].value_counts()"
   ]
  },
  {
   "cell_type": "code",
   "execution_count": 11,
   "id": "f3c6906f",
   "metadata": {},
   "outputs": [],
   "source": [
    "logs['group'] = logs['group'].astype(str).replace({'246': 'A1', '247' : 'A2' , '248':'B'}, regex = True)"
   ]
  },
  {
   "cell_type": "code",
   "execution_count": 12,
   "id": "d654082e",
   "metadata": {},
   "outputs": [
    {
     "data": {
      "text/plain": [
       "(array(['A1', 'B', 'A2'], dtype=object),\n",
       " B     85747\n",
       " A1    80304\n",
       " A2    78075\n",
       " Name: group, dtype: int64)"
      ]
     },
     "execution_count": 12,
     "metadata": {},
     "output_type": "execute_result"
    }
   ],
   "source": [
    "logs['group'].unique(), logs['group'].value_counts()"
   ]
  },
  {
   "cell_type": "markdown",
   "id": "d0e6d2ed",
   "metadata": {},
   "source": [
    "Проверим данные на дубликаты:"
   ]
  },
  {
   "cell_type": "code",
   "execution_count": 13,
   "id": "85c8cb00",
   "metadata": {},
   "outputs": [
    {
     "data": {
      "text/plain": [
       "413"
      ]
     },
     "execution_count": 13,
     "metadata": {},
     "output_type": "execute_result"
    }
   ],
   "source": [
    "logs.duplicated().sum()"
   ]
  },
  {
   "cell_type": "markdown",
   "id": "7a5ee0e8",
   "metadata": {},
   "source": [
    "Избавимся от дубликатов:"
   ]
  },
  {
   "cell_type": "code",
   "execution_count": 14,
   "id": "79525d33",
   "metadata": {},
   "outputs": [],
   "source": [
    "logs = logs.drop_duplicates().reset_index(drop=True)"
   ]
  },
  {
   "cell_type": "markdown",
   "id": "3a98ca2d",
   "metadata": {},
   "source": [
    "## Изучение данных"
   ]
  },
  {
   "cell_type": "markdown",
   "id": "df1eb095",
   "metadata": {},
   "source": [
    "Посчитаем количество уникальных событий в логе."
   ]
  },
  {
   "cell_type": "code",
   "execution_count": 15,
   "id": "16e2803e",
   "metadata": {},
   "outputs": [
    {
     "data": {
      "text/plain": [
       "array(['MainScreenAppear', 'PaymentScreenSuccessful', 'CartScreenAppear',\n",
       "       'OffersScreenAppear', 'Tutorial'], dtype=object)"
      ]
     },
     "execution_count": 15,
     "metadata": {},
     "output_type": "execute_result"
    }
   ],
   "source": [
    "logs['event'].unique()"
   ]
  },
  {
   "cell_type": "markdown",
   "id": "caad9299",
   "metadata": {},
   "source": [
    "Переименуем события для удобства:"
   ]
  },
  {
   "cell_type": "code",
   "execution_count": 16,
   "id": "79623574",
   "metadata": {},
   "outputs": [],
   "source": [
    "logs = logs.apply(\n",
    "    lambda x: x.replace(\n",
    "        {\n",
    "            \"MainScreenAppear\": \"main\",\n",
    "            \"PaymentScreenSuccessful\": \"payment\",\n",
    "            \"CartScreenAppear\": \"cart\",\n",
    "            \"OffersScreenAppear\": \"offers\",\n",
    "            \"Tutorial\": \"tutorial\",\n",
    "        }, regex = True\n",
    "    )\n",
    ")"
   ]
  },
  {
   "cell_type": "code",
   "execution_count": 17,
   "id": "f65d3a44",
   "metadata": {},
   "outputs": [
    {
     "data": {
      "text/plain": [
       "array(['main', 'payment', 'cart', 'offers', 'tutorial'], dtype=object)"
      ]
     },
     "execution_count": 17,
     "metadata": {},
     "output_type": "execute_result"
    }
   ],
   "source": [
    "logs['event'].unique()"
   ]
  },
  {
   "cell_type": "markdown",
   "id": "b6244abb",
   "metadata": {},
   "source": [
    "Посчитаем количество уникальных пользователей"
   ]
  },
  {
   "cell_type": "code",
   "execution_count": 18,
   "id": "62a40f15",
   "metadata": {},
   "outputs": [
    {
     "data": {
      "text/plain": [
       "7551"
      ]
     },
     "execution_count": 18,
     "metadata": {},
     "output_type": "execute_result"
    }
   ],
   "source": [
    "logs['user_id'].nunique()"
   ]
  },
  {
   "cell_type": "markdown",
   "id": "c464a79c",
   "metadata": {},
   "source": [
    "Посчитаем среднее количество событий, приходящихся на пользователя"
   ]
  },
  {
   "cell_type": "code",
   "execution_count": 19,
   "id": "eb72b1a7",
   "metadata": {},
   "outputs": [
    {
     "data": {
      "text/plain": [
       "32.27559263673685"
      ]
     },
     "execution_count": 19,
     "metadata": {},
     "output_type": "execute_result"
    }
   ],
   "source": [
    "logs.groupby('user_id', as_index = False)['event'].agg('count')['event'].mean()"
   ]
  },
  {
   "cell_type": "code",
   "execution_count": 20,
   "id": "01adba33",
   "metadata": {},
   "outputs": [
    {
     "data": {
      "text/html": [
       "<div>\n",
       "<style scoped>\n",
       "    .dataframe tbody tr th:only-of-type {\n",
       "        vertical-align: middle;\n",
       "    }\n",
       "\n",
       "    .dataframe tbody tr th {\n",
       "        vertical-align: top;\n",
       "    }\n",
       "\n",
       "    .dataframe thead th {\n",
       "        text-align: right;\n",
       "    }\n",
       "</style>\n",
       "<table border=\"1\" class=\"dataframe\">\n",
       "  <thead>\n",
       "    <tr style=\"text-align: right;\">\n",
       "      <th></th>\n",
       "      <th>user_id</th>\n",
       "      <th>event</th>\n",
       "    </tr>\n",
       "  </thead>\n",
       "  <tbody>\n",
       "    <tr>\n",
       "      <th>count</th>\n",
       "      <td>7.551000e+03</td>\n",
       "      <td>7551.000000</td>\n",
       "    </tr>\n",
       "    <tr>\n",
       "      <th>mean</th>\n",
       "      <td>4.677319e+18</td>\n",
       "      <td>32.275593</td>\n",
       "    </tr>\n",
       "    <tr>\n",
       "      <th>std</th>\n",
       "      <td>2.655343e+18</td>\n",
       "      <td>65.154219</td>\n",
       "    </tr>\n",
       "    <tr>\n",
       "      <th>min</th>\n",
       "      <td>6.888747e+15</td>\n",
       "      <td>1.000000</td>\n",
       "    </tr>\n",
       "    <tr>\n",
       "      <th>25%</th>\n",
       "      <td>2.397700e+18</td>\n",
       "      <td>9.000000</td>\n",
       "    </tr>\n",
       "    <tr>\n",
       "      <th>50%</th>\n",
       "      <td>4.688022e+18</td>\n",
       "      <td>20.000000</td>\n",
       "    </tr>\n",
       "    <tr>\n",
       "      <th>75%</th>\n",
       "      <td>7.007353e+18</td>\n",
       "      <td>37.000000</td>\n",
       "    </tr>\n",
       "    <tr>\n",
       "      <th>max</th>\n",
       "      <td>9.222603e+18</td>\n",
       "      <td>2307.000000</td>\n",
       "    </tr>\n",
       "  </tbody>\n",
       "</table>\n",
       "</div>"
      ],
      "text/plain": [
       "            user_id        event\n",
       "count  7.551000e+03  7551.000000\n",
       "mean   4.677319e+18    32.275593\n",
       "std    2.655343e+18    65.154219\n",
       "min    6.888747e+15     1.000000\n",
       "25%    2.397700e+18     9.000000\n",
       "50%    4.688022e+18    20.000000\n",
       "75%    7.007353e+18    37.000000\n",
       "max    9.222603e+18  2307.000000"
      ]
     },
     "metadata": {},
     "output_type": "display_data"
    },
    {
     "data": {
      "image/png": "[encoded data removed]",
      "text/plain": [
       "<Figure size 640x480 with 1 Axes>"
      ]
     },
     "metadata": {},
     "output_type": "display_data"
    }
   ],
   "source": [
    "display(logs.groupby('user_id', as_index = False)['event'].agg('count').describe())\n",
    "\n",
    "plt.hist(logs.groupby('user_id', as_index = False)['event'].agg('count')['event'], bins = 300)\n",
    "plt.xlim(0,150)\n",
    "plt.title('распределение количества событий на пользователя')\n",
    "plt.show();"
   ]
  },
  {
   "cell_type": "markdown",
   "id": "92913bdb",
   "metadata": {},
   "source": [
    "Медианное значение распределения количества событий на пользователя составляет 20 событий на пользователя в течение имеющегося промежутка времени. Гистограмма более подробно показывает как распределяются количества событий по пользователям."
   ]
  },
  {
   "cell_type": "markdown",
   "id": "7fcc6441",
   "metadata": {},
   "source": [
    "Определим, данными за какой период мы располагаем. Найдем минимальную и максимальную даты"
   ]
  },
  {
   "cell_type": "code",
   "execution_count": 21,
   "id": "2352da19",
   "metadata": {},
   "outputs": [
    {
     "data": {
      "text/plain": [
       "(Timestamp('2019-07-25 00:00:00'), Timestamp('2019-08-08 00:00:00'))"
      ]
     },
     "execution_count": 21,
     "metadata": {},
     "output_type": "execute_result"
    }
   ],
   "source": [
    "logs['date'].min(), logs['date'].max()"
   ]
  },
  {
   "cell_type": "markdown",
   "id": "5d933b12",
   "metadata": {},
   "source": [
    "У нас есть данные за две недели."
   ]
  },
  {
   "cell_type": "code",
   "execution_count": 22,
   "id": "af55758a",
   "metadata": {},
   "outputs": [
    {
     "data": {
      "image/png": "[encoded data removed]",
      "text/plain": [
       "<Figure size 1400x500 with 1 Axes>"
      ]
     },
     "metadata": {},
     "output_type": "display_data"
    }
   ],
   "source": [
    "# распределение активности пользователей по времени\n",
    "logs['date_and_time'].hist(bins=14*24, figsize=(14, 5))\n",
    "plt.title('Распределение активности пользователей по дням');   "
   ]
  },
  {
   "cell_type": "code",
   "execution_count": 23,
   "id": "80d7b941",
   "metadata": {},
   "outputs": [
    {
     "data": {
      "text/html": [
       "<div>\n",
       "<style scoped>\n",
       "    .dataframe tbody tr th:only-of-type {\n",
       "        vertical-align: middle;\n",
       "    }\n",
       "\n",
       "    .dataframe tbody tr th {\n",
       "        vertical-align: top;\n",
       "    }\n",
       "\n",
       "    .dataframe thead th {\n",
       "        text-align: right;\n",
       "    }\n",
       "</style>\n",
       "<table border=\"1\" class=\"dataframe\">\n",
       "  <thead>\n",
       "    <tr style=\"text-align: right;\">\n",
       "      <th></th>\n",
       "      <th>date</th>\n",
       "      <th>user_id</th>\n",
       "    </tr>\n",
       "  </thead>\n",
       "  <tbody>\n",
       "    <tr>\n",
       "      <th>0</th>\n",
       "      <td>2019-07-25</td>\n",
       "      <td>7</td>\n",
       "    </tr>\n",
       "    <tr>\n",
       "      <th>1</th>\n",
       "      <td>2019-07-26</td>\n",
       "      <td>32</td>\n",
       "    </tr>\n",
       "    <tr>\n",
       "      <th>2</th>\n",
       "      <td>2019-07-27</td>\n",
       "      <td>55</td>\n",
       "    </tr>\n",
       "    <tr>\n",
       "      <th>3</th>\n",
       "      <td>2019-07-28</td>\n",
       "      <td>103</td>\n",
       "    </tr>\n",
       "    <tr>\n",
       "      <th>4</th>\n",
       "      <td>2019-07-29</td>\n",
       "      <td>179</td>\n",
       "    </tr>\n",
       "    <tr>\n",
       "      <th>5</th>\n",
       "      <td>2019-07-30</td>\n",
       "      <td>386</td>\n",
       "    </tr>\n",
       "    <tr>\n",
       "      <th>6</th>\n",
       "      <td>2019-07-31</td>\n",
       "      <td>1171</td>\n",
       "    </tr>\n",
       "    <tr>\n",
       "      <th>7</th>\n",
       "      <td>2019-08-01</td>\n",
       "      <td>34814</td>\n",
       "    </tr>\n",
       "    <tr>\n",
       "      <th>8</th>\n",
       "      <td>2019-08-02</td>\n",
       "      <td>35284</td>\n",
       "    </tr>\n",
       "    <tr>\n",
       "      <th>9</th>\n",
       "      <td>2019-08-03</td>\n",
       "      <td>34137</td>\n",
       "    </tr>\n",
       "    <tr>\n",
       "      <th>10</th>\n",
       "      <td>2019-08-04</td>\n",
       "      <td>32436</td>\n",
       "    </tr>\n",
       "    <tr>\n",
       "      <th>11</th>\n",
       "      <td>2019-08-05</td>\n",
       "      <td>35988</td>\n",
       "    </tr>\n",
       "    <tr>\n",
       "      <th>12</th>\n",
       "      <td>2019-08-06</td>\n",
       "      <td>36170</td>\n",
       "    </tr>\n",
       "    <tr>\n",
       "      <th>13</th>\n",
       "      <td>2019-08-07</td>\n",
       "      <td>31934</td>\n",
       "    </tr>\n",
       "    <tr>\n",
       "      <th>14</th>\n",
       "      <td>2019-08-08</td>\n",
       "      <td>1017</td>\n",
       "    </tr>\n",
       "  </tbody>\n",
       "</table>\n",
       "</div>"
      ],
      "text/plain": [
       "         date  user_id\n",
       "0  2019-07-25        7\n",
       "1  2019-07-26       32\n",
       "2  2019-07-27       55\n",
       "3  2019-07-28      103\n",
       "4  2019-07-29      179\n",
       "5  2019-07-30      386\n",
       "6  2019-07-31     1171\n",
       "7  2019-08-01    34814\n",
       "8  2019-08-02    35284\n",
       "9  2019-08-03    34137\n",
       "10 2019-08-04    32436\n",
       "11 2019-08-05    35988\n",
       "12 2019-08-06    36170\n",
       "13 2019-08-07    31934\n",
       "14 2019-08-08     1017"
      ]
     },
     "execution_count": 23,
     "metadata": {},
     "output_type": "execute_result"
    }
   ],
   "source": [
    "logs.groupby('date', as_index = False)['user_id'].agg('count')"
   ]
  },
  {
   "cell_type": "markdown",
   "id": "219065e9",
   "metadata": {},
   "source": [
    "В некоторые дни активность пользователей очень низкая. Очевидно, что часть данных отсутствует.\n",
    "\n",
    "Полные данные имеются только в период с 1 августа по 7 августа включительно. Неполные данные придется отбросить."
   ]
  },
  {
   "cell_type": "code",
   "execution_count": 24,
   "id": "3c521d64",
   "metadata": {},
   "outputs": [],
   "source": [
    "log = logs.query('date >= \"2019-08-01\"')"
   ]
  },
  {
   "cell_type": "code",
   "execution_count": 25,
   "id": "2937055f",
   "metadata": {},
   "outputs": [
    {
     "data": {
      "text/html": [
       "<div>\n",
       "<style scoped>\n",
       "    .dataframe tbody tr th:only-of-type {\n",
       "        vertical-align: middle;\n",
       "    }\n",
       "\n",
       "    .dataframe tbody tr th {\n",
       "        vertical-align: top;\n",
       "    }\n",
       "\n",
       "    .dataframe thead th {\n",
       "        text-align: right;\n",
       "    }\n",
       "</style>\n",
       "<table border=\"1\" class=\"dataframe\">\n",
       "  <thead>\n",
       "    <tr style=\"text-align: right;\">\n",
       "      <th></th>\n",
       "      <th>event</th>\n",
       "      <th>user_id</th>\n",
       "      <th>date</th>\n",
       "      <th>group</th>\n",
       "      <th>date_and_time</th>\n",
       "    </tr>\n",
       "  </thead>\n",
       "  <tbody>\n",
       "    <tr>\n",
       "      <th>1933</th>\n",
       "      <td>main</td>\n",
       "      <td>2386905776711210873</td>\n",
       "      <td>2019-08-01</td>\n",
       "      <td>A1</td>\n",
       "      <td>2019-07-31 20:00:03</td>\n",
       "    </tr>\n",
       "    <tr>\n",
       "      <th>1934</th>\n",
       "      <td>offers</td>\n",
       "      <td>2659616611828697302</td>\n",
       "      <td>2019-08-01</td>\n",
       "      <td>B</td>\n",
       "      <td>2019-07-31 20:00:43</td>\n",
       "    </tr>\n",
       "    <tr>\n",
       "      <th>1935</th>\n",
       "      <td>offers</td>\n",
       "      <td>5638333191822379090</td>\n",
       "      <td>2019-08-01</td>\n",
       "      <td>B</td>\n",
       "      <td>2019-07-31 20:00:46</td>\n",
       "    </tr>\n",
       "    <tr>\n",
       "      <th>1936</th>\n",
       "      <td>main</td>\n",
       "      <td>2419517597868248322</td>\n",
       "      <td>2019-08-01</td>\n",
       "      <td>A2</td>\n",
       "      <td>2019-07-31 20:02:42</td>\n",
       "    </tr>\n",
       "    <tr>\n",
       "      <th>1937</th>\n",
       "      <td>main</td>\n",
       "      <td>4649999248492122991</td>\n",
       "      <td>2019-08-01</td>\n",
       "      <td>B</td>\n",
       "      <td>2019-07-31 20:05:01</td>\n",
       "    </tr>\n",
       "    <tr>\n",
       "      <th>...</th>\n",
       "      <td>...</td>\n",
       "      <td>...</td>\n",
       "      <td>...</td>\n",
       "      <td>...</td>\n",
       "      <td>...</td>\n",
       "    </tr>\n",
       "    <tr>\n",
       "      <th>243708</th>\n",
       "      <td>main</td>\n",
       "      <td>4599628364049201812</td>\n",
       "      <td>2019-08-08</td>\n",
       "      <td>A2</td>\n",
       "      <td>2019-08-07 21:12:25</td>\n",
       "    </tr>\n",
       "    <tr>\n",
       "      <th>243709</th>\n",
       "      <td>main</td>\n",
       "      <td>5849806612437486590</td>\n",
       "      <td>2019-08-08</td>\n",
       "      <td>A1</td>\n",
       "      <td>2019-08-07 21:13:59</td>\n",
       "    </tr>\n",
       "    <tr>\n",
       "      <th>243710</th>\n",
       "      <td>main</td>\n",
       "      <td>5746969938801999050</td>\n",
       "      <td>2019-08-08</td>\n",
       "      <td>A1</td>\n",
       "      <td>2019-08-07 21:14:43</td>\n",
       "    </tr>\n",
       "    <tr>\n",
       "      <th>243711</th>\n",
       "      <td>main</td>\n",
       "      <td>5746969938801999050</td>\n",
       "      <td>2019-08-08</td>\n",
       "      <td>A1</td>\n",
       "      <td>2019-08-07 21:14:58</td>\n",
       "    </tr>\n",
       "    <tr>\n",
       "      <th>243712</th>\n",
       "      <td>offers</td>\n",
       "      <td>5746969938801999050</td>\n",
       "      <td>2019-08-08</td>\n",
       "      <td>A1</td>\n",
       "      <td>2019-08-07 21:15:17</td>\n",
       "    </tr>\n",
       "  </tbody>\n",
       "</table>\n",
       "<p>241780 rows × 5 columns</p>\n",
       "</div>"
      ],
      "text/plain": [
       "         event              user_id       date group       date_and_time\n",
       "1933      main  2386905776711210873 2019-08-01    A1 2019-07-31 20:00:03\n",
       "1934    offers  2659616611828697302 2019-08-01     B 2019-07-31 20:00:43\n",
       "1935    offers  5638333191822379090 2019-08-01     B 2019-07-31 20:00:46\n",
       "1936      main  2419517597868248322 2019-08-01    A2 2019-07-31 20:02:42\n",
       "1937      main  4649999248492122991 2019-08-01     B 2019-07-31 20:05:01\n",
       "...        ...                  ...        ...   ...                 ...\n",
       "243708    main  4599628364049201812 2019-08-08    A2 2019-08-07 21:12:25\n",
       "243709    main  5849806612437486590 2019-08-08    A1 2019-08-07 21:13:59\n",
       "243710    main  5746969938801999050 2019-08-08    A1 2019-08-07 21:14:43\n",
       "243711    main  5746969938801999050 2019-08-08    A1 2019-08-07 21:14:58\n",
       "243712  offers  5746969938801999050 2019-08-08    A1 2019-08-07 21:15:17\n",
       "\n",
       "[241780 rows x 5 columns]"
      ]
     },
     "execution_count": 25,
     "metadata": {},
     "output_type": "execute_result"
    }
   ],
   "source": [
    "log"
   ]
  },
  {
   "cell_type": "markdown",
   "id": "8c3b74b2",
   "metadata": {},
   "source": [
    "Посчитаем, какой процент событий и пользователей мы потреяли, отбросив данные:"
   ]
  },
  {
   "cell_type": "code",
   "execution_count": 26,
   "id": "07c8d992",
   "metadata": {},
   "outputs": [
    {
     "data": {
      "text/plain": [
       "0.8"
      ]
     },
     "execution_count": 26,
     "metadata": {},
     "output_type": "execute_result"
    }
   ],
   "source": [
    "round((1-log['event'].count()/logs['event'].count())*100, 1)"
   ]
  },
  {
   "cell_type": "markdown",
   "id": "8c464ed6",
   "metadata": {},
   "source": [
    "Отбросив данные, мы потеряли всего 1.2% событий."
   ]
  },
  {
   "cell_type": "markdown",
   "id": "912b6e0b",
   "metadata": {},
   "source": [
    "Посмотрим, на сколько уменьшилось количество событий в каждой из групп"
   ]
  },
  {
   "cell_type": "code",
   "execution_count": 27,
   "id": "f772d1f4",
   "metadata": {},
   "outputs": [
    {
     "data": {
      "text/plain": [
       "B     0.800402\n",
       "A1    0.765767\n",
       "A2    0.813342\n",
       "Name: group, dtype: float64"
      ]
     },
     "execution_count": 27,
     "metadata": {},
     "output_type": "execute_result"
    }
   ],
   "source": [
    "(1- log['group'].value_counts() / logs['group'].value_counts())*100"
   ]
  },
  {
   "cell_type": "markdown",
   "id": "98266809",
   "metadata": {},
   "source": [
    "Потери составили от 1.1% до 1.4%"
   ]
  },
  {
   "cell_type": "markdown",
   "id": "6ca7ed1c",
   "metadata": {},
   "source": [
    "Рассчитаем, сколько уникальных пользователей потерялось при удалении данных:"
   ]
  },
  {
   "cell_type": "code",
   "execution_count": 28,
   "id": "5c8ed42c",
   "metadata": {},
   "outputs": [
    {
     "data": {
      "text/plain": [
       "(13, 0.17)"
      ]
     },
     "execution_count": 28,
     "metadata": {},
     "output_type": "execute_result"
    }
   ],
   "source": [
    "logs['user_id'].nunique() - log['user_id'].nunique(),\\\n",
    "round((1-log['user_id'].nunique()/logs['user_id'].nunique())*100,2)"
   ]
  },
  {
   "cell_type": "markdown",
   "id": "ecd0199d",
   "metadata": {},
   "source": [
    "Отбросив данные, мы потеряли 17 уникальных пользователей, что составляет 0.23% от общего количества уникальных пользователей."
   ]
  },
  {
   "cell_type": "code",
   "execution_count": 29,
   "id": "ae4d1cea",
   "metadata": {},
   "outputs": [
    {
     "data": {
      "text/plain": [
       "B     84897\n",
       "A1    79567\n",
       "A2    77316\n",
       "Name: group, dtype: int64"
      ]
     },
     "execution_count": 29,
     "metadata": {},
     "output_type": "execute_result"
    }
   ],
   "source": [
    "log['group'].value_counts()"
   ]
  },
  {
   "cell_type": "markdown",
   "id": "f47c4656",
   "metadata": {},
   "source": [
    "В каждой из тестируемых групп остались пользователи."
   ]
  },
  {
   "cell_type": "code",
   "execution_count": 30,
   "id": "fee7f9e6",
   "metadata": {},
   "outputs": [
    {
     "data": {
      "text/html": [
       "<div>\n",
       "<style scoped>\n",
       "    .dataframe tbody tr th:only-of-type {\n",
       "        vertical-align: middle;\n",
       "    }\n",
       "\n",
       "    .dataframe tbody tr th {\n",
       "        vertical-align: top;\n",
       "    }\n",
       "\n",
       "    .dataframe thead th {\n",
       "        text-align: right;\n",
       "    }\n",
       "</style>\n",
       "<table border=\"1\" class=\"dataframe\">\n",
       "  <thead>\n",
       "    <tr style=\"text-align: right;\">\n",
       "      <th></th>\n",
       "      <th>group</th>\n",
       "    </tr>\n",
       "    <tr>\n",
       "      <th>user_id</th>\n",
       "      <th></th>\n",
       "    </tr>\n",
       "  </thead>\n",
       "  <tbody>\n",
       "  </tbody>\n",
       "</table>\n",
       "</div>"
      ],
      "text/plain": [
       "Empty DataFrame\n",
       "Columns: [group]\n",
       "Index: []"
      ]
     },
     "execution_count": 30,
     "metadata": {},
     "output_type": "execute_result"
    }
   ],
   "source": [
    "(\n",
    "log\n",
    "    .groupby('user_id')\n",
    "    .agg({'group' : 'nunique'})\n",
    "    .query('group>1')\n",
    ")"
   ]
  },
  {
   "cell_type": "markdown",
   "id": "2c47cbee",
   "metadata": {},
   "source": [
    "Пользователей состоящих более, чем в одной группе, нет."
   ]
  },
  {
   "cell_type": "markdown",
   "id": "8ddaab03",
   "metadata": {},
   "source": [
    "## Воронка событий "
   ]
  },
  {
   "cell_type": "markdown",
   "id": "ecadca9f",
   "metadata": {},
   "source": [
    "Посмотрим, какие события есть в логах, как часто они встречаются. Отсортируем события по частоте."
   ]
  },
  {
   "cell_type": "code",
   "execution_count": 31,
   "id": "77374c5f",
   "metadata": {},
   "outputs": [
    {
     "data": {
      "text/plain": [
       "main        117919\n",
       "offers       46546\n",
       "cart         42351\n",
       "payment      33954\n",
       "tutorial      1010\n",
       "Name: event, dtype: int64"
      ]
     },
     "execution_count": 31,
     "metadata": {},
     "output_type": "execute_result"
    }
   ],
   "source": [
    "log['event'].value_counts()"
   ]
  },
  {
   "cell_type": "markdown",
   "id": "761794d8",
   "metadata": {},
   "source": [
    "Посчитаем, сколько пользователей совершали каждое из этих событий. Отсортируем события по числу пользователей."
   ]
  },
  {
   "cell_type": "code",
   "execution_count": 32,
   "id": "dab42695",
   "metadata": {},
   "outputs": [
    {
     "data": {
      "text/html": [
       "<div>\n",
       "<style scoped>\n",
       "    .dataframe tbody tr th:only-of-type {\n",
       "        vertical-align: middle;\n",
       "    }\n",
       "\n",
       "    .dataframe tbody tr th {\n",
       "        vertical-align: top;\n",
       "    }\n",
       "\n",
       "    .dataframe thead th {\n",
       "        text-align: right;\n",
       "    }\n",
       "</style>\n",
       "<table border=\"1\" class=\"dataframe\">\n",
       "  <thead>\n",
       "    <tr style=\"text-align: right;\">\n",
       "      <th></th>\n",
       "      <th>event</th>\n",
       "      <th>users</th>\n",
       "    </tr>\n",
       "  </thead>\n",
       "  <tbody>\n",
       "    <tr>\n",
       "      <th>1</th>\n",
       "      <td>main</td>\n",
       "      <td>7423</td>\n",
       "    </tr>\n",
       "    <tr>\n",
       "      <th>2</th>\n",
       "      <td>offers</td>\n",
       "      <td>4598</td>\n",
       "    </tr>\n",
       "    <tr>\n",
       "      <th>0</th>\n",
       "      <td>cart</td>\n",
       "      <td>3736</td>\n",
       "    </tr>\n",
       "    <tr>\n",
       "      <th>3</th>\n",
       "      <td>payment</td>\n",
       "      <td>3540</td>\n",
       "    </tr>\n",
       "    <tr>\n",
       "      <th>4</th>\n",
       "      <td>tutorial</td>\n",
       "      <td>843</td>\n",
       "    </tr>\n",
       "  </tbody>\n",
       "</table>\n",
       "</div>"
      ],
      "text/plain": [
       "      event  users\n",
       "1      main   7423\n",
       "2    offers   4598\n",
       "0      cart   3736\n",
       "3   payment   3540\n",
       "4  tutorial    843"
      ]
     },
     "execution_count": 32,
     "metadata": {},
     "output_type": "execute_result"
    }
   ],
   "source": [
    "funnel = (\n",
    "    log.groupby('event', as_index = False)['user_id'].nunique()\n",
    "    .sort_values(by = 'user_id', ascending = False)\n",
    ")\n",
    "funnel.columns = ['event', 'users']\n",
    "funnel"
   ]
  },
  {
   "cell_type": "markdown",
   "id": "33268562",
   "metadata": {},
   "source": [
    "Посчитаем долю пользователей, которые хоть раз совершали событие."
   ]
  },
  {
   "cell_type": "code",
   "execution_count": 33,
   "id": "2119e89f",
   "metadata": {},
   "outputs": [
    {
     "data": {
      "text/html": [
       "<div>\n",
       "<style scoped>\n",
       "    .dataframe tbody tr th:only-of-type {\n",
       "        vertical-align: middle;\n",
       "    }\n",
       "\n",
       "    .dataframe tbody tr th {\n",
       "        vertical-align: top;\n",
       "    }\n",
       "\n",
       "    .dataframe thead th {\n",
       "        text-align: right;\n",
       "    }\n",
       "</style>\n",
       "<table border=\"1\" class=\"dataframe\">\n",
       "  <thead>\n",
       "    <tr style=\"text-align: right;\">\n",
       "      <th></th>\n",
       "      <th>event</th>\n",
       "      <th>users</th>\n",
       "      <th>conversion</th>\n",
       "    </tr>\n",
       "  </thead>\n",
       "  <tbody>\n",
       "    <tr>\n",
       "      <th>1</th>\n",
       "      <td>main</td>\n",
       "      <td>7423</td>\n",
       "      <td>98.47</td>\n",
       "    </tr>\n",
       "    <tr>\n",
       "      <th>2</th>\n",
       "      <td>offers</td>\n",
       "      <td>4598</td>\n",
       "      <td>61.00</td>\n",
       "    </tr>\n",
       "    <tr>\n",
       "      <th>0</th>\n",
       "      <td>cart</td>\n",
       "      <td>3736</td>\n",
       "      <td>49.56</td>\n",
       "    </tr>\n",
       "    <tr>\n",
       "      <th>3</th>\n",
       "      <td>payment</td>\n",
       "      <td>3540</td>\n",
       "      <td>46.96</td>\n",
       "    </tr>\n",
       "    <tr>\n",
       "      <th>4</th>\n",
       "      <td>tutorial</td>\n",
       "      <td>843</td>\n",
       "      <td>11.18</td>\n",
       "    </tr>\n",
       "  </tbody>\n",
       "</table>\n",
       "</div>"
      ],
      "text/plain": [
       "      event  users  conversion\n",
       "1      main   7423       98.47\n",
       "2    offers   4598       61.00\n",
       "0      cart   3736       49.56\n",
       "3   payment   3540       46.96\n",
       "4  tutorial    843       11.18"
      ]
     },
     "execution_count": 33,
     "metadata": {},
     "output_type": "execute_result"
    }
   ],
   "source": [
    "funnel['conversion'] = round((funnel['users']/log['user_id'].nunique())*100,2)\n",
    "\n",
    "funnel"
   ]
  },
  {
   "cell_type": "markdown",
   "id": "c5e039d2",
   "metadata": {},
   "source": [
    "События должны происходить следующим образом:\n",
    "1. пользователь в первый раз заходит в приложение, ему показывают обучение (`tutorial`), \n",
    "2. далее он попадает на главную страницу (`main`), \n",
    "3. далее пользователь ищет продукт и попадает на страницу с предложениями (`offers`),\n",
    "4. понравившийся товар поьзователь добавляет в корзину и переходит на страницу корзины (`cart`),\n",
    "5. на странице корзины пользователь оформляет и оплачивает заказ и переходит на страницу оплаты (`payment`)."
   ]
  },
  {
   "cell_type": "markdown",
   "id": "21c9a471",
   "metadata": {},
   "source": [
    "Несмотря на то, что в идеальном случае процент прошедших обучение должне быть самым высоким, в нашем случае он самый низкий. Вероятно это связано с тем, что пользователи попросту пропускают обучение.\n",
    "\n",
    "Поскольку, обучение является опциональным, может происходить на любом этапе работы с приложением и никак не вписывается в воронку, удалим данную строку, поскольку она не несет никакой ценности.\n",
    "\n",
    "В остальном, доли пользователей распределяются так, как должно, аномалий не наблюдается."
   ]
  },
  {
   "cell_type": "code",
   "execution_count": 34,
   "id": "abb8c731",
   "metadata": {},
   "outputs": [
    {
     "data": {
      "text/html": [
       "<div>\n",
       "<style scoped>\n",
       "    .dataframe tbody tr th:only-of-type {\n",
       "        vertical-align: middle;\n",
       "    }\n",
       "\n",
       "    .dataframe tbody tr th {\n",
       "        vertical-align: top;\n",
       "    }\n",
       "\n",
       "    .dataframe thead th {\n",
       "        text-align: right;\n",
       "    }\n",
       "</style>\n",
       "<table border=\"1\" class=\"dataframe\">\n",
       "  <thead>\n",
       "    <tr style=\"text-align: right;\">\n",
       "      <th></th>\n",
       "      <th>event</th>\n",
       "      <th>users</th>\n",
       "      <th>conversion</th>\n",
       "    </tr>\n",
       "  </thead>\n",
       "  <tbody>\n",
       "    <tr>\n",
       "      <th>1</th>\n",
       "      <td>main</td>\n",
       "      <td>7423</td>\n",
       "      <td>98.47</td>\n",
       "    </tr>\n",
       "    <tr>\n",
       "      <th>2</th>\n",
       "      <td>offers</td>\n",
       "      <td>4598</td>\n",
       "      <td>61.00</td>\n",
       "    </tr>\n",
       "    <tr>\n",
       "      <th>0</th>\n",
       "      <td>cart</td>\n",
       "      <td>3736</td>\n",
       "      <td>49.56</td>\n",
       "    </tr>\n",
       "    <tr>\n",
       "      <th>3</th>\n",
       "      <td>payment</td>\n",
       "      <td>3540</td>\n",
       "      <td>46.96</td>\n",
       "    </tr>\n",
       "  </tbody>\n",
       "</table>\n",
       "</div>"
      ],
      "text/plain": [
       "     event  users  conversion\n",
       "1     main   7423       98.47\n",
       "2   offers   4598       61.00\n",
       "0     cart   3736       49.56\n",
       "3  payment   3540       46.96"
      ]
     },
     "execution_count": 34,
     "metadata": {},
     "output_type": "execute_result"
    }
   ],
   "source": [
    "funnel.drop(funnel[funnel.event =='tutorial'].index, inplace = True)\n",
    "funnel"
   ]
  },
  {
   "cell_type": "code",
   "execution_count": 35,
   "id": "9c3401c4",
   "metadata": {},
   "outputs": [
    {
     "data": {
      "text/html": [
       "<div>\n",
       "<style scoped>\n",
       "    .dataframe tbody tr th:only-of-type {\n",
       "        vertical-align: middle;\n",
       "    }\n",
       "\n",
       "    .dataframe tbody tr th {\n",
       "        vertical-align: top;\n",
       "    }\n",
       "\n",
       "    .dataframe thead th {\n",
       "        text-align: right;\n",
       "    }\n",
       "</style>\n",
       "<table border=\"1\" class=\"dataframe\">\n",
       "  <thead>\n",
       "    <tr style=\"text-align: right;\">\n",
       "      <th></th>\n",
       "      <th>event</th>\n",
       "      <th>users</th>\n",
       "      <th>conversion</th>\n",
       "      <th>step_conversion</th>\n",
       "    </tr>\n",
       "  </thead>\n",
       "  <tbody>\n",
       "    <tr>\n",
       "      <th>1</th>\n",
       "      <td>main</td>\n",
       "      <td>7423</td>\n",
       "      <td>98.47</td>\n",
       "      <td>NaN</td>\n",
       "    </tr>\n",
       "    <tr>\n",
       "      <th>2</th>\n",
       "      <td>offers</td>\n",
       "      <td>4598</td>\n",
       "      <td>61.00</td>\n",
       "      <td>61.95</td>\n",
       "    </tr>\n",
       "    <tr>\n",
       "      <th>0</th>\n",
       "      <td>cart</td>\n",
       "      <td>3736</td>\n",
       "      <td>49.56</td>\n",
       "      <td>81.25</td>\n",
       "    </tr>\n",
       "    <tr>\n",
       "      <th>3</th>\n",
       "      <td>payment</td>\n",
       "      <td>3540</td>\n",
       "      <td>46.96</td>\n",
       "      <td>94.75</td>\n",
       "    </tr>\n",
       "  </tbody>\n",
       "</table>\n",
       "</div>"
      ],
      "text/plain": [
       "     event  users  conversion  step_conversion\n",
       "1     main   7423       98.47              NaN\n",
       "2   offers   4598       61.00            61.95\n",
       "0     cart   3736       49.56            81.25\n",
       "3  payment   3540       46.96            94.75"
      ]
     },
     "execution_count": 35,
     "metadata": {},
     "output_type": "execute_result"
    }
   ],
   "source": [
    "funnel['step_conversion'] = round(\n",
    "    (funnel['conversion'] / funnel['conversion'].shift())*100, 2\n",
    ")\n",
    "\n",
    "funnel"
   ]
  },
  {
   "cell_type": "markdown",
   "id": "063706ef",
   "metadata": {},
   "source": [
    "Наибольшее количество пользователей теряется при переходе с главной страницы на страницу с товарами, вероятно имеются проблемы с поисковой системой.\n",
    "\n",
    "От первого события до оплаты доходит 46.97% пользователей."
   ]
  },
  {
   "cell_type": "code",
   "execution_count": 36,
   "id": "9306d6cd",
   "metadata": {},
   "outputs": [
    {
     "data": {
      "image/png": "[encoded data removed]"
     },
     "metadata": {},
     "output_type": "display_data"
    }
   ],
   "source": [
    "fig = fig = go.Figure(go.Funnel(\n",
    "    y = funnel['event'],\n",
    "    x = funnel['users'],\n",
    "    textposition = \"inside\",\n",
    "    textinfo = \"value+percent initial\",\n",
    "    opacity = 0.65\n",
    "    ))\n",
    "\n",
    "fig.update_layout(title_text='Воронка событий')\n",
    "fig.show()"
   ]
  },
  {
   "cell_type": "markdown",
   "id": "48de9860",
   "metadata": {},
   "source": [
    "## Изучение результатов экспериментов"
   ]
  },
  {
   "cell_type": "markdown",
   "id": "d37c8ed8",
   "metadata": {},
   "source": [
    "Посчитаем количество пользователей в каждой экспериментальной группе."
   ]
  },
  {
   "cell_type": "code",
   "execution_count": 37,
   "id": "047bbb0e",
   "metadata": {},
   "outputs": [
    {
     "data": {
      "text/html": [
       "<div>\n",
       "<style scoped>\n",
       "    .dataframe tbody tr th:only-of-type {\n",
       "        vertical-align: middle;\n",
       "    }\n",
       "\n",
       "    .dataframe tbody tr th {\n",
       "        vertical-align: top;\n",
       "    }\n",
       "\n",
       "    .dataframe thead th {\n",
       "        text-align: right;\n",
       "    }\n",
       "</style>\n",
       "<table border=\"1\" class=\"dataframe\">\n",
       "  <thead>\n",
       "    <tr style=\"text-align: right;\">\n",
       "      <th></th>\n",
       "      <th>group</th>\n",
       "      <th>user_id</th>\n",
       "    </tr>\n",
       "  </thead>\n",
       "  <tbody>\n",
       "    <tr>\n",
       "      <th>0</th>\n",
       "      <td>A1</td>\n",
       "      <td>2484</td>\n",
       "    </tr>\n",
       "    <tr>\n",
       "      <th>1</th>\n",
       "      <td>A2</td>\n",
       "      <td>2517</td>\n",
       "    </tr>\n",
       "    <tr>\n",
       "      <th>2</th>\n",
       "      <td>B</td>\n",
       "      <td>2537</td>\n",
       "    </tr>\n",
       "  </tbody>\n",
       "</table>\n",
       "</div>"
      ],
      "text/plain": [
       "  group  user_id\n",
       "0    A1     2484\n",
       "1    A2     2517\n",
       "2     B     2537"
      ]
     },
     "execution_count": 37,
     "metadata": {},
     "output_type": "execute_result"
    }
   ],
   "source": [
    "log.groupby('group', as_index = False)['user_id'].agg('nunique')"
   ]
  },
  {
   "cell_type": "markdown",
   "id": "5ea2405d",
   "metadata": {},
   "source": [
    "Количество пользователей неравномерно, разница между группой В и А1 составляет 53 пользователя."
   ]
  },
  {
   "cell_type": "markdown",
   "id": "5ce07050",
   "metadata": {},
   "source": [
    "Есть 2 контрольные группы для А/А-эксперимента, чтобы проверить корректность всех механизмов и расчётов. Проверим, находят ли статистические критерии разницу между выборками 246 и 247 (А1 и А2).\n",
    "\n",
    "Для этого используем z-тест, то есть сравним пропорции двух генеральных совокупностей по выборкам из них. \n",
    "\n",
    "---"
   ]
  },
  {
   "cell_type": "markdown",
   "id": "afe3e53d",
   "metadata": {},
   "source": [
    "Для удобства последующих расчетов разобьем воронку событий по экспериментальным группам, добавим столбец с количеством уникальных пользователей, а также на всякий случай рассчитаем конверсию и шаговую конверсию, чтобы убедиться, что ни в одной из групп нет аномалий:"
   ]
  },
  {
   "cell_type": "code",
   "execution_count": 38,
   "id": "b5fdf951",
   "metadata": {},
   "outputs": [
    {
     "data": {
      "text/plain": [
       "(      event  users  total_users  conversion  step_conversion\n",
       " 1      main   2450         2484       98.63              NaN\n",
       " 2    offers   1542         2484       62.08            62.94\n",
       " 0      cart   1266         2484       50.97            82.10\n",
       " 3   payment   1200         2484       48.31            94.78\n",
       " 4  tutorial    278         2484       11.19            23.16,\n",
       "       event  users  total_users  conversion  step_conversion\n",
       " 1      main   2479         2517       98.49              NaN\n",
       " 2    offers   1524         2517       60.55            61.48\n",
       " 0      cart   1239         2517       49.23            81.30\n",
       " 3   payment   1158         2517       46.01            93.46\n",
       " 4  tutorial    284         2517       11.28            24.52,\n",
       "       event  users  total_users  conversion  step_conversion\n",
       " 1      main   2494         2537       98.31              NaN\n",
       " 2    offers   1532         2537       60.39            61.43\n",
       " 0      cart   1231         2537       48.52            80.34\n",
       " 3   payment   1182         2537       46.59            96.02\n",
       " 4  tutorial    281         2537       11.08            23.78)"
      ]
     },
     "execution_count": 38,
     "metadata": {},
     "output_type": "execute_result"
    }
   ],
   "source": [
    "funnel_a1 = (\n",
    "    log.query('group == \"A1\"')\n",
    "    .groupby(\"event\", as_index=False)[\"user_id\"].nunique()\n",
    "    .sort_values(by=\"user_id\", ascending=False)\n",
    ")\n",
    "funnel_a1.columns = [\"event\", \"users\"]\n",
    "\n",
    "funnel_a1['total_users'] = log.query('group == \"A1\"')['user_id'].nunique()\n",
    "funnel_a1[\"conversion\"] = round(\n",
    "    (funnel_a1[\"users\"] / log.query('group == \"A1\"')[\"user_id\"].nunique()) * 100, 2\n",
    ")\n",
    "funnel_a1[\"step_conversion\"] = round(\n",
    "    (funnel_a1[\"conversion\"] / funnel_a1[\"conversion\"].shift()) * 100, 2\n",
    ")\n",
    "\n",
    "\n",
    "funnel_a2 = (\n",
    "    log.query('group == \"A2\"')\n",
    "    .groupby(\"event\", as_index=False)[\"user_id\"].nunique()\n",
    "    .sort_values(by=\"user_id\", ascending=False)\n",
    ")\n",
    "\n",
    "funnel_a2.columns = [\"event\", \"users\"]\n",
    "funnel_a2['total_users'] = log.query('group == \"A2\"')['user_id'].nunique()\n",
    "funnel_a2[\"conversion\"] = round(\n",
    "    (funnel_a2[\"users\"] / log.query('group == \"A2\"')[\"user_id\"].nunique()) * 100, 2\n",
    ")\n",
    "funnel_a2[\"step_conversion\"] = round(\n",
    "    (funnel_a2[\"conversion\"] / funnel_a2[\"conversion\"].shift()) * 100, 2\n",
    ")\n",
    "\n",
    "funnel_b = (\n",
    "    log.query('group == \"B\"')\n",
    "    .groupby(\"event\", as_index=False)[\"user_id\"].nunique()\n",
    "    .sort_values(by=\"user_id\", ascending=False)\n",
    ")\n",
    "\n",
    "funnel_b.columns = [\"event\", \"users\"]\n",
    "funnel_b['total_users'] = log.query('group == \"B\"')['user_id'].nunique()\n",
    "funnel_b[\"conversion\"] = round(\n",
    "    (funnel_b[\"users\"] / log.query('group == \"B\"')[\"user_id\"].nunique()) * 100, 2\n",
    ")\n",
    "funnel_b[\"step_conversion\"] = round(\n",
    "    (funnel_b[\"conversion\"] / funnel_b[\"conversion\"].shift()) * 100, 2\n",
    ")\n",
    "\n",
    "funnel_a1, funnel_a2, funnel_b"
   ]
  },
  {
   "cell_type": "markdown",
   "id": "1c9c841f",
   "metadata": {},
   "source": [
    "Аномалий не обнаружено, двигаемся дальше."
   ]
  },
  {
   "cell_type": "markdown",
   "id": "f0966178",
   "metadata": {},
   "source": [
    "Самым популярным событием для каждой из групп является переход на главную страницу (`main`)."
   ]
  },
  {
   "cell_type": "code",
   "execution_count": 39,
   "id": "9e2265ab",
   "metadata": {},
   "outputs": [
    {
     "data": {
      "text/plain": [
       "(      event  users  total_users  conversion  step_conversion\n",
       " 1      main   2450         2484       98.63              NaN\n",
       " 2    offers   1542         2484       62.08            62.94\n",
       " 0      cart   1266         2484       50.97            82.10\n",
       " 3   payment   1200         2484       48.31            94.78\n",
       " 4  tutorial    278         2484       11.19            23.16,\n",
       "       event  users  total_users  conversion  step_conversion\n",
       " 1      main   2479         2517       98.49              NaN\n",
       " 2    offers   1524         2517       60.55            61.48\n",
       " 0      cart   1239         2517       49.23            81.30\n",
       " 3   payment   1158         2517       46.01            93.46\n",
       " 4  tutorial    284         2517       11.28            24.52,\n",
       "       event  users  total_users  conversion  step_conversion\n",
       " 1      main   2494         2537       98.31              NaN\n",
       " 2    offers   1532         2537       60.39            61.43\n",
       " 0      cart   1231         2537       48.52            80.34\n",
       " 3   payment   1182         2537       46.59            96.02\n",
       " 4  tutorial    281         2537       11.08            23.78)"
      ]
     },
     "execution_count": 39,
     "metadata": {},
     "output_type": "execute_result"
    }
   ],
   "source": [
    "funnel_a1, funnel_a2, funnel_b"
   ]
  },
  {
   "cell_type": "markdown",
   "id": "4e777833",
   "metadata": {},
   "source": [
    "Присвоим имена датафреймам:"
   ]
  },
  {
   "cell_type": "code",
   "execution_count": 40,
   "id": "b36d3de1",
   "metadata": {},
   "outputs": [],
   "source": [
    "funnel_a1.name = 'A1'\n",
    "funnel_a2.name = 'A2'\n",
    "funnel_b.name = 'B'"
   ]
  },
  {
   "cell_type": "markdown",
   "id": "471bd46d",
   "metadata": {},
   "source": [
    "Для удобства последующего определения статистической достоверности различия между группами, напишем функцию (поскольку будет проверяться множество гипотез - 4 для A/A-теста и 12 для A/B-тестов, применим поправку Бонферрони):"
   ]
  },
  {
   "cell_type": "code",
   "execution_count": 41,
   "id": "e83d852d",
   "metadata": {},
   "outputs": [],
   "source": [
    "def z_test (df1, df2, event, alpha, m):\n",
    "\n",
    "    alpha_bonferron = alpha/m\n",
    "    total_users = np.array([df1['total_users'][0],\n",
    "                            df2['total_users'][0]])\n",
    "    \n",
    "    event_users = np.array([df1[df1['event'] == event]['users'],\n",
    "                            df2[df2['event'] == event]['users']])\n",
    "\n",
    "    # доля пользователей, совершивших событие в первой группе:\n",
    "    p1 = event_users[0]/total_users[0]\n",
    "\n",
    "    # доля пользователей, совершивших событие во второй группе:\n",
    "    p2 = event_users[1]/total_users[1]\n",
    "\n",
    "    # доля пользователей, совершивших событие в комбинированном датасете:\n",
    "    p_combined = (event_users[0] + event_users[1]) / (total_users[0] + total_users[1])\n",
    "\n",
    "    # разница пропорций в датасетах\n",
    "    difference = p1 - p2 \n",
    "\n",
    "    # считаем статистику в ст.отклонениях стандартного нормального распределения\n",
    "    z_value = difference / mth.sqrt(p_combined * (1 - p_combined) * (1/total_users[0] + 1/total_users[1]))\n",
    "\n",
    "    # задаем стандартное нормальное распределение (среднее 0, ст.отклонение 1)\n",
    "    distr = st.norm(0, 1)  \n",
    "\n",
    "    p_value = (1 - distr.cdf(abs(z_value))) * 2\n",
    "    \n",
    "    print('Сравнение долей в группах:', df1.name, 'и', df2.name )\n",
    "    print('Событие:', event)    \n",
    "    print('p-значение: ', p_value)\n",
    "\n",
    "    if p_value < alpha_bonferron:\n",
    "        print('Отвергаем нулевую гипотезу: между долями есть значимая разница')\n",
    "    else:\n",
    "        print(\n",
    "            'Не получилось отвергнуть нулевую гипотезу, нет оснований считать доли разными') "
   ]
  },
  {
   "cell_type": "markdown",
   "id": "60220474",
   "metadata": {},
   "source": [
    "Функция написана, далее проведем сравнение гипотез о равенстве долей пользователей между контрольными группами A1 и A2.\n",
    "\n",
    "**Нулевая гипотеза**: доли уникальных пользователей, совершивших событие, равны.\n",
    "\n",
    "**Альтернативная гипотеза**: между долями уникальных посетителей, побывавших на этапе воронки, есть значимая разница.."
   ]
  },
  {
   "cell_type": "code",
   "execution_count": 42,
   "id": "c24a72d3",
   "metadata": {},
   "outputs": [
    {
     "name": "stdout",
     "output_type": "stream",
     "text": [
      "Сравнение долей в группах: A1 и A2\n",
      "Событие: main\n",
      "p-значение:  [0.67562177]\n",
      "Не получилось отвергнуть нулевую гипотезу, нет оснований считать доли разными\n",
      "\n",
      "Сравнение долей в группах: A1 и A2\n",
      "Событие: offers\n",
      "p-значение:  [0.26698769]\n",
      "Не получилось отвергнуть нулевую гипотезу, нет оснований считать доли разными\n",
      "\n",
      "Сравнение долей в группах: A1 и A2\n",
      "Событие: cart\n",
      "p-значение:  [0.21828121]\n",
      "Не получилось отвергнуть нулевую гипотезу, нет оснований считать доли разными\n",
      "\n",
      "Сравнение долей в группах: A1 и A2\n",
      "Событие: payment\n",
      "p-значение:  [0.10298395]\n",
      "Не получилось отвергнуть нулевую гипотезу, нет оснований считать доли разными\n",
      "\n",
      "Сравнение долей в группах: A1 и A2\n",
      "Событие: tutorial\n",
      "p-значение:  [0.91827903]\n",
      "Не получилось отвергнуть нулевую гипотезу, нет оснований считать доли разными\n",
      "\n"
     ]
    }
   ],
   "source": [
    "for event in funnel_a1['event']:\n",
    "    z_test(funnel_a1, funnel_a2, event, 0.05, 4)\n",
    "    print()"
   ]
  },
  {
   "cell_type": "markdown",
   "id": "a099d9ee",
   "metadata": {},
   "source": [
    "Нулевая гипотеза подтверждена - при заданном уровне значимости между группами А1 и А2 нет статистически достоверного различия ни в одном из событий.\n",
    "\n",
    "Теперь сравним одну из А групп с группой В:"
   ]
  },
  {
   "cell_type": "code",
   "execution_count": 43,
   "id": "d9ae11d2",
   "metadata": {},
   "outputs": [
    {
     "name": "stdout",
     "output_type": "stream",
     "text": [
      "Сравнение долей в группах: A1 и B\n",
      "Событие: main\n",
      "p-значение:  [0.34705881]\n",
      "Не получилось отвергнуть нулевую гипотезу, нет оснований считать доли разными\n",
      "\n",
      "Сравнение долей в группах: A1 и B\n",
      "Событие: offers\n",
      "p-значение:  [0.21886922]\n",
      "Не получилось отвергнуть нулевую гипотезу, нет оснований считать доли разными\n",
      "\n",
      "Сравнение долей в группах: A1 и B\n",
      "Событие: cart\n",
      "p-значение:  [0.08328413]\n",
      "Не получилось отвергнуть нулевую гипотезу, нет оснований считать доли разными\n",
      "\n",
      "Сравнение долей в группах: A1 и B\n",
      "Событие: payment\n",
      "p-значение:  [0.22269359]\n",
      "Не получилось отвергнуть нулевую гипотезу, нет оснований считать доли разными\n",
      "\n",
      "Сравнение долей в группах: A1 и B\n",
      "Событие: tutorial\n",
      "p-значение:  [0.89644896]\n",
      "Не получилось отвергнуть нулевую гипотезу, нет оснований считать доли разными\n",
      "\n"
     ]
    }
   ],
   "source": [
    "# сравнение групп A1 и B\n",
    "for event in funnel_a1['event']:\n",
    "    z_test(funnel_a1, funnel_b, event, 0.05, 12)\n",
    "    print()"
   ]
  },
  {
   "cell_type": "code",
   "execution_count": 44,
   "id": "aa5ed095",
   "metadata": {},
   "outputs": [
    {
     "name": "stdout",
     "output_type": "stream",
     "text": [
      "Сравнение долей в группах: A2 и B\n",
      "Событие: main\n",
      "p-значение:  [0.60016616]\n",
      "Не получилось отвергнуть нулевую гипотезу, нет оснований считать доли разными\n",
      "\n",
      "Сравнение долей в группах: A2 и B\n",
      "Событие: offers\n",
      "p-значение:  [0.90625093]\n",
      "Не получилось отвергнуть нулевую гипотезу, нет оснований считать доли разными\n",
      "\n",
      "Сравнение долей в группах: A2 и B\n",
      "Событие: cart\n",
      "p-значение:  [0.61695175]\n",
      "Не получилось отвергнуть нулевую гипотезу, нет оснований считать доли разными\n",
      "\n",
      "Сравнение долей в группах: A2 и B\n",
      "Событие: payment\n",
      "p-значение:  [0.67754136]\n",
      "Не получилось отвергнуть нулевую гипотезу, нет оснований считать доли разными\n",
      "\n",
      "Сравнение долей в группах: A2 и B\n",
      "Событие: tutorial\n",
      "p-значение:  [0.8151967]\n",
      "Не получилось отвергнуть нулевую гипотезу, нет оснований считать доли разными\n",
      "\n"
     ]
    }
   ],
   "source": [
    "# сравнение групп A2 и B\n",
    "for event in funnel_a1['event']:\n",
    "    z_test(funnel_a2, funnel_b, event, 0.05, 12)\n",
    "    print()"
   ]
  },
  {
   "cell_type": "markdown",
   "id": "d87d3570",
   "metadata": {},
   "source": [
    "Также, сравним результаты с объединённой контрольной группой."
   ]
  },
  {
   "cell_type": "code",
   "execution_count": 45,
   "id": "2cad39c2",
   "metadata": {},
   "outputs": [
    {
     "data": {
      "text/html": [
       "<div>\n",
       "<style scoped>\n",
       "    .dataframe tbody tr th:only-of-type {\n",
       "        vertical-align: middle;\n",
       "    }\n",
       "\n",
       "    .dataframe tbody tr th {\n",
       "        vertical-align: top;\n",
       "    }\n",
       "\n",
       "    .dataframe thead th {\n",
       "        text-align: right;\n",
       "    }\n",
       "</style>\n",
       "<table border=\"1\" class=\"dataframe\">\n",
       "  <thead>\n",
       "    <tr style=\"text-align: right;\">\n",
       "      <th></th>\n",
       "      <th>users</th>\n",
       "      <th>total_users</th>\n",
       "      <th>event</th>\n",
       "    </tr>\n",
       "  </thead>\n",
       "  <tbody>\n",
       "    <tr>\n",
       "      <th>1</th>\n",
       "      <td>4929</td>\n",
       "      <td>5001</td>\n",
       "      <td>main</td>\n",
       "    </tr>\n",
       "    <tr>\n",
       "      <th>2</th>\n",
       "      <td>3066</td>\n",
       "      <td>5001</td>\n",
       "      <td>offers</td>\n",
       "    </tr>\n",
       "    <tr>\n",
       "      <th>0</th>\n",
       "      <td>2505</td>\n",
       "      <td>5001</td>\n",
       "      <td>cart</td>\n",
       "    </tr>\n",
       "    <tr>\n",
       "      <th>3</th>\n",
       "      <td>2358</td>\n",
       "      <td>5001</td>\n",
       "      <td>payment</td>\n",
       "    </tr>\n",
       "  </tbody>\n",
       "</table>\n",
       "</div>"
      ],
      "text/plain": [
       "   users  total_users    event\n",
       "1   4929         5001     main\n",
       "2   3066         5001   offers\n",
       "0   2505         5001     cart\n",
       "3   2358         5001  payment"
      ]
     },
     "execution_count": 45,
     "metadata": {},
     "output_type": "execute_result"
    }
   ],
   "source": [
    "funnel_a_comb = funnel_a1[['users', 'total_users']] + funnel_a2[['users', 'total_users']]\n",
    "funnel_a_comb['event'] = funnel_a1['event']\n",
    "funnel_a_comb.drop(funnel_a_comb[funnel_a_comb.event =='tutorial'].index, inplace = True)\n",
    "funnel_a_comb.name = 'A1+A2'\n",
    "funnel_a_comb"
   ]
  },
  {
   "cell_type": "code",
   "execution_count": 46,
   "id": "bc37a2eb",
   "metadata": {},
   "outputs": [
    {
     "name": "stdout",
     "output_type": "stream",
     "text": [
      "Сравнение долей в группах: A1+A2 и B\n",
      "Событие: main\n",
      "p-значение:  [0.39298915]\n",
      "Не получилось отвергнуть нулевую гипотезу, нет оснований считать доли разными\n",
      "\n",
      "Сравнение долей в группах: A1+A2 и B\n",
      "Событие: offers\n",
      "p-значение:  [0.43830674]\n",
      "Не получилось отвергнуть нулевую гипотезу, нет оснований считать доли разными\n",
      "\n",
      "Сравнение долей в группах: A1+A2 и B\n",
      "Событие: cart\n",
      "p-значение:  [0.19819341]\n",
      "Не получилось отвергнуть нулевую гипотезу, нет оснований считать доли разными\n",
      "\n",
      "Сравнение долей в группах: A1+A2 и B\n",
      "Событие: payment\n",
      "p-значение:  [0.64520577]\n",
      "Не получилось отвергнуть нулевую гипотезу, нет оснований считать доли разными\n",
      "\n",
      "Сравнение долей в группах: A1+A2 и B\n",
      "Событие: tutorial\n",
      "p-значение:  [nan]\n",
      "Не получилось отвергнуть нулевую гипотезу, нет оснований считать доли разными\n",
      "\n"
     ]
    }
   ],
   "source": [
    "# сравнение групп A2 и B\n",
    "for event in funnel_a1['event']:\n",
    "    z_test(funnel_a_comb, funnel_b, event, 0.05, 12)\n",
    "    print()"
   ]
  },
  {
   "cell_type": "markdown",
   "id": "274bc4f5",
   "metadata": {},
   "source": [
    "Различий не обнаружено, значит **нет оснований считать, что изменение шрифтов повлияло на поведение пользователей**."
   ]
  },
  {
   "cell_type": "markdown",
   "id": "9be0c697",
   "metadata": {},
   "source": [
    "## Вывод"
   ]
  },
  {
   "cell_type": "markdown",
   "id": "363819b3",
   "metadata": {},
   "source": [
    "Было проанализировано поведение 7533 уникальных пользователей мобильного приложения в период с 01.08.2019 по 07.08.2019.\n",
    "\n",
    "Из них:\n",
    "* 842 (11.2%) - прошли обучение,\n",
    "* 7418 (98.5%) - посетили главную страницу,\n",
    "* 4592 (61%) - зашли на страницу с товаром,\n",
    "* 3732 (49.5%) - положили товар в корзину,\n",
    "* 3538 (47%) - оплатили товар.\n",
    "\n",
    "Несмотря на то, что в идеальном случае процент прошедших обучение должен быть самым высоким, в нашем случае он самый низкий. Вероятно это связано с тем, что пользователи попросту пропускают обучение.\n",
    "\n",
    "Наибольшее количество пользователей (шаговая конверсия - 61.9%) теряется при переходе с главной страницы на страницу с товарами, вероятно имеются технические проблемы с поисковой системой (плохо работает выдача необходимого товара по запросу, пользователь не может найти поле с поиском), либо у пользователя возникают проблемы непосредственно при переходе на страницу с товаром. **Рекомендуется** проверить приложение на наличие неисправностей.\n",
    "\n",
    "При анализе A/A/B-теста было обнаружено, что:\n",
    "* между контрольными группами 246 (А1) и 247 (А2) различий не наблюдается,\n",
    "* сравнение экспериментальной группы 248 (B) с контрольными - с каждой по отдельности и с объединенной - показало, что различий между ними также нет.\n",
    "\n",
    "Таким образом, можно сделать вывод, что изменение шрифта **не повлияло** на поведение пользователей."
   ]
  }
 ],
 "metadata": {
  "ExecuteTimeLog": [
   {
    "duration": 1366,
    "start_time": "2023-01-12T18:51:46.432Z"
   },
   {
    "duration": 3,
    "start_time": "2023-01-12T18:51:47.800Z"
   },
   {
    "duration": 1050,
    "start_time": "2023-01-12T18:51:47.805Z"
   },
   {
    "duration": 3,
    "start_time": "2023-01-12T18:51:48.857Z"
   },
   {
    "duration": 25,
    "start_time": "2023-01-12T18:51:48.861Z"
   },
   {
    "duration": 25,
    "start_time": "2023-01-12T18:51:48.887Z"
   },
   {
    "duration": 10,
    "start_time": "2023-01-12T18:51:48.914Z"
   },
   {
    "duration": 27,
    "start_time": "2023-01-12T18:51:48.926Z"
   },
   {
    "duration": 32,
    "start_time": "2023-01-12T18:51:48.955Z"
   },
   {
    "duration": 632,
    "start_time": "2023-01-12T18:51:48.991Z"
   },
   {
    "duration": 19,
    "start_time": "2023-01-12T18:51:49.625Z"
   },
   {
    "duration": 15,
    "start_time": "2023-01-12T18:51:49.645Z"
   },
   {
    "duration": 925,
    "start_time": "2023-01-12T18:51:49.661Z"
   },
   {
    "duration": 30,
    "start_time": "2023-01-12T18:51:50.588Z"
   },
   {
    "duration": 20,
    "start_time": "2023-01-12T18:51:50.620Z"
   },
   {
    "duration": 2152,
    "start_time": "2023-01-12T18:51:50.641Z"
   },
   {
    "duration": 16,
    "start_time": "2023-01-12T18:51:52.794Z"
   },
   {
    "duration": 10,
    "start_time": "2023-01-12T18:51:52.812Z"
   },
   {
    "duration": 23,
    "start_time": "2023-01-12T18:51:52.824Z"
   },
   {
    "duration": 35,
    "start_time": "2023-01-12T18:51:52.849Z"
   },
   {
    "duration": 322,
    "start_time": "2023-01-12T18:51:52.886Z"
   },
   {
    "duration": 15,
    "start_time": "2023-01-12T18:51:53.210Z"
   },
   {
    "duration": 18,
    "start_time": "2023-01-12T18:51:53.227Z"
   },
   {
    "duration": 39,
    "start_time": "2023-01-12T18:51:53.247Z"
   },
   {
    "duration": 27,
    "start_time": "2023-01-12T18:51:53.288Z"
   },
   {
    "duration": 69,
    "start_time": "2023-01-12T18:51:53.318Z"
   },
   {
    "duration": 21,
    "start_time": "2023-01-12T18:51:53.389Z"
   },
   {
    "duration": 134,
    "start_time": "2023-01-12T18:51:53.414Z"
   },
   {
    "duration": 19,
    "start_time": "2023-01-12T18:51:53.550Z"
   },
   {
    "duration": 70,
    "start_time": "2023-01-12T18:51:53.570Z"
   },
   {
    "duration": 17,
    "start_time": "2023-01-12T18:51:53.642Z"
   },
   {
    "duration": 12,
    "start_time": "2023-01-12T18:51:53.678Z"
   },
   {
    "duration": 56,
    "start_time": "2023-01-12T18:51:53.692Z"
   },
   {
    "duration": 3,
    "start_time": "2023-01-12T18:51:53.750Z"
   },
   {
    "duration": 229,
    "start_time": "2023-01-12T18:51:53.755Z"
   },
   {
    "duration": 10,
    "start_time": "2023-01-12T18:51:53.987Z"
   },
   {
    "duration": 29,
    "start_time": "2023-01-12T18:51:53.999Z"
   },
   {
    "duration": 11,
    "start_time": "2023-01-12T18:51:54.030Z"
   },
   {
    "duration": 10,
    "start_time": "2023-01-12T18:51:54.043Z"
   },
   {
    "duration": 39,
    "start_time": "2023-01-12T18:51:54.055Z"
   },
   {
    "duration": 33,
    "start_time": "2023-01-12T18:51:54.097Z"
   },
   {
    "duration": 45,
    "start_time": "2023-01-12T18:51:54.132Z"
   },
   {
    "duration": 10,
    "start_time": "2023-01-12T18:51:54.180Z"
   },
   {
    "duration": 21,
    "start_time": "2023-01-12T18:51:54.192Z"
   },
   {
    "duration": 201,
    "start_time": "2023-01-12T18:52:17.806Z"
   },
   {
    "duration": 1195,
    "start_time": "2023-01-12T18:55:09.893Z"
   },
   {
    "duration": 3,
    "start_time": "2023-01-12T18:55:11.091Z"
   },
   {
    "duration": 194,
    "start_time": "2023-01-12T18:55:11.097Z"
   },
   {
    "duration": 3,
    "start_time": "2023-01-12T18:55:11.292Z"
   },
   {
    "duration": 31,
    "start_time": "2023-01-12T18:55:11.297Z"
   },
   {
    "duration": 38,
    "start_time": "2023-01-12T18:55:11.330Z"
   },
   {
    "duration": 5,
    "start_time": "2023-01-12T18:55:11.370Z"
   },
   {
    "duration": 19,
    "start_time": "2023-01-12T18:55:11.378Z"
   },
   {
    "duration": 13,
    "start_time": "2023-01-12T18:55:11.399Z"
   },
   {
    "duration": 632,
    "start_time": "2023-01-12T18:55:11.414Z"
   },
   {
    "duration": 31,
    "start_time": "2023-01-12T18:55:12.047Z"
   },
   {
    "duration": 8,
    "start_time": "2023-01-12T18:55:12.080Z"
   },
   {
    "duration": 998,
    "start_time": "2023-01-12T18:55:12.090Z"
   },
   {
    "duration": 37,
    "start_time": "2023-01-12T18:55:13.090Z"
   },
   {
    "duration": 17,
    "start_time": "2023-01-12T18:55:13.129Z"
   },
   {
    "duration": 2189,
    "start_time": "2023-01-12T18:55:13.148Z"
   },
   {
    "duration": 20,
    "start_time": "2023-01-12T18:55:15.339Z"
   },
   {
    "duration": 24,
    "start_time": "2023-01-12T18:55:15.361Z"
   },
   {
    "duration": 60,
    "start_time": "2023-01-12T18:55:15.387Z"
   },
   {
    "duration": 16,
    "start_time": "2023-01-12T18:55:15.449Z"
   },
   {
    "duration": 330,
    "start_time": "2023-01-12T18:55:15.467Z"
   },
   {
    "duration": 15,
    "start_time": "2023-01-12T18:55:15.799Z"
   },
   {
    "duration": 52,
    "start_time": "2023-01-12T18:55:15.816Z"
   },
   {
    "duration": 22,
    "start_time": "2023-01-12T18:55:15.870Z"
   },
   {
    "duration": 29,
    "start_time": "2023-01-12T18:55:15.895Z"
   },
   {
    "duration": 55,
    "start_time": "2023-01-12T18:55:15.926Z"
   },
   {
    "duration": 24,
    "start_time": "2023-01-12T18:55:15.983Z"
   },
   {
    "duration": 139,
    "start_time": "2023-01-12T18:55:16.009Z"
   },
   {
    "duration": 29,
    "start_time": "2023-01-12T18:55:16.150Z"
   },
   {
    "duration": 62,
    "start_time": "2023-01-12T18:55:16.181Z"
   },
   {
    "duration": 37,
    "start_time": "2023-01-12T18:55:16.246Z"
   },
   {
    "duration": 12,
    "start_time": "2023-01-12T18:55:16.285Z"
   },
   {
    "duration": 83,
    "start_time": "2023-01-12T18:55:16.299Z"
   },
   {
    "duration": 3,
    "start_time": "2023-01-12T18:55:16.384Z"
   },
   {
    "duration": 202,
    "start_time": "2023-01-12T18:55:16.389Z"
   },
   {
    "duration": 8,
    "start_time": "2023-01-12T18:55:16.593Z"
   },
   {
    "duration": 35,
    "start_time": "2023-01-12T18:55:16.604Z"
   },
   {
    "duration": 14,
    "start_time": "2023-01-12T18:55:16.641Z"
   },
   {
    "duration": 10,
    "start_time": "2023-01-12T18:55:16.657Z"
   },
   {
    "duration": 28,
    "start_time": "2023-01-12T18:55:16.668Z"
   },
   {
    "duration": 18,
    "start_time": "2023-01-12T18:55:16.699Z"
   },
   {
    "duration": 22,
    "start_time": "2023-01-12T18:55:16.719Z"
   },
   {
    "duration": 41,
    "start_time": "2023-01-12T18:55:16.742Z"
   },
   {
    "duration": 22,
    "start_time": "2023-01-12T18:55:16.784Z"
   },
   {
    "duration": 1371,
    "start_time": "2023-01-12T19:51:30.252Z"
   },
   {
    "duration": 3,
    "start_time": "2023-01-12T19:51:31.626Z"
   },
   {
    "duration": 267,
    "start_time": "2023-01-12T19:51:31.636Z"
   },
   {
    "duration": 3,
    "start_time": "2023-01-12T19:51:31.905Z"
   },
   {
    "duration": 17,
    "start_time": "2023-01-12T19:51:31.910Z"
   },
   {
    "duration": 47,
    "start_time": "2023-01-12T19:51:31.929Z"
   },
   {
    "duration": 4,
    "start_time": "2023-01-12T19:51:31.977Z"
   },
   {
    "duration": 21,
    "start_time": "2023-01-12T19:51:31.983Z"
   },
   {
    "duration": 6,
    "start_time": "2023-01-12T19:51:32.006Z"
   },
   {
    "duration": 761,
    "start_time": "2023-01-12T19:51:32.014Z"
   },
   {
    "duration": 22,
    "start_time": "2023-01-12T19:51:32.777Z"
   },
   {
    "duration": 9,
    "start_time": "2023-01-12T19:51:32.801Z"
   },
   {
    "duration": 1219,
    "start_time": "2023-01-12T19:51:32.813Z"
   },
   {
    "duration": 48,
    "start_time": "2023-01-12T19:51:34.036Z"
   },
   {
    "duration": 21,
    "start_time": "2023-01-12T19:51:34.086Z"
   },
   {
    "duration": 2573,
    "start_time": "2023-01-12T19:51:34.109Z"
   },
   {
    "duration": 17,
    "start_time": "2023-01-12T19:51:36.683Z"
   },
   {
    "duration": 8,
    "start_time": "2023-01-12T19:51:36.702Z"
   },
   {
    "duration": 58,
    "start_time": "2023-01-12T19:51:36.712Z"
   },
   {
    "duration": 7,
    "start_time": "2023-01-12T19:51:36.772Z"
   },
   {
    "duration": 360,
    "start_time": "2023-01-12T19:51:36.781Z"
   },
   {
    "duration": 18,
    "start_time": "2023-01-12T19:51:37.145Z"
   },
   {
    "duration": 18,
    "start_time": "2023-01-12T19:51:37.165Z"
   },
   {
    "duration": 16,
    "start_time": "2023-01-12T19:51:37.184Z"
   },
   {
    "duration": 68,
    "start_time": "2023-01-12T19:51:37.202Z"
   },
   {
    "duration": 47,
    "start_time": "2023-01-12T19:51:37.272Z"
   },
   {
    "duration": 45,
    "start_time": "2023-01-12T19:51:37.321Z"
   },
   {
    "duration": 139,
    "start_time": "2023-01-12T19:51:37.368Z"
   },
   {
    "duration": 33,
    "start_time": "2023-01-12T19:51:37.509Z"
   },
   {
    "duration": 80,
    "start_time": "2023-01-12T19:51:37.544Z"
   },
   {
    "duration": 24,
    "start_time": "2023-01-12T19:51:37.626Z"
   },
   {
    "duration": 17,
    "start_time": "2023-01-12T19:51:37.653Z"
   },
   {
    "duration": 99,
    "start_time": "2023-01-12T19:51:37.673Z"
   },
   {
    "duration": 5,
    "start_time": "2023-01-12T19:51:37.774Z"
   },
   {
    "duration": 232,
    "start_time": "2023-01-12T19:51:37.781Z"
   },
   {
    "duration": 8,
    "start_time": "2023-01-12T19:51:38.015Z"
   },
   {
    "duration": 28,
    "start_time": "2023-01-12T19:51:38.025Z"
   },
   {
    "duration": 8,
    "start_time": "2023-01-12T19:51:38.054Z"
   },
   {
    "duration": 8,
    "start_time": "2023-01-12T19:51:38.063Z"
   },
   {
    "duration": 26,
    "start_time": "2023-01-12T19:51:38.073Z"
   },
   {
    "duration": 44,
    "start_time": "2023-01-12T19:51:38.103Z"
   },
   {
    "duration": 30,
    "start_time": "2023-01-12T19:51:38.151Z"
   },
   {
    "duration": 12,
    "start_time": "2023-01-12T19:51:38.183Z"
   },
   {
    "duration": 27,
    "start_time": "2023-01-12T19:51:38.196Z"
   },
   {
    "duration": 9,
    "start_time": "2023-01-12T19:58:24.979Z"
   },
   {
    "duration": 245,
    "start_time": "2023-01-12T20:04:35.601Z"
   },
   {
    "duration": 45,
    "start_time": "2023-01-12T20:04:50.327Z"
   },
   {
    "duration": 51,
    "start_time": "2023-01-12T20:04:57.671Z"
   },
   {
    "duration": 21,
    "start_time": "2023-01-12T20:05:43.582Z"
   },
   {
    "duration": 645,
    "start_time": "2023-01-12T20:05:49.231Z"
   },
   {
    "duration": 15,
    "start_time": "2023-01-12T20:05:49.879Z"
   },
   {
    "duration": 104,
    "start_time": "2023-01-12T20:19:54.077Z"
   },
   {
    "duration": 97,
    "start_time": "2023-01-12T20:19:59.038Z"
   },
   {
    "duration": 10,
    "start_time": "2023-01-12T20:20:09.340Z"
   },
   {
    "duration": 79,
    "start_time": "2023-01-12T20:20:17.638Z"
   },
   {
    "duration": 72,
    "start_time": "2023-01-12T20:20:38.659Z"
   },
   {
    "duration": 81,
    "start_time": "2023-01-12T20:20:55.268Z"
   },
   {
    "duration": 86,
    "start_time": "2023-01-12T20:21:18.674Z"
   },
   {
    "duration": 137,
    "start_time": "2023-01-12T20:24:51.749Z"
   },
   {
    "duration": 61,
    "start_time": "2023-01-12T20:30:35.891Z"
   },
   {
    "duration": 73,
    "start_time": "2023-01-12T20:32:10.131Z"
   },
   {
    "duration": 39,
    "start_time": "2023-01-12T20:36:26.834Z"
   },
   {
    "duration": 29,
    "start_time": "2023-01-12T20:36:35.884Z"
   },
   {
    "duration": 15,
    "start_time": "2023-01-12T20:36:47.521Z"
   },
   {
    "duration": 100,
    "start_time": "2023-01-12T20:39:26.268Z"
   },
   {
    "duration": 132,
    "start_time": "2023-01-12T20:40:47.748Z"
   },
   {
    "duration": 8,
    "start_time": "2023-01-12T20:43:51.036Z"
   },
   {
    "duration": 160,
    "start_time": "2023-01-12T20:48:25.590Z"
   },
   {
    "duration": 150,
    "start_time": "2023-01-12T20:48:39.249Z"
   },
   {
    "duration": 71,
    "start_time": "2023-01-12T20:49:28.855Z"
   },
   {
    "duration": 200,
    "start_time": "2023-01-12T20:49:33.849Z"
   },
   {
    "duration": 73,
    "start_time": "2023-01-12T20:49:47.631Z"
   },
   {
    "duration": 195,
    "start_time": "2023-01-12T20:49:51.100Z"
   },
   {
    "duration": 196,
    "start_time": "2023-01-12T20:50:00.192Z"
   },
   {
    "duration": 282,
    "start_time": "2023-01-12T20:50:54.653Z"
   },
   {
    "duration": 187,
    "start_time": "2023-01-12T20:51:11.135Z"
   },
   {
    "duration": 20,
    "start_time": "2023-01-12T20:51:35.704Z"
   },
   {
    "duration": 315,
    "start_time": "2023-01-12T20:52:01.458Z"
   },
   {
    "duration": 384,
    "start_time": "2023-01-12T20:52:14.079Z"
   },
   {
    "duration": 366,
    "start_time": "2023-01-12T20:52:32.907Z"
   },
   {
    "duration": 627,
    "start_time": "2023-01-12T20:56:27.232Z"
   },
   {
    "duration": 3,
    "start_time": "2023-01-12T21:04:40.445Z"
   },
   {
    "duration": 8,
    "start_time": "2023-01-12T21:04:40.450Z"
   },
   {
    "duration": 193,
    "start_time": "2023-01-12T21:04:40.460Z"
   },
   {
    "duration": 2,
    "start_time": "2023-01-12T21:04:40.655Z"
   },
   {
    "duration": 7,
    "start_time": "2023-01-12T21:04:40.678Z"
   },
   {
    "duration": 21,
    "start_time": "2023-01-12T21:04:40.687Z"
   },
   {
    "duration": 3,
    "start_time": "2023-01-12T21:04:40.710Z"
   },
   {
    "duration": 12,
    "start_time": "2023-01-12T21:04:40.715Z"
   },
   {
    "duration": 8,
    "start_time": "2023-01-12T21:04:40.728Z"
   },
   {
    "duration": 594,
    "start_time": "2023-01-12T21:04:40.738Z"
   },
   {
    "duration": 21,
    "start_time": "2023-01-12T21:04:41.334Z"
   },
   {
    "duration": 6,
    "start_time": "2023-01-12T21:04:41.356Z"
   },
   {
    "duration": 910,
    "start_time": "2023-01-12T21:04:41.378Z"
   },
   {
    "duration": 27,
    "start_time": "2023-01-12T21:04:42.290Z"
   },
   {
    "duration": 87,
    "start_time": "2023-01-12T21:04:42.319Z"
   },
   {
    "duration": 112,
    "start_time": "2023-01-12T21:04:42.408Z"
   },
   {
    "duration": 16,
    "start_time": "2023-01-12T21:04:42.522Z"
   },
   {
    "duration": 1943,
    "start_time": "2023-01-12T21:04:42.540Z"
   },
   {
    "duration": 15,
    "start_time": "2023-01-12T21:04:44.484Z"
   },
   {
    "duration": 10,
    "start_time": "2023-01-12T21:04:44.500Z"
   },
   {
    "duration": 20,
    "start_time": "2023-01-12T21:04:44.512Z"
   },
   {
    "duration": 528,
    "start_time": "2023-01-12T21:04:44.534Z"
   },
   {
    "duration": 15,
    "start_time": "2023-01-12T21:04:45.064Z"
   },
   {
    "duration": 220,
    "start_time": "2023-01-12T21:04:45.080Z"
   },
   {
    "duration": 686,
    "start_time": "2023-01-12T21:04:45.302Z"
   },
   {
    "duration": 13,
    "start_time": "2023-01-12T21:04:45.990Z"
   },
   {
    "duration": 53,
    "start_time": "2023-01-12T21:04:46.004Z"
   },
   {
    "duration": 38,
    "start_time": "2023-01-12T21:04:46.058Z"
   },
   {
    "duration": 43,
    "start_time": "2023-01-12T21:04:46.100Z"
   },
   {
    "duration": 59,
    "start_time": "2023-01-12T21:04:46.145Z"
   },
   {
    "duration": 51,
    "start_time": "2023-01-12T21:04:46.205Z"
   },
   {
    "duration": 117,
    "start_time": "2023-01-12T21:04:46.257Z"
   },
   {
    "duration": 18,
    "start_time": "2023-01-12T21:04:46.376Z"
   },
   {
    "duration": 72,
    "start_time": "2023-01-12T21:04:46.396Z"
   },
   {
    "duration": 14,
    "start_time": "2023-01-12T21:04:46.469Z"
   },
   {
    "duration": 35,
    "start_time": "2023-01-12T21:04:46.484Z"
   },
   {
    "duration": 56,
    "start_time": "2023-01-12T21:04:46.521Z"
   },
   {
    "duration": 7,
    "start_time": "2023-01-12T21:04:46.579Z"
   },
   {
    "duration": 191,
    "start_time": "2023-01-12T21:04:46.588Z"
   },
   {
    "duration": 7,
    "start_time": "2023-01-12T21:04:46.781Z"
   },
   {
    "duration": 29,
    "start_time": "2023-01-12T21:04:46.790Z"
   },
   {
    "duration": 23,
    "start_time": "2023-01-12T21:04:46.821Z"
   },
   {
    "duration": 12,
    "start_time": "2023-01-12T21:04:46.845Z"
   },
   {
    "duration": 55,
    "start_time": "2023-01-12T21:04:46.859Z"
   },
   {
    "duration": 32,
    "start_time": "2023-01-12T21:04:46.915Z"
   },
   {
    "duration": 57,
    "start_time": "2023-01-12T21:04:46.949Z"
   },
   {
    "duration": 21,
    "start_time": "2023-01-12T21:04:47.008Z"
   },
   {
    "duration": 40,
    "start_time": "2023-01-12T21:04:47.030Z"
   },
   {
    "duration": 39,
    "start_time": "2023-01-12T21:06:40.155Z"
   },
   {
    "duration": 13,
    "start_time": "2023-01-12T21:07:05.464Z"
   },
   {
    "duration": 6,
    "start_time": "2023-01-12T21:21:36.735Z"
   },
   {
    "duration": 27,
    "start_time": "2023-01-12T21:24:38.240Z"
   },
   {
    "duration": 22,
    "start_time": "2023-01-12T21:24:48.513Z"
   },
   {
    "duration": 15,
    "start_time": "2023-01-12T21:26:00.821Z"
   },
   {
    "duration": 19,
    "start_time": "2023-01-12T21:26:08.940Z"
   },
   {
    "duration": 13,
    "start_time": "2023-01-12T21:27:58.505Z"
   },
   {
    "duration": 21,
    "start_time": "2023-01-12T21:28:59.989Z"
   },
   {
    "duration": 74,
    "start_time": "2023-01-12T21:30:22.128Z"
   },
   {
    "duration": 79,
    "start_time": "2023-01-12T21:31:03.916Z"
   },
   {
    "duration": 23,
    "start_time": "2023-01-12T21:31:09.880Z"
   },
   {
    "duration": 17,
    "start_time": "2023-01-12T21:31:38.724Z"
   },
   {
    "duration": 17,
    "start_time": "2023-01-12T21:31:50.062Z"
   },
   {
    "duration": 18,
    "start_time": "2023-01-12T21:32:02.348Z"
   },
   {
    "duration": 21,
    "start_time": "2023-01-12T21:32:28.501Z"
   },
   {
    "duration": 18,
    "start_time": "2023-01-12T21:34:00.818Z"
   },
   {
    "duration": 16,
    "start_time": "2023-01-12T21:34:35.562Z"
   },
   {
    "duration": 17,
    "start_time": "2023-01-12T21:35:02.469Z"
   },
   {
    "duration": 18,
    "start_time": "2023-01-12T21:35:15.426Z"
   },
   {
    "duration": 24,
    "start_time": "2023-01-12T21:35:33.251Z"
   },
   {
    "duration": 24,
    "start_time": "2023-01-12T21:35:38.637Z"
   },
   {
    "duration": 88,
    "start_time": "2023-01-12T21:37:44.712Z"
   },
   {
    "duration": 61,
    "start_time": "2023-01-12T21:37:54.964Z"
   },
   {
    "duration": 85,
    "start_time": "2023-01-12T21:40:55.572Z"
   },
   {
    "duration": 11,
    "start_time": "2023-01-12T21:44:35.933Z"
   },
   {
    "duration": 10,
    "start_time": "2023-01-12T21:48:43.465Z"
   },
   {
    "duration": 366,
    "start_time": "2023-01-12T21:50:01.036Z"
   },
   {
    "duration": 56,
    "start_time": "2023-01-12T21:50:41.702Z"
   },
   {
    "duration": 46,
    "start_time": "2023-01-12T21:51:04.550Z"
   },
   {
    "duration": 49,
    "start_time": "2023-01-12T21:52:45.658Z"
   },
   {
    "duration": 65,
    "start_time": "2023-01-12T21:53:52.645Z"
   },
   {
    "duration": 4,
    "start_time": "2023-01-12T21:54:50.575Z"
   },
   {
    "duration": 62,
    "start_time": "2023-01-12T21:56:45.669Z"
   },
   {
    "duration": 109,
    "start_time": "2023-01-12T21:57:08.483Z"
   },
   {
    "duration": 9,
    "start_time": "2023-01-12T21:57:29.200Z"
   },
   {
    "duration": 9,
    "start_time": "2023-01-12T21:57:38.063Z"
   },
   {
    "duration": 3,
    "start_time": "2023-01-12T22:18:53.401Z"
   },
   {
    "duration": 17,
    "start_time": "2023-01-12T22:18:53.406Z"
   },
   {
    "duration": 241,
    "start_time": "2023-01-12T22:18:53.425Z"
   },
   {
    "duration": 10,
    "start_time": "2023-01-12T22:18:53.668Z"
   },
   {
    "duration": 13,
    "start_time": "2023-01-12T22:18:53.680Z"
   },
   {
    "duration": 43,
    "start_time": "2023-01-12T22:18:53.695Z"
   },
   {
    "duration": 4,
    "start_time": "2023-01-12T22:18:53.740Z"
   },
   {
    "duration": 10,
    "start_time": "2023-01-12T22:18:53.746Z"
   },
   {
    "duration": 4,
    "start_time": "2023-01-12T22:18:53.758Z"
   },
   {
    "duration": 610,
    "start_time": "2023-01-12T22:18:53.777Z"
   },
   {
    "duration": 18,
    "start_time": "2023-01-12T22:18:54.390Z"
   },
   {
    "duration": 5,
    "start_time": "2023-01-12T22:18:54.410Z"
   },
   {
    "duration": 915,
    "start_time": "2023-01-12T22:18:54.417Z"
   },
   {
    "duration": 30,
    "start_time": "2023-01-12T22:18:55.334Z"
   },
   {
    "duration": 84,
    "start_time": "2023-01-12T22:18:55.365Z"
   },
   {
    "duration": 118,
    "start_time": "2023-01-12T22:18:55.450Z"
   },
   {
    "duration": 19,
    "start_time": "2023-01-12T22:18:55.569Z"
   },
   {
    "duration": 1815,
    "start_time": "2023-01-12T22:18:55.590Z"
   },
   {
    "duration": 16,
    "start_time": "2023-01-12T22:18:57.407Z"
   },
   {
    "duration": 9,
    "start_time": "2023-01-12T22:18:57.425Z"
   },
   {
    "duration": 47,
    "start_time": "2023-01-12T22:18:57.436Z"
   },
   {
    "duration": 631,
    "start_time": "2023-01-12T22:18:57.485Z"
   },
   {
    "duration": 7,
    "start_time": "2023-01-12T22:18:58.118Z"
   },
   {
    "duration": 232,
    "start_time": "2023-01-12T22:18:58.127Z"
   },
   {
    "duration": 588,
    "start_time": "2023-01-12T22:18:58.361Z"
   },
   {
    "duration": 14,
    "start_time": "2023-01-12T22:18:58.950Z"
   },
   {
    "duration": 14,
    "start_time": "2023-01-12T22:18:58.977Z"
   },
   {
    "duration": 14,
    "start_time": "2023-01-12T22:18:58.993Z"
   },
   {
    "duration": 19,
    "start_time": "2023-01-12T22:18:59.012Z"
   },
   {
    "duration": 66,
    "start_time": "2023-01-12T22:18:59.033Z"
   },
   {
    "duration": 20,
    "start_time": "2023-01-12T22:18:59.101Z"
   },
   {
    "duration": 18,
    "start_time": "2023-01-12T22:18:59.122Z"
   },
   {
    "duration": 4,
    "start_time": "2023-01-12T22:18:59.142Z"
   },
   {
    "duration": 80,
    "start_time": "2023-01-12T22:18:59.147Z"
   },
   {
    "duration": 17,
    "start_time": "2023-01-12T22:18:59.228Z"
   },
   {
    "duration": 73,
    "start_time": "2023-01-12T22:18:59.247Z"
   },
   {
    "duration": 14,
    "start_time": "2023-01-12T22:18:59.321Z"
   },
   {
    "duration": 8,
    "start_time": "2023-01-12T22:18:59.336Z"
   },
   {
    "duration": 34,
    "start_time": "2023-01-12T22:18:59.345Z"
   },
   {
    "duration": 33,
    "start_time": "2023-01-12T22:18:59.380Z"
   },
   {
    "duration": 67,
    "start_time": "2023-01-12T22:18:59.415Z"
   },
   {
    "duration": 3,
    "start_time": "2023-01-12T22:18:59.484Z"
   },
   {
    "duration": 204,
    "start_time": "2023-01-12T22:18:59.488Z"
   },
   {
    "duration": 3,
    "start_time": "2023-01-12T22:18:59.693Z"
   },
   {
    "duration": 27,
    "start_time": "2023-01-12T22:18:59.698Z"
   },
   {
    "duration": 21,
    "start_time": "2023-01-12T22:18:59.727Z"
   },
   {
    "duration": 26,
    "start_time": "2023-01-12T22:18:59.750Z"
   },
   {
    "duration": 57,
    "start_time": "2023-01-12T22:18:59.778Z"
   },
   {
    "duration": 37,
    "start_time": "2023-01-12T22:18:59.836Z"
   },
   {
    "duration": 36,
    "start_time": "2023-01-12T22:18:59.875Z"
   },
   {
    "duration": 13,
    "start_time": "2023-01-12T22:18:59.913Z"
   },
   {
    "duration": 31,
    "start_time": "2023-01-12T22:18:59.928Z"
   },
   {
    "duration": 10,
    "start_time": "2023-01-12T22:19:36.712Z"
   },
   {
    "duration": 26,
    "start_time": "2023-01-12T22:19:47.141Z"
   },
   {
    "duration": 10,
    "start_time": "2023-01-12T22:20:05.728Z"
   },
   {
    "duration": 10,
    "start_time": "2023-01-12T22:20:44.411Z"
   },
   {
    "duration": 22,
    "start_time": "2023-01-12T22:20:48.169Z"
   },
   {
    "duration": 25,
    "start_time": "2023-01-12T22:20:59.313Z"
   },
   {
    "duration": 1118,
    "start_time": "2023-01-13T14:31:46.716Z"
   },
   {
    "duration": 3,
    "start_time": "2023-01-13T14:31:47.836Z"
   },
   {
    "duration": 181,
    "start_time": "2023-01-13T14:31:47.840Z"
   },
   {
    "duration": 3,
    "start_time": "2023-01-13T14:31:48.023Z"
   },
   {
    "duration": 18,
    "start_time": "2023-01-13T14:31:48.028Z"
   },
   {
    "duration": 24,
    "start_time": "2023-01-13T14:31:48.048Z"
   },
   {
    "duration": 3,
    "start_time": "2023-01-13T14:31:48.077Z"
   },
   {
    "duration": 20,
    "start_time": "2023-01-13T14:31:48.082Z"
   },
   {
    "duration": 19,
    "start_time": "2023-01-13T14:31:48.103Z"
   },
   {
    "duration": 613,
    "start_time": "2023-01-13T14:31:48.124Z"
   },
   {
    "duration": 18,
    "start_time": "2023-01-13T14:31:48.739Z"
   },
   {
    "duration": 20,
    "start_time": "2023-01-13T14:31:48.758Z"
   },
   {
    "duration": 905,
    "start_time": "2023-01-13T14:31:48.779Z"
   },
   {
    "duration": 29,
    "start_time": "2023-01-13T14:31:49.686Z"
   },
   {
    "duration": 87,
    "start_time": "2023-01-13T14:31:49.717Z"
   },
   {
    "duration": 106,
    "start_time": "2023-01-13T14:31:49.806Z"
   },
   {
    "duration": 16,
    "start_time": "2023-01-13T14:31:49.914Z"
   },
   {
    "duration": 1895,
    "start_time": "2023-01-13T14:31:49.932Z"
   },
   {
    "duration": 14,
    "start_time": "2023-01-13T14:31:51.828Z"
   },
   {
    "duration": 13,
    "start_time": "2023-01-13T14:31:51.844Z"
   },
   {
    "duration": 30,
    "start_time": "2023-01-13T14:31:51.858Z"
   },
   {
    "duration": 546,
    "start_time": "2023-01-13T14:31:51.889Z"
   },
   {
    "duration": 6,
    "start_time": "2023-01-13T14:31:52.436Z"
   },
   {
    "duration": 312,
    "start_time": "2023-01-13T14:31:52.444Z"
   },
   {
    "duration": 729,
    "start_time": "2023-01-13T14:31:52.758Z"
   },
   {
    "duration": 16,
    "start_time": "2023-01-13T14:31:53.489Z"
   },
   {
    "duration": 16,
    "start_time": "2023-01-13T14:31:53.507Z"
   },
   {
    "duration": 17,
    "start_time": "2023-01-13T14:31:53.525Z"
   },
   {
    "duration": 50,
    "start_time": "2023-01-13T14:31:53.544Z"
   },
   {
    "duration": 39,
    "start_time": "2023-01-13T14:31:53.596Z"
   },
   {
    "duration": 43,
    "start_time": "2023-01-13T14:31:53.636Z"
   },
   {
    "duration": 21,
    "start_time": "2023-01-13T14:31:53.681Z"
   },
   {
    "duration": 3,
    "start_time": "2023-01-13T14:31:53.704Z"
   },
   {
    "duration": 70,
    "start_time": "2023-01-13T14:31:53.709Z"
   },
   {
    "duration": 20,
    "start_time": "2023-01-13T14:31:53.780Z"
   },
   {
    "duration": 67,
    "start_time": "2023-01-13T14:31:53.801Z"
   },
   {
    "duration": 19,
    "start_time": "2023-01-13T14:31:53.879Z"
   },
   {
    "duration": 12,
    "start_time": "2023-01-13T14:31:53.902Z"
   },
   {
    "duration": 34,
    "start_time": "2023-01-13T14:31:53.916Z"
   },
   {
    "duration": 362,
    "start_time": "2023-01-13T14:31:53.952Z"
   },
   {
    "duration": 78,
    "start_time": "2023-01-13T14:31:54.318Z"
   },
   {
    "duration": 2,
    "start_time": "2023-01-13T14:31:54.399Z"
   },
   {
    "duration": 237,
    "start_time": "2023-01-13T14:31:54.403Z"
   },
   {
    "duration": 3,
    "start_time": "2023-01-13T14:31:54.642Z"
   },
   {
    "duration": 28,
    "start_time": "2023-01-13T14:31:54.646Z"
   },
   {
    "duration": 25,
    "start_time": "2023-01-13T14:31:54.675Z"
   },
   {
    "duration": 23,
    "start_time": "2023-01-13T14:31:54.702Z"
   },
   {
    "duration": 59,
    "start_time": "2023-01-13T14:31:54.727Z"
   },
   {
    "duration": 32,
    "start_time": "2023-01-13T14:31:54.788Z"
   },
   {
    "duration": 32,
    "start_time": "2023-01-13T14:31:54.822Z"
   },
   {
    "duration": 11,
    "start_time": "2023-01-13T14:31:54.855Z"
   },
   {
    "duration": 52,
    "start_time": "2023-01-13T14:31:54.868Z"
   }
  ],
  "kernelspec": {
   "display_name": "Python 3 (ipykernel)",
   "language": "python",
   "name": "python3"
  },
  "language_info": {
   "codemirror_mode": {
    "name": "ipython",
    "version": 3
   },
   "file_extension": ".py",
   "mimetype": "text/x-python",
   "name": "python",
   "nbconvert_exporter": "python",
   "pygments_lexer": "ipython3",
   "version": "3.9.13"
  },
  "toc": {
   "base_numbering": 1,
   "nav_menu": {},
   "number_sections": false,
   "sideBar": true,
   "skip_h1_title": true,
   "title_cell": "Содержание",
   "title_sidebar": "Contents",
   "toc_cell": false,
   "toc_position": {
    "height": "calc(100% - 180px)",
    "left": "10px",
    "top": "150px",
    "width": "255.099px"
   },
   "toc_section_display": true,
   "toc_window_display": true
  }
 },
 "nbformat": 4,
 "nbformat_minor": 5
}
